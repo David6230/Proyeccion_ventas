{
  "nbformat": 4,
  "nbformat_minor": 0,
  "metadata": {
    "colab": {
      "provenance": [],
      "mount_file_id": "1XeNMuD6PAvokawap8um6Fmjyu_q7wZdc",
      "authorship_tag": "ABX9TyOHFaRMP7r2liVAc4ZEe9VO",
      "include_colab_link": true
    },
    "kernelspec": {
      "name": "python3",
      "display_name": "Python 3"
    },
    "language_info": {
      "name": "python"
    }
  },
  "cells": [
    {
      "cell_type": "markdown",
      "metadata": {
        "id": "view-in-github",
        "colab_type": "text"
      },
      "source": [
        "<a href=\"https://colab.research.google.com/github/David6230/Proyeccion_ventas/blob/main/proyecto_proyeccion_ventas.ipynb\" target=\"_parent\"><img src=\"https://colab.research.google.com/assets/colab-badge.svg\" alt=\"Open In Colab\"/></a>"
      ]
    },
    {
      "cell_type": "markdown",
      "source": [
        "# Proyecto de proyección de ventas"
      ],
      "metadata": {
        "id": "zOte2i6YEfxt"
      }
    },
    {
      "cell_type": "code",
      "source": [
        "%%html\n",
        "<style>\n",
        ".output_wrapper, .output {\n",
        "    height:auto !important;\n",
        "    max-height:450px;  /* your desired max-height here */\n",
        "}\n",
        ".output_scroll {\n",
        "    box-shadow:none !important;\n",
        "    webkit-box-shadow:none !important;\n",
        "}\n",
        "</style>"
      ],
      "metadata": {
        "colab": {
          "base_uri": "https://localhost:8080/",
          "height": 17
        },
        "id": "XiEy6ri9QzBg",
        "outputId": "f1f3802d-5c62-471a-ba58-744060926c5a"
      },
      "execution_count": 326,
      "outputs": [
        {
          "output_type": "display_data",
          "data": {
            "text/plain": [
              "<IPython.core.display.HTML object>"
            ],
            "text/html": [
              "<style>\n",
              ".output_wrapper, .output {\n",
              "    height:auto !important;\n",
              "    max-height:450px;  /* your desired max-height here */\n",
              "}\n",
              ".output_scroll {\n",
              "    box-shadow:none !important;\n",
              "    webkit-box-shadow:none !important;\n",
              "}\n",
              "</style>\n"
            ]
          },
          "metadata": {}
        }
      ]
    },
    {
      "cell_type": "code",
      "execution_count": 327,
      "metadata": {
        "id": "zMQfWYQ_Ecd9",
        "colab": {
          "base_uri": "https://localhost:8080/",
          "height": 206
        },
        "outputId": "01e62d3a-88be-4646-ac3d-6c4bd62ff4f0"
      },
      "outputs": [
        {
          "output_type": "execute_result",
          "data": {
            "text/plain": [
              "  Item_Identifier  Item_Weight Item_Fat_Content  Item_Visibility  \\\n",
              "0           FDA15         9.30          Low Fat         0.016047   \n",
              "1           DRC01         5.92          Regular         0.019278   \n",
              "2           FDN15        17.50          Low Fat         0.016760   \n",
              "3           FDX07        19.20          Regular         0.000000   \n",
              "4           NCD19         8.93          Low Fat         0.000000   \n",
              "\n",
              "               Item_Type  Item_MRP Outlet_Identifier  \\\n",
              "0                  Dairy  249.8092            OUT049   \n",
              "1            Soft Drinks   48.2692            OUT018   \n",
              "2                   Meat  141.6180            OUT049   \n",
              "3  Fruits and Vegetables  182.0950            OUT010   \n",
              "4              Household   53.8614            OUT013   \n",
              "\n",
              "   Outlet_Establishment_Year Outlet_Size Outlet_Location_Type  \\\n",
              "0                       1999      Medium               Tier 1   \n",
              "1                       2009      Medium               Tier 3   \n",
              "2                       1999      Medium               Tier 1   \n",
              "3                       1998         NaN               Tier 3   \n",
              "4                       1987        High               Tier 3   \n",
              "\n",
              "         Outlet_Type  Item_Outlet_Sales  \n",
              "0  Supermarket Type1          3735.1380  \n",
              "1  Supermarket Type2           443.4228  \n",
              "2  Supermarket Type1          2097.2700  \n",
              "3      Grocery Store           732.3800  \n",
              "4  Supermarket Type1           994.7052  "
            ],
            "text/html": [
              "\n",
              "  <div id=\"df-4fad5a28-6d0c-4ad0-808a-fb7ad5060ebe\">\n",
              "    <div class=\"colab-df-container\">\n",
              "      <div>\n",
              "<style scoped>\n",
              "    .dataframe tbody tr th:only-of-type {\n",
              "        vertical-align: middle;\n",
              "    }\n",
              "\n",
              "    .dataframe tbody tr th {\n",
              "        vertical-align: top;\n",
              "    }\n",
              "\n",
              "    .dataframe thead th {\n",
              "        text-align: right;\n",
              "    }\n",
              "</style>\n",
              "<table border=\"1\" class=\"dataframe\">\n",
              "  <thead>\n",
              "    <tr style=\"text-align: right;\">\n",
              "      <th></th>\n",
              "      <th>Item_Identifier</th>\n",
              "      <th>Item_Weight</th>\n",
              "      <th>Item_Fat_Content</th>\n",
              "      <th>Item_Visibility</th>\n",
              "      <th>Item_Type</th>\n",
              "      <th>Item_MRP</th>\n",
              "      <th>Outlet_Identifier</th>\n",
              "      <th>Outlet_Establishment_Year</th>\n",
              "      <th>Outlet_Size</th>\n",
              "      <th>Outlet_Location_Type</th>\n",
              "      <th>Outlet_Type</th>\n",
              "      <th>Item_Outlet_Sales</th>\n",
              "    </tr>\n",
              "  </thead>\n",
              "  <tbody>\n",
              "    <tr>\n",
              "      <th>0</th>\n",
              "      <td>FDA15</td>\n",
              "      <td>9.30</td>\n",
              "      <td>Low Fat</td>\n",
              "      <td>0.016047</td>\n",
              "      <td>Dairy</td>\n",
              "      <td>249.8092</td>\n",
              "      <td>OUT049</td>\n",
              "      <td>1999</td>\n",
              "      <td>Medium</td>\n",
              "      <td>Tier 1</td>\n",
              "      <td>Supermarket Type1</td>\n",
              "      <td>3735.1380</td>\n",
              "    </tr>\n",
              "    <tr>\n",
              "      <th>1</th>\n",
              "      <td>DRC01</td>\n",
              "      <td>5.92</td>\n",
              "      <td>Regular</td>\n",
              "      <td>0.019278</td>\n",
              "      <td>Soft Drinks</td>\n",
              "      <td>48.2692</td>\n",
              "      <td>OUT018</td>\n",
              "      <td>2009</td>\n",
              "      <td>Medium</td>\n",
              "      <td>Tier 3</td>\n",
              "      <td>Supermarket Type2</td>\n",
              "      <td>443.4228</td>\n",
              "    </tr>\n",
              "    <tr>\n",
              "      <th>2</th>\n",
              "      <td>FDN15</td>\n",
              "      <td>17.50</td>\n",
              "      <td>Low Fat</td>\n",
              "      <td>0.016760</td>\n",
              "      <td>Meat</td>\n",
              "      <td>141.6180</td>\n",
              "      <td>OUT049</td>\n",
              "      <td>1999</td>\n",
              "      <td>Medium</td>\n",
              "      <td>Tier 1</td>\n",
              "      <td>Supermarket Type1</td>\n",
              "      <td>2097.2700</td>\n",
              "    </tr>\n",
              "    <tr>\n",
              "      <th>3</th>\n",
              "      <td>FDX07</td>\n",
              "      <td>19.20</td>\n",
              "      <td>Regular</td>\n",
              "      <td>0.000000</td>\n",
              "      <td>Fruits and Vegetables</td>\n",
              "      <td>182.0950</td>\n",
              "      <td>OUT010</td>\n",
              "      <td>1998</td>\n",
              "      <td>NaN</td>\n",
              "      <td>Tier 3</td>\n",
              "      <td>Grocery Store</td>\n",
              "      <td>732.3800</td>\n",
              "    </tr>\n",
              "    <tr>\n",
              "      <th>4</th>\n",
              "      <td>NCD19</td>\n",
              "      <td>8.93</td>\n",
              "      <td>Low Fat</td>\n",
              "      <td>0.000000</td>\n",
              "      <td>Household</td>\n",
              "      <td>53.8614</td>\n",
              "      <td>OUT013</td>\n",
              "      <td>1987</td>\n",
              "      <td>High</td>\n",
              "      <td>Tier 3</td>\n",
              "      <td>Supermarket Type1</td>\n",
              "      <td>994.7052</td>\n",
              "    </tr>\n",
              "  </tbody>\n",
              "</table>\n",
              "</div>\n",
              "      <button class=\"colab-df-convert\" onclick=\"convertToInteractive('df-4fad5a28-6d0c-4ad0-808a-fb7ad5060ebe')\"\n",
              "              title=\"Convert this dataframe to an interactive table.\"\n",
              "              style=\"display:none;\">\n",
              "        \n",
              "  <svg xmlns=\"http://www.w3.org/2000/svg\" height=\"24px\"viewBox=\"0 0 24 24\"\n",
              "       width=\"24px\">\n",
              "    <path d=\"M0 0h24v24H0V0z\" fill=\"none\"/>\n",
              "    <path d=\"M18.56 5.44l.94 2.06.94-2.06 2.06-.94-2.06-.94-.94-2.06-.94 2.06-2.06.94zm-11 1L8.5 8.5l.94-2.06 2.06-.94-2.06-.94L8.5 2.5l-.94 2.06-2.06.94zm10 10l.94 2.06.94-2.06 2.06-.94-2.06-.94-.94-2.06-.94 2.06-2.06.94z\"/><path d=\"M17.41 7.96l-1.37-1.37c-.4-.4-.92-.59-1.43-.59-.52 0-1.04.2-1.43.59L10.3 9.45l-7.72 7.72c-.78.78-.78 2.05 0 2.83L4 21.41c.39.39.9.59 1.41.59.51 0 1.02-.2 1.41-.59l7.78-7.78 2.81-2.81c.8-.78.8-2.07 0-2.86zM5.41 20L4 18.59l7.72-7.72 1.47 1.35L5.41 20z\"/>\n",
              "  </svg>\n",
              "      </button>\n",
              "      \n",
              "  <style>\n",
              "    .colab-df-container {\n",
              "      display:flex;\n",
              "      flex-wrap:wrap;\n",
              "      gap: 12px;\n",
              "    }\n",
              "\n",
              "    .colab-df-convert {\n",
              "      background-color: #E8F0FE;\n",
              "      border: none;\n",
              "      border-radius: 50%;\n",
              "      cursor: pointer;\n",
              "      display: none;\n",
              "      fill: #1967D2;\n",
              "      height: 32px;\n",
              "      padding: 0 0 0 0;\n",
              "      width: 32px;\n",
              "    }\n",
              "\n",
              "    .colab-df-convert:hover {\n",
              "      background-color: #E2EBFA;\n",
              "      box-shadow: 0px 1px 2px rgba(60, 64, 67, 0.3), 0px 1px 3px 1px rgba(60, 64, 67, 0.15);\n",
              "      fill: #174EA6;\n",
              "    }\n",
              "\n",
              "    [theme=dark] .colab-df-convert {\n",
              "      background-color: #3B4455;\n",
              "      fill: #D2E3FC;\n",
              "    }\n",
              "\n",
              "    [theme=dark] .colab-df-convert:hover {\n",
              "      background-color: #434B5C;\n",
              "      box-shadow: 0px 1px 3px 1px rgba(0, 0, 0, 0.15);\n",
              "      filter: drop-shadow(0px 1px 2px rgba(0, 0, 0, 0.3));\n",
              "      fill: #FFFFFF;\n",
              "    }\n",
              "  </style>\n",
              "\n",
              "      <script>\n",
              "        const buttonEl =\n",
              "          document.querySelector('#df-4fad5a28-6d0c-4ad0-808a-fb7ad5060ebe button.colab-df-convert');\n",
              "        buttonEl.style.display =\n",
              "          google.colab.kernel.accessAllowed ? 'block' : 'none';\n",
              "\n",
              "        async function convertToInteractive(key) {\n",
              "          const element = document.querySelector('#df-4fad5a28-6d0c-4ad0-808a-fb7ad5060ebe');\n",
              "          const dataTable =\n",
              "            await google.colab.kernel.invokeFunction('convertToInteractive',\n",
              "                                                     [key], {});\n",
              "          if (!dataTable) return;\n",
              "\n",
              "          const docLinkHtml = 'Like what you see? Visit the ' +\n",
              "            '<a target=\"_blank\" href=https://colab.research.google.com/notebooks/data_table.ipynb>data table notebook</a>'\n",
              "            + ' to learn more about interactive tables.';\n",
              "          element.innerHTML = '';\n",
              "          dataTable['output_type'] = 'display_data';\n",
              "          await google.colab.output.renderOutput(dataTable, element);\n",
              "          const docLink = document.createElement('div');\n",
              "          docLink.innerHTML = docLinkHtml;\n",
              "          element.appendChild(docLink);\n",
              "        }\n",
              "      </script>\n",
              "    </div>\n",
              "  </div>\n",
              "  "
            ]
          },
          "metadata": {},
          "execution_count": 327
        }
      ],
      "source": [
        "import pandas as pd\n",
        "file_name = \"/content/drive/MyDrive/CODIN DOJO/sales_predictions.csv\"\n",
        "df_ventas = pd.read_csv(file_name)\n",
        "df_ventas.head()"
      ]
    },
    {
      "cell_type": "markdown",
      "source": [
        "# ¿Cuántas filas y columnas?"
      ],
      "metadata": {
        "id": "Cy7f1Av7s-cU"
      }
    },
    {
      "cell_type": "code",
      "source": [
        "a_1 = pd.DataFrame(df_ventas.shape)\n",
        "\n",
        "\n",
        "print(f\"La base cuenta con {a_1[0][0]} filas y {a_1[0][1]} columnas.\")"
      ],
      "metadata": {
        "colab": {
          "base_uri": "https://localhost:8080/"
        },
        "id": "Ix9dP0nKtBk4",
        "outputId": "9a6552a4-c9d3-4de3-f350-45b0016f8839"
      },
      "execution_count": 328,
      "outputs": [
        {
          "output_type": "stream",
          "name": "stdout",
          "text": [
            "La base cuenta con 8523 filas y 12 columnas.\n"
          ]
        }
      ]
    },
    {
      "cell_type": "markdown",
      "source": [
        "# ¿Cuáles son los tipos de datos en cada variable?"
      ],
      "metadata": {
        "id": "VGMYj8F3t5rj"
      }
    },
    {
      "cell_type": "code",
      "source": [
        "df_ventas.dtypes"
      ],
      "metadata": {
        "colab": {
          "base_uri": "https://localhost:8080/"
        },
        "id": "WmT04SVcteg7",
        "outputId": "d13e2bb4-d1b3-47f6-e1f3-331a6e948d7b"
      },
      "execution_count": 329,
      "outputs": [
        {
          "output_type": "execute_result",
          "data": {
            "text/plain": [
              "Item_Identifier               object\n",
              "Item_Weight                  float64\n",
              "Item_Fat_Content              object\n",
              "Item_Visibility              float64\n",
              "Item_Type                     object\n",
              "Item_MRP                     float64\n",
              "Outlet_Identifier             object\n",
              "Outlet_Establishment_Year      int64\n",
              "Outlet_Size                   object\n",
              "Outlet_Location_Type          object\n",
              "Outlet_Type                   object\n",
              "Item_Outlet_Sales            float64\n",
              "dtype: object"
            ]
          },
          "metadata": {},
          "execution_count": 329
        }
      ]
    },
    {
      "cell_type": "markdown",
      "source": [
        "* Los tipos de datos con los que cuenta la base de datos son **object** y **float64**.\n"
      ],
      "metadata": {
        "id": "69z_iZKWuVUp"
      }
    },
    {
      "cell_type": "code",
      "source": [
        "df_ventas.info()"
      ],
      "metadata": {
        "colab": {
          "base_uri": "https://localhost:8080/"
        },
        "id": "gqzEV_-hslqO",
        "outputId": "7464fa27-564f-4a75-94d4-f5b87954f71f"
      },
      "execution_count": 330,
      "outputs": [
        {
          "output_type": "stream",
          "name": "stdout",
          "text": [
            "<class 'pandas.core.frame.DataFrame'>\n",
            "RangeIndex: 8523 entries, 0 to 8522\n",
            "Data columns (total 12 columns):\n",
            " #   Column                     Non-Null Count  Dtype  \n",
            "---  ------                     --------------  -----  \n",
            " 0   Item_Identifier            8523 non-null   object \n",
            " 1   Item_Weight                7060 non-null   float64\n",
            " 2   Item_Fat_Content           8523 non-null   object \n",
            " 3   Item_Visibility            8523 non-null   float64\n",
            " 4   Item_Type                  8523 non-null   object \n",
            " 5   Item_MRP                   8523 non-null   float64\n",
            " 6   Outlet_Identifier          8523 non-null   object \n",
            " 7   Outlet_Establishment_Year  8523 non-null   int64  \n",
            " 8   Outlet_Size                6113 non-null   object \n",
            " 9   Outlet_Location_Type       8523 non-null   object \n",
            " 10  Outlet_Type                8523 non-null   object \n",
            " 11  Item_Outlet_Sales          8523 non-null   float64\n",
            "dtypes: float64(4), int64(1), object(7)\n",
            "memory usage: 799.2+ KB\n"
          ]
        }
      ]
    },
    {
      "cell_type": "markdown",
      "source": [
        "# Análisis de datos duplicados"
      ],
      "metadata": {
        "id": "VTgF_UOTugiW"
      }
    },
    {
      "cell_type": "markdown",
      "source": [
        "* Para realizar el análisis de registros duplicativos tomaremos la variable \"Item_Identifier\", como identificador único para determinar los registros duplicados."
      ],
      "metadata": {
        "id": "7P31v_tTwfO0"
      }
    },
    {
      "cell_type": "code",
      "source": [
        "# Procedo a realizar un testeo de un registro duplicado\n",
        "#Genero una copia de mi base para no trabajar en la original\n",
        "\n",
        "b_1 = df_ventas.copy()"
      ],
      "metadata": {
        "id": "G2T5sbrVwtMi"
      },
      "execution_count": 331,
      "outputs": []
    },
    {
      "cell_type": "code",
      "source": [
        "b_1[\"dup\"] = b_1[\"Item_Identifier\"].duplicated()\n",
        "a_1 = b_1[b_1[\"dup\"] == True]\n",
        "a_2 = b_1[b_1[\"Item_Identifier\"] == \"FDP49\"]\n",
        "a_2.head(5)"
      ],
      "metadata": {
        "colab": {
          "base_uri": "https://localhost:8080/",
          "height": 206
        },
        "id": "cLWypX06xDDj",
        "outputId": "787ca025-cedc-4dcb-a15c-440a7853fcaa"
      },
      "execution_count": 332,
      "outputs": [
        {
          "output_type": "execute_result",
          "data": {
            "text/plain": [
              "     Item_Identifier  Item_Weight Item_Fat_Content  Item_Visibility  \\\n",
              "15             FDP49          9.0          Regular         0.069089   \n",
              "17             FDP49          9.0          Regular         0.069196   \n",
              "3973           FDP49          9.0          Regular         0.000000   \n",
              "5630           FDP49          9.0          Regular         0.069229   \n",
              "6040           FDP49          NaN          Regular         0.120966   \n",
              "\n",
              "      Item_Type  Item_MRP Outlet_Identifier  Outlet_Establishment_Year  \\\n",
              "15    Breakfast   56.3614            OUT046                       1997   \n",
              "17    Breakfast   54.3614            OUT049                       1999   \n",
              "3973  Breakfast   55.2614            OUT018                       2009   \n",
              "5630  Breakfast   55.9614            OUT045                       2002   \n",
              "6040  Breakfast   55.8614            OUT019                       1985   \n",
              "\n",
              "     Outlet_Size Outlet_Location_Type        Outlet_Type  Item_Outlet_Sales  \\\n",
              "15         Small               Tier 1  Supermarket Type1          1547.3192   \n",
              "17        Medium               Tier 1  Supermarket Type1           718.3982   \n",
              "3973      Medium               Tier 3  Supermarket Type2           552.6140   \n",
              "5630         NaN               Tier 2  Supermarket Type1           386.8298   \n",
              "6040       Small               Tier 1      Grocery Store           110.5228   \n",
              "\n",
              "        dup  \n",
              "15    False  \n",
              "17     True  \n",
              "3973   True  \n",
              "5630   True  \n",
              "6040   True  "
            ],
            "text/html": [
              "\n",
              "  <div id=\"df-29cddd11-b2a5-4f32-97ab-2f7b495aa94c\">\n",
              "    <div class=\"colab-df-container\">\n",
              "      <div>\n",
              "<style scoped>\n",
              "    .dataframe tbody tr th:only-of-type {\n",
              "        vertical-align: middle;\n",
              "    }\n",
              "\n",
              "    .dataframe tbody tr th {\n",
              "        vertical-align: top;\n",
              "    }\n",
              "\n",
              "    .dataframe thead th {\n",
              "        text-align: right;\n",
              "    }\n",
              "</style>\n",
              "<table border=\"1\" class=\"dataframe\">\n",
              "  <thead>\n",
              "    <tr style=\"text-align: right;\">\n",
              "      <th></th>\n",
              "      <th>Item_Identifier</th>\n",
              "      <th>Item_Weight</th>\n",
              "      <th>Item_Fat_Content</th>\n",
              "      <th>Item_Visibility</th>\n",
              "      <th>Item_Type</th>\n",
              "      <th>Item_MRP</th>\n",
              "      <th>Outlet_Identifier</th>\n",
              "      <th>Outlet_Establishment_Year</th>\n",
              "      <th>Outlet_Size</th>\n",
              "      <th>Outlet_Location_Type</th>\n",
              "      <th>Outlet_Type</th>\n",
              "      <th>Item_Outlet_Sales</th>\n",
              "      <th>dup</th>\n",
              "    </tr>\n",
              "  </thead>\n",
              "  <tbody>\n",
              "    <tr>\n",
              "      <th>15</th>\n",
              "      <td>FDP49</td>\n",
              "      <td>9.0</td>\n",
              "      <td>Regular</td>\n",
              "      <td>0.069089</td>\n",
              "      <td>Breakfast</td>\n",
              "      <td>56.3614</td>\n",
              "      <td>OUT046</td>\n",
              "      <td>1997</td>\n",
              "      <td>Small</td>\n",
              "      <td>Tier 1</td>\n",
              "      <td>Supermarket Type1</td>\n",
              "      <td>1547.3192</td>\n",
              "      <td>False</td>\n",
              "    </tr>\n",
              "    <tr>\n",
              "      <th>17</th>\n",
              "      <td>FDP49</td>\n",
              "      <td>9.0</td>\n",
              "      <td>Regular</td>\n",
              "      <td>0.069196</td>\n",
              "      <td>Breakfast</td>\n",
              "      <td>54.3614</td>\n",
              "      <td>OUT049</td>\n",
              "      <td>1999</td>\n",
              "      <td>Medium</td>\n",
              "      <td>Tier 1</td>\n",
              "      <td>Supermarket Type1</td>\n",
              "      <td>718.3982</td>\n",
              "      <td>True</td>\n",
              "    </tr>\n",
              "    <tr>\n",
              "      <th>3973</th>\n",
              "      <td>FDP49</td>\n",
              "      <td>9.0</td>\n",
              "      <td>Regular</td>\n",
              "      <td>0.000000</td>\n",
              "      <td>Breakfast</td>\n",
              "      <td>55.2614</td>\n",
              "      <td>OUT018</td>\n",
              "      <td>2009</td>\n",
              "      <td>Medium</td>\n",
              "      <td>Tier 3</td>\n",
              "      <td>Supermarket Type2</td>\n",
              "      <td>552.6140</td>\n",
              "      <td>True</td>\n",
              "    </tr>\n",
              "    <tr>\n",
              "      <th>5630</th>\n",
              "      <td>FDP49</td>\n",
              "      <td>9.0</td>\n",
              "      <td>Regular</td>\n",
              "      <td>0.069229</td>\n",
              "      <td>Breakfast</td>\n",
              "      <td>55.9614</td>\n",
              "      <td>OUT045</td>\n",
              "      <td>2002</td>\n",
              "      <td>NaN</td>\n",
              "      <td>Tier 2</td>\n",
              "      <td>Supermarket Type1</td>\n",
              "      <td>386.8298</td>\n",
              "      <td>True</td>\n",
              "    </tr>\n",
              "    <tr>\n",
              "      <th>6040</th>\n",
              "      <td>FDP49</td>\n",
              "      <td>NaN</td>\n",
              "      <td>Regular</td>\n",
              "      <td>0.120966</td>\n",
              "      <td>Breakfast</td>\n",
              "      <td>55.8614</td>\n",
              "      <td>OUT019</td>\n",
              "      <td>1985</td>\n",
              "      <td>Small</td>\n",
              "      <td>Tier 1</td>\n",
              "      <td>Grocery Store</td>\n",
              "      <td>110.5228</td>\n",
              "      <td>True</td>\n",
              "    </tr>\n",
              "  </tbody>\n",
              "</table>\n",
              "</div>\n",
              "      <button class=\"colab-df-convert\" onclick=\"convertToInteractive('df-29cddd11-b2a5-4f32-97ab-2f7b495aa94c')\"\n",
              "              title=\"Convert this dataframe to an interactive table.\"\n",
              "              style=\"display:none;\">\n",
              "        \n",
              "  <svg xmlns=\"http://www.w3.org/2000/svg\" height=\"24px\"viewBox=\"0 0 24 24\"\n",
              "       width=\"24px\">\n",
              "    <path d=\"M0 0h24v24H0V0z\" fill=\"none\"/>\n",
              "    <path d=\"M18.56 5.44l.94 2.06.94-2.06 2.06-.94-2.06-.94-.94-2.06-.94 2.06-2.06.94zm-11 1L8.5 8.5l.94-2.06 2.06-.94-2.06-.94L8.5 2.5l-.94 2.06-2.06.94zm10 10l.94 2.06.94-2.06 2.06-.94-2.06-.94-.94-2.06-.94 2.06-2.06.94z\"/><path d=\"M17.41 7.96l-1.37-1.37c-.4-.4-.92-.59-1.43-.59-.52 0-1.04.2-1.43.59L10.3 9.45l-7.72 7.72c-.78.78-.78 2.05 0 2.83L4 21.41c.39.39.9.59 1.41.59.51 0 1.02-.2 1.41-.59l7.78-7.78 2.81-2.81c.8-.78.8-2.07 0-2.86zM5.41 20L4 18.59l7.72-7.72 1.47 1.35L5.41 20z\"/>\n",
              "  </svg>\n",
              "      </button>\n",
              "      \n",
              "  <style>\n",
              "    .colab-df-container {\n",
              "      display:flex;\n",
              "      flex-wrap:wrap;\n",
              "      gap: 12px;\n",
              "    }\n",
              "\n",
              "    .colab-df-convert {\n",
              "      background-color: #E8F0FE;\n",
              "      border: none;\n",
              "      border-radius: 50%;\n",
              "      cursor: pointer;\n",
              "      display: none;\n",
              "      fill: #1967D2;\n",
              "      height: 32px;\n",
              "      padding: 0 0 0 0;\n",
              "      width: 32px;\n",
              "    }\n",
              "\n",
              "    .colab-df-convert:hover {\n",
              "      background-color: #E2EBFA;\n",
              "      box-shadow: 0px 1px 2px rgba(60, 64, 67, 0.3), 0px 1px 3px 1px rgba(60, 64, 67, 0.15);\n",
              "      fill: #174EA6;\n",
              "    }\n",
              "\n",
              "    [theme=dark] .colab-df-convert {\n",
              "      background-color: #3B4455;\n",
              "      fill: #D2E3FC;\n",
              "    }\n",
              "\n",
              "    [theme=dark] .colab-df-convert:hover {\n",
              "      background-color: #434B5C;\n",
              "      box-shadow: 0px 1px 3px 1px rgba(0, 0, 0, 0.15);\n",
              "      filter: drop-shadow(0px 1px 2px rgba(0, 0, 0, 0.3));\n",
              "      fill: #FFFFFF;\n",
              "    }\n",
              "  </style>\n",
              "\n",
              "      <script>\n",
              "        const buttonEl =\n",
              "          document.querySelector('#df-29cddd11-b2a5-4f32-97ab-2f7b495aa94c button.colab-df-convert');\n",
              "        buttonEl.style.display =\n",
              "          google.colab.kernel.accessAllowed ? 'block' : 'none';\n",
              "\n",
              "        async function convertToInteractive(key) {\n",
              "          const element = document.querySelector('#df-29cddd11-b2a5-4f32-97ab-2f7b495aa94c');\n",
              "          const dataTable =\n",
              "            await google.colab.kernel.invokeFunction('convertToInteractive',\n",
              "                                                     [key], {});\n",
              "          if (!dataTable) return;\n",
              "\n",
              "          const docLinkHtml = 'Like what you see? Visit the ' +\n",
              "            '<a target=\"_blank\" href=https://colab.research.google.com/notebooks/data_table.ipynb>data table notebook</a>'\n",
              "            + ' to learn more about interactive tables.';\n",
              "          element.innerHTML = '';\n",
              "          dataTable['output_type'] = 'display_data';\n",
              "          await google.colab.output.renderOutput(dataTable, element);\n",
              "          const docLink = document.createElement('div');\n",
              "          docLink.innerHTML = docLinkHtml;\n",
              "          element.appendChild(docLink);\n",
              "        }\n",
              "      </script>\n",
              "    </div>\n",
              "  </div>\n",
              "  "
            ]
          },
          "metadata": {},
          "execution_count": 332
        }
      ]
    },
    {
      "cell_type": "markdown",
      "source": [
        "* Del análisis exploratorio realizado a un registro que por el Item_identifier parecia duplicados, pero se pudo observar que en sí el registro no estaba duplicado ya que en las demás variables contenía información diferente."
      ],
      "metadata": {
        "id": "6YzrWOxnyVXY"
      }
    },
    {
      "cell_type": "markdown",
      "source": [
        "* Como siguiente análisis se procede a realizar un \"distinc\" a la base con el objetivo de dar la última revisión a datos duplicados. Al igual que el caso anterior se realizará una copia de la base original."
      ],
      "metadata": {
        "id": "R2xS-SJWyx4C"
      }
    },
    {
      "cell_type": "code",
      "source": [
        "b_1 = df_ventas.copy()"
      ],
      "metadata": {
        "id": "peM30Qw5zE2J"
      },
      "execution_count": 333,
      "outputs": []
    },
    {
      "cell_type": "code",
      "source": [
        "b_1.shape"
      ],
      "metadata": {
        "colab": {
          "base_uri": "https://localhost:8080/"
        },
        "id": "Xf1WuIbbzGWp",
        "outputId": "03c9adb0-332b-4dc9-b5b4-4d551b60284c"
      },
      "execution_count": 334,
      "outputs": [
        {
          "output_type": "execute_result",
          "data": {
            "text/plain": [
              "(8523, 12)"
            ]
          },
          "metadata": {},
          "execution_count": 334
        }
      ]
    },
    {
      "cell_type": "code",
      "source": [
        "b_2 = b_1.drop_duplicates()\n",
        "b_2.shape"
      ],
      "metadata": {
        "colab": {
          "base_uri": "https://localhost:8080/"
        },
        "id": "j9IOaqKSzMux",
        "outputId": "8e83a9fb-ac88-4942-d130-bdf6a93a9916"
      },
      "execution_count": 335,
      "outputs": [
        {
          "output_type": "execute_result",
          "data": {
            "text/plain": [
              "(8523, 12)"
            ]
          },
          "metadata": {},
          "execution_count": 335
        }
      ]
    },
    {
      "cell_type": "markdown",
      "source": [
        "* El segundo análisis me indica que no existen datos duplicados en la base, por lo que se considera mantener todos los registros teniendo como primer criterio la duplicidad de la información."
      ],
      "metadata": {
        "id": "TBhc6-bmzcG-"
      }
    },
    {
      "cell_type": "markdown",
      "source": [
        "# Identificación de valores faltantes en la base"
      ],
      "metadata": {
        "id": "Jxzqs_12zt3u"
      }
    },
    {
      "cell_type": "code",
      "source": [
        "df_ventas.isna().sum()"
      ],
      "metadata": {
        "colab": {
          "base_uri": "https://localhost:8080/"
        },
        "id": "OGHf4H87ulzi",
        "outputId": "2bb5ac0a-7c18-4cfd-8780-7a38442aad66"
      },
      "execution_count": 336,
      "outputs": [
        {
          "output_type": "execute_result",
          "data": {
            "text/plain": [
              "Item_Identifier                 0\n",
              "Item_Weight                  1463\n",
              "Item_Fat_Content                0\n",
              "Item_Visibility                 0\n",
              "Item_Type                       0\n",
              "Item_MRP                        0\n",
              "Outlet_Identifier               0\n",
              "Outlet_Establishment_Year       0\n",
              "Outlet_Size                  2410\n",
              "Outlet_Location_Type            0\n",
              "Outlet_Type                     0\n",
              "Item_Outlet_Sales               0\n",
              "dtype: int64"
            ]
          },
          "metadata": {},
          "execution_count": 336
        }
      ]
    },
    {
      "cell_type": "code",
      "source": [
        "a_1 = df_ventas[\"Item_Weight\"].isna().sum()\n",
        "a_2 = df_ventas[\"Outlet_Size\"].isna().sum()"
      ],
      "metadata": {
        "id": "7J9ti_F80vEA"
      },
      "execution_count": 337,
      "outputs": []
    },
    {
      "cell_type": "code",
      "source": [
        "print(f\"Del análisi se puede observar que existen valores NaN en las variables Item_Weight con un total de {a_1}\\ny la variable Outlet_Size {a_2} registros vacíos respectivamente.\")"
      ],
      "metadata": {
        "colab": {
          "base_uri": "https://localhost:8080/"
        },
        "id": "NohTIatV0hOw",
        "outputId": "be5397f4-e28a-4ef4-8912-56d14e296a8e"
      },
      "execution_count": 338,
      "outputs": [
        {
          "output_type": "stream",
          "name": "stdout",
          "text": [
            "Del análisi se puede observar que existen valores NaN en las variables Item_Weight con un total de 1463\n",
            "y la variable Outlet_Size 2410 registros vacíos respectivamente.\n"
          ]
        }
      ]
    },
    {
      "cell_type": "markdown",
      "source": [
        "## Analisis los valores vacíos"
      ],
      "metadata": {
        "id": "0v-nhQAez-zO"
      }
    },
    {
      "cell_type": "markdown",
      "source": [
        "* Si la variable cuenta con más del 45% de la data con NaN se procede a eliminar la variable."
      ],
      "metadata": {
        "id": "uLYIxdP61n33"
      }
    },
    {
      "cell_type": "code",
      "source": [
        "nulos_Weight = (df_ventas[\"Item_Weight\"].isna().sum()/len(df_ventas[\"Item_Weight\"]))*100\n",
        "nulos_Size = (df_ventas[\"Outlet_Size\"].isna().sum()/len(df_ventas[\"Outlet_Size\"]))*100\n",
        "\n",
        "print(f\"El porcentaje de nulos en la variable Item_Weight fue de {round(nulos_Weight,2)}% y de la variable Outlet_Size\\nfue de {round(nulos_Size,2)}%, por debajo del 45% criterio de eliminación de la variable. Por lo que se decia\\na mantener las variables y se analizará alguna aternativa de impitación de datos.\")\n"
      ],
      "metadata": {
        "colab": {
          "base_uri": "https://localhost:8080/"
        },
        "id": "nlKWauqS0XlD",
        "outputId": "1d02e8fc-9000-4dee-9397-3529dd1cb792"
      },
      "execution_count": 339,
      "outputs": [
        {
          "output_type": "stream",
          "name": "stdout",
          "text": [
            "El porcentaje de nulos en la variable Item_Weight fue de 17.17% y de la variable Outlet_Size\n",
            "fue de 28.28%, por debajo del 45% criterio de eliminación de la variable. Por lo que se decia\n",
            "a mantener las variables y se analizará alguna aternativa de impitación de datos.\n"
          ]
        }
      ]
    },
    {
      "cell_type": "markdown",
      "source": [
        "# Confirmen que no hay valores faltantes después de abordarlos"
      ],
      "metadata": {
        "id": "S1OiRnKK33vx"
      }
    },
    {
      "cell_type": "markdown",
      "source": [
        "* Se procede a realizar la imputación por la mediana de cada una de los valores tomando como punto de referencia el ID Item_Identifier.\n",
        "* Se generará una copia de la base donde se va a realizar la imputación de datos."
      ],
      "metadata": {
        "id": "WUPyXyoi35eS"
      }
    },
    {
      "cell_type": "code",
      "source": [
        "dt1 = df_ventas.copy()"
      ],
      "metadata": {
        "id": "bRCxZtFi4fAO"
      },
      "execution_count": 340,
      "outputs": []
    },
    {
      "cell_type": "code",
      "source": [
        "## Lleno los NaN con la mediana del peso y la moda\n",
        "median_peso = dt1[\"Item_Weight\"].median()\n",
        "print(median_peso)"
      ],
      "metadata": {
        "colab": {
          "base_uri": "https://localhost:8080/"
        },
        "id": "qd5KLJHH4kDR",
        "outputId": "e416c1bd-4162-4f45-91d6-52250cf8e86d"
      },
      "execution_count": 341,
      "outputs": [
        {
          "output_type": "stream",
          "name": "stdout",
          "text": [
            "12.6\n"
          ]
        }
      ]
    },
    {
      "cell_type": "code",
      "source": [
        "## Reemplazo los NaN con la median del peso\n",
        "dt1[\"Item_Weight\"].fillna(median_peso, inplace= True)"
      ],
      "metadata": {
        "id": "xtnJFToPEut8"
      },
      "execution_count": 342,
      "outputs": []
    },
    {
      "cell_type": "code",
      "source": [
        "dt1[\"Item_Weight\"].isna().sum()"
      ],
      "metadata": {
        "colab": {
          "base_uri": "https://localhost:8080/"
        },
        "id": "OSyq4IjyE76M",
        "outputId": "b2cda814-4324-4355-8779-10378b6670a1"
      },
      "execution_count": 343,
      "outputs": [
        {
          "output_type": "execute_result",
          "data": {
            "text/plain": [
              "0"
            ]
          },
          "metadata": {},
          "execution_count": 343
        }
      ]
    },
    {
      "cell_type": "code",
      "source": [
        "size_comun = dt1['Outlet_Size'].mode()\n",
        "print(size_comun)"
      ],
      "metadata": {
        "colab": {
          "base_uri": "https://localhost:8080/"
        },
        "id": "Jq3PGghi6iMs",
        "outputId": "56c28d26-4dcb-47cf-cfd1-1ac9e76b5286"
      },
      "execution_count": 344,
      "outputs": [
        {
          "output_type": "stream",
          "name": "stdout",
          "text": [
            "0    Medium\n",
            "Name: Outlet_Size, dtype: object\n"
          ]
        }
      ]
    },
    {
      "cell_type": "code",
      "source": [
        "dt1[\"Outlet_Size\"] = dt1[\"Outlet_Size\"].astype(str)"
      ],
      "metadata": {
        "id": "THqFpsPcHrho"
      },
      "execution_count": 345,
      "outputs": []
    },
    {
      "cell_type": "code",
      "source": [
        "dt1[\"Outlet_Size\"] = dt1[\"Outlet_Size\"].apply(lambda x: \"Medium\" if x in [\"nan\"] else x)"
      ],
      "metadata": {
        "id": "nJfOVQVE7XVh"
      },
      "execution_count": 346,
      "outputs": []
    },
    {
      "cell_type": "code",
      "source": [
        "dt1[\"Outlet_Size\"].value_counts()"
      ],
      "metadata": {
        "colab": {
          "base_uri": "https://localhost:8080/"
        },
        "id": "NMssSL_1H2Xd",
        "outputId": "38992312-aa36-4d1d-afa1-67ca140ef311"
      },
      "execution_count": 347,
      "outputs": [
        {
          "output_type": "execute_result",
          "data": {
            "text/plain": [
              "Medium    5203\n",
              "Small     2388\n",
              "High       932\n",
              "Name: Outlet_Size, dtype: int64"
            ]
          },
          "metadata": {},
          "execution_count": 347
        }
      ]
    },
    {
      "cell_type": "code",
      "source": [
        "dt1.isna().sum()"
      ],
      "metadata": {
        "colab": {
          "base_uri": "https://localhost:8080/"
        },
        "id": "Shn_tv3O-Jjl",
        "outputId": "c0daab94-b2e1-4d77-fe21-d1498ab041c0"
      },
      "execution_count": 348,
      "outputs": [
        {
          "output_type": "execute_result",
          "data": {
            "text/plain": [
              "Item_Identifier              0\n",
              "Item_Weight                  0\n",
              "Item_Fat_Content             0\n",
              "Item_Visibility              0\n",
              "Item_Type                    0\n",
              "Item_MRP                     0\n",
              "Outlet_Identifier            0\n",
              "Outlet_Establishment_Year    0\n",
              "Outlet_Size                  0\n",
              "Outlet_Location_Type         0\n",
              "Outlet_Type                  0\n",
              "Item_Outlet_Sales            0\n",
              "dtype: int64"
            ]
          },
          "metadata": {},
          "execution_count": 348
        }
      ]
    },
    {
      "cell_type": "markdown",
      "source": [
        "# Encuentren y arreglen alguna categoría inconsistente de datos (example: fix cat, Cat, and cats so that they are consistent)"
      ],
      "metadata": {
        "id": "BrD_K-quIeGQ"
      }
    },
    {
      "cell_type": "code",
      "source": [
        "dt1.head(5)"
      ],
      "metadata": {
        "colab": {
          "base_uri": "https://localhost:8080/",
          "height": 206
        },
        "id": "bh-W3PhUIhv-",
        "outputId": "52a4b183-7090-4fa4-a60b-a053af70252e"
      },
      "execution_count": 349,
      "outputs": [
        {
          "output_type": "execute_result",
          "data": {
            "text/plain": [
              "  Item_Identifier  Item_Weight Item_Fat_Content  Item_Visibility  \\\n",
              "0           FDA15         9.30          Low Fat         0.016047   \n",
              "1           DRC01         5.92          Regular         0.019278   \n",
              "2           FDN15        17.50          Low Fat         0.016760   \n",
              "3           FDX07        19.20          Regular         0.000000   \n",
              "4           NCD19         8.93          Low Fat         0.000000   \n",
              "\n",
              "               Item_Type  Item_MRP Outlet_Identifier  \\\n",
              "0                  Dairy  249.8092            OUT049   \n",
              "1            Soft Drinks   48.2692            OUT018   \n",
              "2                   Meat  141.6180            OUT049   \n",
              "3  Fruits and Vegetables  182.0950            OUT010   \n",
              "4              Household   53.8614            OUT013   \n",
              "\n",
              "   Outlet_Establishment_Year Outlet_Size Outlet_Location_Type  \\\n",
              "0                       1999      Medium               Tier 1   \n",
              "1                       2009      Medium               Tier 3   \n",
              "2                       1999      Medium               Tier 1   \n",
              "3                       1998      Medium               Tier 3   \n",
              "4                       1987        High               Tier 3   \n",
              "\n",
              "         Outlet_Type  Item_Outlet_Sales  \n",
              "0  Supermarket Type1          3735.1380  \n",
              "1  Supermarket Type2           443.4228  \n",
              "2  Supermarket Type1          2097.2700  \n",
              "3      Grocery Store           732.3800  \n",
              "4  Supermarket Type1           994.7052  "
            ],
            "text/html": [
              "\n",
              "  <div id=\"df-4c0021f1-5f18-4221-a57b-9811b52bd5ee\">\n",
              "    <div class=\"colab-df-container\">\n",
              "      <div>\n",
              "<style scoped>\n",
              "    .dataframe tbody tr th:only-of-type {\n",
              "        vertical-align: middle;\n",
              "    }\n",
              "\n",
              "    .dataframe tbody tr th {\n",
              "        vertical-align: top;\n",
              "    }\n",
              "\n",
              "    .dataframe thead th {\n",
              "        text-align: right;\n",
              "    }\n",
              "</style>\n",
              "<table border=\"1\" class=\"dataframe\">\n",
              "  <thead>\n",
              "    <tr style=\"text-align: right;\">\n",
              "      <th></th>\n",
              "      <th>Item_Identifier</th>\n",
              "      <th>Item_Weight</th>\n",
              "      <th>Item_Fat_Content</th>\n",
              "      <th>Item_Visibility</th>\n",
              "      <th>Item_Type</th>\n",
              "      <th>Item_MRP</th>\n",
              "      <th>Outlet_Identifier</th>\n",
              "      <th>Outlet_Establishment_Year</th>\n",
              "      <th>Outlet_Size</th>\n",
              "      <th>Outlet_Location_Type</th>\n",
              "      <th>Outlet_Type</th>\n",
              "      <th>Item_Outlet_Sales</th>\n",
              "    </tr>\n",
              "  </thead>\n",
              "  <tbody>\n",
              "    <tr>\n",
              "      <th>0</th>\n",
              "      <td>FDA15</td>\n",
              "      <td>9.30</td>\n",
              "      <td>Low Fat</td>\n",
              "      <td>0.016047</td>\n",
              "      <td>Dairy</td>\n",
              "      <td>249.8092</td>\n",
              "      <td>OUT049</td>\n",
              "      <td>1999</td>\n",
              "      <td>Medium</td>\n",
              "      <td>Tier 1</td>\n",
              "      <td>Supermarket Type1</td>\n",
              "      <td>3735.1380</td>\n",
              "    </tr>\n",
              "    <tr>\n",
              "      <th>1</th>\n",
              "      <td>DRC01</td>\n",
              "      <td>5.92</td>\n",
              "      <td>Regular</td>\n",
              "      <td>0.019278</td>\n",
              "      <td>Soft Drinks</td>\n",
              "      <td>48.2692</td>\n",
              "      <td>OUT018</td>\n",
              "      <td>2009</td>\n",
              "      <td>Medium</td>\n",
              "      <td>Tier 3</td>\n",
              "      <td>Supermarket Type2</td>\n",
              "      <td>443.4228</td>\n",
              "    </tr>\n",
              "    <tr>\n",
              "      <th>2</th>\n",
              "      <td>FDN15</td>\n",
              "      <td>17.50</td>\n",
              "      <td>Low Fat</td>\n",
              "      <td>0.016760</td>\n",
              "      <td>Meat</td>\n",
              "      <td>141.6180</td>\n",
              "      <td>OUT049</td>\n",
              "      <td>1999</td>\n",
              "      <td>Medium</td>\n",
              "      <td>Tier 1</td>\n",
              "      <td>Supermarket Type1</td>\n",
              "      <td>2097.2700</td>\n",
              "    </tr>\n",
              "    <tr>\n",
              "      <th>3</th>\n",
              "      <td>FDX07</td>\n",
              "      <td>19.20</td>\n",
              "      <td>Regular</td>\n",
              "      <td>0.000000</td>\n",
              "      <td>Fruits and Vegetables</td>\n",
              "      <td>182.0950</td>\n",
              "      <td>OUT010</td>\n",
              "      <td>1998</td>\n",
              "      <td>Medium</td>\n",
              "      <td>Tier 3</td>\n",
              "      <td>Grocery Store</td>\n",
              "      <td>732.3800</td>\n",
              "    </tr>\n",
              "    <tr>\n",
              "      <th>4</th>\n",
              "      <td>NCD19</td>\n",
              "      <td>8.93</td>\n",
              "      <td>Low Fat</td>\n",
              "      <td>0.000000</td>\n",
              "      <td>Household</td>\n",
              "      <td>53.8614</td>\n",
              "      <td>OUT013</td>\n",
              "      <td>1987</td>\n",
              "      <td>High</td>\n",
              "      <td>Tier 3</td>\n",
              "      <td>Supermarket Type1</td>\n",
              "      <td>994.7052</td>\n",
              "    </tr>\n",
              "  </tbody>\n",
              "</table>\n",
              "</div>\n",
              "      <button class=\"colab-df-convert\" onclick=\"convertToInteractive('df-4c0021f1-5f18-4221-a57b-9811b52bd5ee')\"\n",
              "              title=\"Convert this dataframe to an interactive table.\"\n",
              "              style=\"display:none;\">\n",
              "        \n",
              "  <svg xmlns=\"http://www.w3.org/2000/svg\" height=\"24px\"viewBox=\"0 0 24 24\"\n",
              "       width=\"24px\">\n",
              "    <path d=\"M0 0h24v24H0V0z\" fill=\"none\"/>\n",
              "    <path d=\"M18.56 5.44l.94 2.06.94-2.06 2.06-.94-2.06-.94-.94-2.06-.94 2.06-2.06.94zm-11 1L8.5 8.5l.94-2.06 2.06-.94-2.06-.94L8.5 2.5l-.94 2.06-2.06.94zm10 10l.94 2.06.94-2.06 2.06-.94-2.06-.94-.94-2.06-.94 2.06-2.06.94z\"/><path d=\"M17.41 7.96l-1.37-1.37c-.4-.4-.92-.59-1.43-.59-.52 0-1.04.2-1.43.59L10.3 9.45l-7.72 7.72c-.78.78-.78 2.05 0 2.83L4 21.41c.39.39.9.59 1.41.59.51 0 1.02-.2 1.41-.59l7.78-7.78 2.81-2.81c.8-.78.8-2.07 0-2.86zM5.41 20L4 18.59l7.72-7.72 1.47 1.35L5.41 20z\"/>\n",
              "  </svg>\n",
              "      </button>\n",
              "      \n",
              "  <style>\n",
              "    .colab-df-container {\n",
              "      display:flex;\n",
              "      flex-wrap:wrap;\n",
              "      gap: 12px;\n",
              "    }\n",
              "\n",
              "    .colab-df-convert {\n",
              "      background-color: #E8F0FE;\n",
              "      border: none;\n",
              "      border-radius: 50%;\n",
              "      cursor: pointer;\n",
              "      display: none;\n",
              "      fill: #1967D2;\n",
              "      height: 32px;\n",
              "      padding: 0 0 0 0;\n",
              "      width: 32px;\n",
              "    }\n",
              "\n",
              "    .colab-df-convert:hover {\n",
              "      background-color: #E2EBFA;\n",
              "      box-shadow: 0px 1px 2px rgba(60, 64, 67, 0.3), 0px 1px 3px 1px rgba(60, 64, 67, 0.15);\n",
              "      fill: #174EA6;\n",
              "    }\n",
              "\n",
              "    [theme=dark] .colab-df-convert {\n",
              "      background-color: #3B4455;\n",
              "      fill: #D2E3FC;\n",
              "    }\n",
              "\n",
              "    [theme=dark] .colab-df-convert:hover {\n",
              "      background-color: #434B5C;\n",
              "      box-shadow: 0px 1px 3px 1px rgba(0, 0, 0, 0.15);\n",
              "      filter: drop-shadow(0px 1px 2px rgba(0, 0, 0, 0.3));\n",
              "      fill: #FFFFFF;\n",
              "    }\n",
              "  </style>\n",
              "\n",
              "      <script>\n",
              "        const buttonEl =\n",
              "          document.querySelector('#df-4c0021f1-5f18-4221-a57b-9811b52bd5ee button.colab-df-convert');\n",
              "        buttonEl.style.display =\n",
              "          google.colab.kernel.accessAllowed ? 'block' : 'none';\n",
              "\n",
              "        async function convertToInteractive(key) {\n",
              "          const element = document.querySelector('#df-4c0021f1-5f18-4221-a57b-9811b52bd5ee');\n",
              "          const dataTable =\n",
              "            await google.colab.kernel.invokeFunction('convertToInteractive',\n",
              "                                                     [key], {});\n",
              "          if (!dataTable) return;\n",
              "\n",
              "          const docLinkHtml = 'Like what you see? Visit the ' +\n",
              "            '<a target=\"_blank\" href=https://colab.research.google.com/notebooks/data_table.ipynb>data table notebook</a>'\n",
              "            + ' to learn more about interactive tables.';\n",
              "          element.innerHTML = '';\n",
              "          dataTable['output_type'] = 'display_data';\n",
              "          await google.colab.output.renderOutput(dataTable, element);\n",
              "          const docLink = document.createElement('div');\n",
              "          docLink.innerHTML = docLinkHtml;\n",
              "          element.appendChild(docLink);\n",
              "        }\n",
              "      </script>\n",
              "    </div>\n",
              "  </div>\n",
              "  "
            ]
          },
          "metadata": {},
          "execution_count": 349
        }
      ]
    },
    {
      "cell_type": "code",
      "source": [
        "dt1[\"Item_Fat_Content\"].unique()"
      ],
      "metadata": {
        "colab": {
          "base_uri": "https://localhost:8080/"
        },
        "id": "hZgDq0kfI4OJ",
        "outputId": "4523269a-e096-4c09-fa13-9af5967b53cc"
      },
      "execution_count": 350,
      "outputs": [
        {
          "output_type": "execute_result",
          "data": {
            "text/plain": [
              "array(['Low Fat', 'Regular', 'low fat', 'LF', 'reg'], dtype=object)"
            ]
          },
          "metadata": {},
          "execution_count": 350
        }
      ]
    },
    {
      "cell_type": "code",
      "source": [
        "dt1[\"Item_Fat_Content\"].value_counts()"
      ],
      "metadata": {
        "colab": {
          "base_uri": "https://localhost:8080/"
        },
        "id": "frdG4Lp6LXOE",
        "outputId": "4af3bb3d-64bb-48ca-dd06-abd076594ff2"
      },
      "execution_count": 351,
      "outputs": [
        {
          "output_type": "execute_result",
          "data": {
            "text/plain": [
              "Low Fat    5089\n",
              "Regular    2889\n",
              "LF          316\n",
              "reg         117\n",
              "low fat     112\n",
              "Name: Item_Fat_Content, dtype: int64"
            ]
          },
          "metadata": {},
          "execution_count": 351
        }
      ]
    },
    {
      "cell_type": "markdown",
      "source": [
        "## Se procede a arreglar la variable"
      ],
      "metadata": {
        "id": "GspOg4iTJILK"
      }
    },
    {
      "cell_type": "code",
      "source": [
        "dt1[\"Item_Fat_Content\"] = dt1[\"Item_Fat_Content\"].apply(lambda x: \"Low Fat\" if x in [\"low fat\",\"LF\",\"Low Fat\"] else \"Regular\" if x.lower() == \"reg\" else \"Regular\" )"
      ],
      "metadata": {
        "id": "sYd_V6ZHJOid"
      },
      "execution_count": 352,
      "outputs": []
    },
    {
      "cell_type": "code",
      "source": [
        "dt1[\"Item_Fat_Content\"].unique()"
      ],
      "metadata": {
        "colab": {
          "base_uri": "https://localhost:8080/"
        },
        "id": "SgoHgIx1K9Q2",
        "outputId": "c2240b0a-802d-419b-a4f2-07756255de35"
      },
      "execution_count": 353,
      "outputs": [
        {
          "output_type": "execute_result",
          "data": {
            "text/plain": [
              "array(['Low Fat', 'Regular'], dtype=object)"
            ]
          },
          "metadata": {},
          "execution_count": 353
        }
      ]
    },
    {
      "cell_type": "code",
      "source": [
        "dt1[\"Item_Fat_Content\"].value_counts()"
      ],
      "metadata": {
        "colab": {
          "base_uri": "https://localhost:8080/"
        },
        "id": "zn8qjHplLc4i",
        "outputId": "f49e1b07-c2a3-4ca5-e8e4-818c9480bd4d"
      },
      "execution_count": 354,
      "outputs": [
        {
          "output_type": "execute_result",
          "data": {
            "text/plain": [
              "Low Fat    5517\n",
              "Regular    3006\n",
              "Name: Item_Fat_Content, dtype: int64"
            ]
          },
          "metadata": {},
          "execution_count": 354
        }
      ]
    },
    {
      "cell_type": "markdown",
      "source": [
        "# Para cualquier columna numérica, obtengan las estadísticas resumidas para cada uno (mínimo, máximo y media)"
      ],
      "metadata": {
        "id": "fl2fCwc9NjRd"
      }
    },
    {
      "cell_type": "code",
      "source": [
        "a_1 = dt1[\"Item_Weight\"].agg([\"min\",\"max\",\"mean\"])\n",
        "print(a_1)"
      ],
      "metadata": {
        "colab": {
          "base_uri": "https://localhost:8080/"
        },
        "id": "nTQJubcBNnoM",
        "outputId": "7be8a3c2-5639-4c8b-c72b-c7067d5e0a44"
      },
      "execution_count": 355,
      "outputs": [
        {
          "output_type": "stream",
          "name": "stdout",
          "text": [
            "min      4.55500\n",
            "max     21.35000\n",
            "mean    12.81342\n",
            "Name: Item_Weight, dtype: float64\n"
          ]
        }
      ]
    },
    {
      "cell_type": "code",
      "source": [
        "print(f\"Los valores de la variable Item_Weigt para el máximo, mínimo y la media fueron:\\npara el máximo:{round(a_1[1],2)}\\npara el mínimo: {round(a_1[0],2)}\\npara la media: {round(a_1[2],2)}\")"
      ],
      "metadata": {
        "colab": {
          "base_uri": "https://localhost:8080/"
        },
        "id": "_0_c0-U3OYVq",
        "outputId": "fffa4fc6-4513-4ff7-cd09-34134c13e8e3"
      },
      "execution_count": 356,
      "outputs": [
        {
          "output_type": "stream",
          "name": "stdout",
          "text": [
            "Los valores de la variable Item_Weigt para el máximo, mínimo y la media fueron:\n",
            "para el máximo:21.35\n",
            "para el mínimo: 4.56\n",
            "para la media: 12.81\n"
          ]
        }
      ]
    },
    {
      "cell_type": "markdown",
      "source": [
        "# Análisis gráfico de la base de datos."
      ],
      "metadata": {
        "id": "_pUD7b47uUFm"
      }
    },
    {
      "cell_type": "code",
      "source": [
        "dt1.info()"
      ],
      "metadata": {
        "colab": {
          "base_uri": "https://localhost:8080/"
        },
        "id": "vcwwHbUCuapg",
        "outputId": "b3585325-0a75-400c-f850-9a2a8e22abb2"
      },
      "execution_count": 357,
      "outputs": [
        {
          "output_type": "stream",
          "name": "stdout",
          "text": [
            "<class 'pandas.core.frame.DataFrame'>\n",
            "RangeIndex: 8523 entries, 0 to 8522\n",
            "Data columns (total 12 columns):\n",
            " #   Column                     Non-Null Count  Dtype  \n",
            "---  ------                     --------------  -----  \n",
            " 0   Item_Identifier            8523 non-null   object \n",
            " 1   Item_Weight                8523 non-null   float64\n",
            " 2   Item_Fat_Content           8523 non-null   object \n",
            " 3   Item_Visibility            8523 non-null   float64\n",
            " 4   Item_Type                  8523 non-null   object \n",
            " 5   Item_MRP                   8523 non-null   float64\n",
            " 6   Outlet_Identifier          8523 non-null   object \n",
            " 7   Outlet_Establishment_Year  8523 non-null   int64  \n",
            " 8   Outlet_Size                8523 non-null   object \n",
            " 9   Outlet_Location_Type       8523 non-null   object \n",
            " 10  Outlet_Type                8523 non-null   object \n",
            " 11  Item_Outlet_Sales          8523 non-null   float64\n",
            "dtypes: float64(4), int64(1), object(7)\n",
            "memory usage: 799.2+ KB\n"
          ]
        }
      ]
    },
    {
      "cell_type": "markdown",
      "source": [
        "# Análisis de los productos y su contenido de grasa."
      ],
      "metadata": {
        "id": "-atNIn2H0AbG"
      }
    },
    {
      "cell_type": "code",
      "source": [
        "import numpy as np\n",
        "from matplotlib import pyplot as plt\n",
        "import seaborn as sns\n",
        "from scipy.stats import kurtosis\n",
        "from scipy.stats import skew"
      ],
      "metadata": {
        "id": "0NQ9QHC30HPO"
      },
      "execution_count": 358,
      "outputs": []
    },
    {
      "cell_type": "code",
      "source": [
        "cuenta = dt1[\"Item_Fat_Content\"].value_counts()\n",
        "\n",
        "plt.pie(cuenta, labels=cuenta.index, autopct=\"%1.1f%%\")\n",
        "plt.title(\"Participación por contenido en grasa\")"
      ],
      "metadata": {
        "colab": {
          "base_uri": "https://localhost:8080/",
          "height": 282
        },
        "id": "go9CikwV3nZ9",
        "outputId": "834bf73d-62ed-4d7d-a30e-0442bdb11d3f"
      },
      "execution_count": 359,
      "outputs": [
        {
          "output_type": "execute_result",
          "data": {
            "text/plain": [
              "Text(0.5, 1.0, 'Participación por contenido en grasa')"
            ]
          },
          "metadata": {},
          "execution_count": 359
        },
        {
          "output_type": "display_data",
          "data": {
            "text/plain": [
              "<Figure size 432x288 with 1 Axes>"
            ],
            "image/png": "[encoded data removed]"
          },
          "metadata": {}
        }
      ]
    },
    {
      "cell_type": "markdown",
      "source": [
        "* Se puede apreciar que la composisición del portafolio de prodcutos, se distribuye en productos bajos en grasa con una participación del 64.7% y con contenido de grasa regular con el 35.3%."
      ],
      "metadata": {
        "id": "3VOr0dh8BXA-"
      }
    },
    {
      "cell_type": "markdown",
      "source": [
        "# Histograma del precio máxmio de venta al público"
      ],
      "metadata": {
        "id": "G6LHxrNoKUwN"
      }
    },
    {
      "cell_type": "code",
      "source": [
        "import seaborn as sns\n",
        "sns.set()\n",
        "sns.set_style(\"white\")\n",
        "sns.set(style = \"ticks\")\n",
        "sns.set_color_codes()\n",
        "dt1[\"Item_MRP\"].hist(bins=20, edgecolor = \"black\", color = \"#a1c9ed\")\n",
        "plt.ticklabel_format(useOffset=False, style=\"plain\")\n",
        "plt.grid(False)\n",
        "plt.title(\"Histograma del precio máximo de los productos\")\n",
        "plt.xlabel(\"Precio máximo del producto\")\n",
        "plt.ylabel(\"Cuenta\")"
      ],
      "metadata": {
        "colab": {
          "base_uri": "https://localhost:8080/",
          "height": 319
        },
        "id": "lCgmnucfKZzJ",
        "outputId": "4d508873-2e3f-44e9-ed6c-f50dc0d980bb"
      },
      "execution_count": 360,
      "outputs": [
        {
          "output_type": "execute_result",
          "data": {
            "text/plain": [
              "Text(0, 0.5, 'Cuenta')"
            ]
          },
          "metadata": {},
          "execution_count": 360
        },
        {
          "output_type": "display_data",
          "data": {
            "text/plain": [
              "<Figure size 432x288 with 1 Axes>"
            ],
            "image/png": "[encoded data removed]"
          },
          "metadata": {}
        }
      ]
    },
    {
      "cell_type": "markdown",
      "source": [
        "## Coeficiente de asimetría"
      ],
      "metadata": {
        "id": "xVOZ9IvMKs6D"
      }
    },
    {
      "cell_type": "code",
      "source": [
        "sk_2 = dt1[\"Item_MRP\"].skew()\n",
        "sk_2\n",
        "print(f\"El coeficiente de asimetría nos indica los datos tienen un ligero sesgo hacia la derecha, ya que el valor del coeficiente fue de {round(sk_2,2)}, si el coeficiente de asimetría fuera igual\\na cero (0), los datos seguirian una distribución normal, en este caso los datos tiene un ligero sesgo hacia la derecha.\")\n"
      ],
      "metadata": {
        "colab": {
          "base_uri": "https://localhost:8080/"
        },
        "id": "bNsUaLHUKy9W",
        "outputId": "21500285-729d-4e44-a9be-bf6a2e43fe52"
      },
      "execution_count": 361,
      "outputs": [
        {
          "output_type": "stream",
          "name": "stdout",
          "text": [
            "El coeficiente de asimetría nos indica los datos tienen un ligero sesgo hacia la derecha, ya que el valor del coeficiente fue de 0.13, si el coeficiente de asimetría fuera igual\n",
            "a cero (0), los datos seguirian una distribución normal, en este caso los datos tiene un ligero sesgo hacia la derecha.\n"
          ]
        }
      ]
    },
    {
      "cell_type": "markdown",
      "source": [
        "## Coeficiente de Curtosis"
      ],
      "metadata": {
        "id": "N3En_nFBKvdk"
      }
    },
    {
      "cell_type": "code",
      "source": [
        "# Kurtosis\n",
        "\n",
        "k_1 = dt1[\"Item_MRP\"].kurtosis()\n",
        "k_1\n",
        "\n",
        "print(f\"La Kurtosis nos indica la forma de la distribución, ya que el valor del coeficiente de Kurtosis fue de {round(k_1,2)}, si el coeficiente de Kurtosis fuera igual\\na tres (3), los datos seguirian una distribución normal, en este caso los datos tiene una forma de curva aplanada.\")\n"
      ],
      "metadata": {
        "colab": {
          "base_uri": "https://localhost:8080/"
        },
        "id": "u0gjssfeLCB2",
        "outputId": "da62e430-084f-496f-e7cd-abe30afab15a"
      },
      "execution_count": 362,
      "outputs": [
        {
          "output_type": "stream",
          "name": "stdout",
          "text": [
            "La Kurtosis nos indica la forma de la distribución, ya que el valor del coeficiente de Kurtosis fue de -0.89, si el coeficiente de Kurtosis fuera igual\n",
            "a tres (3), los datos seguirian una distribución normal, en este caso los datos tiene una forma de curva aplanada.\n"
          ]
        }
      ]
    },
    {
      "cell_type": "markdown",
      "source": [
        "# Histograma del peso de los productos"
      ],
      "metadata": {
        "id": "ngWzA_CKKQj6"
      }
    },
    {
      "cell_type": "code",
      "source": [
        "import seaborn as sns\n",
        "sns.set()\n",
        "sns.set_style(\"white\")\n",
        "sns.set(style = \"ticks\")\n",
        "sns.set_color_codes()\n",
        "dt1[\"Item_Weight\"].hist(bins=10, edgecolor = \"black\", color = \"#a1c9ed\")\n",
        "plt.ticklabel_format(useOffset=False, style=\"plain\")\n",
        "plt.grid(False)\n",
        "plt.title(\"Histograma del peso de los productos\")\n",
        "plt.xlabel(\"Peso del producto\")\n",
        "plt.ylabel(\"Cuenta\")"
      ],
      "metadata": {
        "colab": {
          "base_uri": "https://localhost:8080/",
          "height": 319
        },
        "id": "TlHfdyqD0hSx",
        "outputId": "9fbeb2f3-3577-4a34-fb9b-8adfab7d0afb"
      },
      "execution_count": 363,
      "outputs": [
        {
          "output_type": "execute_result",
          "data": {
            "text/plain": [
              "Text(0, 0.5, 'Cuenta')"
            ]
          },
          "metadata": {},
          "execution_count": 363
        },
        {
          "output_type": "display_data",
          "data": {
            "text/plain": [
              "<Figure size 432x288 with 1 Axes>"
            ],
            "image/png": "[encoded data removed]"
          },
          "metadata": {}
        }
      ]
    },
    {
      "cell_type": "markdown",
      "source": [
        "# Coeficiente de asimetría"
      ],
      "metadata": {
        "id": "kbQAH_HkDptz"
      }
    },
    {
      "cell_type": "code",
      "source": [
        "sk_2 = dt1[\"Item_Weight\"].skew()\n",
        "sk_2\n",
        "print(f\"El coeficiente de asimetría nos indica los datos tienen un ligero sesgo hacia la derecha, ya que el valor del coeficiente fue de {round(sk_2,2)}, si el coeficiente de asimetría fuera igual\\na cero (0), los datos seguirian una distribución normal, en este caso los datos tiene un ligero sesgo hacia la derecha.\")\n"
      ],
      "metadata": {
        "colab": {
          "base_uri": "https://localhost:8080/"
        },
        "id": "4eGN-eDYDug_",
        "outputId": "26607ce9-dcd3-4684-d71b-57a0c8e5fd78"
      },
      "execution_count": 364,
      "outputs": [
        {
          "output_type": "stream",
          "name": "stdout",
          "text": [
            "El coeficiente de asimetría nos indica los datos tienen un ligero sesgo hacia la derecha, ya que el valor del coeficiente fue de 0.12, si el coeficiente de asimetría fuera igual\n",
            "a cero (0), los datos seguirian una distribución normal, en este caso los datos tiene un ligero sesgo hacia la derecha.\n"
          ]
        }
      ]
    },
    {
      "cell_type": "markdown",
      "source": [
        "# Coeficiente de Curtosis"
      ],
      "metadata": {
        "id": "AMjVDdmJDSPQ"
      }
    },
    {
      "cell_type": "code",
      "source": [
        "# Kurtosis\n",
        "\n",
        "k_1 = dt1[\"Item_Weight\"].kurtosis()\n",
        "k_1\n",
        "\n",
        "print(f\"La Kurtosis nos indica la forma de la distribución, ya que el valor del coeficiente de Kurtosis fue de {round(k_1,2)}, si el coeficiente de Kurtosis fuera igual\\na tres (3), los datos seguirian una distribución normal, en este caso los datos tiene una forma de curva aplanada.\")\n"
      ],
      "metadata": {
        "colab": {
          "base_uri": "https://localhost:8080/"
        },
        "id": "l3c7QoJYB78M",
        "outputId": "e50d492c-6f1f-4e50-ee84-6433b816be8f"
      },
      "execution_count": 365,
      "outputs": [
        {
          "output_type": "stream",
          "name": "stdout",
          "text": [
            "La Kurtosis nos indica la forma de la distribución, ya que el valor del coeficiente de Kurtosis fue de -0.86, si el coeficiente de Kurtosis fuera igual\n",
            "a tres (3), los datos seguirian una distribución normal, en este caso los datos tiene una forma de curva aplanada.\n"
          ]
        }
      ]
    },
    {
      "cell_type": "markdown",
      "source": [
        "# Histograma de las ventas del Item"
      ],
      "metadata": {
        "id": "e67ttX4M3CSt"
      }
    },
    {
      "cell_type": "code",
      "source": [
        "import seaborn as sns\n",
        "sns.set()\n",
        "sns.set_style(\"white\")\n",
        "sns.set(style = \"ticks\")\n",
        "sns.set_color_codes()\n",
        "dt1[\"Item_Outlet_Sales\"].hist(bins=15, edgecolor = \"black\", color = \"#a1c9ed\")\n",
        "plt.ticklabel_format(useOffset=False, style=\"plain\")\n",
        "plt.grid(False)\n",
        "plt.title(\"Histograma de las ventas del producto\")\n",
        "plt.xlabel(\"Ventas\")\n",
        "plt.ylabel(\"Cuenta\")\n"
      ],
      "metadata": {
        "colab": {
          "base_uri": "https://localhost:8080/",
          "height": 319
        },
        "id": "48rw_T3J3HE3",
        "outputId": "bd22a964-9a82-4716-981e-1664481edcce"
      },
      "execution_count": 366,
      "outputs": [
        {
          "output_type": "execute_result",
          "data": {
            "text/plain": [
              "Text(0, 0.5, 'Cuenta')"
            ]
          },
          "metadata": {},
          "execution_count": 366
        },
        {
          "output_type": "display_data",
          "data": {
            "text/plain": [
              "<Figure size 432x288 with 1 Axes>"
            ],
            "image/png": "[encoded data removed]"
          },
          "metadata": {}
        }
      ]
    },
    {
      "cell_type": "markdown",
      "source": [
        "# Coeficiente de asimetría"
      ],
      "metadata": {
        "id": "tFvjcJU3Hawr"
      }
    },
    {
      "cell_type": "code",
      "source": [
        "sk_2 = dt1[\"Item_Outlet_Sales\"].skew()\n",
        "sk_2\n",
        "print(f\"El coeficiente de asimetría nos indica los datos tienen un ligero sesgo hacia la derecha, ya que el valor del coeficiente fue de {round(sk_2,2)}, si el coeficiente de asimetría fuera igual\\na cero (0), los datos seguirian una distribución normal, en este caso los datos tiene un ligero sesgo hacia la derecha.\")\n"
      ],
      "metadata": {
        "colab": {
          "base_uri": "https://localhost:8080/"
        },
        "id": "D_kw2IQGHdKd",
        "outputId": "5faeae10-c261-47ad-f84a-47f3fbb3aa42"
      },
      "execution_count": 367,
      "outputs": [
        {
          "output_type": "stream",
          "name": "stdout",
          "text": [
            "El coeficiente de asimetría nos indica los datos tienen un ligero sesgo hacia la derecha, ya que el valor del coeficiente fue de 1.18, si el coeficiente de asimetría fuera igual\n",
            "a cero (0), los datos seguirian una distribución normal, en este caso los datos tiene un ligero sesgo hacia la derecha.\n"
          ]
        }
      ]
    },
    {
      "cell_type": "markdown",
      "source": [
        "# Coeficiente de Curtosis"
      ],
      "metadata": {
        "id": "5kVWu8lEHpp-"
      }
    },
    {
      "cell_type": "code",
      "source": [
        "# Kurtosis\n",
        "\n",
        "k_1 = dt1[\"Item_Outlet_Sales\"].kurtosis()\n",
        "k_1\n",
        "\n",
        "print(f\"La Kurtosis nos indica la forma de la distribución, ya que el valor del coeficiente de Kurtosis fue de {round(k_1,2)}, si el coeficiente de Kurtosis fuera igual\\na tres (3), los datos seguirian una distribución normal, en este caso los datos tiene una forma de curva aplanada.\")\n"
      ],
      "metadata": {
        "colab": {
          "base_uri": "https://localhost:8080/"
        },
        "id": "VfHl1S8IIfsa",
        "outputId": "dc4ffd0b-ac55-432c-b207-6accf1651ee4"
      },
      "execution_count": 368,
      "outputs": [
        {
          "output_type": "stream",
          "name": "stdout",
          "text": [
            "La Kurtosis nos indica la forma de la distribución, ya que el valor del coeficiente de Kurtosis fue de 1.62, si el coeficiente de Kurtosis fuera igual\n",
            "a tres (3), los datos seguirian una distribución normal, en este caso los datos tiene una forma de curva aplanada.\n"
          ]
        }
      ]
    },
    {
      "cell_type": "markdown",
      "source": [
        "# Análisis de cajas"
      ],
      "metadata": {
        "id": "u3xt7Uwu5q4K"
      }
    },
    {
      "cell_type": "markdown",
      "source": [
        "## Análisis de las ventas del producto"
      ],
      "metadata": {
        "id": "Fl_Xm2-U6ipg"
      }
    },
    {
      "cell_type": "code",
      "source": [
        "fig, axes = plt.subplots(nrows = 1, ncols = 1, figsize = (8,5))\n",
        "boxplots = axes.boxplot([dt1[\"Item_Outlet_Sales\"]],\n",
        "           notch = True,\n",
        "           labels=[\"Ventas\"],\n",
        "           widths = .7,\n",
        "           patch_artist=True,\n",
        "           medianprops = dict(linestyle='-', linewidth=2, color='Yellow'),\n",
        "           boxprops = dict(linestyle='--', linewidth=2, color='Black', facecolor = 'blue', alpha = .4)\n",
        "          );\n",
        "\n",
        "plt.ylabel(\"Análisis de las ventas\", fontsize = 16)\n",
        "plt.xticks(fontsize = 10)\n",
        "plt.yticks(fontsize = 10)\n",
        "axes.grid(color='#808080', linewidth=0.5)"
      ],
      "metadata": {
        "colab": {
          "base_uri": "https://localhost:8080/",
          "height": 322
        },
        "id": "Jx5CTAQm5tfD",
        "outputId": "9489bdf8-e195-42aa-9fc2-2121eaab58f9"
      },
      "execution_count": 369,
      "outputs": [
        {
          "output_type": "display_data",
          "data": {
            "text/plain": [
              "<Figure size 576x360 with 1 Axes>"
            ],
            "image/png": "[encoded data removed]"
          },
          "metadata": {}
        }
      ]
    },
    {
      "cell_type": "markdown",
      "source": [
        "* De acuerdo con la gráfica se que los datos tienen presencia de outliers  dentro de la base de datos, por lo que la utilización del promedio como media de tendencia central, no sería la más indicada por los outliers presente. Un indicador que sería de más utilidad sería la mediana."
      ],
      "metadata": {
        "id": "bw7ArOZVIsJ-"
      }
    },
    {
      "cell_type": "markdown",
      "source": [
        "## Análisis del peso del prodcuto"
      ],
      "metadata": {
        "id": "F7Ou8hwC6nHi"
      }
    },
    {
      "cell_type": "code",
      "source": [
        "fig, axes = plt.subplots(nrows = 1, ncols = 1, figsize = (8,5))\n",
        "boxplots = axes.boxplot([dt1[\"Item_Weight\"]],\n",
        "           notch = True,\n",
        "           labels=[\"Peso\"],\n",
        "           widths = .7,\n",
        "           patch_artist=True,\n",
        "           medianprops = dict(linestyle='-', linewidth=2, color='Yellow'),\n",
        "           boxprops = dict(linestyle='--', linewidth=2, color='Black', facecolor = 'blue', alpha = .4)\n",
        "          );\n",
        "\n",
        "plt.ylabel(\"Análisis del peso de los productos\", fontsize = 16)\n",
        "plt.xticks(fontsize = 10)\n",
        "plt.yticks(fontsize = 10)\n",
        "axes.grid(color='#808080', linewidth=0.5)"
      ],
      "metadata": {
        "colab": {
          "base_uri": "https://localhost:8080/",
          "height": 322
        },
        "id": "hFy1JmGI6rFq",
        "outputId": "99855d80-adcb-41b7-ca86-f1f3be27f248"
      },
      "execution_count": 370,
      "outputs": [
        {
          "output_type": "display_data",
          "data": {
            "text/plain": [
              "<Figure size 576x360 with 1 Axes>"
            ],
            "image/png": "[encoded data removed]"
          },
          "metadata": {}
        }
      ]
    },
    {
      "cell_type": "markdown",
      "source": [
        "* Se puede apreciar que la gráfica de cajas está bien distrinuída el promedio del peso de los productos, visualmente se observa cerca del 12.5. Los datos no presentan outliers."
      ],
      "metadata": {
        "id": "dRRSO1CnJH82"
      }
    },
    {
      "cell_type": "markdown",
      "source": [
        "# Análisis del precio máximo del producto"
      ],
      "metadata": {
        "id": "QrAKqJEVLNrV"
      }
    },
    {
      "cell_type": "code",
      "source": [
        "fig, axes = plt.subplots(nrows = 1, ncols = 1, figsize = (8,5))\n",
        "boxplots = axes.boxplot([dt1[\"Item_MRP\"]],\n",
        "           notch = True,\n",
        "           labels=[\"Precio máximo de venta al público\"],\n",
        "           widths = .7,\n",
        "           patch_artist=True,\n",
        "           medianprops = dict(linestyle='-', linewidth=2, color='Yellow'),\n",
        "           boxprops = dict(linestyle='--', linewidth=2, color='Black', facecolor = 'blue', alpha = .4)\n",
        "          );\n",
        "\n",
        "plt.ylabel(\"Análisis del precio máximo del venta al público de los productos\", fontsize = 8)\n",
        "plt.xticks(fontsize = 10)\n",
        "plt.yticks(fontsize = 10)\n",
        "axes.grid(color='#808080', linewidth=0.5)"
      ],
      "metadata": {
        "colab": {
          "base_uri": "https://localhost:8080/",
          "height": 323
        },
        "id": "s-_5Ubj0LTaG",
        "outputId": "4aadf9b5-acd9-4990-d84c-5b3cc4cf18dc"
      },
      "execution_count": 371,
      "outputs": [
        {
          "output_type": "display_data",
          "data": {
            "text/plain": [
              "<Figure size 576x360 with 1 Axes>"
            ],
            "image/png": "[encoded data removed]"
          },
          "metadata": {}
        }
      ]
    },
    {
      "cell_type": "markdown",
      "source": [
        "*La gráfica de cajas nos confirma lo que visualmente se pudo apreciar en la gráfica del histograma, que no existen outliers dentro de la base, además no existe una amplia disperción en los precios máximos de venta al público, aunque para confirmar se deben realizar las pruebas estadísticas, como por ejemplo calcular el coeficiente de variación o la desviación estandar.\n"
      ],
      "metadata": {
        "id": "g_oWJllvLjt-"
      }
    },
    {
      "cell_type": "code",
      "source": [
        "desv_est = np.std(dt1[\"Item_MRP\"])\n",
        "desv_est\n",
        "\n",
        "print(f\"Cómo se indicó anteriormente para saber si existe una amplia disperción se debe calcular la desviación estandar y el coeficeinte de variación; para el presente caso\\nla desviación estandar fue de {round(desv_est,2)}, lo que nos indica que existe una amplia variabilidad en los datos con relación a la media.\")"
      ],
      "metadata": {
        "colab": {
          "base_uri": "https://localhost:8080/"
        },
        "id": "pTQCJ5chMYDR",
        "outputId": "8dec93f2-8add-41f6-cf46-da9422da3661"
      },
      "execution_count": 372,
      "outputs": [
        {
          "output_type": "stream",
          "name": "stdout",
          "text": [
            "Cómo se indicó anteriormente para saber si existe una amplia disperción se debe calcular la desviación estandar y el coeficeinte de variación; para el presente caso\n",
            "la desviación estandar fue de 62.27, lo que nos indica que existe una amplia variabilidad en los datos con relación a la media.\n"
          ]
        }
      ]
    },
    {
      "cell_type": "code",
      "source": [
        "coef_var = desv_est / np.mean(dt1[\"Item_MRP\"]) * 100\n",
        "\n",
        "coef_var\n",
        "\n",
        "print(f\"Cómo se indicó anteriormente para saber si existe una amplia disperción se debe calcular la desviación estandar y el coeficeinte de variación; para el presente caso\\nel coeficiente de variación fue de {round(coef_var,2)}, lo que nos indica que existe una amplia disperción en los datos con relación a la media.\")"
      ],
      "metadata": {
        "colab": {
          "base_uri": "https://localhost:8080/"
        },
        "id": "0v0IbWKUMotT",
        "outputId": "9cca00b6-9f7d-45a2-d596-399f274024da"
      },
      "execution_count": 373,
      "outputs": [
        {
          "output_type": "stream",
          "name": "stdout",
          "text": [
            "Cómo se indicó anteriormente para saber si existe una amplia disperción se debe calcular la desviación estandar y el coeficeinte de variación; para el presente caso\n",
            "el coeficiente de variación fue de 44.17, lo que nos indica que existe una amplia disperción en los datos con relación a la media.\n"
          ]
        }
      ]
    },
    {
      "cell_type": "markdown",
      "source": [
        "# Mapa de calor de la correlación"
      ],
      "metadata": {
        "id": "Bm5pXpu4JbDL"
      }
    },
    {
      "cell_type": "code",
      "source": [
        "corr = dt1.corr()\n",
        "\n",
        "corr\n",
        "\n",
        "sns.heatmap(corr, cmap = \"Reds\", annot=True)"
      ],
      "metadata": {
        "colab": {
          "base_uri": "https://localhost:8080/",
          "height": 427
        },
        "id": "CwPsVfZLJecV",
        "outputId": "ea18bf4e-0f20-46c9-a916-62b020e3ac93"
      },
      "execution_count": 374,
      "outputs": [
        {
          "output_type": "execute_result",
          "data": {
            "text/plain": [
              "<Axes: >"
            ]
          },
          "metadata": {},
          "execution_count": 374
        },
        {
          "output_type": "display_data",
          "data": {
            "text/plain": [
              "<Figure size 432x288 with 2 Axes>"
            ],
            "image/png": "[encoded data removed]"
          },
          "metadata": {}
        }
      ]
    },
    {
      "cell_type": "markdown",
      "source": [
        "* El mapa de calor de la correlación, nos indica que existe una correlación positiva moderada entre el precio máximo de venta el público y las ventas."
      ],
      "metadata": {
        "id": "3Fop4d04Jyne"
      }
    },
    {
      "cell_type": "code",
      "source": [
        "dt1"
      ],
      "metadata": {
        "colab": {
          "base_uri": "https://localhost:8080/",
          "height": 423
        },
        "id": "TF_Lc13VaDlU",
        "outputId": "932d6b7f-adf0-45c7-e351-26bed5ef5d2c"
      },
      "execution_count": 375,
      "outputs": [
        {
          "output_type": "execute_result",
          "data": {
            "text/plain": [
              "     Item_Identifier  Item_Weight Item_Fat_Content  Item_Visibility  \\\n",
              "0              FDA15        9.300          Low Fat         0.016047   \n",
              "1              DRC01        5.920          Regular         0.019278   \n",
              "2              FDN15       17.500          Low Fat         0.016760   \n",
              "3              FDX07       19.200          Regular         0.000000   \n",
              "4              NCD19        8.930          Low Fat         0.000000   \n",
              "...              ...          ...              ...              ...   \n",
              "8518           FDF22        6.865          Low Fat         0.056783   \n",
              "8519           FDS36        8.380          Regular         0.046982   \n",
              "8520           NCJ29       10.600          Low Fat         0.035186   \n",
              "8521           FDN46        7.210          Regular         0.145221   \n",
              "8522           DRG01       14.800          Low Fat         0.044878   \n",
              "\n",
              "                  Item_Type  Item_MRP Outlet_Identifier  \\\n",
              "0                     Dairy  249.8092            OUT049   \n",
              "1               Soft Drinks   48.2692            OUT018   \n",
              "2                      Meat  141.6180            OUT049   \n",
              "3     Fruits and Vegetables  182.0950            OUT010   \n",
              "4                 Household   53.8614            OUT013   \n",
              "...                     ...       ...               ...   \n",
              "8518            Snack Foods  214.5218            OUT013   \n",
              "8519           Baking Goods  108.1570            OUT045   \n",
              "8520     Health and Hygiene   85.1224            OUT035   \n",
              "8521            Snack Foods  103.1332            OUT018   \n",
              "8522            Soft Drinks   75.4670            OUT046   \n",
              "\n",
              "      Outlet_Establishment_Year Outlet_Size Outlet_Location_Type  \\\n",
              "0                          1999      Medium               Tier 1   \n",
              "1                          2009      Medium               Tier 3   \n",
              "2                          1999      Medium               Tier 1   \n",
              "3                          1998      Medium               Tier 3   \n",
              "4                          1987        High               Tier 3   \n",
              "...                         ...         ...                  ...   \n",
              "8518                       1987        High               Tier 3   \n",
              "8519                       2002      Medium               Tier 2   \n",
              "8520                       2004       Small               Tier 2   \n",
              "8521                       2009      Medium               Tier 3   \n",
              "8522                       1997       Small               Tier 1   \n",
              "\n",
              "            Outlet_Type  Item_Outlet_Sales  \n",
              "0     Supermarket Type1          3735.1380  \n",
              "1     Supermarket Type2           443.4228  \n",
              "2     Supermarket Type1          2097.2700  \n",
              "3         Grocery Store           732.3800  \n",
              "4     Supermarket Type1           994.7052  \n",
              "...                 ...                ...  \n",
              "8518  Supermarket Type1          2778.3834  \n",
              "8519  Supermarket Type1           549.2850  \n",
              "8520  Supermarket Type1          1193.1136  \n",
              "8521  Supermarket Type2          1845.5976  \n",
              "8522  Supermarket Type1           765.6700  \n",
              "\n",
              "[8523 rows x 12 columns]"
            ],
            "text/html": [
              "\n",
              "  <div id=\"df-3f74080f-83e4-48f5-9f1b-d90fb46939f6\">\n",
              "    <div class=\"colab-df-container\">\n",
              "      <div>\n",
              "<style scoped>\n",
              "    .dataframe tbody tr th:only-of-type {\n",
              "        vertical-align: middle;\n",
              "    }\n",
              "\n",
              "    .dataframe tbody tr th {\n",
              "        vertical-align: top;\n",
              "    }\n",
              "\n",
              "    .dataframe thead th {\n",
              "        text-align: right;\n",
              "    }\n",
              "</style>\n",
              "<table border=\"1\" class=\"dataframe\">\n",
              "  <thead>\n",
              "    <tr style=\"text-align: right;\">\n",
              "      <th></th>\n",
              "      <th>Item_Identifier</th>\n",
              "      <th>Item_Weight</th>\n",
              "      <th>Item_Fat_Content</th>\n",
              "      <th>Item_Visibility</th>\n",
              "      <th>Item_Type</th>\n",
              "      <th>Item_MRP</th>\n",
              "      <th>Outlet_Identifier</th>\n",
              "      <th>Outlet_Establishment_Year</th>\n",
              "      <th>Outlet_Size</th>\n",
              "      <th>Outlet_Location_Type</th>\n",
              "      <th>Outlet_Type</th>\n",
              "      <th>Item_Outlet_Sales</th>\n",
              "    </tr>\n",
              "  </thead>\n",
              "  <tbody>\n",
              "    <tr>\n",
              "      <th>0</th>\n",
              "      <td>FDA15</td>\n",
              "      <td>9.300</td>\n",
              "      <td>Low Fat</td>\n",
              "      <td>0.016047</td>\n",
              "      <td>Dairy</td>\n",
              "      <td>249.8092</td>\n",
              "      <td>OUT049</td>\n",
              "      <td>1999</td>\n",
              "      <td>Medium</td>\n",
              "      <td>Tier 1</td>\n",
              "      <td>Supermarket Type1</td>\n",
              "      <td>3735.1380</td>\n",
              "    </tr>\n",
              "    <tr>\n",
              "      <th>1</th>\n",
              "      <td>DRC01</td>\n",
              "      <td>5.920</td>\n",
              "      <td>Regular</td>\n",
              "      <td>0.019278</td>\n",
              "      <td>Soft Drinks</td>\n",
              "      <td>48.2692</td>\n",
              "      <td>OUT018</td>\n",
              "      <td>2009</td>\n",
              "      <td>Medium</td>\n",
              "      <td>Tier 3</td>\n",
              "      <td>Supermarket Type2</td>\n",
              "      <td>443.4228</td>\n",
              "    </tr>\n",
              "    <tr>\n",
              "      <th>2</th>\n",
              "      <td>FDN15</td>\n",
              "      <td>17.500</td>\n",
              "      <td>Low Fat</td>\n",
              "      <td>0.016760</td>\n",
              "      <td>Meat</td>\n",
              "      <td>141.6180</td>\n",
              "      <td>OUT049</td>\n",
              "      <td>1999</td>\n",
              "      <td>Medium</td>\n",
              "      <td>Tier 1</td>\n",
              "      <td>Supermarket Type1</td>\n",
              "      <td>2097.2700</td>\n",
              "    </tr>\n",
              "    <tr>\n",
              "      <th>3</th>\n",
              "      <td>FDX07</td>\n",
              "      <td>19.200</td>\n",
              "      <td>Regular</td>\n",
              "      <td>0.000000</td>\n",
              "      <td>Fruits and Vegetables</td>\n",
              "      <td>182.0950</td>\n",
              "      <td>OUT010</td>\n",
              "      <td>1998</td>\n",
              "      <td>Medium</td>\n",
              "      <td>Tier 3</td>\n",
              "      <td>Grocery Store</td>\n",
              "      <td>732.3800</td>\n",
              "    </tr>\n",
              "    <tr>\n",
              "      <th>4</th>\n",
              "      <td>NCD19</td>\n",
              "      <td>8.930</td>\n",
              "      <td>Low Fat</td>\n",
              "      <td>0.000000</td>\n",
              "      <td>Household</td>\n",
              "      <td>53.8614</td>\n",
              "      <td>OUT013</td>\n",
              "      <td>1987</td>\n",
              "      <td>High</td>\n",
              "      <td>Tier 3</td>\n",
              "      <td>Supermarket Type1</td>\n",
              "      <td>994.7052</td>\n",
              "    </tr>\n",
              "    <tr>\n",
              "      <th>...</th>\n",
              "      <td>...</td>\n",
              "      <td>...</td>\n",
              "      <td>...</td>\n",
              "      <td>...</td>\n",
              "      <td>...</td>\n",
              "      <td>...</td>\n",
              "      <td>...</td>\n",
              "      <td>...</td>\n",
              "      <td>...</td>\n",
              "      <td>...</td>\n",
              "      <td>...</td>\n",
              "      <td>...</td>\n",
              "    </tr>\n",
              "    <tr>\n",
              "      <th>8518</th>\n",
              "      <td>FDF22</td>\n",
              "      <td>6.865</td>\n",
              "      <td>Low Fat</td>\n",
              "      <td>0.056783</td>\n",
              "      <td>Snack Foods</td>\n",
              "      <td>214.5218</td>\n",
              "      <td>OUT013</td>\n",
              "      <td>1987</td>\n",
              "      <td>High</td>\n",
              "      <td>Tier 3</td>\n",
              "      <td>Supermarket Type1</td>\n",
              "      <td>2778.3834</td>\n",
              "    </tr>\n",
              "    <tr>\n",
              "      <th>8519</th>\n",
              "      <td>FDS36</td>\n",
              "      <td>8.380</td>\n",
              "      <td>Regular</td>\n",
              "      <td>0.046982</td>\n",
              "      <td>Baking Goods</td>\n",
              "      <td>108.1570</td>\n",
              "      <td>OUT045</td>\n",
              "      <td>2002</td>\n",
              "      <td>Medium</td>\n",
              "      <td>Tier 2</td>\n",
              "      <td>Supermarket Type1</td>\n",
              "      <td>549.2850</td>\n",
              "    </tr>\n",
              "    <tr>\n",
              "      <th>8520</th>\n",
              "      <td>NCJ29</td>\n",
              "      <td>10.600</td>\n",
              "      <td>Low Fat</td>\n",
              "      <td>0.035186</td>\n",
              "      <td>Health and Hygiene</td>\n",
              "      <td>85.1224</td>\n",
              "      <td>OUT035</td>\n",
              "      <td>2004</td>\n",
              "      <td>Small</td>\n",
              "      <td>Tier 2</td>\n",
              "      <td>Supermarket Type1</td>\n",
              "      <td>1193.1136</td>\n",
              "    </tr>\n",
              "    <tr>\n",
              "      <th>8521</th>\n",
              "      <td>FDN46</td>\n",
              "      <td>7.210</td>\n",
              "      <td>Regular</td>\n",
              "      <td>0.145221</td>\n",
              "      <td>Snack Foods</td>\n",
              "      <td>103.1332</td>\n",
              "      <td>OUT018</td>\n",
              "      <td>2009</td>\n",
              "      <td>Medium</td>\n",
              "      <td>Tier 3</td>\n",
              "      <td>Supermarket Type2</td>\n",
              "      <td>1845.5976</td>\n",
              "    </tr>\n",
              "    <tr>\n",
              "      <th>8522</th>\n",
              "      <td>DRG01</td>\n",
              "      <td>14.800</td>\n",
              "      <td>Low Fat</td>\n",
              "      <td>0.044878</td>\n",
              "      <td>Soft Drinks</td>\n",
              "      <td>75.4670</td>\n",
              "      <td>OUT046</td>\n",
              "      <td>1997</td>\n",
              "      <td>Small</td>\n",
              "      <td>Tier 1</td>\n",
              "      <td>Supermarket Type1</td>\n",
              "      <td>765.6700</td>\n",
              "    </tr>\n",
              "  </tbody>\n",
              "</table>\n",
              "<p>8523 rows × 12 columns</p>\n",
              "</div>\n",
              "      <button class=\"colab-df-convert\" onclick=\"convertToInteractive('df-3f74080f-83e4-48f5-9f1b-d90fb46939f6')\"\n",
              "              title=\"Convert this dataframe to an interactive table.\"\n",
              "              style=\"display:none;\">\n",
              "        \n",
              "  <svg xmlns=\"http://www.w3.org/2000/svg\" height=\"24px\"viewBox=\"0 0 24 24\"\n",
              "       width=\"24px\">\n",
              "    <path d=\"M0 0h24v24H0V0z\" fill=\"none\"/>\n",
              "    <path d=\"M18.56 5.44l.94 2.06.94-2.06 2.06-.94-2.06-.94-.94-2.06-.94 2.06-2.06.94zm-11 1L8.5 8.5l.94-2.06 2.06-.94-2.06-.94L8.5 2.5l-.94 2.06-2.06.94zm10 10l.94 2.06.94-2.06 2.06-.94-2.06-.94-.94-2.06-.94 2.06-2.06.94z\"/><path d=\"M17.41 7.96l-1.37-1.37c-.4-.4-.92-.59-1.43-.59-.52 0-1.04.2-1.43.59L10.3 9.45l-7.72 7.72c-.78.78-.78 2.05 0 2.83L4 21.41c.39.39.9.59 1.41.59.51 0 1.02-.2 1.41-.59l7.78-7.78 2.81-2.81c.8-.78.8-2.07 0-2.86zM5.41 20L4 18.59l7.72-7.72 1.47 1.35L5.41 20z\"/>\n",
              "  </svg>\n",
              "      </button>\n",
              "      \n",
              "  <style>\n",
              "    .colab-df-container {\n",
              "      display:flex;\n",
              "      flex-wrap:wrap;\n",
              "      gap: 12px;\n",
              "    }\n",
              "\n",
              "    .colab-df-convert {\n",
              "      background-color: #E8F0FE;\n",
              "      border: none;\n",
              "      border-radius: 50%;\n",
              "      cursor: pointer;\n",
              "      display: none;\n",
              "      fill: #1967D2;\n",
              "      height: 32px;\n",
              "      padding: 0 0 0 0;\n",
              "      width: 32px;\n",
              "    }\n",
              "\n",
              "    .colab-df-convert:hover {\n",
              "      background-color: #E2EBFA;\n",
              "      box-shadow: 0px 1px 2px rgba(60, 64, 67, 0.3), 0px 1px 3px 1px rgba(60, 64, 67, 0.15);\n",
              "      fill: #174EA6;\n",
              "    }\n",
              "\n",
              "    [theme=dark] .colab-df-convert {\n",
              "      background-color: #3B4455;\n",
              "      fill: #D2E3FC;\n",
              "    }\n",
              "\n",
              "    [theme=dark] .colab-df-convert:hover {\n",
              "      background-color: #434B5C;\n",
              "      box-shadow: 0px 1px 3px 1px rgba(0, 0, 0, 0.15);\n",
              "      filter: drop-shadow(0px 1px 2px rgba(0, 0, 0, 0.3));\n",
              "      fill: #FFFFFF;\n",
              "    }\n",
              "  </style>\n",
              "\n",
              "      <script>\n",
              "        const buttonEl =\n",
              "          document.querySelector('#df-3f74080f-83e4-48f5-9f1b-d90fb46939f6 button.colab-df-convert');\n",
              "        buttonEl.style.display =\n",
              "          google.colab.kernel.accessAllowed ? 'block' : 'none';\n",
              "\n",
              "        async function convertToInteractive(key) {\n",
              "          const element = document.querySelector('#df-3f74080f-83e4-48f5-9f1b-d90fb46939f6');\n",
              "          const dataTable =\n",
              "            await google.colab.kernel.invokeFunction('convertToInteractive',\n",
              "                                                     [key], {});\n",
              "          if (!dataTable) return;\n",
              "\n",
              "          const docLinkHtml = 'Like what you see? Visit the ' +\n",
              "            '<a target=\"_blank\" href=https://colab.research.google.com/notebooks/data_table.ipynb>data table notebook</a>'\n",
              "            + ' to learn more about interactive tables.';\n",
              "          element.innerHTML = '';\n",
              "          dataTable['output_type'] = 'display_data';\n",
              "          await google.colab.output.renderOutput(dataTable, element);\n",
              "          const docLink = document.createElement('div');\n",
              "          docLink.innerHTML = docLinkHtml;\n",
              "          element.appendChild(docLink);\n",
              "        }\n",
              "      </script>\n",
              "    </div>\n",
              "  </div>\n",
              "  "
            ]
          },
          "metadata": {},
          "execution_count": 375
        }
      ]
    },
    {
      "cell_type": "code",
      "source": [
        "p_1 = dt1[\"Item_Identifier\"].unique().tolist()\n",
        "len(p_1)"
      ],
      "metadata": {
        "colab": {
          "base_uri": "https://localhost:8080/"
        },
        "id": "PKyENkhUQBMi",
        "outputId": "5433503b-7a65-47fe-921c-efcce09d8f7d"
      },
      "execution_count": 376,
      "outputs": [
        {
          "output_type": "execute_result",
          "data": {
            "text/plain": [
              "1559"
            ]
          },
          "metadata": {},
          "execution_count": 376
        }
      ]
    },
    {
      "cell_type": "code",
      "source": [
        "p_1 = dt1.iloc[:,[0,4]]\n",
        "p_1 = p_1.drop_duplicates()\n",
        "len(p_1[\"Item_Identifier\"])"
      ],
      "metadata": {
        "colab": {
          "base_uri": "https://localhost:8080/"
        },
        "id": "efx_z8bpdUyW",
        "outputId": "1cfdcc29-564c-4128-95cc-0d9f6282cd9f"
      },
      "execution_count": 377,
      "outputs": [
        {
          "output_type": "execute_result",
          "data": {
            "text/plain": [
              "1559"
            ]
          },
          "metadata": {},
          "execution_count": 377
        }
      ]
    },
    {
      "cell_type": "markdown",
      "source": [
        "# Producto con mayor nivel de ventas entre las tiendas"
      ],
      "metadata": {
        "id": "oXMdzcZNd4fa"
      }
    },
    {
      "cell_type": "markdown",
      "source": [
        " A continuación, se presenta los 5 productos con mayor nivel de ventas:"
      ],
      "metadata": {
        "id": "XBbsgh3UmzDw"
      }
    },
    {
      "cell_type": "code",
      "source": [
        "p_1 = dt1.groupby([\"Item_Identifier\"])[\"Item_Outlet_Sales\"].sum()\n",
        "p_2 = pd.DataFrame(p_1.sort_values(ascending=False))\n",
        "p_2[\"Part(%)\"] = p_2.iloc[:,[0]]/p_2.iloc[:,[0]].sum()*100\n",
        "p_3 = p_2.head()\n",
        "p_3 = p_3.reset_index(drop=False)\n",
        "g_1 = p_3[\"Part(%)\"].sum()\n",
        "p_3[\"Item_Outlet_Sales\"] = p_3[\"Item_Outlet_Sales\"].apply(lambda x: \"{:,.2f}\".format(x))\n",
        "print(f\"{p_3}\\n\\nEntre estos 5 productos se concentra el {round(g_1,2)}% del total de las ventas.\")"
      ],
      "metadata": {
        "colab": {
          "base_uri": "https://localhost:8080/"
        },
        "id": "K_EqsQl1d2VJ",
        "outputId": "fe0734d1-6ba6-4da8-d2e6-5dd93fd38ade"
      },
      "execution_count": 378,
      "outputs": [
        {
          "output_type": "stream",
          "name": "stdout",
          "text": [
            "  Item_Identifier Item_Outlet_Sales   Part(%)\n",
            "0           FDY55         42,661.80  0.229474\n",
            "1           FDA15         41,584.54  0.223680\n",
            "2           FDZ20         40,185.02  0.216152\n",
            "3           FDF05         36,555.75  0.196630\n",
            "4           FDA04         35,741.48  0.192250\n",
            "\n",
            "Entre estos 5 productos se concentra el 1.06% del total de las ventas.\n"
          ]
        }
      ]
    },
    {
      "cell_type": "markdown",
      "source": [
        "El tipo de Item que más se vende entre las tiendas."
      ],
      "metadata": {
        "id": "esseB-lMpC5z"
      }
    },
    {
      "cell_type": "code",
      "source": [
        "p_1 = dt1.groupby([\"Item_Type\"])[\"Item_Outlet_Sales\"].sum()\n",
        "p_2 = pd.DataFrame(p_1.sort_values(ascending=False))\n",
        "p_2[\"Part(%)\"] = p_2.iloc[:,[0]]/p_2.iloc[:,[0]].sum()*100\n",
        "p_3 = p_2.head()\n",
        "p_3 = p_3.reset_index(drop=False)\n",
        "g_1 = p_3[\"Part(%)\"].sum()\n",
        "p_3[\"Item_Outlet_Sales\"] = p_3[\"Item_Outlet_Sales\"].apply(lambda x: \"{:,.2f}\".format(x))\n",
        "print(f\"{p_3}\\n\\nEntre estos 5 tipos de productos se concentra el {round(g_1,2)}% del total de las ventas.\")"
      ],
      "metadata": {
        "colab": {
          "base_uri": "https://localhost:8080/"
        },
        "id": "IeJBOVA9pHzW",
        "outputId": "9a553901-72aa-4d72-8253-b3646a4b86eb"
      },
      "execution_count": 379,
      "outputs": [
        {
          "output_type": "stream",
          "name": "stdout",
          "text": [
            "               Item_Type Item_Outlet_Sales    Part(%)\n",
            "0  Fruits and Vegetables      2,820,059.82  15.168849\n",
            "1            Snack Foods      2,732,786.09  14.699412\n",
            "2              Household      2,055,493.71  11.056317\n",
            "3           Frozen Foods      1,825,734.79   9.820464\n",
            "4                  Dairy      1,522,594.05   8.189897\n",
            "\n",
            "Entre estos 5 tipos de productos se concentra el 58.93% del total de las ventas.\n"
          ]
        }
      ]
    },
    {
      "cell_type": "markdown",
      "source": [
        "# Nivel de ventas por tipo de productos"
      ],
      "metadata": {
        "id": "SyxsjUUEp2qY"
      }
    },
    {
      "cell_type": "code",
      "source": [
        "p_1 = dt1.groupby([\"Item_Type\"])[\"Item_Outlet_Sales\"].sum()\n",
        "fig, ax = plt.subplots(figsize=(10, 12))  \n",
        "ax.pie(p_1, labels=p_1.index, autopct=\"%1.1f%%\", labeldistance= 1.1)\n",
        "ax.set_title(\"Participación por nivel de ventas\", fontsize = 22)"
      ],
      "metadata": {
        "colab": {
          "base_uri": "https://localhost:8080/",
          "height": 630
        },
        "id": "E-wQEmNluB1i",
        "outputId": "c02db419-a864-4948-d548-e1a19c022dbe"
      },
      "execution_count": 380,
      "outputs": [
        {
          "output_type": "execute_result",
          "data": {
            "text/plain": [
              "Text(0.5, 1.0, 'Participación por nivel de ventas')"
            ]
          },
          "metadata": {},
          "execution_count": 380
        },
        {
          "output_type": "display_data",
          "data": {
            "text/plain": [
              "<Figure size 720x864 with 1 Axes>"
            ],
            "image/png": "[encoded data removed]"
          },
          "metadata": {}
        }
      ]
    },
    {
      "cell_type": "code",
      "source": [
        "print(f\"En relación con el tipo de productos con mayor participación en ventas encontramos a {p_3.iloc[0,0]} con una participación del {round(p_3.iloc[0,2],2)}%, seguido de {p_3.iloc[1,0]} con una participación del {round(p_3.iloc[1,2],2)}%\\ny el tercer iten más vendido es {p_3.iloc[2,0]} con una participación del {round(p_3.iloc[2,2],2)}%.\")"
      ],
      "metadata": {
        "colab": {
          "base_uri": "https://localhost:8080/"
        },
        "id": "bqKr8by6zAG4",
        "outputId": "fe6dd9dc-ef58-469b-da6d-da5836ca159f"
      },
      "execution_count": 381,
      "outputs": [
        {
          "output_type": "stream",
          "name": "stdout",
          "text": [
            "En relación con el tipo de productos con mayor participación en ventas encontramos a Fruits and Vegetables con una participación del 15.17%, seguido de Snack Foods con una participación del 14.7%\n",
            "y el tercer iten más vendido es Household con una participación del 11.06%.\n"
          ]
        }
      ]
    },
    {
      "cell_type": "markdown",
      "source": [
        "# Participación en ventas por contenido en grasa del producto."
      ],
      "metadata": {
        "id": "1CrRzTCA3YfR"
      }
    },
    {
      "cell_type": "code",
      "source": [
        "p_1 = dt1.groupby([\"Item_Fat_Content\"])[\"Item_Outlet_Sales\"].sum()\n",
        "fig, ax = plt.subplots(figsize=(10, 12))  \n",
        "ax.pie(p_1, labels=p_1.index, autopct=\"%1.1f%%\", labeldistance= 1.1)\n",
        "ax.set_title(\"Participación por nivel de ventas\", fontsize = 22)"
      ],
      "metadata": {
        "colab": {
          "base_uri": "https://localhost:8080/",
          "height": 630
        },
        "id": "ZSvQDHzS3en2",
        "outputId": "bb4c9725-d246-4ad8-c35f-5dd2518af3d9"
      },
      "execution_count": 382,
      "outputs": [
        {
          "output_type": "execute_result",
          "data": {
            "text/plain": [
              "Text(0.5, 1.0, 'Participación por nivel de ventas')"
            ]
          },
          "metadata": {},
          "execution_count": 382
        },
        {
          "output_type": "display_data",
          "data": {
            "text/plain": [
              "<Figure size 720x864 with 1 Axes>"
            ],
            "image/png": "[encoded data removed]"
          },
          "metadata": {}
        }
      ]
    },
    {
      "cell_type": "markdown",
      "source": [
        "El gráfico anterior se desprende que del total de las ventas de los establecimientos el 64% se concentra en los productos bajos en grasa y el 36% restante en los productos regulares."
      ],
      "metadata": {
        "id": "QvxcXbwy3lVQ"
      }
    },
    {
      "cell_type": "markdown",
      "source": [
        "# Análisis del tipo de tiendas"
      ],
      "metadata": {
        "id": "NWizscRvBydA"
      }
    },
    {
      "cell_type": "markdown",
      "source": [
        "## Número de tiendas por el tamaño"
      ],
      "metadata": {
        "id": "rfe1FhSEB34z"
      }
    },
    {
      "cell_type": "code",
      "source": [
        "cuenta = dt1[[\"Outlet_Identifier\",\"Outlet_Size\"]].drop_duplicates()\n",
        "cuenta = cuenta[\"Outlet_Size\"].value_counts()\n",
        "\n",
        "fig, ax = plt.subplots(figsize=(6, 8))  \n",
        "ax.pie(cuenta, labels=cuenta.index, autopct=\"%1.1f%%\", labeldistance= 1.1)\n",
        "ax.set_title(\"Participación por nivel de ventas\", fontsize = 22)\n"
      ],
      "metadata": {
        "colab": {
          "base_uri": "https://localhost:8080/",
          "height": 407
        },
        "id": "LFh40RQdEYRR",
        "outputId": "ea0b6e82-7cbb-43a5-8625-d1c52bb0b4f3"
      },
      "execution_count": 383,
      "outputs": [
        {
          "output_type": "execute_result",
          "data": {
            "text/plain": [
              "Text(0.5, 1.0, 'Participación por nivel de ventas')"
            ]
          },
          "metadata": {},
          "execution_count": 383
        },
        {
          "output_type": "display_data",
          "data": {
            "text/plain": [
              "<Figure size 432x576 with 1 Axes>"
            ],
            "image/png": "[encoded data removed]"
          },
          "metadata": {}
        }
      ]
    },
    {
      "cell_type": "markdown",
      "source": [
        "De la gráfica de participación del número de tiendas por tamaño, el 60% de las mismas son de tamaño mediano y el 30% son pequeñas."
      ],
      "metadata": {
        "id": "ayvcE_cCEvG7"
      }
    },
    {
      "cell_type": "markdown",
      "source": [
        "# Tienda por nivel de facturación"
      ],
      "metadata": {
        "id": "LhHHQip3FC3p"
      }
    },
    {
      "cell_type": "code",
      "source": [
        "p_1 = dt1.groupby([\"Outlet_Identifier\",\"Outlet_Size\"])[\"Item_Outlet_Sales\"].sum()\n",
        "p_2 = pd.DataFrame(p_1.sort_values(ascending=False))\n",
        "p_2[\"Part(%)\"] = p_2.iloc[:,[0]]/p_2.iloc[:,[0]].sum()*100\n",
        "p_3 = p_2.head()\n",
        "p_3 = p_3.reset_index(drop=False)\n",
        "g_1 = p_3[\"Part(%)\"].sum()\n",
        "p_3[\"Item_Outlet_Sales\"] = p_3[\"Item_Outlet_Sales\"].apply(lambda x: \"{:,.2f}\".format(x))\n",
        "print(f\"{p_3}\\n\\nEntre las 5 primeras tiendas dentro del ranking, estas concentra el {round(g_1,2)}% del total de las ventas. Es importante indicar que dentro del top 5 de ventas se encuentra una tienda de tamaño pequeño en segundo puesto.\")"
      ],
      "metadata": {
        "colab": {
          "base_uri": "https://localhost:8080/"
        },
        "id": "dhpw223BE6RZ",
        "outputId": "74c691eb-e888-4dc3-b444-01a668b5235f"
      },
      "execution_count": 384,
      "outputs": [
        {
          "output_type": "stream",
          "name": "stdout",
          "text": [
            "  Outlet_Identifier Outlet_Size Item_Outlet_Sales    Part(%)\n",
            "0            OUT027      Medium      3,453,926.05  18.578359\n",
            "1            OUT035       Small      2,268,122.94  12.200030\n",
            "2            OUT049      Medium      2,183,969.81  11.747378\n",
            "3            OUT017      Medium      2,167,465.29  11.658602\n",
            "4            OUT013        High      2,142,663.58  11.525196\n",
            "\n",
            "Entre las 5 primeras tiendas dentro del ranking, estas concentra el 65.71% del total de las ventas. Es importante indicar que dentro del top 5 de ventas se encuentra una tienda de tamaño pequeño en segundo puesto.\n"
          ]
        }
      ]
    },
    {
      "cell_type": "markdown",
      "source": [
        "# Gráfica de para el nivel de ventas por tienda"
      ],
      "metadata": {
        "id": "Eajzx_D2GKh0"
      }
    },
    {
      "cell_type": "code",
      "source": [
        "p_1 = dt1.groupby([\"Outlet_Identifier\"])[\"Item_Outlet_Sales\"].sum()\n",
        "p_2 = pd.DataFrame(p_1.sort_values(ascending=False))\n",
        "p_2 = p_2.reset_index(drop=False)\n",
        "p_2\n",
        "\n",
        "tienda = np.array(p_2[\"Outlet_Identifier\"])\n",
        "ventas = np.array(p_2[\"Item_Outlet_Sales\"])\n",
        "\n",
        "plt.bar(tienda, ventas, edgecolor = \"black\")\n",
        "plt.title(\"Volumen de ventas en millones por tienda\", fontsize=16)\n",
        "plt.xlabel('Tiendas')\n",
        "plt.ylabel('Ventas (en millones de dólares)')\n",
        "plt.xticks(rotation = 45)\n",
        "\n",
        "for i, valor in enumerate(ventas):\n",
        "    plt.text(i, valor+0.5, round(valor/1000000,2), ha='center', fontsize = 13)"
      ],
      "metadata": {
        "colab": {
          "base_uri": "https://localhost:8080/",
          "height": 342
        },
        "id": "BkHzbj6_GKOt",
        "outputId": "8dd17738-e8b9-4858-f3a8-781089a42e95"
      },
      "execution_count": 385,
      "outputs": [
        {
          "output_type": "display_data",
          "data": {
            "text/plain": [
              "<Figure size 432x288 with 1 Axes>"
            ],
            "image/png": "[encoded data removed]"
          },
          "metadata": {}
        }
      ]
    },
    {
      "cell_type": "markdown",
      "source": [
        "# Tienda por portafolio del tipo de producto"
      ],
      "metadata": {
        "id": "ozZW-RKRK0OY"
      }
    },
    {
      "cell_type": "code",
      "source": [
        "p_1 = dt1.groupby([\"Outlet_Identifier\",\"Item_Type\"])[\"Item_Outlet_Sales\"].sum()\n",
        "p_2 = pd.DataFrame(p_1.sort_values(ascending=False))\n",
        "p_2 = p_2.reset_index(drop=False)\n",
        "p_2\n",
        "\n",
        "a_1 = p_2.groupby([\"Outlet_Identifier\"])[\"Item_Outlet_Sales\"].sum()\n",
        "a_1 = a_1.reset_index(drop=False)\n",
        "a_1.rename(columns={\n",
        "    \n",
        "    \"Item_Outlet_Sales\":\"Ventas_totales\"\n",
        "}, inplace=True)\n",
        "\n",
        "p_3 = pd.merge(left=p_2, right=a_1, left_on=\"Outlet_Identifier\", right_on=\"Outlet_Identifier\") \n",
        "p_3[\"Part_por_produc\"] = p_3[\"Item_Outlet_Sales\"]/p_3[\"Ventas_totales\"]*100\n",
        "p_4 = p_3[p_3[\"Outlet_Identifier\"]==\"OUT027\"]\n",
        "p_4"
      ],
      "metadata": {
        "colab": {
          "base_uri": "https://localhost:8080/",
          "height": 551
        },
        "id": "HNsujZY4K5lI",
        "outputId": "1b6c1abf-2faa-4fdb-b762-31c372f5cda8"
      },
      "execution_count": 386,
      "outputs": [
        {
          "output_type": "execute_result",
          "data": {
            "text/plain": [
              "   Outlet_Identifier              Item_Type  Item_Outlet_Sales  \\\n",
              "0             OUT027  Fruits and Vegetables        576028.1886   \n",
              "1             OUT027            Snack Foods        513088.1172   \n",
              "2             OUT027              Household        378299.5704   \n",
              "3             OUT027           Frozen Foods        316272.3108   \n",
              "4             OUT027                 Canned        272150.4106   \n",
              "5             OUT027                  Dairy        262317.2104   \n",
              "6             OUT027           Baking Goods        224172.1968   \n",
              "7             OUT027                   Meat        216288.4590   \n",
              "8             OUT027     Health and Hygiene        199084.1870   \n",
              "9             OUT027            Soft Drinks        147822.2476   \n",
              "10            OUT027                 Breads        110518.8052   \n",
              "11            OUT027            Hard Drinks         78957.8878   \n",
              "12            OUT027              Breakfast         50432.3526   \n",
              "13            OUT027          Starchy Foods         49170.6616   \n",
              "14            OUT027                 Others         40513.9300   \n",
              "15            OUT027                Seafood         18809.5158   \n",
              "\n",
              "    Ventas_totales  Part_por_produc  \n",
              "0     3.453926e+06        16.677490  \n",
              "1     3.453926e+06        14.855214  \n",
              "2     3.453926e+06        10.952741  \n",
              "3     3.453926e+06         9.156893  \n",
              "4     3.453926e+06         7.879451  \n",
              "5     3.453926e+06         7.594755  \n",
              "6     3.453926e+06         6.490359  \n",
              "7     3.453926e+06         6.262105  \n",
              "8     3.453926e+06         5.763997  \n",
              "9     3.453926e+06         4.279832  \n",
              "10    3.453926e+06         3.199802  \n",
              "11    3.453926e+06         2.286033  \n",
              "12    3.453926e+06         1.460146  \n",
              "13    3.453926e+06         1.423617  \n",
              "14    3.453926e+06         1.172982  \n",
              "15    3.453926e+06         0.544584  "
            ],
            "text/html": [
              "\n",
              "  <div id=\"df-8cbf821c-a991-48c2-a2d7-a06eca5bf30d\">\n",
              "    <div class=\"colab-df-container\">\n",
              "      <div>\n",
              "<style scoped>\n",
              "    .dataframe tbody tr th:only-of-type {\n",
              "        vertical-align: middle;\n",
              "    }\n",
              "\n",
              "    .dataframe tbody tr th {\n",
              "        vertical-align: top;\n",
              "    }\n",
              "\n",
              "    .dataframe thead th {\n",
              "        text-align: right;\n",
              "    }\n",
              "</style>\n",
              "<table border=\"1\" class=\"dataframe\">\n",
              "  <thead>\n",
              "    <tr style=\"text-align: right;\">\n",
              "      <th></th>\n",
              "      <th>Outlet_Identifier</th>\n",
              "      <th>Item_Type</th>\n",
              "      <th>Item_Outlet_Sales</th>\n",
              "      <th>Ventas_totales</th>\n",
              "      <th>Part_por_produc</th>\n",
              "    </tr>\n",
              "  </thead>\n",
              "  <tbody>\n",
              "    <tr>\n",
              "      <th>0</th>\n",
              "      <td>OUT027</td>\n",
              "      <td>Fruits and Vegetables</td>\n",
              "      <td>576028.1886</td>\n",
              "      <td>3.453926e+06</td>\n",
              "      <td>16.677490</td>\n",
              "    </tr>\n",
              "    <tr>\n",
              "      <th>1</th>\n",
              "      <td>OUT027</td>\n",
              "      <td>Snack Foods</td>\n",
              "      <td>513088.1172</td>\n",
              "      <td>3.453926e+06</td>\n",
              "      <td>14.855214</td>\n",
              "    </tr>\n",
              "    <tr>\n",
              "      <th>2</th>\n",
              "      <td>OUT027</td>\n",
              "      <td>Household</td>\n",
              "      <td>378299.5704</td>\n",
              "      <td>3.453926e+06</td>\n",
              "      <td>10.952741</td>\n",
              "    </tr>\n",
              "    <tr>\n",
              "      <th>3</th>\n",
              "      <td>OUT027</td>\n",
              "      <td>Frozen Foods</td>\n",
              "      <td>316272.3108</td>\n",
              "      <td>3.453926e+06</td>\n",
              "      <td>9.156893</td>\n",
              "    </tr>\n",
              "    <tr>\n",
              "      <th>4</th>\n",
              "      <td>OUT027</td>\n",
              "      <td>Canned</td>\n",
              "      <td>272150.4106</td>\n",
              "      <td>3.453926e+06</td>\n",
              "      <td>7.879451</td>\n",
              "    </tr>\n",
              "    <tr>\n",
              "      <th>5</th>\n",
              "      <td>OUT027</td>\n",
              "      <td>Dairy</td>\n",
              "      <td>262317.2104</td>\n",
              "      <td>3.453926e+06</td>\n",
              "      <td>7.594755</td>\n",
              "    </tr>\n",
              "    <tr>\n",
              "      <th>6</th>\n",
              "      <td>OUT027</td>\n",
              "      <td>Baking Goods</td>\n",
              "      <td>224172.1968</td>\n",
              "      <td>3.453926e+06</td>\n",
              "      <td>6.490359</td>\n",
              "    </tr>\n",
              "    <tr>\n",
              "      <th>7</th>\n",
              "      <td>OUT027</td>\n",
              "      <td>Meat</td>\n",
              "      <td>216288.4590</td>\n",
              "      <td>3.453926e+06</td>\n",
              "      <td>6.262105</td>\n",
              "    </tr>\n",
              "    <tr>\n",
              "      <th>8</th>\n",
              "      <td>OUT027</td>\n",
              "      <td>Health and Hygiene</td>\n",
              "      <td>199084.1870</td>\n",
              "      <td>3.453926e+06</td>\n",
              "      <td>5.763997</td>\n",
              "    </tr>\n",
              "    <tr>\n",
              "      <th>9</th>\n",
              "      <td>OUT027</td>\n",
              "      <td>Soft Drinks</td>\n",
              "      <td>147822.2476</td>\n",
              "      <td>3.453926e+06</td>\n",
              "      <td>4.279832</td>\n",
              "    </tr>\n",
              "    <tr>\n",
              "      <th>10</th>\n",
              "      <td>OUT027</td>\n",
              "      <td>Breads</td>\n",
              "      <td>110518.8052</td>\n",
              "      <td>3.453926e+06</td>\n",
              "      <td>3.199802</td>\n",
              "    </tr>\n",
              "    <tr>\n",
              "      <th>11</th>\n",
              "      <td>OUT027</td>\n",
              "      <td>Hard Drinks</td>\n",
              "      <td>78957.8878</td>\n",
              "      <td>3.453926e+06</td>\n",
              "      <td>2.286033</td>\n",
              "    </tr>\n",
              "    <tr>\n",
              "      <th>12</th>\n",
              "      <td>OUT027</td>\n",
              "      <td>Breakfast</td>\n",
              "      <td>50432.3526</td>\n",
              "      <td>3.453926e+06</td>\n",
              "      <td>1.460146</td>\n",
              "    </tr>\n",
              "    <tr>\n",
              "      <th>13</th>\n",
              "      <td>OUT027</td>\n",
              "      <td>Starchy Foods</td>\n",
              "      <td>49170.6616</td>\n",
              "      <td>3.453926e+06</td>\n",
              "      <td>1.423617</td>\n",
              "    </tr>\n",
              "    <tr>\n",
              "      <th>14</th>\n",
              "      <td>OUT027</td>\n",
              "      <td>Others</td>\n",
              "      <td>40513.9300</td>\n",
              "      <td>3.453926e+06</td>\n",
              "      <td>1.172982</td>\n",
              "    </tr>\n",
              "    <tr>\n",
              "      <th>15</th>\n",
              "      <td>OUT027</td>\n",
              "      <td>Seafood</td>\n",
              "      <td>18809.5158</td>\n",
              "      <td>3.453926e+06</td>\n",
              "      <td>0.544584</td>\n",
              "    </tr>\n",
              "  </tbody>\n",
              "</table>\n",
              "</div>\n",
              "      <button class=\"colab-df-convert\" onclick=\"convertToInteractive('df-8cbf821c-a991-48c2-a2d7-a06eca5bf30d')\"\n",
              "              title=\"Convert this dataframe to an interactive table.\"\n",
              "              style=\"display:none;\">\n",
              "        \n",
              "  <svg xmlns=\"http://www.w3.org/2000/svg\" height=\"24px\"viewBox=\"0 0 24 24\"\n",
              "       width=\"24px\">\n",
              "    <path d=\"M0 0h24v24H0V0z\" fill=\"none\"/>\n",
              "    <path d=\"M18.56 5.44l.94 2.06.94-2.06 2.06-.94-2.06-.94-.94-2.06-.94 2.06-2.06.94zm-11 1L8.5 8.5l.94-2.06 2.06-.94-2.06-.94L8.5 2.5l-.94 2.06-2.06.94zm10 10l.94 2.06.94-2.06 2.06-.94-2.06-.94-.94-2.06-.94 2.06-2.06.94z\"/><path d=\"M17.41 7.96l-1.37-1.37c-.4-.4-.92-.59-1.43-.59-.52 0-1.04.2-1.43.59L10.3 9.45l-7.72 7.72c-.78.78-.78 2.05 0 2.83L4 21.41c.39.39.9.59 1.41.59.51 0 1.02-.2 1.41-.59l7.78-7.78 2.81-2.81c.8-.78.8-2.07 0-2.86zM5.41 20L4 18.59l7.72-7.72 1.47 1.35L5.41 20z\"/>\n",
              "  </svg>\n",
              "      </button>\n",
              "      \n",
              "  <style>\n",
              "    .colab-df-container {\n",
              "      display:flex;\n",
              "      flex-wrap:wrap;\n",
              "      gap: 12px;\n",
              "    }\n",
              "\n",
              "    .colab-df-convert {\n",
              "      background-color: #E8F0FE;\n",
              "      border: none;\n",
              "      border-radius: 50%;\n",
              "      cursor: pointer;\n",
              "      display: none;\n",
              "      fill: #1967D2;\n",
              "      height: 32px;\n",
              "      padding: 0 0 0 0;\n",
              "      width: 32px;\n",
              "    }\n",
              "\n",
              "    .colab-df-convert:hover {\n",
              "      background-color: #E2EBFA;\n",
              "      box-shadow: 0px 1px 2px rgba(60, 64, 67, 0.3), 0px 1px 3px 1px rgba(60, 64, 67, 0.15);\n",
              "      fill: #174EA6;\n",
              "    }\n",
              "\n",
              "    [theme=dark] .colab-df-convert {\n",
              "      background-color: #3B4455;\n",
              "      fill: #D2E3FC;\n",
              "    }\n",
              "\n",
              "    [theme=dark] .colab-df-convert:hover {\n",
              "      background-color: #434B5C;\n",
              "      box-shadow: 0px 1px 3px 1px rgba(0, 0, 0, 0.15);\n",
              "      filter: drop-shadow(0px 1px 2px rgba(0, 0, 0, 0.3));\n",
              "      fill: #FFFFFF;\n",
              "    }\n",
              "  </style>\n",
              "\n",
              "      <script>\n",
              "        const buttonEl =\n",
              "          document.querySelector('#df-8cbf821c-a991-48c2-a2d7-a06eca5bf30d button.colab-df-convert');\n",
              "        buttonEl.style.display =\n",
              "          google.colab.kernel.accessAllowed ? 'block' : 'none';\n",
              "\n",
              "        async function convertToInteractive(key) {\n",
              "          const element = document.querySelector('#df-8cbf821c-a991-48c2-a2d7-a06eca5bf30d');\n",
              "          const dataTable =\n",
              "            await google.colab.kernel.invokeFunction('convertToInteractive',\n",
              "                                                     [key], {});\n",
              "          if (!dataTable) return;\n",
              "\n",
              "          const docLinkHtml = 'Like what you see? Visit the ' +\n",
              "            '<a target=\"_blank\" href=https://colab.research.google.com/notebooks/data_table.ipynb>data table notebook</a>'\n",
              "            + ' to learn more about interactive tables.';\n",
              "          element.innerHTML = '';\n",
              "          dataTable['output_type'] = 'display_data';\n",
              "          await google.colab.output.renderOutput(dataTable, element);\n",
              "          const docLink = document.createElement('div');\n",
              "          docLink.innerHTML = docLinkHtml;\n",
              "          element.appendChild(docLink);\n",
              "        }\n",
              "      </script>\n",
              "    </div>\n",
              "  </div>\n",
              "  "
            ]
          },
          "metadata": {},
          "execution_count": 386
        }
      ]
    },
    {
      "cell_type": "code",
      "source": [
        "promedio = p_3.groupby([\"Item_Type\"])[\"Part_por_produc\"].mean()\n",
        "promedio = pd.DataFrame(promedio)\n",
        "promedio = promedio.reset_index(drop=False)\n",
        "promedio\n"
      ],
      "metadata": {
        "colab": {
          "base_uri": "https://localhost:8080/",
          "height": 551
        },
        "id": "ftd5jNWFQukn",
        "outputId": "84dea9e3-4d81-4713-aec5-9180c6a5ba53"
      },
      "execution_count": 387,
      "outputs": [
        {
          "output_type": "execute_result",
          "data": {
            "text/plain": [
              "                Item_Type  Part_por_produc\n",
              "0            Baking Goods         6.827039\n",
              "1                  Breads         3.041375\n",
              "2               Breakfast         1.394940\n",
              "3                  Canned         7.634327\n",
              "4                   Dairy         8.290544\n",
              "5            Frozen Foods         9.710655\n",
              "6   Fruits and Vegetables        14.719377\n",
              "7             Hard Drinks         2.314677\n",
              "8      Health and Hygiene         5.805652\n",
              "9               Household        11.191497\n",
              "10                   Meat         5.220566\n",
              "11                 Others         1.858799\n",
              "12                Seafood         0.791836\n",
              "13            Snack Foods        14.558988\n",
              "14            Soft Drinks         4.880234\n",
              "15          Starchy Foods         1.759495"
            ],
            "text/html": [
              "\n",
              "  <div id=\"df-1b8911e4-670e-4b50-b7f3-8792387c9891\">\n",
              "    <div class=\"colab-df-container\">\n",
              "      <div>\n",
              "<style scoped>\n",
              "    .dataframe tbody tr th:only-of-type {\n",
              "        vertical-align: middle;\n",
              "    }\n",
              "\n",
              "    .dataframe tbody tr th {\n",
              "        vertical-align: top;\n",
              "    }\n",
              "\n",
              "    .dataframe thead th {\n",
              "        text-align: right;\n",
              "    }\n",
              "</style>\n",
              "<table border=\"1\" class=\"dataframe\">\n",
              "  <thead>\n",
              "    <tr style=\"text-align: right;\">\n",
              "      <th></th>\n",
              "      <th>Item_Type</th>\n",
              "      <th>Part_por_produc</th>\n",
              "    </tr>\n",
              "  </thead>\n",
              "  <tbody>\n",
              "    <tr>\n",
              "      <th>0</th>\n",
              "      <td>Baking Goods</td>\n",
              "      <td>6.827039</td>\n",
              "    </tr>\n",
              "    <tr>\n",
              "      <th>1</th>\n",
              "      <td>Breads</td>\n",
              "      <td>3.041375</td>\n",
              "    </tr>\n",
              "    <tr>\n",
              "      <th>2</th>\n",
              "      <td>Breakfast</td>\n",
              "      <td>1.394940</td>\n",
              "    </tr>\n",
              "    <tr>\n",
              "      <th>3</th>\n",
              "      <td>Canned</td>\n",
              "      <td>7.634327</td>\n",
              "    </tr>\n",
              "    <tr>\n",
              "      <th>4</th>\n",
              "      <td>Dairy</td>\n",
              "      <td>8.290544</td>\n",
              "    </tr>\n",
              "    <tr>\n",
              "      <th>5</th>\n",
              "      <td>Frozen Foods</td>\n",
              "      <td>9.710655</td>\n",
              "    </tr>\n",
              "    <tr>\n",
              "      <th>6</th>\n",
              "      <td>Fruits and Vegetables</td>\n",
              "      <td>14.719377</td>\n",
              "    </tr>\n",
              "    <tr>\n",
              "      <th>7</th>\n",
              "      <td>Hard Drinks</td>\n",
              "      <td>2.314677</td>\n",
              "    </tr>\n",
              "    <tr>\n",
              "      <th>8</th>\n",
              "      <td>Health and Hygiene</td>\n",
              "      <td>5.805652</td>\n",
              "    </tr>\n",
              "    <tr>\n",
              "      <th>9</th>\n",
              "      <td>Household</td>\n",
              "      <td>11.191497</td>\n",
              "    </tr>\n",
              "    <tr>\n",
              "      <th>10</th>\n",
              "      <td>Meat</td>\n",
              "      <td>5.220566</td>\n",
              "    </tr>\n",
              "    <tr>\n",
              "      <th>11</th>\n",
              "      <td>Others</td>\n",
              "      <td>1.858799</td>\n",
              "    </tr>\n",
              "    <tr>\n",
              "      <th>12</th>\n",
              "      <td>Seafood</td>\n",
              "      <td>0.791836</td>\n",
              "    </tr>\n",
              "    <tr>\n",
              "      <th>13</th>\n",
              "      <td>Snack Foods</td>\n",
              "      <td>14.558988</td>\n",
              "    </tr>\n",
              "    <tr>\n",
              "      <th>14</th>\n",
              "      <td>Soft Drinks</td>\n",
              "      <td>4.880234</td>\n",
              "    </tr>\n",
              "    <tr>\n",
              "      <th>15</th>\n",
              "      <td>Starchy Foods</td>\n",
              "      <td>1.759495</td>\n",
              "    </tr>\n",
              "  </tbody>\n",
              "</table>\n",
              "</div>\n",
              "      <button class=\"colab-df-convert\" onclick=\"convertToInteractive('df-1b8911e4-670e-4b50-b7f3-8792387c9891')\"\n",
              "              title=\"Convert this dataframe to an interactive table.\"\n",
              "              style=\"display:none;\">\n",
              "        \n",
              "  <svg xmlns=\"http://www.w3.org/2000/svg\" height=\"24px\"viewBox=\"0 0 24 24\"\n",
              "       width=\"24px\">\n",
              "    <path d=\"M0 0h24v24H0V0z\" fill=\"none\"/>\n",
              "    <path d=\"M18.56 5.44l.94 2.06.94-2.06 2.06-.94-2.06-.94-.94-2.06-.94 2.06-2.06.94zm-11 1L8.5 8.5l.94-2.06 2.06-.94-2.06-.94L8.5 2.5l-.94 2.06-2.06.94zm10 10l.94 2.06.94-2.06 2.06-.94-2.06-.94-.94-2.06-.94 2.06-2.06.94z\"/><path d=\"M17.41 7.96l-1.37-1.37c-.4-.4-.92-.59-1.43-.59-.52 0-1.04.2-1.43.59L10.3 9.45l-7.72 7.72c-.78.78-.78 2.05 0 2.83L4 21.41c.39.39.9.59 1.41.59.51 0 1.02-.2 1.41-.59l7.78-7.78 2.81-2.81c.8-.78.8-2.07 0-2.86zM5.41 20L4 18.59l7.72-7.72 1.47 1.35L5.41 20z\"/>\n",
              "  </svg>\n",
              "      </button>\n",
              "      \n",
              "  <style>\n",
              "    .colab-df-container {\n",
              "      display:flex;\n",
              "      flex-wrap:wrap;\n",
              "      gap: 12px;\n",
              "    }\n",
              "\n",
              "    .colab-df-convert {\n",
              "      background-color: #E8F0FE;\n",
              "      border: none;\n",
              "      border-radius: 50%;\n",
              "      cursor: pointer;\n",
              "      display: none;\n",
              "      fill: #1967D2;\n",
              "      height: 32px;\n",
              "      padding: 0 0 0 0;\n",
              "      width: 32px;\n",
              "    }\n",
              "\n",
              "    .colab-df-convert:hover {\n",
              "      background-color: #E2EBFA;\n",
              "      box-shadow: 0px 1px 2px rgba(60, 64, 67, 0.3), 0px 1px 3px 1px rgba(60, 64, 67, 0.15);\n",
              "      fill: #174EA6;\n",
              "    }\n",
              "\n",
              "    [theme=dark] .colab-df-convert {\n",
              "      background-color: #3B4455;\n",
              "      fill: #D2E3FC;\n",
              "    }\n",
              "\n",
              "    [theme=dark] .colab-df-convert:hover {\n",
              "      background-color: #434B5C;\n",
              "      box-shadow: 0px 1px 3px 1px rgba(0, 0, 0, 0.15);\n",
              "      filter: drop-shadow(0px 1px 2px rgba(0, 0, 0, 0.3));\n",
              "      fill: #FFFFFF;\n",
              "    }\n",
              "  </style>\n",
              "\n",
              "      <script>\n",
              "        const buttonEl =\n",
              "          document.querySelector('#df-1b8911e4-670e-4b50-b7f3-8792387c9891 button.colab-df-convert');\n",
              "        buttonEl.style.display =\n",
              "          google.colab.kernel.accessAllowed ? 'block' : 'none';\n",
              "\n",
              "        async function convertToInteractive(key) {\n",
              "          const element = document.querySelector('#df-1b8911e4-670e-4b50-b7f3-8792387c9891');\n",
              "          const dataTable =\n",
              "            await google.colab.kernel.invokeFunction('convertToInteractive',\n",
              "                                                     [key], {});\n",
              "          if (!dataTable) return;\n",
              "\n",
              "          const docLinkHtml = 'Like what you see? Visit the ' +\n",
              "            '<a target=\"_blank\" href=https://colab.research.google.com/notebooks/data_table.ipynb>data table notebook</a>'\n",
              "            + ' to learn more about interactive tables.';\n",
              "          element.innerHTML = '';\n",
              "          dataTable['output_type'] = 'display_data';\n",
              "          await google.colab.output.renderOutput(dataTable, element);\n",
              "          const docLink = document.createElement('div');\n",
              "          docLink.innerHTML = docLinkHtml;\n",
              "          element.appendChild(docLink);\n",
              "        }\n",
              "      </script>\n",
              "    </div>\n",
              "  </div>\n",
              "  "
            ]
          },
          "metadata": {},
          "execution_count": 387
        }
      ]
    },
    {
      "cell_type": "code",
      "source": [
        "x_list = [\"Outlet_Identifier\",\"Item_Type\",\"Part_por_produc\"]\n",
        "f_1 = p_3.groupby(\"Outlet_Identifier\")[x_list].head(5)\n",
        "p_3_top5 = f_1.pivot(index=\"Item_Type\", columns=\"Outlet_Identifier\", values=\"Part_por_produc\")\n",
        "p_3_top5 = p_3_top5.sort_values(by=[\"Item_Type\"], ascending=False)\n",
        "p_3_top5 = p_3_top5.reset_index(drop=False)\n",
        "p_3_top5\n",
        "base = pd.merge(left=p_3_top5, right=promedio, left_on=\"Item_Type\", right_on=\"Item_Type\")\n",
        "\n",
        "base"
      ],
      "metadata": {
        "colab": {
          "base_uri": "https://localhost:8080/",
          "height": 237
        },
        "id": "mCMeiOp2ON6n",
        "outputId": "58669e8d-a9e7-41c8-9f96-e963885593e9"
      },
      "execution_count": 388,
      "outputs": [
        {
          "output_type": "execute_result",
          "data": {
            "text/plain": [
              "               Item_Type     OUT010     OUT013     OUT017     OUT018  \\\n",
              "0            Snack Foods  13.774489  14.432789  14.351837  15.050821   \n",
              "1              Household  13.565919  11.576547  10.266662  10.598594   \n",
              "2  Fruits and Vegetables  13.033887  15.939356  14.740910  14.227695   \n",
              "3           Frozen Foods   9.526722   9.506712  11.042719   9.914502   \n",
              "4                  Dairy   8.127532   9.159372   8.579389   8.215183   \n",
              "5                 Canned        NaN        NaN        NaN        NaN   \n",
              "\n",
              "      OUT019     OUT027     OUT035     OUT045     OUT046     OUT049  \\\n",
              "0  14.276081  14.855214  15.677008  14.161876  12.972726  16.037039   \n",
              "1  10.104412  10.952741  11.897624  10.922259  10.362573  11.667636   \n",
              "2  13.386095  16.677490  13.431699  16.026433  14.385952  15.344250   \n",
              "3        NaN   9.156893   9.412516   8.691414  11.482122   9.884736   \n",
              "4   8.984334        NaN        NaN        NaN   8.265035   8.227256   \n",
              "5   9.315578   7.879451   8.617005   8.558236        NaN        NaN   \n",
              "\n",
              "   Part_por_produc  \n",
              "0        14.558988  \n",
              "1        11.191497  \n",
              "2        14.719377  \n",
              "3         9.710655  \n",
              "4         8.290544  \n",
              "5         7.634327  "
            ],
            "text/html": [
              "\n",
              "  <div id=\"df-dd25d093-8c3b-462c-b680-f5ec84293667\">\n",
              "    <div class=\"colab-df-container\">\n",
              "      <div>\n",
              "<style scoped>\n",
              "    .dataframe tbody tr th:only-of-type {\n",
              "        vertical-align: middle;\n",
              "    }\n",
              "\n",
              "    .dataframe tbody tr th {\n",
              "        vertical-align: top;\n",
              "    }\n",
              "\n",
              "    .dataframe thead th {\n",
              "        text-align: right;\n",
              "    }\n",
              "</style>\n",
              "<table border=\"1\" class=\"dataframe\">\n",
              "  <thead>\n",
              "    <tr style=\"text-align: right;\">\n",
              "      <th></th>\n",
              "      <th>Item_Type</th>\n",
              "      <th>OUT010</th>\n",
              "      <th>OUT013</th>\n",
              "      <th>OUT017</th>\n",
              "      <th>OUT018</th>\n",
              "      <th>OUT019</th>\n",
              "      <th>OUT027</th>\n",
              "      <th>OUT035</th>\n",
              "      <th>OUT045</th>\n",
              "      <th>OUT046</th>\n",
              "      <th>OUT049</th>\n",
              "      <th>Part_por_produc</th>\n",
              "    </tr>\n",
              "  </thead>\n",
              "  <tbody>\n",
              "    <tr>\n",
              "      <th>0</th>\n",
              "      <td>Snack Foods</td>\n",
              "      <td>13.774489</td>\n",
              "      <td>14.432789</td>\n",
              "      <td>14.351837</td>\n",
              "      <td>15.050821</td>\n",
              "      <td>14.276081</td>\n",
              "      <td>14.855214</td>\n",
              "      <td>15.677008</td>\n",
              "      <td>14.161876</td>\n",
              "      <td>12.972726</td>\n",
              "      <td>16.037039</td>\n",
              "      <td>14.558988</td>\n",
              "    </tr>\n",
              "    <tr>\n",
              "      <th>1</th>\n",
              "      <td>Household</td>\n",
              "      <td>13.565919</td>\n",
              "      <td>11.576547</td>\n",
              "      <td>10.266662</td>\n",
              "      <td>10.598594</td>\n",
              "      <td>10.104412</td>\n",
              "      <td>10.952741</td>\n",
              "      <td>11.897624</td>\n",
              "      <td>10.922259</td>\n",
              "      <td>10.362573</td>\n",
              "      <td>11.667636</td>\n",
              "      <td>11.191497</td>\n",
              "    </tr>\n",
              "    <tr>\n",
              "      <th>2</th>\n",
              "      <td>Fruits and Vegetables</td>\n",
              "      <td>13.033887</td>\n",
              "      <td>15.939356</td>\n",
              "      <td>14.740910</td>\n",
              "      <td>14.227695</td>\n",
              "      <td>13.386095</td>\n",
              "      <td>16.677490</td>\n",
              "      <td>13.431699</td>\n",
              "      <td>16.026433</td>\n",
              "      <td>14.385952</td>\n",
              "      <td>15.344250</td>\n",
              "      <td>14.719377</td>\n",
              "    </tr>\n",
              "    <tr>\n",
              "      <th>3</th>\n",
              "      <td>Frozen Foods</td>\n",
              "      <td>9.526722</td>\n",
              "      <td>9.506712</td>\n",
              "      <td>11.042719</td>\n",
              "      <td>9.914502</td>\n",
              "      <td>NaN</td>\n",
              "      <td>9.156893</td>\n",
              "      <td>9.412516</td>\n",
              "      <td>8.691414</td>\n",
              "      <td>11.482122</td>\n",
              "      <td>9.884736</td>\n",
              "      <td>9.710655</td>\n",
              "    </tr>\n",
              "    <tr>\n",
              "      <th>4</th>\n",
              "      <td>Dairy</td>\n",
              "      <td>8.127532</td>\n",
              "      <td>9.159372</td>\n",
              "      <td>8.579389</td>\n",
              "      <td>8.215183</td>\n",
              "      <td>8.984334</td>\n",
              "      <td>NaN</td>\n",
              "      <td>NaN</td>\n",
              "      <td>NaN</td>\n",
              "      <td>8.265035</td>\n",
              "      <td>8.227256</td>\n",
              "      <td>8.290544</td>\n",
              "    </tr>\n",
              "    <tr>\n",
              "      <th>5</th>\n",
              "      <td>Canned</td>\n",
              "      <td>NaN</td>\n",
              "      <td>NaN</td>\n",
              "      <td>NaN</td>\n",
              "      <td>NaN</td>\n",
              "      <td>9.315578</td>\n",
              "      <td>7.879451</td>\n",
              "      <td>8.617005</td>\n",
              "      <td>8.558236</td>\n",
              "      <td>NaN</td>\n",
              "      <td>NaN</td>\n",
              "      <td>7.634327</td>\n",
              "    </tr>\n",
              "  </tbody>\n",
              "</table>\n",
              "</div>\n",
              "      <button class=\"colab-df-convert\" onclick=\"convertToInteractive('df-dd25d093-8c3b-462c-b680-f5ec84293667')\"\n",
              "              title=\"Convert this dataframe to an interactive table.\"\n",
              "              style=\"display:none;\">\n",
              "        \n",
              "  <svg xmlns=\"http://www.w3.org/2000/svg\" height=\"24px\"viewBox=\"0 0 24 24\"\n",
              "       width=\"24px\">\n",
              "    <path d=\"M0 0h24v24H0V0z\" fill=\"none\"/>\n",
              "    <path d=\"M18.56 5.44l.94 2.06.94-2.06 2.06-.94-2.06-.94-.94-2.06-.94 2.06-2.06.94zm-11 1L8.5 8.5l.94-2.06 2.06-.94-2.06-.94L8.5 2.5l-.94 2.06-2.06.94zm10 10l.94 2.06.94-2.06 2.06-.94-2.06-.94-.94-2.06-.94 2.06-2.06.94z\"/><path d=\"M17.41 7.96l-1.37-1.37c-.4-.4-.92-.59-1.43-.59-.52 0-1.04.2-1.43.59L10.3 9.45l-7.72 7.72c-.78.78-.78 2.05 0 2.83L4 21.41c.39.39.9.59 1.41.59.51 0 1.02-.2 1.41-.59l7.78-7.78 2.81-2.81c.8-.78.8-2.07 0-2.86zM5.41 20L4 18.59l7.72-7.72 1.47 1.35L5.41 20z\"/>\n",
              "  </svg>\n",
              "      </button>\n",
              "      \n",
              "  <style>\n",
              "    .colab-df-container {\n",
              "      display:flex;\n",
              "      flex-wrap:wrap;\n",
              "      gap: 12px;\n",
              "    }\n",
              "\n",
              "    .colab-df-convert {\n",
              "      background-color: #E8F0FE;\n",
              "      border: none;\n",
              "      border-radius: 50%;\n",
              "      cursor: pointer;\n",
              "      display: none;\n",
              "      fill: #1967D2;\n",
              "      height: 32px;\n",
              "      padding: 0 0 0 0;\n",
              "      width: 32px;\n",
              "    }\n",
              "\n",
              "    .colab-df-convert:hover {\n",
              "      background-color: #E2EBFA;\n",
              "      box-shadow: 0px 1px 2px rgba(60, 64, 67, 0.3), 0px 1px 3px 1px rgba(60, 64, 67, 0.15);\n",
              "      fill: #174EA6;\n",
              "    }\n",
              "\n",
              "    [theme=dark] .colab-df-convert {\n",
              "      background-color: #3B4455;\n",
              "      fill: #D2E3FC;\n",
              "    }\n",
              "\n",
              "    [theme=dark] .colab-df-convert:hover {\n",
              "      background-color: #434B5C;\n",
              "      box-shadow: 0px 1px 3px 1px rgba(0, 0, 0, 0.15);\n",
              "      filter: drop-shadow(0px 1px 2px rgba(0, 0, 0, 0.3));\n",
              "      fill: #FFFFFF;\n",
              "    }\n",
              "  </style>\n",
              "\n",
              "      <script>\n",
              "        const buttonEl =\n",
              "          document.querySelector('#df-dd25d093-8c3b-462c-b680-f5ec84293667 button.colab-df-convert');\n",
              "        buttonEl.style.display =\n",
              "          google.colab.kernel.accessAllowed ? 'block' : 'none';\n",
              "\n",
              "        async function convertToInteractive(key) {\n",
              "          const element = document.querySelector('#df-dd25d093-8c3b-462c-b680-f5ec84293667');\n",
              "          const dataTable =\n",
              "            await google.colab.kernel.invokeFunction('convertToInteractive',\n",
              "                                                     [key], {});\n",
              "          if (!dataTable) return;\n",
              "\n",
              "          const docLinkHtml = 'Like what you see? Visit the ' +\n",
              "            '<a target=\"_blank\" href=https://colab.research.google.com/notebooks/data_table.ipynb>data table notebook</a>'\n",
              "            + ' to learn more about interactive tables.';\n",
              "          element.innerHTML = '';\n",
              "          dataTable['output_type'] = 'display_data';\n",
              "          await google.colab.output.renderOutput(dataTable, element);\n",
              "          const docLink = document.createElement('div');\n",
              "          docLink.innerHTML = docLinkHtml;\n",
              "          element.appendChild(docLink);\n",
              "        }\n",
              "      </script>\n",
              "    </div>\n",
              "  </div>\n",
              "  "
            ]
          },
          "metadata": {},
          "execution_count": 388
        }
      ]
    },
    {
      "cell_type": "code",
      "source": [
        "print(f\"{base}\\n\\nSe puede observar que de todas las tiendas los tipos de productos más vendidos son los {base.iloc[0,0]} con una partición promedio en ventas del {round(base.iloc[0,11],2)}% dentro de las tiendas.\")"
      ],
      "metadata": {
        "colab": {
          "base_uri": "https://localhost:8080/"
        },
        "id": "8-9BXoqCQbWe",
        "outputId": "76f2555c-5d22-4e54-f66b-24fc3d86c89d"
      },
      "execution_count": 389,
      "outputs": [
        {
          "output_type": "stream",
          "name": "stdout",
          "text": [
            "               Item_Type     OUT010     OUT013     OUT017     OUT018  \\\n",
            "0            Snack Foods  13.774489  14.432789  14.351837  15.050821   \n",
            "1              Household  13.565919  11.576547  10.266662  10.598594   \n",
            "2  Fruits and Vegetables  13.033887  15.939356  14.740910  14.227695   \n",
            "3           Frozen Foods   9.526722   9.506712  11.042719   9.914502   \n",
            "4                  Dairy   8.127532   9.159372   8.579389   8.215183   \n",
            "5                 Canned        NaN        NaN        NaN        NaN   \n",
            "\n",
            "      OUT019     OUT027     OUT035     OUT045     OUT046     OUT049  \\\n",
            "0  14.276081  14.855214  15.677008  14.161876  12.972726  16.037039   \n",
            "1  10.104412  10.952741  11.897624  10.922259  10.362573  11.667636   \n",
            "2  13.386095  16.677490  13.431699  16.026433  14.385952  15.344250   \n",
            "3        NaN   9.156893   9.412516   8.691414  11.482122   9.884736   \n",
            "4   8.984334        NaN        NaN        NaN   8.265035   8.227256   \n",
            "5   9.315578   7.879451   8.617005   8.558236        NaN        NaN   \n",
            "\n",
            "   Part_por_produc  \n",
            "0        14.558988  \n",
            "1        11.191497  \n",
            "2        14.719377  \n",
            "3         9.710655  \n",
            "4         8.290544  \n",
            "5         7.634327  \n",
            "\n",
            "Se puede observar que de todas las tiendas los tipos de productos más vendidos son los Snack Foods con una partición promedio en ventas del 14.56% dentro de las tiendas.\n"
          ]
        }
      ]
    },
    {
      "cell_type": "markdown",
      "source": [
        "Se puede observar que de todas las tiendas los tipos de productos más vendidos son los \"Snack Foods\""
      ],
      "metadata": {
        "id": "zLdoIYBzQDdU"
      }
    },
    {
      "cell_type": "markdown",
      "source": [
        "# Preparamiento de la base para ML"
      ],
      "metadata": {
        "id": "S-Q7qen_pt5S"
      }
    },
    {
      "cell_type": "code",
      "source": [
        "from sklearn.preprocessing import StandardScaler, OneHotEncoder\n",
        "from sklearn.impute import SimpleImputer\n",
        "from sklearn.compose import make_column_transformer, make_column_selector\n",
        "from sklearn.pipeline import make_pipeline\n",
        "from sklearn.model_selection import train_test_split\n",
        "from sklearn import set_config\n",
        "set_config(display='diagram')"
      ],
      "metadata": {
        "id": "K6zn4z3CpsIp"
      },
      "execution_count": 390,
      "outputs": []
    },
    {
      "cell_type": "code",
      "source": [
        "# Identificación de la variable dependiente y varaibles explicativas\n",
        "\n",
        "y = dt1[\"Item_Outlet_Sales\"]\n",
        "\n",
        "X = dt1.drop(columns=\"Item_Outlet_Sales\", axis =1)\n",
        "\n",
        "X_train, X_test, y_train, y_test = train_test_split(X,y,random_state=42, train_size= 0.75)"
      ],
      "metadata": {
        "id": "mUQSfmy4p662"
      },
      "execution_count": 391,
      "outputs": []
    },
    {
      "cell_type": "code",
      "source": [
        "print(X_train.shape)\n",
        "print(X_test.shape)"
      ],
      "metadata": {
        "colab": {
          "base_uri": "https://localhost:8080/"
        },
        "id": "4MM-27XXTUYN",
        "outputId": "68edf40d-d62f-47a4-a11a-9ee1b2862f66"
      },
      "execution_count": 392,
      "outputs": [
        {
          "output_type": "stream",
          "name": "stdout",
          "text": [
            "(6392, 11)\n",
            "(2131, 11)\n"
          ]
        }
      ]
    },
    {
      "cell_type": "markdown",
      "source": [
        "# Crear un pipeline para el pre procesamiento"
      ],
      "metadata": {
        "id": "qvmNTXNkqo31"
      }
    },
    {
      "cell_type": "code",
      "source": [
        "dt1.info()"
      ],
      "metadata": {
        "colab": {
          "base_uri": "https://localhost:8080/"
        },
        "id": "iPW_87J0qvt_",
        "outputId": "69a27a7a-02e4-428c-f089-318dd0a22ad4"
      },
      "execution_count": 393,
      "outputs": [
        {
          "output_type": "stream",
          "name": "stdout",
          "text": [
            "<class 'pandas.core.frame.DataFrame'>\n",
            "RangeIndex: 8523 entries, 0 to 8522\n",
            "Data columns (total 12 columns):\n",
            " #   Column                     Non-Null Count  Dtype  \n",
            "---  ------                     --------------  -----  \n",
            " 0   Item_Identifier            8523 non-null   object \n",
            " 1   Item_Weight                8523 non-null   float64\n",
            " 2   Item_Fat_Content           8523 non-null   object \n",
            " 3   Item_Visibility            8523 non-null   float64\n",
            " 4   Item_Type                  8523 non-null   object \n",
            " 5   Item_MRP                   8523 non-null   float64\n",
            " 6   Outlet_Identifier          8523 non-null   object \n",
            " 7   Outlet_Establishment_Year  8523 non-null   int64  \n",
            " 8   Outlet_Size                8523 non-null   object \n",
            " 9   Outlet_Location_Type       8523 non-null   object \n",
            " 10  Outlet_Type                8523 non-null   object \n",
            " 11  Item_Outlet_Sales          8523 non-null   float64\n",
            "dtypes: float64(4), int64(1), object(7)\n",
            "memory usage: 799.2+ KB\n"
          ]
        }
      ]
    },
    {
      "cell_type": "code",
      "source": [
        "# Primero configuramos los seleccionadores\n",
        "\n",
        "cat_selector = make_column_selector(dtype_include='object')\n",
        "num_selector = make_column_selector(dtype_include='number')"
      ],
      "metadata": {
        "id": "fGsEg5npq5-n"
      },
      "execution_count": 394,
      "outputs": []
    },
    {
      "cell_type": "markdown",
      "source": [
        "Dado que mi base de datos ya ha sido tratada en el sentido de imputar datos vacíos, eliminación de datos duplicados, en esta fase del preprocesamiento se trabajará con la estadarización de variables numéricas y One hot encoder para las variables categoricas."
      ],
      "metadata": {
        "id": "znXeacfJrK8N"
      }
    },
    {
      "cell_type": "code",
      "source": [
        "# Scaler\n",
        "scaler = StandardScaler()\n",
        "# One-hot encoder\n",
        "ohe = OneHotEncoder(handle_unknown='ignore', sparse_output=False)"
      ],
      "metadata": {
        "id": "3Bt6UegVrkH9"
      },
      "execution_count": 395,
      "outputs": []
    },
    {
      "cell_type": "code",
      "source": [
        "# Diagramas para explicar los pasos para la transformación e imputación de datos\n",
        "\n",
        "# Pipeline para datos numericos\n",
        "numeric_pipe = make_pipeline(scaler)\n",
        "numeric_pipe"
      ],
      "metadata": {
        "colab": {
          "base_uri": "https://localhost:8080/",
          "height": 92
        },
        "id": "jhXblAvyro1t",
        "outputId": "2ac2747f-7e1d-4ccb-9cef-2aa609316466"
      },
      "execution_count": 396,
      "outputs": [
        {
          "output_type": "execute_result",
          "data": {
            "text/plain": [
              "Pipeline(steps=[('standardscaler', StandardScaler())])"
            ],
            "text/html": [
              "<style>#sk-container-id-22 {color: black;background-color: white;}#sk-container-id-22 pre{padding: 0;}#sk-container-id-22 div.sk-toggleable {background-color: white;}#sk-container-id-22 label.sk-toggleable__label {cursor: pointer;display: block;width: 100%;margin-bottom: 0;padding: 0.3em;box-sizing: border-box;text-align: center;}#sk-container-id-22 label.sk-toggleable__label-arrow:before {content: \"▸\";float: left;margin-right: 0.25em;color: #696969;}#sk-container-id-22 label.sk-toggleable__label-arrow:hover:before {color: black;}#sk-container-id-22 div.sk-estimator:hover label.sk-toggleable__label-arrow:before {color: black;}#sk-container-id-22 div.sk-toggleable__content {max-height: 0;max-width: 0;overflow: hidden;text-align: left;background-color: #f0f8ff;}#sk-container-id-22 div.sk-toggleable__content pre {margin: 0.2em;color: black;border-radius: 0.25em;background-color: #f0f8ff;}#sk-container-id-22 input.sk-toggleable__control:checked~div.sk-toggleable__content {max-height: 200px;max-width: 100%;overflow: auto;}#sk-container-id-22 input.sk-toggleable__control:checked~label.sk-toggleable__label-arrow:before {content: \"▾\";}#sk-container-id-22 div.sk-estimator input.sk-toggleable__control:checked~label.sk-toggleable__label {background-color: #d4ebff;}#sk-container-id-22 div.sk-label input.sk-toggleable__control:checked~label.sk-toggleable__label {background-color: #d4ebff;}#sk-container-id-22 input.sk-hidden--visually {border: 0;clip: rect(1px 1px 1px 1px);clip: rect(1px, 1px, 1px, 1px);height: 1px;margin: -1px;overflow: hidden;padding: 0;position: absolute;width: 1px;}#sk-container-id-22 div.sk-estimator {font-family: monospace;background-color: #f0f8ff;border: 1px dotted black;border-radius: 0.25em;box-sizing: border-box;margin-bottom: 0.5em;}#sk-container-id-22 div.sk-estimator:hover {background-color: #d4ebff;}#sk-container-id-22 div.sk-parallel-item::after {content: \"\";width: 100%;border-bottom: 1px solid gray;flex-grow: 1;}#sk-container-id-22 div.sk-label:hover label.sk-toggleable__label {background-color: #d4ebff;}#sk-container-id-22 div.sk-serial::before {content: \"\";position: absolute;border-left: 1px solid gray;box-sizing: border-box;top: 0;bottom: 0;left: 50%;z-index: 0;}#sk-container-id-22 div.sk-serial {display: flex;flex-direction: column;align-items: center;background-color: white;padding-right: 0.2em;padding-left: 0.2em;position: relative;}#sk-container-id-22 div.sk-item {position: relative;z-index: 1;}#sk-container-id-22 div.sk-parallel {display: flex;align-items: stretch;justify-content: center;background-color: white;position: relative;}#sk-container-id-22 div.sk-item::before, #sk-container-id-22 div.sk-parallel-item::before {content: \"\";position: absolute;border-left: 1px solid gray;box-sizing: border-box;top: 0;bottom: 0;left: 50%;z-index: -1;}#sk-container-id-22 div.sk-parallel-item {display: flex;flex-direction: column;z-index: 1;position: relative;background-color: white;}#sk-container-id-22 div.sk-parallel-item:first-child::after {align-self: flex-end;width: 50%;}#sk-container-id-22 div.sk-parallel-item:last-child::after {align-self: flex-start;width: 50%;}#sk-container-id-22 div.sk-parallel-item:only-child::after {width: 0;}#sk-container-id-22 div.sk-dashed-wrapped {border: 1px dashed gray;margin: 0 0.4em 0.5em 0.4em;box-sizing: border-box;padding-bottom: 0.4em;background-color: white;}#sk-container-id-22 div.sk-label label {font-family: monospace;font-weight: bold;display: inline-block;line-height: 1.2em;}#sk-container-id-22 div.sk-label-container {text-align: center;}#sk-container-id-22 div.sk-container {/* jupyter's `normalize.less` sets `[hidden] { display: none; }` but bootstrap.min.css set `[hidden] { display: none !important; }` so we also need the `!important` here to be able to override the default hidden behavior on the sphinx rendered scikit-learn.org. See: https://github.com/scikit-learn/scikit-learn/issues/21755 */display: inline-block !important;position: relative;}#sk-container-id-22 div.sk-text-repr-fallback {display: none;}</style><div id=\"sk-container-id-22\" class=\"sk-top-container\"><div class=\"sk-text-repr-fallback\"><pre>Pipeline(steps=[(&#x27;standardscaler&#x27;, StandardScaler())])</pre><b>In a Jupyter environment, please rerun this cell to show the HTML representation or trust the notebook. <br />On GitHub, the HTML representation is unable to render, please try loading this page with nbviewer.org.</b></div><div class=\"sk-container\" hidden><div class=\"sk-item sk-dashed-wrapped\"><div class=\"sk-label-container\"><div class=\"sk-label sk-toggleable\"><input class=\"sk-toggleable__control sk-hidden--visually\" id=\"sk-estimator-id-46\" type=\"checkbox\" ><label for=\"sk-estimator-id-46\" class=\"sk-toggleable__label sk-toggleable__label-arrow\">Pipeline</label><div class=\"sk-toggleable__content\"><pre>Pipeline(steps=[(&#x27;standardscaler&#x27;, StandardScaler())])</pre></div></div></div><div class=\"sk-serial\"><div class=\"sk-item\"><div class=\"sk-estimator sk-toggleable\"><input class=\"sk-toggleable__control sk-hidden--visually\" id=\"sk-estimator-id-47\" type=\"checkbox\" ><label for=\"sk-estimator-id-47\" class=\"sk-toggleable__label sk-toggleable__label-arrow\">StandardScaler</label><div class=\"sk-toggleable__content\"><pre>StandardScaler()</pre></div></div></div></div></div></div></div>"
            ]
          },
          "metadata": {},
          "execution_count": 396
        }
      ]
    },
    {
      "cell_type": "code",
      "source": [
        "# Pipeline para datos categorios\n",
        "categorical_pipe = make_pipeline(ohe)\n",
        "categorical_pipe"
      ],
      "metadata": {
        "colab": {
          "base_uri": "https://localhost:8080/",
          "height": 92
        },
        "id": "cO6NkNeMruO7",
        "outputId": "f9ff06e1-9077-4520-f757-8d8120c45830"
      },
      "execution_count": 397,
      "outputs": [
        {
          "output_type": "execute_result",
          "data": {
            "text/plain": [
              "Pipeline(steps=[('onehotencoder',\n",
              "                 OneHotEncoder(handle_unknown='ignore', sparse_output=False))])"
            ],
            "text/html": [
              "<style>#sk-container-id-23 {color: black;background-color: white;}#sk-container-id-23 pre{padding: 0;}#sk-container-id-23 div.sk-toggleable {background-color: white;}#sk-container-id-23 label.sk-toggleable__label {cursor: pointer;display: block;width: 100%;margin-bottom: 0;padding: 0.3em;box-sizing: border-box;text-align: center;}#sk-container-id-23 label.sk-toggleable__label-arrow:before {content: \"▸\";float: left;margin-right: 0.25em;color: #696969;}#sk-container-id-23 label.sk-toggleable__label-arrow:hover:before {color: black;}#sk-container-id-23 div.sk-estimator:hover label.sk-toggleable__label-arrow:before {color: black;}#sk-container-id-23 div.sk-toggleable__content {max-height: 0;max-width: 0;overflow: hidden;text-align: left;background-color: #f0f8ff;}#sk-container-id-23 div.sk-toggleable__content pre {margin: 0.2em;color: black;border-radius: 0.25em;background-color: #f0f8ff;}#sk-container-id-23 input.sk-toggleable__control:checked~div.sk-toggleable__content {max-height: 200px;max-width: 100%;overflow: auto;}#sk-container-id-23 input.sk-toggleable__control:checked~label.sk-toggleable__label-arrow:before {content: \"▾\";}#sk-container-id-23 div.sk-estimator input.sk-toggleable__control:checked~label.sk-toggleable__label {background-color: #d4ebff;}#sk-container-id-23 div.sk-label input.sk-toggleable__control:checked~label.sk-toggleable__label {background-color: #d4ebff;}#sk-container-id-23 input.sk-hidden--visually {border: 0;clip: rect(1px 1px 1px 1px);clip: rect(1px, 1px, 1px, 1px);height: 1px;margin: -1px;overflow: hidden;padding: 0;position: absolute;width: 1px;}#sk-container-id-23 div.sk-estimator {font-family: monospace;background-color: #f0f8ff;border: 1px dotted black;border-radius: 0.25em;box-sizing: border-box;margin-bottom: 0.5em;}#sk-container-id-23 div.sk-estimator:hover {background-color: #d4ebff;}#sk-container-id-23 div.sk-parallel-item::after {content: \"\";width: 100%;border-bottom: 1px solid gray;flex-grow: 1;}#sk-container-id-23 div.sk-label:hover label.sk-toggleable__label {background-color: #d4ebff;}#sk-container-id-23 div.sk-serial::before {content: \"\";position: absolute;border-left: 1px solid gray;box-sizing: border-box;top: 0;bottom: 0;left: 50%;z-index: 0;}#sk-container-id-23 div.sk-serial {display: flex;flex-direction: column;align-items: center;background-color: white;padding-right: 0.2em;padding-left: 0.2em;position: relative;}#sk-container-id-23 div.sk-item {position: relative;z-index: 1;}#sk-container-id-23 div.sk-parallel {display: flex;align-items: stretch;justify-content: center;background-color: white;position: relative;}#sk-container-id-23 div.sk-item::before, #sk-container-id-23 div.sk-parallel-item::before {content: \"\";position: absolute;border-left: 1px solid gray;box-sizing: border-box;top: 0;bottom: 0;left: 50%;z-index: -1;}#sk-container-id-23 div.sk-parallel-item {display: flex;flex-direction: column;z-index: 1;position: relative;background-color: white;}#sk-container-id-23 div.sk-parallel-item:first-child::after {align-self: flex-end;width: 50%;}#sk-container-id-23 div.sk-parallel-item:last-child::after {align-self: flex-start;width: 50%;}#sk-container-id-23 div.sk-parallel-item:only-child::after {width: 0;}#sk-container-id-23 div.sk-dashed-wrapped {border: 1px dashed gray;margin: 0 0.4em 0.5em 0.4em;box-sizing: border-box;padding-bottom: 0.4em;background-color: white;}#sk-container-id-23 div.sk-label label {font-family: monospace;font-weight: bold;display: inline-block;line-height: 1.2em;}#sk-container-id-23 div.sk-label-container {text-align: center;}#sk-container-id-23 div.sk-container {/* jupyter's `normalize.less` sets `[hidden] { display: none; }` but bootstrap.min.css set `[hidden] { display: none !important; }` so we also need the `!important` here to be able to override the default hidden behavior on the sphinx rendered scikit-learn.org. See: https://github.com/scikit-learn/scikit-learn/issues/21755 */display: inline-block !important;position: relative;}#sk-container-id-23 div.sk-text-repr-fallback {display: none;}</style><div id=\"sk-container-id-23\" class=\"sk-top-container\"><div class=\"sk-text-repr-fallback\"><pre>Pipeline(steps=[(&#x27;onehotencoder&#x27;,\n",
              "                 OneHotEncoder(handle_unknown=&#x27;ignore&#x27;, sparse_output=False))])</pre><b>In a Jupyter environment, please rerun this cell to show the HTML representation or trust the notebook. <br />On GitHub, the HTML representation is unable to render, please try loading this page with nbviewer.org.</b></div><div class=\"sk-container\" hidden><div class=\"sk-item sk-dashed-wrapped\"><div class=\"sk-label-container\"><div class=\"sk-label sk-toggleable\"><input class=\"sk-toggleable__control sk-hidden--visually\" id=\"sk-estimator-id-48\" type=\"checkbox\" ><label for=\"sk-estimator-id-48\" class=\"sk-toggleable__label sk-toggleable__label-arrow\">Pipeline</label><div class=\"sk-toggleable__content\"><pre>Pipeline(steps=[(&#x27;onehotencoder&#x27;,\n",
              "                 OneHotEncoder(handle_unknown=&#x27;ignore&#x27;, sparse_output=False))])</pre></div></div></div><div class=\"sk-serial\"><div class=\"sk-item\"><div class=\"sk-estimator sk-toggleable\"><input class=\"sk-toggleable__control sk-hidden--visually\" id=\"sk-estimator-id-49\" type=\"checkbox\" ><label for=\"sk-estimator-id-49\" class=\"sk-toggleable__label sk-toggleable__label-arrow\">OneHotEncoder</label><div class=\"sk-toggleable__content\"><pre>OneHotEncoder(handle_unknown=&#x27;ignore&#x27;, sparse_output=False)</pre></div></div></div></div></div></div></div>"
            ]
          },
          "metadata": {},
          "execution_count": 397
        }
      ]
    },
    {
      "cell_type": "code",
      "source": [
        "# Tuples para Column Transformer\n",
        "\n",
        "number_tuple = (numeric_pipe, num_selector)\n",
        "category_tuple = (categorical_pipe, cat_selector)\n",
        "\n",
        "# ColumnTransformer\n",
        "preprocessor = make_column_transformer(number_tuple, category_tuple)\n",
        "preprocessor"
      ],
      "metadata": {
        "colab": {
          "base_uri": "https://localhost:8080/",
          "height": 118
        },
        "id": "aIGHVutarzPk",
        "outputId": "73686f00-2a91-4ecd-8e88-49ae096077f8"
      },
      "execution_count": 398,
      "outputs": [
        {
          "output_type": "execute_result",
          "data": {
            "text/plain": [
              "ColumnTransformer(transformers=[('pipeline-1',\n",
              "                                 Pipeline(steps=[('standardscaler',\n",
              "                                                  StandardScaler())]),\n",
              "                                 <sklearn.compose._column_transformer.make_column_selector object at 0x7f5ec6952a00>),\n",
              "                                ('pipeline-2',\n",
              "                                 Pipeline(steps=[('onehotencoder',\n",
              "                                                  OneHotEncoder(handle_unknown='ignore',\n",
              "                                                                sparse_output=False))]),\n",
              "                                 <sklearn.compose._column_transformer.make_column_selector object at 0x7f5ec66ce790>)])"
            ],
            "text/html": [
              "<style>#sk-container-id-24 {color: black;background-color: white;}#sk-container-id-24 pre{padding: 0;}#sk-container-id-24 div.sk-toggleable {background-color: white;}#sk-container-id-24 label.sk-toggleable__label {cursor: pointer;display: block;width: 100%;margin-bottom: 0;padding: 0.3em;box-sizing: border-box;text-align: center;}#sk-container-id-24 label.sk-toggleable__label-arrow:before {content: \"▸\";float: left;margin-right: 0.25em;color: #696969;}#sk-container-id-24 label.sk-toggleable__label-arrow:hover:before {color: black;}#sk-container-id-24 div.sk-estimator:hover label.sk-toggleable__label-arrow:before {color: black;}#sk-container-id-24 div.sk-toggleable__content {max-height: 0;max-width: 0;overflow: hidden;text-align: left;background-color: #f0f8ff;}#sk-container-id-24 div.sk-toggleable__content pre {margin: 0.2em;color: black;border-radius: 0.25em;background-color: #f0f8ff;}#sk-container-id-24 input.sk-toggleable__control:checked~div.sk-toggleable__content {max-height: 200px;max-width: 100%;overflow: auto;}#sk-container-id-24 input.sk-toggleable__control:checked~label.sk-toggleable__label-arrow:before {content: \"▾\";}#sk-container-id-24 div.sk-estimator input.sk-toggleable__control:checked~label.sk-toggleable__label {background-color: #d4ebff;}#sk-container-id-24 div.sk-label input.sk-toggleable__control:checked~label.sk-toggleable__label {background-color: #d4ebff;}#sk-container-id-24 input.sk-hidden--visually {border: 0;clip: rect(1px 1px 1px 1px);clip: rect(1px, 1px, 1px, 1px);height: 1px;margin: -1px;overflow: hidden;padding: 0;position: absolute;width: 1px;}#sk-container-id-24 div.sk-estimator {font-family: monospace;background-color: #f0f8ff;border: 1px dotted black;border-radius: 0.25em;box-sizing: border-box;margin-bottom: 0.5em;}#sk-container-id-24 div.sk-estimator:hover {background-color: #d4ebff;}#sk-container-id-24 div.sk-parallel-item::after {content: \"\";width: 100%;border-bottom: 1px solid gray;flex-grow: 1;}#sk-container-id-24 div.sk-label:hover label.sk-toggleable__label {background-color: #d4ebff;}#sk-container-id-24 div.sk-serial::before {content: \"\";position: absolute;border-left: 1px solid gray;box-sizing: border-box;top: 0;bottom: 0;left: 50%;z-index: 0;}#sk-container-id-24 div.sk-serial {display: flex;flex-direction: column;align-items: center;background-color: white;padding-right: 0.2em;padding-left: 0.2em;position: relative;}#sk-container-id-24 div.sk-item {position: relative;z-index: 1;}#sk-container-id-24 div.sk-parallel {display: flex;align-items: stretch;justify-content: center;background-color: white;position: relative;}#sk-container-id-24 div.sk-item::before, #sk-container-id-24 div.sk-parallel-item::before {content: \"\";position: absolute;border-left: 1px solid gray;box-sizing: border-box;top: 0;bottom: 0;left: 50%;z-index: -1;}#sk-container-id-24 div.sk-parallel-item {display: flex;flex-direction: column;z-index: 1;position: relative;background-color: white;}#sk-container-id-24 div.sk-parallel-item:first-child::after {align-self: flex-end;width: 50%;}#sk-container-id-24 div.sk-parallel-item:last-child::after {align-self: flex-start;width: 50%;}#sk-container-id-24 div.sk-parallel-item:only-child::after {width: 0;}#sk-container-id-24 div.sk-dashed-wrapped {border: 1px dashed gray;margin: 0 0.4em 0.5em 0.4em;box-sizing: border-box;padding-bottom: 0.4em;background-color: white;}#sk-container-id-24 div.sk-label label {font-family: monospace;font-weight: bold;display: inline-block;line-height: 1.2em;}#sk-container-id-24 div.sk-label-container {text-align: center;}#sk-container-id-24 div.sk-container {/* jupyter's `normalize.less` sets `[hidden] { display: none; }` but bootstrap.min.css set `[hidden] { display: none !important; }` so we also need the `!important` here to be able to override the default hidden behavior on the sphinx rendered scikit-learn.org. See: https://github.com/scikit-learn/scikit-learn/issues/21755 */display: inline-block !important;position: relative;}#sk-container-id-24 div.sk-text-repr-fallback {display: none;}</style><div id=\"sk-container-id-24\" class=\"sk-top-container\"><div class=\"sk-text-repr-fallback\"><pre>ColumnTransformer(transformers=[(&#x27;pipeline-1&#x27;,\n",
              "                                 Pipeline(steps=[(&#x27;standardscaler&#x27;,\n",
              "                                                  StandardScaler())]),\n",
              "                                 &lt;sklearn.compose._column_transformer.make_column_selector object at 0x7f5ec6952a00&gt;),\n",
              "                                (&#x27;pipeline-2&#x27;,\n",
              "                                 Pipeline(steps=[(&#x27;onehotencoder&#x27;,\n",
              "                                                  OneHotEncoder(handle_unknown=&#x27;ignore&#x27;,\n",
              "                                                                sparse_output=False))]),\n",
              "                                 &lt;sklearn.compose._column_transformer.make_column_selector object at 0x7f5ec66ce790&gt;)])</pre><b>In a Jupyter environment, please rerun this cell to show the HTML representation or trust the notebook. <br />On GitHub, the HTML representation is unable to render, please try loading this page with nbviewer.org.</b></div><div class=\"sk-container\" hidden><div class=\"sk-item sk-dashed-wrapped\"><div class=\"sk-label-container\"><div class=\"sk-label sk-toggleable\"><input class=\"sk-toggleable__control sk-hidden--visually\" id=\"sk-estimator-id-50\" type=\"checkbox\" ><label for=\"sk-estimator-id-50\" class=\"sk-toggleable__label sk-toggleable__label-arrow\">ColumnTransformer</label><div class=\"sk-toggleable__content\"><pre>ColumnTransformer(transformers=[(&#x27;pipeline-1&#x27;,\n",
              "                                 Pipeline(steps=[(&#x27;standardscaler&#x27;,\n",
              "                                                  StandardScaler())]),\n",
              "                                 &lt;sklearn.compose._column_transformer.make_column_selector object at 0x7f5ec6952a00&gt;),\n",
              "                                (&#x27;pipeline-2&#x27;,\n",
              "                                 Pipeline(steps=[(&#x27;onehotencoder&#x27;,\n",
              "                                                  OneHotEncoder(handle_unknown=&#x27;ignore&#x27;,\n",
              "                                                                sparse_output=False))]),\n",
              "                                 &lt;sklearn.compose._column_transformer.make_column_selector object at 0x7f5ec66ce790&gt;)])</pre></div></div></div><div class=\"sk-parallel\"><div class=\"sk-parallel-item\"><div class=\"sk-item\"><div class=\"sk-label-container\"><div class=\"sk-label sk-toggleable\"><input class=\"sk-toggleable__control sk-hidden--visually\" id=\"sk-estimator-id-51\" type=\"checkbox\" ><label for=\"sk-estimator-id-51\" class=\"sk-toggleable__label sk-toggleable__label-arrow\">pipeline-1</label><div class=\"sk-toggleable__content\"><pre>&lt;sklearn.compose._column_transformer.make_column_selector object at 0x7f5ec6952a00&gt;</pre></div></div></div><div class=\"sk-serial\"><div class=\"sk-item\"><div class=\"sk-serial\"><div class=\"sk-item\"><div class=\"sk-estimator sk-toggleable\"><input class=\"sk-toggleable__control sk-hidden--visually\" id=\"sk-estimator-id-52\" type=\"checkbox\" ><label for=\"sk-estimator-id-52\" class=\"sk-toggleable__label sk-toggleable__label-arrow\">StandardScaler</label><div class=\"sk-toggleable__content\"><pre>StandardScaler()</pre></div></div></div></div></div></div></div></div><div class=\"sk-parallel-item\"><div class=\"sk-item\"><div class=\"sk-label-container\"><div class=\"sk-label sk-toggleable\"><input class=\"sk-toggleable__control sk-hidden--visually\" id=\"sk-estimator-id-53\" type=\"checkbox\" ><label for=\"sk-estimator-id-53\" class=\"sk-toggleable__label sk-toggleable__label-arrow\">pipeline-2</label><div class=\"sk-toggleable__content\"><pre>&lt;sklearn.compose._column_transformer.make_column_selector object at 0x7f5ec66ce790&gt;</pre></div></div></div><div class=\"sk-serial\"><div class=\"sk-item\"><div class=\"sk-serial\"><div class=\"sk-item\"><div class=\"sk-estimator sk-toggleable\"><input class=\"sk-toggleable__control sk-hidden--visually\" id=\"sk-estimator-id-54\" type=\"checkbox\" ><label for=\"sk-estimator-id-54\" class=\"sk-toggleable__label sk-toggleable__label-arrow\">OneHotEncoder</label><div class=\"sk-toggleable__content\"><pre>OneHotEncoder(handle_unknown=&#x27;ignore&#x27;, sparse_output=False)</pre></div></div></div></div></div></div></div></div></div></div></div></div>"
            ]
          },
          "metadata": {},
          "execution_count": 398
        }
      ]
    },
    {
      "cell_type": "code",
      "source": [
        "# Para transformar los datos\n",
        "\n",
        "# fit on train\n",
        "preprocessor.fit(X_train)\n",
        "\n",
        "# transform train and test\n",
        "X_train_processed = preprocessor.transform(X_train)\n",
        "X_test_processed = preprocessor.transform(X_test)"
      ],
      "metadata": {
        "id": "DuX_oiFzr6SW"
      },
      "execution_count": 399,
      "outputs": []
    },
    {
      "cell_type": "code",
      "source": [
        "print(X_train_processed.shape)\n",
        "print(X_test_processed.shape)"
      ],
      "metadata": {
        "colab": {
          "base_uri": "https://localhost:8080/"
        },
        "id": "35g2niJFTpC4",
        "outputId": "1c9e6352-46b5-4540-cbc2-90531319f4ac"
      },
      "execution_count": 400,
      "outputs": [
        {
          "output_type": "stream",
          "name": "stdout",
          "text": [
            "(6392, 1592)\n",
            "(2131, 1592)\n"
          ]
        }
      ]
    },
    {
      "cell_type": "markdown",
      "source": [
        "# Inspección de los resultados."
      ],
      "metadata": {
        "id": "fTzRdKXGr_9F"
      }
    },
    {
      "cell_type": "code",
      "source": [
        "# Para revisar los resultados.\n",
        "print(f\"El número de datos faltantes en la base entrenamiento es de: {np.isnan(X_train_processed).sum().sum()}.\")\n",
        "print(f\"El número de datos faltantes en la base de prueba de prueba es de: {np.isnan(X_test_processed).sum().sum()}.\")\n",
        "print('\\n')\n",
        "print(f\"El tipo de dato que conforma la base entrenamiento son de tipo: {X_train_processed.dtype} \")\n",
        "print(f\"El tipo de dato que conforma la base de prueba son de tipo: {X_test_processed.dtype}\")\n",
        "print('\\n')\n",
        "print(\"La dimensión de la base de datos de entrenamiento es de\", X_train_processed.shape )\n",
        "print(\"La dimensión de la base de datos de prueba es de\", X_test_processed.shape )\n",
        "print('\\n', \"Base de entrenamiento\", '\\n')\n",
        "\n",
        "print(X_train_processed)\n",
        "print('\\n', \"Base de prueba\", '\\n')\n",
        "print(X_test_processed)"
      ],
      "metadata": {
        "colab": {
          "base_uri": "https://localhost:8080/"
        },
        "id": "2Zl3tZopsCiw",
        "outputId": "7fd63669-ee41-4e39-b975-1a2128b51b5e"
      },
      "execution_count": 401,
      "outputs": [
        {
          "output_type": "stream",
          "name": "stdout",
          "text": [
            "El número de datos faltantes en la base entrenamiento es de: 0.\n",
            "El número de datos faltantes en la base de prueba de prueba es de: 0.\n",
            "\n",
            "\n",
            "El tipo de dato que conforma la base entrenamiento son de tipo: float64 \n",
            "El tipo de dato que conforma la base de prueba son de tipo: float64\n",
            "\n",
            "\n",
            "La dimensión de la base de datos de entrenamiento es de (6392, 1592)\n",
            "La dimensión de la base de datos de prueba es de (2131, 1592)\n",
            "\n",
            " Base de entrenamiento \n",
            "\n",
            "[[ 0.82944552 -0.71277507  1.82810922 ...  0.          1.\n",
            "   0.        ]\n",
            " [ 0.5686337  -1.29105225  0.60336888 ...  0.          1.\n",
            "   0.        ]\n",
            " [-0.11896108  1.81331864  0.24454056 ...  1.          0.\n",
            "   0.        ]\n",
            " ...\n",
            " [ 1.12582258 -0.92052713  1.52302674 ...  1.          0.\n",
            "   0.        ]\n",
            " [ 1.77785212 -0.2277552  -0.38377708 ...  1.          0.\n",
            "   0.        ]\n",
            " [ 0.82944552 -0.95867683 -0.73836105 ...  1.          0.\n",
            "   0.        ]]\n",
            "\n",
            " Base de prueba \n",
            "\n",
            "[[ 0.34338714 -0.77664625 -0.99881554 ...  1.          0.\n",
            "   0.        ]\n",
            " [-1.16695037  0.1003166  -1.58519423 ...  1.          0.\n",
            "   0.        ]\n",
            " [ 0.39080747 -0.48299432 -1.59578435 ...  1.          0.\n",
            "   0.        ]\n",
            " ...\n",
            " [-1.12664309  1.21832428  1.09397975 ...  1.          0.\n",
            "   0.        ]\n",
            " [-1.48466658 -0.77809567 -0.36679966 ...  1.          0.\n",
            "   0.        ]\n",
            " [ 0.53306846 -0.77976293  0.11221189 ...  1.          0.\n",
            "   0.        ]]\n"
          ]
        }
      ]
    },
    {
      "cell_type": "markdown",
      "source": [
        "# Modelo de regresión lineal"
      ],
      "metadata": {
        "id": "M8UGxBczUQZW"
      }
    },
    {
      "cell_type": "code",
      "source": [
        "# Importar el modelo\n",
        "from sklearn.linear_model import LinearRegression"
      ],
      "metadata": {
        "id": "ibbT_cCnUbOp"
      },
      "execution_count": 402,
      "outputs": []
    },
    {
      "cell_type": "code",
      "source": [
        "#from pandas.core.common import random_state\n",
        "# Hacer la instancia del modelo -- llamar al modelo que se va a utilizar\n",
        "\n",
        "reg = LinearRegression()"
      ],
      "metadata": {
        "id": "gaikQzr4Ufnk"
      },
      "execution_count": 403,
      "outputs": []
    },
    {
      "cell_type": "code",
      "source": [
        "reg.fit(X_train_processed, y_train)"
      ],
      "metadata": {
        "colab": {
          "base_uri": "https://localhost:8080/",
          "height": 75
        },
        "id": "8TlaLEdtUiTt",
        "outputId": "b9f868a1-c448-4d4f-f439-275cd6b70217"
      },
      "execution_count": 404,
      "outputs": [
        {
          "output_type": "execute_result",
          "data": {
            "text/plain": [
              "LinearRegression()"
            ],
            "text/html": [
              "<style>#sk-container-id-25 {color: black;background-color: white;}#sk-container-id-25 pre{padding: 0;}#sk-container-id-25 div.sk-toggleable {background-color: white;}#sk-container-id-25 label.sk-toggleable__label {cursor: pointer;display: block;width: 100%;margin-bottom: 0;padding: 0.3em;box-sizing: border-box;text-align: center;}#sk-container-id-25 label.sk-toggleable__label-arrow:before {content: \"▸\";float: left;margin-right: 0.25em;color: #696969;}#sk-container-id-25 label.sk-toggleable__label-arrow:hover:before {color: black;}#sk-container-id-25 div.sk-estimator:hover label.sk-toggleable__label-arrow:before {color: black;}#sk-container-id-25 div.sk-toggleable__content {max-height: 0;max-width: 0;overflow: hidden;text-align: left;background-color: #f0f8ff;}#sk-container-id-25 div.sk-toggleable__content pre {margin: 0.2em;color: black;border-radius: 0.25em;background-color: #f0f8ff;}#sk-container-id-25 input.sk-toggleable__control:checked~div.sk-toggleable__content {max-height: 200px;max-width: 100%;overflow: auto;}#sk-container-id-25 input.sk-toggleable__control:checked~label.sk-toggleable__label-arrow:before {content: \"▾\";}#sk-container-id-25 div.sk-estimator input.sk-toggleable__control:checked~label.sk-toggleable__label {background-color: #d4ebff;}#sk-container-id-25 div.sk-label input.sk-toggleable__control:checked~label.sk-toggleable__label {background-color: #d4ebff;}#sk-container-id-25 input.sk-hidden--visually {border: 0;clip: rect(1px 1px 1px 1px);clip: rect(1px, 1px, 1px, 1px);height: 1px;margin: -1px;overflow: hidden;padding: 0;position: absolute;width: 1px;}#sk-container-id-25 div.sk-estimator {font-family: monospace;background-color: #f0f8ff;border: 1px dotted black;border-radius: 0.25em;box-sizing: border-box;margin-bottom: 0.5em;}#sk-container-id-25 div.sk-estimator:hover {background-color: #d4ebff;}#sk-container-id-25 div.sk-parallel-item::after {content: \"\";width: 100%;border-bottom: 1px solid gray;flex-grow: 1;}#sk-container-id-25 div.sk-label:hover label.sk-toggleable__label {background-color: #d4ebff;}#sk-container-id-25 div.sk-serial::before {content: \"\";position: absolute;border-left: 1px solid gray;box-sizing: border-box;top: 0;bottom: 0;left: 50%;z-index: 0;}#sk-container-id-25 div.sk-serial {display: flex;flex-direction: column;align-items: center;background-color: white;padding-right: 0.2em;padding-left: 0.2em;position: relative;}#sk-container-id-25 div.sk-item {position: relative;z-index: 1;}#sk-container-id-25 div.sk-parallel {display: flex;align-items: stretch;justify-content: center;background-color: white;position: relative;}#sk-container-id-25 div.sk-item::before, #sk-container-id-25 div.sk-parallel-item::before {content: \"\";position: absolute;border-left: 1px solid gray;box-sizing: border-box;top: 0;bottom: 0;left: 50%;z-index: -1;}#sk-container-id-25 div.sk-parallel-item {display: flex;flex-direction: column;z-index: 1;position: relative;background-color: white;}#sk-container-id-25 div.sk-parallel-item:first-child::after {align-self: flex-end;width: 50%;}#sk-container-id-25 div.sk-parallel-item:last-child::after {align-self: flex-start;width: 50%;}#sk-container-id-25 div.sk-parallel-item:only-child::after {width: 0;}#sk-container-id-25 div.sk-dashed-wrapped {border: 1px dashed gray;margin: 0 0.4em 0.5em 0.4em;box-sizing: border-box;padding-bottom: 0.4em;background-color: white;}#sk-container-id-25 div.sk-label label {font-family: monospace;font-weight: bold;display: inline-block;line-height: 1.2em;}#sk-container-id-25 div.sk-label-container {text-align: center;}#sk-container-id-25 div.sk-container {/* jupyter's `normalize.less` sets `[hidden] { display: none; }` but bootstrap.min.css set `[hidden] { display: none !important; }` so we also need the `!important` here to be able to override the default hidden behavior on the sphinx rendered scikit-learn.org. See: https://github.com/scikit-learn/scikit-learn/issues/21755 */display: inline-block !important;position: relative;}#sk-container-id-25 div.sk-text-repr-fallback {display: none;}</style><div id=\"sk-container-id-25\" class=\"sk-top-container\"><div class=\"sk-text-repr-fallback\"><pre>LinearRegression()</pre><b>In a Jupyter environment, please rerun this cell to show the HTML representation or trust the notebook. <br />On GitHub, the HTML representation is unable to render, please try loading this page with nbviewer.org.</b></div><div class=\"sk-container\" hidden><div class=\"sk-item\"><div class=\"sk-estimator sk-toggleable\"><input class=\"sk-toggleable__control sk-hidden--visually\" id=\"sk-estimator-id-55\" type=\"checkbox\" checked><label for=\"sk-estimator-id-55\" class=\"sk-toggleable__label sk-toggleable__label-arrow\">LinearRegression</label><div class=\"sk-toggleable__content\"><pre>LinearRegression()</pre></div></div></div></div></div>"
            ]
          },
          "metadata": {},
          "execution_count": 404
        }
      ]
    },
    {
      "cell_type": "code",
      "source": [
        "train_score = reg.score(X_train_processed,y_train)\n",
        "test_score  = reg.score(X_test_processed,y_test)\n",
        "\n",
        "print(f\"El valor del R2 de los datos entrenamiento fue de: {round(train_score,3)} y el R2 de los datos de prueba fue de: {round(test_score,3)}.\")\n"
      ],
      "metadata": {
        "colab": {
          "base_uri": "https://localhost:8080/"
        },
        "id": "FtN-IEh8U6wQ",
        "outputId": "49108845-ae54-47df-9e96-67c7a48d70b8"
      },
      "execution_count": 405,
      "outputs": [
        {
          "output_type": "stream",
          "name": "stdout",
          "text": [
            "El valor del R2 de los datos entrenamiento fue de: 0.671 y el R2 de los datos de prueba fue de: -1.3642817215390851e+20.\n"
          ]
        }
      ]
    },
    {
      "cell_type": "markdown",
      "source": [
        "Cómo se puede observar el R2 de los datos de prueba general un R2 negativo, esto nos lleva a interpretar que existe un mal modelamiento del mismo, por lo que se debe probar otro modelo, que incluya menos variables de esta forma poder observar si los datos seleccionados pueden explicar mejor la variabilidad de la dependiente."
      ],
      "metadata": {
        "id": "MRVJ3jqyYWYW"
      }
    },
    {
      "cell_type": "code",
      "source": [
        "X_test_processed"
      ],
      "metadata": {
        "colab": {
          "base_uri": "https://localhost:8080/"
        },
        "id": "nQrOTOL-UqmY",
        "outputId": "f8baacc0-a666-411a-e67c-0655567f0c05"
      },
      "execution_count": 406,
      "outputs": [
        {
          "output_type": "execute_result",
          "data": {
            "text/plain": [
              "array([[ 0.34338714, -0.77664625, -0.99881554, ...,  1.        ,\n",
              "         0.        ,  0.        ],\n",
              "       [-1.16695037,  0.1003166 , -1.58519423, ...,  1.        ,\n",
              "         0.        ,  0.        ],\n",
              "       [ 0.39080747, -0.48299432, -1.59578435, ...,  1.        ,\n",
              "         0.        ,  0.        ],\n",
              "       ...,\n",
              "       [-1.12664309,  1.21832428,  1.09397975, ...,  1.        ,\n",
              "         0.        ,  0.        ],\n",
              "       [-1.48466658, -0.77809567, -0.36679966, ...,  1.        ,\n",
              "         0.        ,  0.        ],\n",
              "       [ 0.53306846, -0.77976293,  0.11221189, ...,  1.        ,\n",
              "         0.        ,  0.        ]])"
            ]
          },
          "metadata": {},
          "execution_count": 406
        }
      ]
    },
    {
      "cell_type": "code",
      "source": [
        "# Obtener los nombres de las características originales después de la transformación\n",
        "# Código generado con la ayuda de ChatGPT\n",
        "numeric_features = preprocessor.transformers_[0][2]\n",
        "categorical_features = preprocessor.transformers_[1][2]\n",
        "feature_names = list(numeric_features)\n",
        "feature_names.extend(list(categorical_features))\n",
        "ohe_feature_names = preprocessor.named_transformers_['pipeline-2'].named_steps['onehotencoder'].get_feature_names_out(list(X_train.select_dtypes(include=['object']).columns))\n",
        "feature_names = list(X_train.select_dtypes(include=['number']).columns)\n",
        "feature_names.extend(list(ohe_feature_names))\n",
        "X_train_processed_df = pd.DataFrame(X_train_processed, columns=feature_names)\n",
        "X_train_processed_df.head()"
      ],
      "metadata": {
        "colab": {
          "base_uri": "https://localhost:8080/",
          "height": 317
        },
        "id": "CS7NSwZuVZjZ",
        "outputId": "0b411b5d-c96e-41bd-e5a5-9191925361cb"
      },
      "execution_count": 407,
      "outputs": [
        {
          "output_type": "execute_result",
          "data": {
            "text/plain": [
              "   Item_Weight  Item_Visibility  Item_MRP  Outlet_Establishment_Year  \\\n",
              "0     0.829446        -0.712775  1.828109                   1.327849   \n",
              "1     0.568634        -1.291052  0.603369                   1.327849   \n",
              "2    -0.118961         1.813319  0.244541                   0.136187   \n",
              "3    -1.156281        -1.004931 -0.952591                   0.732018   \n",
              "4     1.540750        -0.965484 -0.336460                   0.493686   \n",
              "\n",
              "   Item_Identifier_DRA12  Item_Identifier_DRA24  Item_Identifier_DRA59  \\\n",
              "0                    0.0                    0.0                    0.0   \n",
              "1                    0.0                    0.0                    0.0   \n",
              "2                    0.0                    0.0                    0.0   \n",
              "3                    0.0                    0.0                    0.0   \n",
              "4                    0.0                    0.0                    0.0   \n",
              "\n",
              "   Item_Identifier_DRB01  Item_Identifier_DRB13  Item_Identifier_DRB24  ...  \\\n",
              "0                    0.0                    0.0                    0.0  ...   \n",
              "1                    0.0                    0.0                    0.0  ...   \n",
              "2                    0.0                    0.0                    0.0  ...   \n",
              "3                    0.0                    0.0                    0.0  ...   \n",
              "4                    0.0                    0.0                    0.0  ...   \n",
              "\n",
              "   Outlet_Size_High  Outlet_Size_Medium  Outlet_Size_Small  \\\n",
              "0               0.0                 1.0                0.0   \n",
              "1               0.0                 1.0                0.0   \n",
              "2               0.0                 1.0                0.0   \n",
              "3               0.0                 0.0                1.0   \n",
              "4               0.0                 1.0                0.0   \n",
              "\n",
              "   Outlet_Location_Type_Tier 1  Outlet_Location_Type_Tier 2  \\\n",
              "0                          0.0                          0.0   \n",
              "1                          0.0                          0.0   \n",
              "2                          1.0                          0.0   \n",
              "3                          0.0                          1.0   \n",
              "4                          0.0                          1.0   \n",
              "\n",
              "   Outlet_Location_Type_Tier 3  Outlet_Type_Grocery Store  \\\n",
              "0                          1.0                        0.0   \n",
              "1                          1.0                        0.0   \n",
              "2                          0.0                        0.0   \n",
              "3                          0.0                        0.0   \n",
              "4                          0.0                        0.0   \n",
              "\n",
              "   Outlet_Type_Supermarket Type1  Outlet_Type_Supermarket Type2  \\\n",
              "0                            0.0                            1.0   \n",
              "1                            0.0                            1.0   \n",
              "2                            1.0                            0.0   \n",
              "3                            1.0                            0.0   \n",
              "4                            1.0                            0.0   \n",
              "\n",
              "   Outlet_Type_Supermarket Type3  \n",
              "0                            0.0  \n",
              "1                            0.0  \n",
              "2                            0.0  \n",
              "3                            0.0  \n",
              "4                            0.0  \n",
              "\n",
              "[5 rows x 1592 columns]"
            ],
            "text/html": [
              "\n",
              "  <div id=\"df-73fd779c-6279-480f-8ffb-b577a1945f86\">\n",
              "    <div class=\"colab-df-container\">\n",
              "      <div>\n",
              "<style scoped>\n",
              "    .dataframe tbody tr th:only-of-type {\n",
              "        vertical-align: middle;\n",
              "    }\n",
              "\n",
              "    .dataframe tbody tr th {\n",
              "        vertical-align: top;\n",
              "    }\n",
              "\n",
              "    .dataframe thead th {\n",
              "        text-align: right;\n",
              "    }\n",
              "</style>\n",
              "<table border=\"1\" class=\"dataframe\">\n",
              "  <thead>\n",
              "    <tr style=\"text-align: right;\">\n",
              "      <th></th>\n",
              "      <th>Item_Weight</th>\n",
              "      <th>Item_Visibility</th>\n",
              "      <th>Item_MRP</th>\n",
              "      <th>Outlet_Establishment_Year</th>\n",
              "      <th>Item_Identifier_DRA12</th>\n",
              "      <th>Item_Identifier_DRA24</th>\n",
              "      <th>Item_Identifier_DRA59</th>\n",
              "      <th>Item_Identifier_DRB01</th>\n",
              "      <th>Item_Identifier_DRB13</th>\n",
              "      <th>Item_Identifier_DRB24</th>\n",
              "      <th>...</th>\n",
              "      <th>Outlet_Size_High</th>\n",
              "      <th>Outlet_Size_Medium</th>\n",
              "      <th>Outlet_Size_Small</th>\n",
              "      <th>Outlet_Location_Type_Tier 1</th>\n",
              "      <th>Outlet_Location_Type_Tier 2</th>\n",
              "      <th>Outlet_Location_Type_Tier 3</th>\n",
              "      <th>Outlet_Type_Grocery Store</th>\n",
              "      <th>Outlet_Type_Supermarket Type1</th>\n",
              "      <th>Outlet_Type_Supermarket Type2</th>\n",
              "      <th>Outlet_Type_Supermarket Type3</th>\n",
              "    </tr>\n",
              "  </thead>\n",
              "  <tbody>\n",
              "    <tr>\n",
              "      <th>0</th>\n",
              "      <td>0.829446</td>\n",
              "      <td>-0.712775</td>\n",
              "      <td>1.828109</td>\n",
              "      <td>1.327849</td>\n",
              "      <td>0.0</td>\n",
              "      <td>0.0</td>\n",
              "      <td>0.0</td>\n",
              "      <td>0.0</td>\n",
              "      <td>0.0</td>\n",
              "      <td>0.0</td>\n",
              "      <td>...</td>\n",
              "      <td>0.0</td>\n",
              "      <td>1.0</td>\n",
              "      <td>0.0</td>\n",
              "      <td>0.0</td>\n",
              "      <td>0.0</td>\n",
              "      <td>1.0</td>\n",
              "      <td>0.0</td>\n",
              "      <td>0.0</td>\n",
              "      <td>1.0</td>\n",
              "      <td>0.0</td>\n",
              "    </tr>\n",
              "    <tr>\n",
              "      <th>1</th>\n",
              "      <td>0.568634</td>\n",
              "      <td>-1.291052</td>\n",
              "      <td>0.603369</td>\n",
              "      <td>1.327849</td>\n",
              "      <td>0.0</td>\n",
              "      <td>0.0</td>\n",
              "      <td>0.0</td>\n",
              "      <td>0.0</td>\n",
              "      <td>0.0</td>\n",
              "      <td>0.0</td>\n",
              "      <td>...</td>\n",
              "      <td>0.0</td>\n",
              "      <td>1.0</td>\n",
              "      <td>0.0</td>\n",
              "      <td>0.0</td>\n",
              "      <td>0.0</td>\n",
              "      <td>1.0</td>\n",
              "      <td>0.0</td>\n",
              "      <td>0.0</td>\n",
              "      <td>1.0</td>\n",
              "      <td>0.0</td>\n",
              "    </tr>\n",
              "    <tr>\n",
              "      <th>2</th>\n",
              "      <td>-0.118961</td>\n",
              "      <td>1.813319</td>\n",
              "      <td>0.244541</td>\n",
              "      <td>0.136187</td>\n",
              "      <td>0.0</td>\n",
              "      <td>0.0</td>\n",
              "      <td>0.0</td>\n",
              "      <td>0.0</td>\n",
              "      <td>0.0</td>\n",
              "      <td>0.0</td>\n",
              "      <td>...</td>\n",
              "      <td>0.0</td>\n",
              "      <td>1.0</td>\n",
              "      <td>0.0</td>\n",
              "      <td>1.0</td>\n",
              "      <td>0.0</td>\n",
              "      <td>0.0</td>\n",
              "      <td>0.0</td>\n",
              "      <td>1.0</td>\n",
              "      <td>0.0</td>\n",
              "      <td>0.0</td>\n",
              "    </tr>\n",
              "    <tr>\n",
              "      <th>3</th>\n",
              "      <td>-1.156281</td>\n",
              "      <td>-1.004931</td>\n",
              "      <td>-0.952591</td>\n",
              "      <td>0.732018</td>\n",
              "      <td>0.0</td>\n",
              "      <td>0.0</td>\n",
              "      <td>0.0</td>\n",
              "      <td>0.0</td>\n",
              "      <td>0.0</td>\n",
              "      <td>0.0</td>\n",
              "      <td>...</td>\n",
              "      <td>0.0</td>\n",
              "      <td>0.0</td>\n",
              "      <td>1.0</td>\n",
              "      <td>0.0</td>\n",
              "      <td>1.0</td>\n",
              "      <td>0.0</td>\n",
              "      <td>0.0</td>\n",
              "      <td>1.0</td>\n",
              "      <td>0.0</td>\n",
              "      <td>0.0</td>\n",
              "    </tr>\n",
              "    <tr>\n",
              "      <th>4</th>\n",
              "      <td>1.540750</td>\n",
              "      <td>-0.965484</td>\n",
              "      <td>-0.336460</td>\n",
              "      <td>0.493686</td>\n",
              "      <td>0.0</td>\n",
              "      <td>0.0</td>\n",
              "      <td>0.0</td>\n",
              "      <td>0.0</td>\n",
              "      <td>0.0</td>\n",
              "      <td>0.0</td>\n",
              "      <td>...</td>\n",
              "      <td>0.0</td>\n",
              "      <td>1.0</td>\n",
              "      <td>0.0</td>\n",
              "      <td>0.0</td>\n",
              "      <td>1.0</td>\n",
              "      <td>0.0</td>\n",
              "      <td>0.0</td>\n",
              "      <td>1.0</td>\n",
              "      <td>0.0</td>\n",
              "      <td>0.0</td>\n",
              "    </tr>\n",
              "  </tbody>\n",
              "</table>\n",
              "<p>5 rows × 1592 columns</p>\n",
              "</div>\n",
              "      <button class=\"colab-df-convert\" onclick=\"convertToInteractive('df-73fd779c-6279-480f-8ffb-b577a1945f86')\"\n",
              "              title=\"Convert this dataframe to an interactive table.\"\n",
              "              style=\"display:none;\">\n",
              "        \n",
              "  <svg xmlns=\"http://www.w3.org/2000/svg\" height=\"24px\"viewBox=\"0 0 24 24\"\n",
              "       width=\"24px\">\n",
              "    <path d=\"M0 0h24v24H0V0z\" fill=\"none\"/>\n",
              "    <path d=\"M18.56 5.44l.94 2.06.94-2.06 2.06-.94-2.06-.94-.94-2.06-.94 2.06-2.06.94zm-11 1L8.5 8.5l.94-2.06 2.06-.94-2.06-.94L8.5 2.5l-.94 2.06-2.06.94zm10 10l.94 2.06.94-2.06 2.06-.94-2.06-.94-.94-2.06-.94 2.06-2.06.94z\"/><path d=\"M17.41 7.96l-1.37-1.37c-.4-.4-.92-.59-1.43-.59-.52 0-1.04.2-1.43.59L10.3 9.45l-7.72 7.72c-.78.78-.78 2.05 0 2.83L4 21.41c.39.39.9.59 1.41.59.51 0 1.02-.2 1.41-.59l7.78-7.78 2.81-2.81c.8-.78.8-2.07 0-2.86zM5.41 20L4 18.59l7.72-7.72 1.47 1.35L5.41 20z\"/>\n",
              "  </svg>\n",
              "      </button>\n",
              "      \n",
              "  <style>\n",
              "    .colab-df-container {\n",
              "      display:flex;\n",
              "      flex-wrap:wrap;\n",
              "      gap: 12px;\n",
              "    }\n",
              "\n",
              "    .colab-df-convert {\n",
              "      background-color: #E8F0FE;\n",
              "      border: none;\n",
              "      border-radius: 50%;\n",
              "      cursor: pointer;\n",
              "      display: none;\n",
              "      fill: #1967D2;\n",
              "      height: 32px;\n",
              "      padding: 0 0 0 0;\n",
              "      width: 32px;\n",
              "    }\n",
              "\n",
              "    .colab-df-convert:hover {\n",
              "      background-color: #E2EBFA;\n",
              "      box-shadow: 0px 1px 2px rgba(60, 64, 67, 0.3), 0px 1px 3px 1px rgba(60, 64, 67, 0.15);\n",
              "      fill: #174EA6;\n",
              "    }\n",
              "\n",
              "    [theme=dark] .colab-df-convert {\n",
              "      background-color: #3B4455;\n",
              "      fill: #D2E3FC;\n",
              "    }\n",
              "\n",
              "    [theme=dark] .colab-df-convert:hover {\n",
              "      background-color: #434B5C;\n",
              "      box-shadow: 0px 1px 3px 1px rgba(0, 0, 0, 0.15);\n",
              "      filter: drop-shadow(0px 1px 2px rgba(0, 0, 0, 0.3));\n",
              "      fill: #FFFFFF;\n",
              "    }\n",
              "  </style>\n",
              "\n",
              "      <script>\n",
              "        const buttonEl =\n",
              "          document.querySelector('#df-73fd779c-6279-480f-8ffb-b577a1945f86 button.colab-df-convert');\n",
              "        buttonEl.style.display =\n",
              "          google.colab.kernel.accessAllowed ? 'block' : 'none';\n",
              "\n",
              "        async function convertToInteractive(key) {\n",
              "          const element = document.querySelector('#df-73fd779c-6279-480f-8ffb-b577a1945f86');\n",
              "          const dataTable =\n",
              "            await google.colab.kernel.invokeFunction('convertToInteractive',\n",
              "                                                     [key], {});\n",
              "          if (!dataTable) return;\n",
              "\n",
              "          const docLinkHtml = 'Like what you see? Visit the ' +\n",
              "            '<a target=\"_blank\" href=https://colab.research.google.com/notebooks/data_table.ipynb>data table notebook</a>'\n",
              "            + ' to learn more about interactive tables.';\n",
              "          element.innerHTML = '';\n",
              "          dataTable['output_type'] = 'display_data';\n",
              "          await google.colab.output.renderOutput(dataTable, element);\n",
              "          const docLink = document.createElement('div');\n",
              "          docLink.innerHTML = docLinkHtml;\n",
              "          element.appendChild(docLink);\n",
              "        }\n",
              "      </script>\n",
              "    </div>\n",
              "  </div>\n",
              "  "
            ]
          },
          "metadata": {},
          "execution_count": 407
        }
      ]
    },
    {
      "cell_type": "code",
      "source": [
        "# Obtener los nombres de las características originales después de la transformación\n",
        "# Código generado con la ayuda de ChatGPT\n",
        "numeric_features = preprocessor.transformers_[0][2]\n",
        "categorical_features = preprocessor.transformers_[1][2]\n",
        "feature_names = list(numeric_features)\n",
        "feature_names.extend(list(categorical_features))\n",
        "ohe_feature_names = preprocessor.named_transformers_['pipeline-2'].named_steps['onehotencoder'].get_feature_names_out(list(X_test.select_dtypes(include=['object']).columns))\n",
        "feature_names = list(X_test.select_dtypes(include=['number']).columns)\n",
        "feature_names.extend(list(ohe_feature_names))\n",
        "X_test_processed_df = pd.DataFrame(X_test_processed, columns=feature_names)"
      ],
      "metadata": {
        "id": "Yv908fpQb9vj"
      },
      "execution_count": 408,
      "outputs": []
    },
    {
      "cell_type": "code",
      "source": [
        "X_train_processed_df_select = X_train_processed_df[[\"Item_Weight\",\"Item_Visibility\",\"Item_MRP\",\"Item_Identifier_DRF36\",\"Item_Identifier_DRG25\",\"Item_Identifier_FDA15\",\"Item_Identifier_DRM37\",\"Item_Identifier_FDA34\",\"Item_Identifier_DRK23\",\"Item_Identifier_DRG13\"]] "
      ],
      "metadata": {
        "id": "6Veaqj8zQqPu"
      },
      "execution_count": 409,
      "outputs": []
    },
    {
      "cell_type": "code",
      "source": [
        "print(X_train_processed_df_select.shape)"
      ],
      "metadata": {
        "colab": {
          "base_uri": "https://localhost:8080/"
        },
        "id": "6a2mlLYkTK4I",
        "outputId": "ea5e391f-c8a4-4956-bae4-66123250b23b"
      },
      "execution_count": 410,
      "outputs": [
        {
          "output_type": "stream",
          "name": "stdout",
          "text": [
            "(6392, 10)\n"
          ]
        }
      ]
    },
    {
      "cell_type": "code",
      "source": [
        "X_test_processed_df_select = X_test_processed_df[[\"Item_Weight\",\"Item_Visibility\",\"Item_MRP\",\"Item_Identifier_DRF36\",\"Item_Identifier_DRG25\",\"Item_Identifier_FDA15\",\"Item_Identifier_DRM37\",\"Item_Identifier_FDA34\",\"Item_Identifier_DRK23\",\"Item_Identifier_DRG13\"]] "
      ],
      "metadata": {
        "id": "Yb86w6xHRcmt"
      },
      "execution_count": 411,
      "outputs": []
    },
    {
      "cell_type": "code",
      "source": [
        "print(X_test_processed_df_select.shape)"
      ],
      "metadata": {
        "colab": {
          "base_uri": "https://localhost:8080/"
        },
        "id": "DznCtENgTHef",
        "outputId": "5b28cfba-0a7d-4e0b-8bbd-4c706d5bc283"
      },
      "execution_count": 412,
      "outputs": [
        {
          "output_type": "stream",
          "name": "stdout",
          "text": [
            "(2131, 10)\n"
          ]
        }
      ]
    },
    {
      "cell_type": "code",
      "source": [
        "reg.fit(X_train_processed_df_select, y_train)"
      ],
      "metadata": {
        "colab": {
          "base_uri": "https://localhost:8080/",
          "height": 75
        },
        "id": "QEUHWChfRPs5",
        "outputId": "4040d07b-8581-4b8a-ec08-f40c6ec4c104"
      },
      "execution_count": 413,
      "outputs": [
        {
          "output_type": "execute_result",
          "data": {
            "text/plain": [
              "LinearRegression()"
            ],
            "text/html": [
              "<style>#sk-container-id-26 {color: black;background-color: white;}#sk-container-id-26 pre{padding: 0;}#sk-container-id-26 div.sk-toggleable {background-color: white;}#sk-container-id-26 label.sk-toggleable__label {cursor: pointer;display: block;width: 100%;margin-bottom: 0;padding: 0.3em;box-sizing: border-box;text-align: center;}#sk-container-id-26 label.sk-toggleable__label-arrow:before {content: \"▸\";float: left;margin-right: 0.25em;color: #696969;}#sk-container-id-26 label.sk-toggleable__label-arrow:hover:before {color: black;}#sk-container-id-26 div.sk-estimator:hover label.sk-toggleable__label-arrow:before {color: black;}#sk-container-id-26 div.sk-toggleable__content {max-height: 0;max-width: 0;overflow: hidden;text-align: left;background-color: #f0f8ff;}#sk-container-id-26 div.sk-toggleable__content pre {margin: 0.2em;color: black;border-radius: 0.25em;background-color: #f0f8ff;}#sk-container-id-26 input.sk-toggleable__control:checked~div.sk-toggleable__content {max-height: 200px;max-width: 100%;overflow: auto;}#sk-container-id-26 input.sk-toggleable__control:checked~label.sk-toggleable__label-arrow:before {content: \"▾\";}#sk-container-id-26 div.sk-estimator input.sk-toggleable__control:checked~label.sk-toggleable__label {background-color: #d4ebff;}#sk-container-id-26 div.sk-label input.sk-toggleable__control:checked~label.sk-toggleable__label {background-color: #d4ebff;}#sk-container-id-26 input.sk-hidden--visually {border: 0;clip: rect(1px 1px 1px 1px);clip: rect(1px, 1px, 1px, 1px);height: 1px;margin: -1px;overflow: hidden;padding: 0;position: absolute;width: 1px;}#sk-container-id-26 div.sk-estimator {font-family: monospace;background-color: #f0f8ff;border: 1px dotted black;border-radius: 0.25em;box-sizing: border-box;margin-bottom: 0.5em;}#sk-container-id-26 div.sk-estimator:hover {background-color: #d4ebff;}#sk-container-id-26 div.sk-parallel-item::after {content: \"\";width: 100%;border-bottom: 1px solid gray;flex-grow: 1;}#sk-container-id-26 div.sk-label:hover label.sk-toggleable__label {background-color: #d4ebff;}#sk-container-id-26 div.sk-serial::before {content: \"\";position: absolute;border-left: 1px solid gray;box-sizing: border-box;top: 0;bottom: 0;left: 50%;z-index: 0;}#sk-container-id-26 div.sk-serial {display: flex;flex-direction: column;align-items: center;background-color: white;padding-right: 0.2em;padding-left: 0.2em;position: relative;}#sk-container-id-26 div.sk-item {position: relative;z-index: 1;}#sk-container-id-26 div.sk-parallel {display: flex;align-items: stretch;justify-content: center;background-color: white;position: relative;}#sk-container-id-26 div.sk-item::before, #sk-container-id-26 div.sk-parallel-item::before {content: \"\";position: absolute;border-left: 1px solid gray;box-sizing: border-box;top: 0;bottom: 0;left: 50%;z-index: -1;}#sk-container-id-26 div.sk-parallel-item {display: flex;flex-direction: column;z-index: 1;position: relative;background-color: white;}#sk-container-id-26 div.sk-parallel-item:first-child::after {align-self: flex-end;width: 50%;}#sk-container-id-26 div.sk-parallel-item:last-child::after {align-self: flex-start;width: 50%;}#sk-container-id-26 div.sk-parallel-item:only-child::after {width: 0;}#sk-container-id-26 div.sk-dashed-wrapped {border: 1px dashed gray;margin: 0 0.4em 0.5em 0.4em;box-sizing: border-box;padding-bottom: 0.4em;background-color: white;}#sk-container-id-26 div.sk-label label {font-family: monospace;font-weight: bold;display: inline-block;line-height: 1.2em;}#sk-container-id-26 div.sk-label-container {text-align: center;}#sk-container-id-26 div.sk-container {/* jupyter's `normalize.less` sets `[hidden] { display: none; }` but bootstrap.min.css set `[hidden] { display: none !important; }` so we also need the `!important` here to be able to override the default hidden behavior on the sphinx rendered scikit-learn.org. See: https://github.com/scikit-learn/scikit-learn/issues/21755 */display: inline-block !important;position: relative;}#sk-container-id-26 div.sk-text-repr-fallback {display: none;}</style><div id=\"sk-container-id-26\" class=\"sk-top-container\"><div class=\"sk-text-repr-fallback\"><pre>LinearRegression()</pre><b>In a Jupyter environment, please rerun this cell to show the HTML representation or trust the notebook. <br />On GitHub, the HTML representation is unable to render, please try loading this page with nbviewer.org.</b></div><div class=\"sk-container\" hidden><div class=\"sk-item\"><div class=\"sk-estimator sk-toggleable\"><input class=\"sk-toggleable__control sk-hidden--visually\" id=\"sk-estimator-id-56\" type=\"checkbox\" checked><label for=\"sk-estimator-id-56\" class=\"sk-toggleable__label sk-toggleable__label-arrow\">LinearRegression</label><div class=\"sk-toggleable__content\"><pre>LinearRegression()</pre></div></div></div></div></div>"
            ]
          },
          "metadata": {},
          "execution_count": 413
        }
      ]
    },
    {
      "cell_type": "code",
      "source": [
        "train_score_select = reg.score(X_train_processed_df_select,y_train)\n",
        "test_score_select  = reg.score(X_test_processed_df_select,y_test)\n",
        "\n",
        "print(f\"El valor del R2 de los datos entrenamiento fue de: {round(train_score_select,3)} y el R2 de los datos de prueba fue de: {round(test_score_select,3)}.\")"
      ],
      "metadata": {
        "colab": {
          "base_uri": "https://localhost:8080/"
        },
        "id": "zgsV2WeSRWOt",
        "outputId": "bed3c49c-83fe-469a-f471-235c9cb1a784"
      },
      "execution_count": 414,
      "outputs": [
        {
          "output_type": "stream",
          "name": "stdout",
          "text": [
            "El valor del R2 de los datos entrenamiento fue de: 0.34 y el R2 de los datos de prueba fue de: 0.338.\n"
          ]
        }
      ]
    },
    {
      "cell_type": "code",
      "source": [
        "print(f\"Como se puede observar en el modelo anterior que incluía todas las variables generaba un R2 de {round(train_score,2)} que era un valor aceptable, pero al aplicar el modelo a los datos de prueba generaba un R2 de {round(test_score,2)}\\n que como se puede apreciar es un valor negativo pero al ajustar el modelo a solo un conjunto de variables se observa que aunque decrece el R2 de los datos de entrenamiento a {round(train_score_select,2)} el R2 de los datos de prueba mejora a {round(test_score_select,2)}\\naunque el R2 sea muy bajo es un mejor modelo que el primero donde se incluía todas las varaibles.\")"
      ],
      "metadata": {
        "colab": {
          "base_uri": "https://localhost:8080/"
        },
        "id": "ii259OlsXAYB",
        "outputId": "c0329184-61b7-4d23-8745-cb11e72842fd"
      },
      "execution_count": 415,
      "outputs": [
        {
          "output_type": "stream",
          "name": "stdout",
          "text": [
            "Como se puede observar en el modelo anterior que incluía todas las variables generaba un R2 de 0.67 que era un valor aceptable, pero al aplicar el modelo a los datos de prueba generaba un R2 de -1.3642817215390853e+20\n",
            " que como se puede apreciar es un valor negativo pero al ajustar el modelo a solo un conjunto de variables se observa que aunque decrece el R2 de los datos de entrenamiento a 0.34 el R2 de los datos de prueba mejora a 0.34\n",
            "aunque el R2 sea muy bajo es un mejor modelo que el primero donde se incluía todas las varaibles.\n"
          ]
        }
      ]
    },
    {
      "cell_type": "markdown",
      "source": [
        "# Para evaluar el modelo se lo hará con los datos del segundo modelo."
      ],
      "metadata": {
        "id": "Lr1NwON-YNvJ"
      }
    },
    {
      "cell_type": "code",
      "source": [
        "import numpy as np\n",
        "from sklearn.metrics import r2_score\n",
        "from sklearn.metrics import mean_absolute_error\n",
        "from sklearn.metrics import mean_squared_error"
      ],
      "metadata": {
        "id": "v7HTzGOyax7e"
      },
      "execution_count": 416,
      "outputs": []
    },
    {
      "cell_type": "code",
      "source": [
        "# Obtener las predicciones para evaluar el modelo\n",
        "\n",
        "# Obtengan las predicciones del conjunto de entrenamiento\n",
        "train_preds = reg.predict(X_train_processed_df_select)\n",
        "# Obtengan las predicciones del conjunto de prueba\n",
        "test_preds = reg.predict(X_test_processed_df_select)"
      ],
      "metadata": {
        "id": "GnscirUlaL51"
      },
      "execution_count": 417,
      "outputs": []
    },
    {
      "cell_type": "markdown",
      "source": [
        "# Raíz del error cuadrático medio RECM"
      ],
      "metadata": {
        "id": "j5KJQ2vtZ9yP"
      }
    },
    {
      "cell_type": "code",
      "source": [
        "rmse_train = np.sqrt(mean_squared_error(y_train, train_preds))\n",
        "rmse_test = np.sqrt(mean_squared_error(y_test, test_preds))\n",
        "\n",
        "print(f\"El valor del RECM de los datos entrenamiento fue de: {round(rmse_train,3)} y el de los datos de prueba fue de: {round(rmse_test,3)}. Lo que nos indica que el error promedio de predicción del modelo es de {round(rmse_test,3)} dólares.\")"
      ],
      "metadata": {
        "colab": {
          "base_uri": "https://localhost:8080/"
        },
        "id": "D_WwEN8RaFBx",
        "outputId": "e30b79ac-c5bb-4e50-cd3e-461349dcf62d"
      },
      "execution_count": 418,
      "outputs": [
        {
          "output_type": "stream",
          "name": "stdout",
          "text": [
            "El valor del RECM de los datos entrenamiento fue de: 1397.134 y el de los datos de prueba fue de: 1351.096. Lo que nos indica que el error promedio de predicción del modelo es de 1351.096 dólares.\n"
          ]
        }
      ]
    },
    {
      "cell_type": "markdown",
      "source": [
        "# Modelo de árbol de regresión\n",
        "Para generar el árbol de regresión se trabajará con toda la base procesada y no la seleccionada."
      ],
      "metadata": {
        "id": "0E6ePko9bfHx"
      }
    },
    {
      "cell_type": "code",
      "source": [
        "# LLamar al modelo\n",
        "from matplotlib import pyplot as pyplot\n",
        "from sklearn.tree import DecisionTreeRegressor\n",
        "reg_tree = DecisionTreeRegressor(max_depth=2 ,random_state=42)"
      ],
      "metadata": {
        "id": "q0mIfa2AcW_N"
      },
      "execution_count": 425,
      "outputs": []
    },
    {
      "cell_type": "code",
      "source": [
        "reg_tree.get_params()"
      ],
      "metadata": {
        "colab": {
          "base_uri": "https://localhost:8080/"
        },
        "id": "mb9dl9fldWmk",
        "outputId": "da3979d4-183a-43bc-cb0d-4da02c7f04b1"
      },
      "execution_count": 426,
      "outputs": [
        {
          "output_type": "execute_result",
          "data": {
            "text/plain": [
              "{'ccp_alpha': 0.0,\n",
              " 'criterion': 'squared_error',\n",
              " 'max_depth': 2,\n",
              " 'max_features': None,\n",
              " 'max_leaf_nodes': None,\n",
              " 'min_impurity_decrease': 0.0,\n",
              " 'min_samples_leaf': 1,\n",
              " 'min_samples_split': 2,\n",
              " 'min_weight_fraction_leaf': 0.0,\n",
              " 'random_state': 42,\n",
              " 'splitter': 'best'}"
            ]
          },
          "metadata": {},
          "execution_count": 426
        }
      ]
    },
    {
      "cell_type": "code",
      "source": [
        "reg_tree.fit(X_train_processed, y_train)"
      ],
      "metadata": {
        "colab": {
          "base_uri": "https://localhost:8080/",
          "height": 75
        },
        "id": "nOYsZUqpdcgG",
        "outputId": "53686749-3c30-43f6-cc1b-0b355b6d668e"
      },
      "execution_count": 427,
      "outputs": [
        {
          "output_type": "execute_result",
          "data": {
            "text/plain": [
              "DecisionTreeRegressor(max_depth=2, random_state=42)"
            ],
            "text/html": [
              "<style>#sk-container-id-28 {color: black;background-color: white;}#sk-container-id-28 pre{padding: 0;}#sk-container-id-28 div.sk-toggleable {background-color: white;}#sk-container-id-28 label.sk-toggleable__label {cursor: pointer;display: block;width: 100%;margin-bottom: 0;padding: 0.3em;box-sizing: border-box;text-align: center;}#sk-container-id-28 label.sk-toggleable__label-arrow:before {content: \"▸\";float: left;margin-right: 0.25em;color: #696969;}#sk-container-id-28 label.sk-toggleable__label-arrow:hover:before {color: black;}#sk-container-id-28 div.sk-estimator:hover label.sk-toggleable__label-arrow:before {color: black;}#sk-container-id-28 div.sk-toggleable__content {max-height: 0;max-width: 0;overflow: hidden;text-align: left;background-color: #f0f8ff;}#sk-container-id-28 div.sk-toggleable__content pre {margin: 0.2em;color: black;border-radius: 0.25em;background-color: #f0f8ff;}#sk-container-id-28 input.sk-toggleable__control:checked~div.sk-toggleable__content {max-height: 200px;max-width: 100%;overflow: auto;}#sk-container-id-28 input.sk-toggleable__control:checked~label.sk-toggleable__label-arrow:before {content: \"▾\";}#sk-container-id-28 div.sk-estimator input.sk-toggleable__control:checked~label.sk-toggleable__label {background-color: #d4ebff;}#sk-container-id-28 div.sk-label input.sk-toggleable__control:checked~label.sk-toggleable__label {background-color: #d4ebff;}#sk-container-id-28 input.sk-hidden--visually {border: 0;clip: rect(1px 1px 1px 1px);clip: rect(1px, 1px, 1px, 1px);height: 1px;margin: -1px;overflow: hidden;padding: 0;position: absolute;width: 1px;}#sk-container-id-28 div.sk-estimator {font-family: monospace;background-color: #f0f8ff;border: 1px dotted black;border-radius: 0.25em;box-sizing: border-box;margin-bottom: 0.5em;}#sk-container-id-28 div.sk-estimator:hover {background-color: #d4ebff;}#sk-container-id-28 div.sk-parallel-item::after {content: \"\";width: 100%;border-bottom: 1px solid gray;flex-grow: 1;}#sk-container-id-28 div.sk-label:hover label.sk-toggleable__label {background-color: #d4ebff;}#sk-container-id-28 div.sk-serial::before {content: \"\";position: absolute;border-left: 1px solid gray;box-sizing: border-box;top: 0;bottom: 0;left: 50%;z-index: 0;}#sk-container-id-28 div.sk-serial {display: flex;flex-direction: column;align-items: center;background-color: white;padding-right: 0.2em;padding-left: 0.2em;position: relative;}#sk-container-id-28 div.sk-item {position: relative;z-index: 1;}#sk-container-id-28 div.sk-parallel {display: flex;align-items: stretch;justify-content: center;background-color: white;position: relative;}#sk-container-id-28 div.sk-item::before, #sk-container-id-28 div.sk-parallel-item::before {content: \"\";position: absolute;border-left: 1px solid gray;box-sizing: border-box;top: 0;bottom: 0;left: 50%;z-index: -1;}#sk-container-id-28 div.sk-parallel-item {display: flex;flex-direction: column;z-index: 1;position: relative;background-color: white;}#sk-container-id-28 div.sk-parallel-item:first-child::after {align-self: flex-end;width: 50%;}#sk-container-id-28 div.sk-parallel-item:last-child::after {align-self: flex-start;width: 50%;}#sk-container-id-28 div.sk-parallel-item:only-child::after {width: 0;}#sk-container-id-28 div.sk-dashed-wrapped {border: 1px dashed gray;margin: 0 0.4em 0.5em 0.4em;box-sizing: border-box;padding-bottom: 0.4em;background-color: white;}#sk-container-id-28 div.sk-label label {font-family: monospace;font-weight: bold;display: inline-block;line-height: 1.2em;}#sk-container-id-28 div.sk-label-container {text-align: center;}#sk-container-id-28 div.sk-container {/* jupyter's `normalize.less` sets `[hidden] { display: none; }` but bootstrap.min.css set `[hidden] { display: none !important; }` so we also need the `!important` here to be able to override the default hidden behavior on the sphinx rendered scikit-learn.org. See: https://github.com/scikit-learn/scikit-learn/issues/21755 */display: inline-block !important;position: relative;}#sk-container-id-28 div.sk-text-repr-fallback {display: none;}</style><div id=\"sk-container-id-28\" class=\"sk-top-container\"><div class=\"sk-text-repr-fallback\"><pre>DecisionTreeRegressor(max_depth=2, random_state=42)</pre><b>In a Jupyter environment, please rerun this cell to show the HTML representation or trust the notebook. <br />On GitHub, the HTML representation is unable to render, please try loading this page with nbviewer.org.</b></div><div class=\"sk-container\" hidden><div class=\"sk-item\"><div class=\"sk-estimator sk-toggleable\"><input class=\"sk-toggleable__control sk-hidden--visually\" id=\"sk-estimator-id-58\" type=\"checkbox\" checked><label for=\"sk-estimator-id-58\" class=\"sk-toggleable__label sk-toggleable__label-arrow\">DecisionTreeRegressor</label><div class=\"sk-toggleable__content\"><pre>DecisionTreeRegressor(max_depth=2, random_state=42)</pre></div></div></div></div></div>"
            ]
          },
          "metadata": {},
          "execution_count": 427
        }
      ]
    },
    {
      "cell_type": "code",
      "source": [
        "# Predecir la variable objetivo de los datos de prueba y entrenamiento\n",
        "train_preds = reg_tree.predict(X_train_processed)\n",
        "test_preds = reg_tree.predict(X_test_processed)"
      ],
      "metadata": {
        "id": "eljuV0CFdmpF"
      },
      "execution_count": 428,
      "outputs": []
    },
    {
      "cell_type": "code",
      "source": [
        "train_score = reg_tree.score(X_train_processed, y_train)\n",
        "test_score = reg_tree.score(X_test_processed, y_test)\n",
        "\n",
        "print(f\"El valor del R2 de entrenamiento fue de: {round(train_score,3)} y el R2 de los datos de prueba fue de: {round(test_score,3)} por lo que ambos resultados tienen\\nuna diferencia de {round(round(train_score,3) - round(test_score,3),2)} que es bajita y a diferencia del primer modelo donde el R2 de los datos de prueba era negativo el árbol de regresión genera una mejor bondad de ajuste (R2).\")"
      ],
      "metadata": {
        "colab": {
          "base_uri": "https://localhost:8080/"
        },
        "id": "0KdRy9YPdtmn",
        "outputId": "6aa29260-8a9b-4312-aa4d-8726f853472f"
      },
      "execution_count": 430,
      "outputs": [
        {
          "output_type": "stream",
          "name": "stdout",
          "text": [
            "El valor del R2 de entrenamiento fue de: 0.432 y el R2 de los datos de prueba fue de: 0.434 por lo que ambos resultados tienen\n",
            "una diferencia de -0.0 que es bajita y a diferencia del primer modelo donde el R2 de los datos de prueba era negativo el árbol de regresión genera una mejor bondad de ajuste (R2).\n"
          ]
        }
      ]
    },
    {
      "cell_type": "markdown",
      "source": [
        "# Ajustar mejor el modelo"
      ],
      "metadata": {
        "id": "Y7CaDm-CfSR2"
      }
    },
    {
      "cell_type": "code",
      "source": [
        "### Analizar con un valor entre 2 y 10\n",
        "## Para este análisis se utilizará el código aprendido en la página.\n",
        "\n",
        "# Lista de valores a probar para max_depth:\n",
        "max_depth_range = list(range(2, 10))\n",
        "# Lista para almacenar la puntuación para cada valor de max_depth:\n",
        "r2 = []\n",
        "for depth in max_depth_range:\n",
        "    dec_tree = DecisionTreeRegressor(max_depth = depth, \n",
        "                             random_state = 42)\n",
        "    dec_tree.fit(X_train_processed, y_train)\n",
        "    score = dec_tree.score(X_test_processed, y_test)\n",
        "    r2.append(score)\n",
        "\n",
        "# Visualicen qué max_depth lleva a una puntuación R2 más alta\n",
        "import matplotlib.pyplot as plt\n",
        "plt.plot(max_depth_range, r2)\n",
        "plt.xlabel('max_depth')\n",
        "plt.ylabel('R2');"
      ],
      "metadata": {
        "colab": {
          "base_uri": "https://localhost:8080/",
          "height": 285
        },
        "id": "KMsnKU65fRwd",
        "outputId": "a5a596c3-c06a-49df-ac4a-2a93a9187b18"
      },
      "execution_count": 431,
      "outputs": [
        {
          "output_type": "display_data",
          "data": {
            "text/plain": [
              "<Figure size 432x288 with 1 Axes>"
            ],
            "image/png": "[encoded data removed]"
          },
          "metadata": {}
        }
      ]
    },
    {
      "cell_type": "markdown",
      "source": [
        "El modelo alcanza una mejor bondad de ajuste con un max_depth de 5, por lo que se ajustará el modelo."
      ],
      "metadata": {
        "id": "IEkx4DCXfv6s"
      }
    },
    {
      "cell_type": "code",
      "source": [
        "reg_tree_2 = DecisionTreeRegressor(max_depth = 7, random_state = 42)\n",
        "reg_tree_2.fit(X_train_processed, y_train)\n",
        "train_5_score = reg_tree_2.score(X_train_processed, y_train)\n",
        "test_5_score = reg_tree_2.score(X_test_processed, y_test)\n",
        "print(f\"Con el valor de 5 en el max_depth, se obtuvo un valor del R2 de entrenamiento fue de: {round(train_5_score,3)} y el R2 de los datos de prueba fue de: {round(test_5_score,3)} por lo que ambos resultados tienen\\nuna diferencia de {round(round(train_5_score,3) - round(test_5_score,3),2)} mayor a la inicial de {round(round(train_score,3) - round(test_score,3),2)} pero se alcanzó un R2 más alto en los datos de prueba con una diferencia de:{round(round(test_5_score,3) - round(test_score,3),2)} .\")"
      ],
      "metadata": {
        "colab": {
          "base_uri": "https://localhost:8080/"
        },
        "id": "EGZC6asXf6Oo",
        "outputId": "04e663b5-8374-4503-ca28-4d1b38a08f93"
      },
      "execution_count": 433,
      "outputs": [
        {
          "output_type": "stream",
          "name": "stdout",
          "text": [
            "Con el valor de 5 en el max_depth, se obtuvo un valor del R2 de entrenamiento fue de: 0.629 y el R2 de los datos de prueba fue de: 0.577 por lo que ambos resultados tienen\n",
            "una diferencia de 0.05 mayor a la inicial de -0.0 pero se alcanzó un R2 más alto en los datos de prueba con una diferencia de:0.14 .\n"
          ]
        }
      ]
    },
    {
      "cell_type": "code",
      "source": [
        "# Código obtenido de la clase 12\n",
        "from matplotlib import pyplot as plt\n",
        "from sklearn import tree\n",
        "\n",
        "fig = plt.figure(figsize=(25,20))\n",
        "_ = tree.plot_tree(reg_tree_2, filled = True)\n"
      ],
      "metadata": {
        "colab": {
          "base_uri": "https://localhost:8080/",
          "height": 1000
        },
        "id": "VSNmNO8Bih9o",
        "outputId": "1f76225c-f234-4b25-a3ed-4a68a2321bdd"
      },
      "execution_count": 437,
      "outputs": [
        {
          "output_type": "display_data",
          "data": {
            "text/plain": [
              "<Figure size 1800x1440 with 1 Axes>"
            ],
            "image/png": "[encoded data removed]"
          },
          "metadata": {}
        }
      ]
    },
    {
      "cell_type": "code",
      "source": [
        "rmse_train = np.sqrt(mean_squared_error(y_train, train_preds))\n",
        "rmse_test = np.sqrt(mean_squared_error(y_test, test_preds))\n",
        "\n",
        "print(f\"El valor del RECM de los datos entrenamiento fue de: {round(rmse_train,3)} y el de los datos de prueba fue de: {round(rmse_test,3)}. Lo que nos indica que el error promedio de predicción del modelo es de {round(rmse_test,3)} dólares.\")"
      ],
      "metadata": {
        "colab": {
          "base_uri": "https://localhost:8080/"
        },
        "id": "NTouYrEmg1Zw",
        "outputId": "570cacab-6d42-490d-ea53-7aa42a10db8b"
      },
      "execution_count": 434,
      "outputs": [
        {
          "output_type": "stream",
          "name": "stdout",
          "text": [
            "El valor del RECM de los datos entrenamiento fue de: 1296.932 y el de los datos de prueba fue de: 1249.878. Lo que nos indica que el error promedio de predicción del modelo es de 1249.878 dólares.\n"
          ]
        }
      ]
    },
    {
      "cell_type": "code",
      "source": [
        "print(f\"Finalmente, el mejor modelo que genera un RMCE más bajo es el árbol de regresión con un valor de {round(rmse_test,3)} dólares a diferencia del modelo de regresión que generó un RMCE de 1.351,09 dólares.\")"
      ],
      "metadata": {
        "colab": {
          "base_uri": "https://localhost:8080/"
        },
        "id": "Odz0yL-BhTV4",
        "outputId": "1375f367-4f0e-49ab-9871-80a5bcdeefeb"
      },
      "execution_count": 436,
      "outputs": [
        {
          "output_type": "stream",
          "name": "stdout",
          "text": [
            "Finalmente, el mejor modelo que genera un RMCE más bajo es el árbol de regresión con un valor de 1249.878 dólares a diferencia del modelo de regresión que generó un RMCE de 1.351,09 dólares.\n"
          ]
        }
      ]
    },
    {
      "cell_type": "markdown",
      "source": [
        "# En general, ¿qué modelo recomiendan?\n",
        "\n",
        "El modelo a utilizar el es de árboles de regresión, debido a la facilidad de generación del modelo, además de la facilidad de ajustar el modelo para obtener una mejor bondad de ajuste. Adicional, en términos técnicos el modelo de árboles de regresión obtiene una mejor métricas de evaluación como un R2 más alto y un RCME más bajo utilizando toda la informaciónde la base de datos."
      ],
      "metadata": {
        "id": "n9H2vbxmg9O8"
      }
    }
  ]
}