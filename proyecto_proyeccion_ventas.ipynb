{
  "nbformat": 4,
  "nbformat_minor": 0,
  "metadata": {
    "colab": {
      "provenance": [],
      "mount_file_id": "1XeNMuD6PAvokawap8um6Fmjyu_q7wZdc",
      "authorship_tag": "ABX9TyPuL4y0ROZINiafrPV4A3uh",
      "include_colab_link": true
    },
    "kernelspec": {
      "name": "python3",
      "display_name": "Python 3"
    },
    "language_info": {
      "name": "python"
    }
  },
  "cells": [
    {
      "cell_type": "markdown",
      "metadata": {
        "id": "view-in-github",
        "colab_type": "text"
      },
      "source": [
        "<a href=\"https://colab.research.google.com/github/David6230/Proyeccion_ventas/blob/main/proyecto_proyeccion_ventas.ipynb\" target=\"_parent\"><img src=\"https://colab.research.google.com/assets/colab-badge.svg\" alt=\"Open In Colab\"/></a>"
      ]
    },
    {
      "cell_type": "markdown",
      "source": [
        "# Proyecto de proyección de ventas"
      ],
      "metadata": {
        "id": "zOte2i6YEfxt"
      }
    },
    {
      "cell_type": "code",
      "execution_count": 7,
      "metadata": {
        "id": "zMQfWYQ_Ecd9",
        "colab": {
          "base_uri": "https://localhost:8080/",
          "height": 206
        },
        "outputId": "52a3d2a9-78a1-4bef-bcc8-6efd388c7351"
      },
      "outputs": [
        {
          "output_type": "execute_result",
          "data": {
            "text/plain": [
              "  Item_Identifier  Item_Weight Item_Fat_Content  Item_Visibility  \\\n",
              "0           FDA15         9.30          Low Fat         0.016047   \n",
              "1           DRC01         5.92          Regular         0.019278   \n",
              "2           FDN15        17.50          Low Fat         0.016760   \n",
              "3           FDX07        19.20          Regular         0.000000   \n",
              "4           NCD19         8.93          Low Fat         0.000000   \n",
              "\n",
              "               Item_Type  Item_MRP Outlet_Identifier  \\\n",
              "0                  Dairy  249.8092            OUT049   \n",
              "1            Soft Drinks   48.2692            OUT018   \n",
              "2                   Meat  141.6180            OUT049   \n",
              "3  Fruits and Vegetables  182.0950            OUT010   \n",
              "4              Household   53.8614            OUT013   \n",
              "\n",
              "   Outlet_Establishment_Year Outlet_Size Outlet_Location_Type  \\\n",
              "0                       1999      Medium               Tier 1   \n",
              "1                       2009      Medium               Tier 3   \n",
              "2                       1999      Medium               Tier 1   \n",
              "3                       1998         NaN               Tier 3   \n",
              "4                       1987        High               Tier 3   \n",
              "\n",
              "         Outlet_Type  Item_Outlet_Sales  \n",
              "0  Supermarket Type1          3735.1380  \n",
              "1  Supermarket Type2           443.4228  \n",
              "2  Supermarket Type1          2097.2700  \n",
              "3      Grocery Store           732.3800  \n",
              "4  Supermarket Type1           994.7052  "
            ],
            "text/html": [
              "\n",
              "  <div id=\"df-1d36f139-077a-4fd9-8dff-93e0e482fc18\">\n",
              "    <div class=\"colab-df-container\">\n",
              "      <div>\n",
              "<style scoped>\n",
              "    .dataframe tbody tr th:only-of-type {\n",
              "        vertical-align: middle;\n",
              "    }\n",
              "\n",
              "    .dataframe tbody tr th {\n",
              "        vertical-align: top;\n",
              "    }\n",
              "\n",
              "    .dataframe thead th {\n",
              "        text-align: right;\n",
              "    }\n",
              "</style>\n",
              "<table border=\"1\" class=\"dataframe\">\n",
              "  <thead>\n",
              "    <tr style=\"text-align: right;\">\n",
              "      <th></th>\n",
              "      <th>Item_Identifier</th>\n",
              "      <th>Item_Weight</th>\n",
              "      <th>Item_Fat_Content</th>\n",
              "      <th>Item_Visibility</th>\n",
              "      <th>Item_Type</th>\n",
              "      <th>Item_MRP</th>\n",
              "      <th>Outlet_Identifier</th>\n",
              "      <th>Outlet_Establishment_Year</th>\n",
              "      <th>Outlet_Size</th>\n",
              "      <th>Outlet_Location_Type</th>\n",
              "      <th>Outlet_Type</th>\n",
              "      <th>Item_Outlet_Sales</th>\n",
              "    </tr>\n",
              "  </thead>\n",
              "  <tbody>\n",
              "    <tr>\n",
              "      <th>0</th>\n",
              "      <td>FDA15</td>\n",
              "      <td>9.30</td>\n",
              "      <td>Low Fat</td>\n",
              "      <td>0.016047</td>\n",
              "      <td>Dairy</td>\n",
              "      <td>249.8092</td>\n",
              "      <td>OUT049</td>\n",
              "      <td>1999</td>\n",
              "      <td>Medium</td>\n",
              "      <td>Tier 1</td>\n",
              "      <td>Supermarket Type1</td>\n",
              "      <td>3735.1380</td>\n",
              "    </tr>\n",
              "    <tr>\n",
              "      <th>1</th>\n",
              "      <td>DRC01</td>\n",
              "      <td>5.92</td>\n",
              "      <td>Regular</td>\n",
              "      <td>0.019278</td>\n",
              "      <td>Soft Drinks</td>\n",
              "      <td>48.2692</td>\n",
              "      <td>OUT018</td>\n",
              "      <td>2009</td>\n",
              "      <td>Medium</td>\n",
              "      <td>Tier 3</td>\n",
              "      <td>Supermarket Type2</td>\n",
              "      <td>443.4228</td>\n",
              "    </tr>\n",
              "    <tr>\n",
              "      <th>2</th>\n",
              "      <td>FDN15</td>\n",
              "      <td>17.50</td>\n",
              "      <td>Low Fat</td>\n",
              "      <td>0.016760</td>\n",
              "      <td>Meat</td>\n",
              "      <td>141.6180</td>\n",
              "      <td>OUT049</td>\n",
              "      <td>1999</td>\n",
              "      <td>Medium</td>\n",
              "      <td>Tier 1</td>\n",
              "      <td>Supermarket Type1</td>\n",
              "      <td>2097.2700</td>\n",
              "    </tr>\n",
              "    <tr>\n",
              "      <th>3</th>\n",
              "      <td>FDX07</td>\n",
              "      <td>19.20</td>\n",
              "      <td>Regular</td>\n",
              "      <td>0.000000</td>\n",
              "      <td>Fruits and Vegetables</td>\n",
              "      <td>182.0950</td>\n",
              "      <td>OUT010</td>\n",
              "      <td>1998</td>\n",
              "      <td>NaN</td>\n",
              "      <td>Tier 3</td>\n",
              "      <td>Grocery Store</td>\n",
              "      <td>732.3800</td>\n",
              "    </tr>\n",
              "    <tr>\n",
              "      <th>4</th>\n",
              "      <td>NCD19</td>\n",
              "      <td>8.93</td>\n",
              "      <td>Low Fat</td>\n",
              "      <td>0.000000</td>\n",
              "      <td>Household</td>\n",
              "      <td>53.8614</td>\n",
              "      <td>OUT013</td>\n",
              "      <td>1987</td>\n",
              "      <td>High</td>\n",
              "      <td>Tier 3</td>\n",
              "      <td>Supermarket Type1</td>\n",
              "      <td>994.7052</td>\n",
              "    </tr>\n",
              "  </tbody>\n",
              "</table>\n",
              "</div>\n",
              "      <button class=\"colab-df-convert\" onclick=\"convertToInteractive('df-1d36f139-077a-4fd9-8dff-93e0e482fc18')\"\n",
              "              title=\"Convert this dataframe to an interactive table.\"\n",
              "              style=\"display:none;\">\n",
              "        \n",
              "  <svg xmlns=\"http://www.w3.org/2000/svg\" height=\"24px\"viewBox=\"0 0 24 24\"\n",
              "       width=\"24px\">\n",
              "    <path d=\"M0 0h24v24H0V0z\" fill=\"none\"/>\n",
              "    <path d=\"M18.56 5.44l.94 2.06.94-2.06 2.06-.94-2.06-.94-.94-2.06-.94 2.06-2.06.94zm-11 1L8.5 8.5l.94-2.06 2.06-.94-2.06-.94L8.5 2.5l-.94 2.06-2.06.94zm10 10l.94 2.06.94-2.06 2.06-.94-2.06-.94-.94-2.06-.94 2.06-2.06.94z\"/><path d=\"M17.41 7.96l-1.37-1.37c-.4-.4-.92-.59-1.43-.59-.52 0-1.04.2-1.43.59L10.3 9.45l-7.72 7.72c-.78.78-.78 2.05 0 2.83L4 21.41c.39.39.9.59 1.41.59.51 0 1.02-.2 1.41-.59l7.78-7.78 2.81-2.81c.8-.78.8-2.07 0-2.86zM5.41 20L4 18.59l7.72-7.72 1.47 1.35L5.41 20z\"/>\n",
              "  </svg>\n",
              "      </button>\n",
              "      \n",
              "  <style>\n",
              "    .colab-df-container {\n",
              "      display:flex;\n",
              "      flex-wrap:wrap;\n",
              "      gap: 12px;\n",
              "    }\n",
              "\n",
              "    .colab-df-convert {\n",
              "      background-color: #E8F0FE;\n",
              "      border: none;\n",
              "      border-radius: 50%;\n",
              "      cursor: pointer;\n",
              "      display: none;\n",
              "      fill: #1967D2;\n",
              "      height: 32px;\n",
              "      padding: 0 0 0 0;\n",
              "      width: 32px;\n",
              "    }\n",
              "\n",
              "    .colab-df-convert:hover {\n",
              "      background-color: #E2EBFA;\n",
              "      box-shadow: 0px 1px 2px rgba(60, 64, 67, 0.3), 0px 1px 3px 1px rgba(60, 64, 67, 0.15);\n",
              "      fill: #174EA6;\n",
              "    }\n",
              "\n",
              "    [theme=dark] .colab-df-convert {\n",
              "      background-color: #3B4455;\n",
              "      fill: #D2E3FC;\n",
              "    }\n",
              "\n",
              "    [theme=dark] .colab-df-convert:hover {\n",
              "      background-color: #434B5C;\n",
              "      box-shadow: 0px 1px 3px 1px rgba(0, 0, 0, 0.15);\n",
              "      filter: drop-shadow(0px 1px 2px rgba(0, 0, 0, 0.3));\n",
              "      fill: #FFFFFF;\n",
              "    }\n",
              "  </style>\n",
              "\n",
              "      <script>\n",
              "        const buttonEl =\n",
              "          document.querySelector('#df-1d36f139-077a-4fd9-8dff-93e0e482fc18 button.colab-df-convert');\n",
              "        buttonEl.style.display =\n",
              "          google.colab.kernel.accessAllowed ? 'block' : 'none';\n",
              "\n",
              "        async function convertToInteractive(key) {\n",
              "          const element = document.querySelector('#df-1d36f139-077a-4fd9-8dff-93e0e482fc18');\n",
              "          const dataTable =\n",
              "            await google.colab.kernel.invokeFunction('convertToInteractive',\n",
              "                                                     [key], {});\n",
              "          if (!dataTable) return;\n",
              "\n",
              "          const docLinkHtml = 'Like what you see? Visit the ' +\n",
              "            '<a target=\"_blank\" href=https://colab.research.google.com/notebooks/data_table.ipynb>data table notebook</a>'\n",
              "            + ' to learn more about interactive tables.';\n",
              "          element.innerHTML = '';\n",
              "          dataTable['output_type'] = 'display_data';\n",
              "          await google.colab.output.renderOutput(dataTable, element);\n",
              "          const docLink = document.createElement('div');\n",
              "          docLink.innerHTML = docLinkHtml;\n",
              "          element.appendChild(docLink);\n",
              "        }\n",
              "      </script>\n",
              "    </div>\n",
              "  </div>\n",
              "  "
            ]
          },
          "metadata": {},
          "execution_count": 7
        }
      ],
      "source": [
        "import pandas as pd\n",
        "file_name = \"/content/drive/MyDrive/CODIN DOJO/sales_predictions.csv\"\n",
        "df_ventas = pd.read_csv(file_name)\n",
        "df_ventas.head()"
      ]
    },
    {
      "cell_type": "markdown",
      "source": [
        "# ¿Cuántas filas y columnas?"
      ],
      "metadata": {
        "id": "Cy7f1Av7s-cU"
      }
    },
    {
      "cell_type": "code",
      "source": [
        "a_1 = pd.DataFrame(df_ventas.shape)\n",
        "\n",
        "\n",
        "print(f\"La base cuenta con {a_1[0][0]} filas y {a_1[0][1]} columnas.\")"
      ],
      "metadata": {
        "colab": {
          "base_uri": "https://localhost:8080/"
        },
        "id": "Ix9dP0nKtBk4",
        "outputId": "a70fa365-9de4-446f-c8e5-93f90950731d"
      },
      "execution_count": 8,
      "outputs": [
        {
          "output_type": "stream",
          "name": "stdout",
          "text": [
            "La base cuenta con 8523 filas y 12 columnas.\n"
          ]
        }
      ]
    },
    {
      "cell_type": "markdown",
      "source": [
        "# ¿Cuáles son los tipos de datos en cada variable?"
      ],
      "metadata": {
        "id": "VGMYj8F3t5rj"
      }
    },
    {
      "cell_type": "code",
      "source": [
        "df_ventas.dtypes"
      ],
      "metadata": {
        "colab": {
          "base_uri": "https://localhost:8080/"
        },
        "id": "WmT04SVcteg7",
        "outputId": "2cad4c5e-a0c1-4ed3-94fa-4605b4e3d51b"
      },
      "execution_count": null,
      "outputs": [
        {
          "output_type": "execute_result",
          "data": {
            "text/plain": [
              "Item_Identifier               object\n",
              "Item_Weight                  float64\n",
              "Item_Fat_Content              object\n",
              "Item_Visibility              float64\n",
              "Item_Type                     object\n",
              "Item_MRP                     float64\n",
              "Outlet_Identifier             object\n",
              "Outlet_Establishment_Year      int64\n",
              "Outlet_Size                   object\n",
              "Outlet_Location_Type          object\n",
              "Outlet_Type                   object\n",
              "Item_Outlet_Sales            float64\n",
              "dtype: object"
            ]
          },
          "metadata": {},
          "execution_count": 8
        }
      ]
    },
    {
      "cell_type": "markdown",
      "source": [
        "* Los tipos de datos con los que cuenta la base de datos son **object** y **float64**.\n"
      ],
      "metadata": {
        "id": "69z_iZKWuVUp"
      }
    },
    {
      "cell_type": "code",
      "source": [
        "df_ventas.info()"
      ],
      "metadata": {
        "colab": {
          "base_uri": "https://localhost:8080/"
        },
        "id": "gqzEV_-hslqO",
        "outputId": "a43458ad-6136-450e-dcfa-c0a751df1c42"
      },
      "execution_count": null,
      "outputs": [
        {
          "output_type": "stream",
          "name": "stdout",
          "text": [
            "<class 'pandas.core.frame.DataFrame'>\n",
            "RangeIndex: 8523 entries, 0 to 8522\n",
            "Data columns (total 12 columns):\n",
            " #   Column                     Non-Null Count  Dtype  \n",
            "---  ------                     --------------  -----  \n",
            " 0   Item_Identifier            8523 non-null   object \n",
            " 1   Item_Weight                7060 non-null   float64\n",
            " 2   Item_Fat_Content           8523 non-null   object \n",
            " 3   Item_Visibility            8523 non-null   float64\n",
            " 4   Item_Type                  8523 non-null   object \n",
            " 5   Item_MRP                   8523 non-null   float64\n",
            " 6   Outlet_Identifier          8523 non-null   object \n",
            " 7   Outlet_Establishment_Year  8523 non-null   int64  \n",
            " 8   Outlet_Size                6113 non-null   object \n",
            " 9   Outlet_Location_Type       8523 non-null   object \n",
            " 10  Outlet_Type                8523 non-null   object \n",
            " 11  Item_Outlet_Sales          8523 non-null   float64\n",
            "dtypes: float64(4), int64(1), object(7)\n",
            "memory usage: 799.2+ KB\n"
          ]
        }
      ]
    },
    {
      "cell_type": "markdown",
      "source": [
        "# Análisis de datos duplicados"
      ],
      "metadata": {
        "id": "VTgF_UOTugiW"
      }
    },
    {
      "cell_type": "markdown",
      "source": [
        "* Para realizar el análisis de registros duplicativos tomaremos la variable \"Item_Identifier\", como identificador único para determinar los registros duplicados."
      ],
      "metadata": {
        "id": "7P31v_tTwfO0"
      }
    },
    {
      "cell_type": "code",
      "source": [
        "# Procedo a realizar un testeo de un registro duplicado\n",
        "#Genero una copia de mi base para no trabajar en la original\n",
        "\n",
        "b_1 = df_ventas.copy()\n"
      ],
      "metadata": {
        "id": "G2T5sbrVwtMi"
      },
      "execution_count": 10,
      "outputs": []
    },
    {
      "cell_type": "code",
      "source": [
        "b_1[\"dup\"] = b_1[\"Item_Identifier\"].duplicated()\n",
        "a_1 = b_1[b_1[\"dup\"] == True]\n",
        "a_2 = b_1[b_1[\"Item_Identifier\"] == \"FDP49\"]\n",
        "a_2.head(5)"
      ],
      "metadata": {
        "colab": {
          "base_uri": "https://localhost:8080/",
          "height": 206
        },
        "id": "cLWypX06xDDj",
        "outputId": "3c0576b7-cc06-483f-de64-6c475b5f06fc"
      },
      "execution_count": 11,
      "outputs": [
        {
          "output_type": "execute_result",
          "data": {
            "text/plain": [
              "     Item_Identifier  Item_Weight Item_Fat_Content  Item_Visibility  \\\n",
              "15             FDP49          9.0          Regular         0.069089   \n",
              "17             FDP49          9.0          Regular         0.069196   \n",
              "3973           FDP49          9.0          Regular         0.000000   \n",
              "5630           FDP49          9.0          Regular         0.069229   \n",
              "6040           FDP49          NaN          Regular         0.120966   \n",
              "\n",
              "      Item_Type  Item_MRP Outlet_Identifier  Outlet_Establishment_Year  \\\n",
              "15    Breakfast   56.3614            OUT046                       1997   \n",
              "17    Breakfast   54.3614            OUT049                       1999   \n",
              "3973  Breakfast   55.2614            OUT018                       2009   \n",
              "5630  Breakfast   55.9614            OUT045                       2002   \n",
              "6040  Breakfast   55.8614            OUT019                       1985   \n",
              "\n",
              "     Outlet_Size Outlet_Location_Type        Outlet_Type  Item_Outlet_Sales  \\\n",
              "15         Small               Tier 1  Supermarket Type1          1547.3192   \n",
              "17        Medium               Tier 1  Supermarket Type1           718.3982   \n",
              "3973      Medium               Tier 3  Supermarket Type2           552.6140   \n",
              "5630         NaN               Tier 2  Supermarket Type1           386.8298   \n",
              "6040       Small               Tier 1      Grocery Store           110.5228   \n",
              "\n",
              "        dup  \n",
              "15    False  \n",
              "17     True  \n",
              "3973   True  \n",
              "5630   True  \n",
              "6040   True  "
            ],
            "text/html": [
              "\n",
              "  <div id=\"df-8d715cd0-b5ed-49ea-8d20-1eeb2c54d51c\">\n",
              "    <div class=\"colab-df-container\">\n",
              "      <div>\n",
              "<style scoped>\n",
              "    .dataframe tbody tr th:only-of-type {\n",
              "        vertical-align: middle;\n",
              "    }\n",
              "\n",
              "    .dataframe tbody tr th {\n",
              "        vertical-align: top;\n",
              "    }\n",
              "\n",
              "    .dataframe thead th {\n",
              "        text-align: right;\n",
              "    }\n",
              "</style>\n",
              "<table border=\"1\" class=\"dataframe\">\n",
              "  <thead>\n",
              "    <tr style=\"text-align: right;\">\n",
              "      <th></th>\n",
              "      <th>Item_Identifier</th>\n",
              "      <th>Item_Weight</th>\n",
              "      <th>Item_Fat_Content</th>\n",
              "      <th>Item_Visibility</th>\n",
              "      <th>Item_Type</th>\n",
              "      <th>Item_MRP</th>\n",
              "      <th>Outlet_Identifier</th>\n",
              "      <th>Outlet_Establishment_Year</th>\n",
              "      <th>Outlet_Size</th>\n",
              "      <th>Outlet_Location_Type</th>\n",
              "      <th>Outlet_Type</th>\n",
              "      <th>Item_Outlet_Sales</th>\n",
              "      <th>dup</th>\n",
              "    </tr>\n",
              "  </thead>\n",
              "  <tbody>\n",
              "    <tr>\n",
              "      <th>15</th>\n",
              "      <td>FDP49</td>\n",
              "      <td>9.0</td>\n",
              "      <td>Regular</td>\n",
              "      <td>0.069089</td>\n",
              "      <td>Breakfast</td>\n",
              "      <td>56.3614</td>\n",
              "      <td>OUT046</td>\n",
              "      <td>1997</td>\n",
              "      <td>Small</td>\n",
              "      <td>Tier 1</td>\n",
              "      <td>Supermarket Type1</td>\n",
              "      <td>1547.3192</td>\n",
              "      <td>False</td>\n",
              "    </tr>\n",
              "    <tr>\n",
              "      <th>17</th>\n",
              "      <td>FDP49</td>\n",
              "      <td>9.0</td>\n",
              "      <td>Regular</td>\n",
              "      <td>0.069196</td>\n",
              "      <td>Breakfast</td>\n",
              "      <td>54.3614</td>\n",
              "      <td>OUT049</td>\n",
              "      <td>1999</td>\n",
              "      <td>Medium</td>\n",
              "      <td>Tier 1</td>\n",
              "      <td>Supermarket Type1</td>\n",
              "      <td>718.3982</td>\n",
              "      <td>True</td>\n",
              "    </tr>\n",
              "    <tr>\n",
              "      <th>3973</th>\n",
              "      <td>FDP49</td>\n",
              "      <td>9.0</td>\n",
              "      <td>Regular</td>\n",
              "      <td>0.000000</td>\n",
              "      <td>Breakfast</td>\n",
              "      <td>55.2614</td>\n",
              "      <td>OUT018</td>\n",
              "      <td>2009</td>\n",
              "      <td>Medium</td>\n",
              "      <td>Tier 3</td>\n",
              "      <td>Supermarket Type2</td>\n",
              "      <td>552.6140</td>\n",
              "      <td>True</td>\n",
              "    </tr>\n",
              "    <tr>\n",
              "      <th>5630</th>\n",
              "      <td>FDP49</td>\n",
              "      <td>9.0</td>\n",
              "      <td>Regular</td>\n",
              "      <td>0.069229</td>\n",
              "      <td>Breakfast</td>\n",
              "      <td>55.9614</td>\n",
              "      <td>OUT045</td>\n",
              "      <td>2002</td>\n",
              "      <td>NaN</td>\n",
              "      <td>Tier 2</td>\n",
              "      <td>Supermarket Type1</td>\n",
              "      <td>386.8298</td>\n",
              "      <td>True</td>\n",
              "    </tr>\n",
              "    <tr>\n",
              "      <th>6040</th>\n",
              "      <td>FDP49</td>\n",
              "      <td>NaN</td>\n",
              "      <td>Regular</td>\n",
              "      <td>0.120966</td>\n",
              "      <td>Breakfast</td>\n",
              "      <td>55.8614</td>\n",
              "      <td>OUT019</td>\n",
              "      <td>1985</td>\n",
              "      <td>Small</td>\n",
              "      <td>Tier 1</td>\n",
              "      <td>Grocery Store</td>\n",
              "      <td>110.5228</td>\n",
              "      <td>True</td>\n",
              "    </tr>\n",
              "  </tbody>\n",
              "</table>\n",
              "</div>\n",
              "      <button class=\"colab-df-convert\" onclick=\"convertToInteractive('df-8d715cd0-b5ed-49ea-8d20-1eeb2c54d51c')\"\n",
              "              title=\"Convert this dataframe to an interactive table.\"\n",
              "              style=\"display:none;\">\n",
              "        \n",
              "  <svg xmlns=\"http://www.w3.org/2000/svg\" height=\"24px\"viewBox=\"0 0 24 24\"\n",
              "       width=\"24px\">\n",
              "    <path d=\"M0 0h24v24H0V0z\" fill=\"none\"/>\n",
              "    <path d=\"M18.56 5.44l.94 2.06.94-2.06 2.06-.94-2.06-.94-.94-2.06-.94 2.06-2.06.94zm-11 1L8.5 8.5l.94-2.06 2.06-.94-2.06-.94L8.5 2.5l-.94 2.06-2.06.94zm10 10l.94 2.06.94-2.06 2.06-.94-2.06-.94-.94-2.06-.94 2.06-2.06.94z\"/><path d=\"M17.41 7.96l-1.37-1.37c-.4-.4-.92-.59-1.43-.59-.52 0-1.04.2-1.43.59L10.3 9.45l-7.72 7.72c-.78.78-.78 2.05 0 2.83L4 21.41c.39.39.9.59 1.41.59.51 0 1.02-.2 1.41-.59l7.78-7.78 2.81-2.81c.8-.78.8-2.07 0-2.86zM5.41 20L4 18.59l7.72-7.72 1.47 1.35L5.41 20z\"/>\n",
              "  </svg>\n",
              "      </button>\n",
              "      \n",
              "  <style>\n",
              "    .colab-df-container {\n",
              "      display:flex;\n",
              "      flex-wrap:wrap;\n",
              "      gap: 12px;\n",
              "    }\n",
              "\n",
              "    .colab-df-convert {\n",
              "      background-color: #E8F0FE;\n",
              "      border: none;\n",
              "      border-radius: 50%;\n",
              "      cursor: pointer;\n",
              "      display: none;\n",
              "      fill: #1967D2;\n",
              "      height: 32px;\n",
              "      padding: 0 0 0 0;\n",
              "      width: 32px;\n",
              "    }\n",
              "\n",
              "    .colab-df-convert:hover {\n",
              "      background-color: #E2EBFA;\n",
              "      box-shadow: 0px 1px 2px rgba(60, 64, 67, 0.3), 0px 1px 3px 1px rgba(60, 64, 67, 0.15);\n",
              "      fill: #174EA6;\n",
              "    }\n",
              "\n",
              "    [theme=dark] .colab-df-convert {\n",
              "      background-color: #3B4455;\n",
              "      fill: #D2E3FC;\n",
              "    }\n",
              "\n",
              "    [theme=dark] .colab-df-convert:hover {\n",
              "      background-color: #434B5C;\n",
              "      box-shadow: 0px 1px 3px 1px rgba(0, 0, 0, 0.15);\n",
              "      filter: drop-shadow(0px 1px 2px rgba(0, 0, 0, 0.3));\n",
              "      fill: #FFFFFF;\n",
              "    }\n",
              "  </style>\n",
              "\n",
              "      <script>\n",
              "        const buttonEl =\n",
              "          document.querySelector('#df-8d715cd0-b5ed-49ea-8d20-1eeb2c54d51c button.colab-df-convert');\n",
              "        buttonEl.style.display =\n",
              "          google.colab.kernel.accessAllowed ? 'block' : 'none';\n",
              "\n",
              "        async function convertToInteractive(key) {\n",
              "          const element = document.querySelector('#df-8d715cd0-b5ed-49ea-8d20-1eeb2c54d51c');\n",
              "          const dataTable =\n",
              "            await google.colab.kernel.invokeFunction('convertToInteractive',\n",
              "                                                     [key], {});\n",
              "          if (!dataTable) return;\n",
              "\n",
              "          const docLinkHtml = 'Like what you see? Visit the ' +\n",
              "            '<a target=\"_blank\" href=https://colab.research.google.com/notebooks/data_table.ipynb>data table notebook</a>'\n",
              "            + ' to learn more about interactive tables.';\n",
              "          element.innerHTML = '';\n",
              "          dataTable['output_type'] = 'display_data';\n",
              "          await google.colab.output.renderOutput(dataTable, element);\n",
              "          const docLink = document.createElement('div');\n",
              "          docLink.innerHTML = docLinkHtml;\n",
              "          element.appendChild(docLink);\n",
              "        }\n",
              "      </script>\n",
              "    </div>\n",
              "  </div>\n",
              "  "
            ]
          },
          "metadata": {},
          "execution_count": 11
        }
      ]
    },
    {
      "cell_type": "markdown",
      "source": [
        "* Del análisis exploratorio realizado a un registro que por el Item_identifier parecia duplicados, pero se pudo observar que en sí el registro no estaba duplicado ya que en las demás variables contenía información diferente."
      ],
      "metadata": {
        "id": "6YzrWOxnyVXY"
      }
    },
    {
      "cell_type": "markdown",
      "source": [
        "* Como siguiente análisis se procede a realizar un \"distinc\" a la base con el objetivo de dar la última revisión a datos duplicados. Al igual que el caso anterior se realizará una copia de la base original."
      ],
      "metadata": {
        "id": "R2xS-SJWyx4C"
      }
    },
    {
      "cell_type": "code",
      "source": [
        "b_1 = df_ventas.copy()"
      ],
      "metadata": {
        "id": "peM30Qw5zE2J"
      },
      "execution_count": 12,
      "outputs": []
    },
    {
      "cell_type": "code",
      "source": [
        "b_1.shape"
      ],
      "metadata": {
        "colab": {
          "base_uri": "https://localhost:8080/"
        },
        "id": "Xf1WuIbbzGWp",
        "outputId": "418be8a6-e2e4-4d47-d560-7ab11b9fe56d"
      },
      "execution_count": 13,
      "outputs": [
        {
          "output_type": "execute_result",
          "data": {
            "text/plain": [
              "(8523, 12)"
            ]
          },
          "metadata": {},
          "execution_count": 13
        }
      ]
    },
    {
      "cell_type": "code",
      "source": [
        "b_2 = b_1.drop_duplicates()\n",
        "b_2.shape"
      ],
      "metadata": {
        "colab": {
          "base_uri": "https://localhost:8080/"
        },
        "id": "j9IOaqKSzMux",
        "outputId": "6e86306c-e299-4de7-a5b7-c75433596e36"
      },
      "execution_count": 14,
      "outputs": [
        {
          "output_type": "execute_result",
          "data": {
            "text/plain": [
              "(8523, 12)"
            ]
          },
          "metadata": {},
          "execution_count": 14
        }
      ]
    },
    {
      "cell_type": "markdown",
      "source": [
        "* El segundo análisis me indica que no existen datos duplicados en la base, por lo que se considera mantener todos los registros teniendo como primer criterio la duplicidad de la información."
      ],
      "metadata": {
        "id": "TBhc6-bmzcG-"
      }
    },
    {
      "cell_type": "markdown",
      "source": [
        "# Identificación de valores faltantes en la base"
      ],
      "metadata": {
        "id": "Jxzqs_12zt3u"
      }
    },
    {
      "cell_type": "code",
      "source": [
        "df_ventas.isna().sum()"
      ],
      "metadata": {
        "colab": {
          "base_uri": "https://localhost:8080/"
        },
        "id": "OGHf4H87ulzi",
        "outputId": "43ecdd30-5b40-4a12-9476-78c49d3660e2"
      },
      "execution_count": 15,
      "outputs": [
        {
          "output_type": "execute_result",
          "data": {
            "text/plain": [
              "Item_Identifier                 0\n",
              "Item_Weight                  1463\n",
              "Item_Fat_Content                0\n",
              "Item_Visibility                 0\n",
              "Item_Type                       0\n",
              "Item_MRP                        0\n",
              "Outlet_Identifier               0\n",
              "Outlet_Establishment_Year       0\n",
              "Outlet_Size                  2410\n",
              "Outlet_Location_Type            0\n",
              "Outlet_Type                     0\n",
              "Item_Outlet_Sales               0\n",
              "dtype: int64"
            ]
          },
          "metadata": {},
          "execution_count": 15
        }
      ]
    },
    {
      "cell_type": "code",
      "source": [
        "a_1 = df_ventas[\"Item_Weight\"].isna().sum()\n",
        "a_2 = df_ventas[\"Outlet_Size\"].isna().sum()"
      ],
      "metadata": {
        "id": "7J9ti_F80vEA"
      },
      "execution_count": 17,
      "outputs": []
    },
    {
      "cell_type": "code",
      "source": [
        "print(f\"Del análisi se puede observar que existen valores NaN en las variables Item_Weight con un total de {a_1}\\ny la variable Outlet_Size {a_2} registros vacíos respectivamente.\")"
      ],
      "metadata": {
        "colab": {
          "base_uri": "https://localhost:8080/"
        },
        "id": "NohTIatV0hOw",
        "outputId": "96faf06a-8412-449f-a092-490140d962a1"
      },
      "execution_count": 18,
      "outputs": [
        {
          "output_type": "stream",
          "name": "stdout",
          "text": [
            "Del análisi se puede observar que existen valores NaN en las variables Item_Weight con un total de 1463\n",
            "y la variable Outlet_Size 2410 registros vacíos respectivamente.\n"
          ]
        }
      ]
    },
    {
      "cell_type": "markdown",
      "source": [
        "## Analisis los valores vacíos"
      ],
      "metadata": {
        "id": "0v-nhQAez-zO"
      }
    },
    {
      "cell_type": "markdown",
      "source": [
        "* Si la variable cuenta con más del 45% de la data con NaN se procede a eliminar la variable."
      ],
      "metadata": {
        "id": "uLYIxdP61n33"
      }
    },
    {
      "cell_type": "code",
      "source": [
        "nulos_Weight = (df_ventas[\"Item_Weight\"].isna().sum()/len(df_ventas[\"Item_Weight\"]))*100\n",
        "nulos_Size = (df_ventas[\"Outlet_Size\"].isna().sum()/len(df_ventas[\"Outlet_Size\"]))*100\n",
        "\n",
        "print(f\"El porcentaje de nulos en la variable Item_Weight fue de {round(nulos_Weight,2)}% y de la variable Outlet_Size\\nfue de {round(nulos_Size,2)}%, por debajo del 45% criterio de eliminación de la variable. Por lo que se decia\\na mantener las variables y se analizará alguna aternativa de impitación de datos.\")\n"
      ],
      "metadata": {
        "colab": {
          "base_uri": "https://localhost:8080/"
        },
        "id": "nlKWauqS0XlD",
        "outputId": "3e8bf0cd-da61-443c-fe87-648bda5a8be6"
      },
      "execution_count": 19,
      "outputs": [
        {
          "output_type": "stream",
          "name": "stdout",
          "text": [
            "El porcentaje de nulos en la variable Item_Weight fue de 17.17% y de la variable Outlet_Size\n",
            "fue de 28.28%, por debajo del 45% criterio de eliminación de la variable. Por lo que se decia\n",
            "a mantener las variables y se analizará alguna aternativa de impitación de datos.\n"
          ]
        }
      ]
    },
    {
      "cell_type": "markdown",
      "source": [
        "# Confirmen que no hay valores faltantes después de abordarlos"
      ],
      "metadata": {
        "id": "S1OiRnKK33vx"
      }
    },
    {
      "cell_type": "markdown",
      "source": [
        "* Se procede a realizar la imputación por la mediana de cada una de los valores tomando como punto de referencia el ID Item_Identifier.\n",
        "* Se generará una copia de la base donde se va a realizar la imputación de datos."
      ],
      "metadata": {
        "id": "WUPyXyoi35eS"
      }
    },
    {
      "cell_type": "code",
      "source": [
        "dt1 = df_ventas.copy()"
      ],
      "metadata": {
        "id": "bRCxZtFi4fAO"
      },
      "execution_count": 20,
      "outputs": []
    },
    {
      "cell_type": "code",
      "source": [
        "## Lleno los NaN con la mediana del peso y la moda\n",
        "median_peso = dt1[\"Item_Weight\"].median()\n",
        "print(median_peso)"
      ],
      "metadata": {
        "colab": {
          "base_uri": "https://localhost:8080/"
        },
        "id": "qd5KLJHH4kDR",
        "outputId": "4b0771ac-92f7-42de-f8c1-144a741afa3f"
      },
      "execution_count": 21,
      "outputs": [
        {
          "output_type": "stream",
          "name": "stdout",
          "text": [
            "12.6\n"
          ]
        }
      ]
    },
    {
      "cell_type": "code",
      "source": [
        "## Reemplazo los NaN con la median del peso\n",
        "dt1[\"Item_Weight\"].fillna(median_peso, inplace= True)"
      ],
      "metadata": {
        "id": "xtnJFToPEut8"
      },
      "execution_count": 22,
      "outputs": []
    },
    {
      "cell_type": "code",
      "source": [
        "dt1[\"Item_Weight\"].isna().sum()"
      ],
      "metadata": {
        "colab": {
          "base_uri": "https://localhost:8080/"
        },
        "id": "OSyq4IjyE76M",
        "outputId": "e6ed951f-a8f1-4327-bd35-4024c7f867d0"
      },
      "execution_count": 23,
      "outputs": [
        {
          "output_type": "execute_result",
          "data": {
            "text/plain": [
              "0"
            ]
          },
          "metadata": {},
          "execution_count": 23
        }
      ]
    },
    {
      "cell_type": "code",
      "source": [
        "size_comun = dt1['Outlet_Size'].mode()\n",
        "print(size_comun)"
      ],
      "metadata": {
        "colab": {
          "base_uri": "https://localhost:8080/"
        },
        "id": "Jq3PGghi6iMs",
        "outputId": "241241dd-9d9c-4db2-db17-20dc8ab4c28a"
      },
      "execution_count": 239,
      "outputs": [
        {
          "output_type": "stream",
          "name": "stdout",
          "text": [
            "0    Medium\n",
            "dtype: object\n"
          ]
        }
      ]
    },
    {
      "cell_type": "code",
      "source": [
        "dt1[\"Outlet_Size\"] = dt1[\"Outlet_Size\"].astype(str)"
      ],
      "metadata": {
        "id": "THqFpsPcHrho"
      },
      "execution_count": 25,
      "outputs": []
    },
    {
      "cell_type": "code",
      "source": [
        "dt1[\"Outlet_Size\"] = dt1[\"Outlet_Size\"].apply(lambda x: \"Medium\" if x in [\"nan\"] else x)"
      ],
      "metadata": {
        "id": "nJfOVQVE7XVh"
      },
      "execution_count": 244,
      "outputs": []
    },
    {
      "cell_type": "code",
      "source": [
        "dt1[\"Outlet_Size\"].value_counts()"
      ],
      "metadata": {
        "colab": {
          "base_uri": "https://localhost:8080/"
        },
        "id": "NMssSL_1H2Xd",
        "outputId": "4d7e4fad-7176-4a29-c9ed-efb09063b8ee"
      },
      "execution_count": 245,
      "outputs": [
        {
          "output_type": "execute_result",
          "data": {
            "text/plain": [
              "Medium    5203\n",
              "Small     2388\n",
              "High       932\n",
              "Name: Outlet_Size, dtype: int64"
            ]
          },
          "metadata": {},
          "execution_count": 245
        }
      ]
    },
    {
      "cell_type": "code",
      "source": [
        "dt1.isna().sum()"
      ],
      "metadata": {
        "colab": {
          "base_uri": "https://localhost:8080/"
        },
        "id": "Shn_tv3O-Jjl",
        "outputId": "c929704c-62b0-4e67-b0d0-e59acd726318"
      },
      "execution_count": 246,
      "outputs": [
        {
          "output_type": "execute_result",
          "data": {
            "text/plain": [
              "Item_Identifier              0\n",
              "Item_Weight                  0\n",
              "Item_Fat_Content             0\n",
              "Item_Visibility              0\n",
              "Item_Type                    0\n",
              "Item_MRP                     0\n",
              "Outlet_Identifier            0\n",
              "Outlet_Establishment_Year    0\n",
              "Outlet_Size                  0\n",
              "Outlet_Location_Type         0\n",
              "Outlet_Type                  0\n",
              "Item_Outlet_Sales            0\n",
              "dtype: int64"
            ]
          },
          "metadata": {},
          "execution_count": 246
        }
      ]
    },
    {
      "cell_type": "markdown",
      "source": [
        "# Encuentren y arreglen alguna categoría inconsistente de datos (example: fix cat, Cat, and cats so that they are consistent)"
      ],
      "metadata": {
        "id": "BrD_K-quIeGQ"
      }
    },
    {
      "cell_type": "code",
      "source": [
        "dt1.head(5)"
      ],
      "metadata": {
        "colab": {
          "base_uri": "https://localhost:8080/",
          "height": 206
        },
        "id": "bh-W3PhUIhv-",
        "outputId": "c4bfaad6-3317-4f28-99aa-33b91c4bc477"
      },
      "execution_count": 247,
      "outputs": [
        {
          "output_type": "execute_result",
          "data": {
            "text/plain": [
              "  Item_Identifier  Item_Weight Item_Fat_Content  Item_Visibility  \\\n",
              "0           FDA15         9.30          Low Fat         0.016047   \n",
              "1           DRC01         5.92          Regular         0.019278   \n",
              "2           FDN15        17.50          Low Fat         0.016760   \n",
              "3           FDX07        19.20          Regular         0.000000   \n",
              "4           NCD19         8.93          Low Fat         0.000000   \n",
              "\n",
              "               Item_Type  Item_MRP Outlet_Identifier  \\\n",
              "0                  Dairy  249.8092            OUT049   \n",
              "1            Soft Drinks   48.2692            OUT018   \n",
              "2                   Meat  141.6180            OUT049   \n",
              "3  Fruits and Vegetables  182.0950            OUT010   \n",
              "4              Household   53.8614            OUT013   \n",
              "\n",
              "   Outlet_Establishment_Year Outlet_Size Outlet_Location_Type  \\\n",
              "0                       1999      Medium               Tier 1   \n",
              "1                       2009      Medium               Tier 3   \n",
              "2                       1999      Medium               Tier 1   \n",
              "3                       1998      Medium               Tier 3   \n",
              "4                       1987        High               Tier 3   \n",
              "\n",
              "         Outlet_Type  Item_Outlet_Sales  \n",
              "0  Supermarket Type1          3735.1380  \n",
              "1  Supermarket Type2           443.4228  \n",
              "2  Supermarket Type1          2097.2700  \n",
              "3      Grocery Store           732.3800  \n",
              "4  Supermarket Type1           994.7052  "
            ],
            "text/html": [
              "\n",
              "  <div id=\"df-5187ced9-7905-41eb-ba9b-57493d6119dd\">\n",
              "    <div class=\"colab-df-container\">\n",
              "      <div>\n",
              "<style scoped>\n",
              "    .dataframe tbody tr th:only-of-type {\n",
              "        vertical-align: middle;\n",
              "    }\n",
              "\n",
              "    .dataframe tbody tr th {\n",
              "        vertical-align: top;\n",
              "    }\n",
              "\n",
              "    .dataframe thead th {\n",
              "        text-align: right;\n",
              "    }\n",
              "</style>\n",
              "<table border=\"1\" class=\"dataframe\">\n",
              "  <thead>\n",
              "    <tr style=\"text-align: right;\">\n",
              "      <th></th>\n",
              "      <th>Item_Identifier</th>\n",
              "      <th>Item_Weight</th>\n",
              "      <th>Item_Fat_Content</th>\n",
              "      <th>Item_Visibility</th>\n",
              "      <th>Item_Type</th>\n",
              "      <th>Item_MRP</th>\n",
              "      <th>Outlet_Identifier</th>\n",
              "      <th>Outlet_Establishment_Year</th>\n",
              "      <th>Outlet_Size</th>\n",
              "      <th>Outlet_Location_Type</th>\n",
              "      <th>Outlet_Type</th>\n",
              "      <th>Item_Outlet_Sales</th>\n",
              "    </tr>\n",
              "  </thead>\n",
              "  <tbody>\n",
              "    <tr>\n",
              "      <th>0</th>\n",
              "      <td>FDA15</td>\n",
              "      <td>9.30</td>\n",
              "      <td>Low Fat</td>\n",
              "      <td>0.016047</td>\n",
              "      <td>Dairy</td>\n",
              "      <td>249.8092</td>\n",
              "      <td>OUT049</td>\n",
              "      <td>1999</td>\n",
              "      <td>Medium</td>\n",
              "      <td>Tier 1</td>\n",
              "      <td>Supermarket Type1</td>\n",
              "      <td>3735.1380</td>\n",
              "    </tr>\n",
              "    <tr>\n",
              "      <th>1</th>\n",
              "      <td>DRC01</td>\n",
              "      <td>5.92</td>\n",
              "      <td>Regular</td>\n",
              "      <td>0.019278</td>\n",
              "      <td>Soft Drinks</td>\n",
              "      <td>48.2692</td>\n",
              "      <td>OUT018</td>\n",
              "      <td>2009</td>\n",
              "      <td>Medium</td>\n",
              "      <td>Tier 3</td>\n",
              "      <td>Supermarket Type2</td>\n",
              "      <td>443.4228</td>\n",
              "    </tr>\n",
              "    <tr>\n",
              "      <th>2</th>\n",
              "      <td>FDN15</td>\n",
              "      <td>17.50</td>\n",
              "      <td>Low Fat</td>\n",
              "      <td>0.016760</td>\n",
              "      <td>Meat</td>\n",
              "      <td>141.6180</td>\n",
              "      <td>OUT049</td>\n",
              "      <td>1999</td>\n",
              "      <td>Medium</td>\n",
              "      <td>Tier 1</td>\n",
              "      <td>Supermarket Type1</td>\n",
              "      <td>2097.2700</td>\n",
              "    </tr>\n",
              "    <tr>\n",
              "      <th>3</th>\n",
              "      <td>FDX07</td>\n",
              "      <td>19.20</td>\n",
              "      <td>Regular</td>\n",
              "      <td>0.000000</td>\n",
              "      <td>Fruits and Vegetables</td>\n",
              "      <td>182.0950</td>\n",
              "      <td>OUT010</td>\n",
              "      <td>1998</td>\n",
              "      <td>Medium</td>\n",
              "      <td>Tier 3</td>\n",
              "      <td>Grocery Store</td>\n",
              "      <td>732.3800</td>\n",
              "    </tr>\n",
              "    <tr>\n",
              "      <th>4</th>\n",
              "      <td>NCD19</td>\n",
              "      <td>8.93</td>\n",
              "      <td>Low Fat</td>\n",
              "      <td>0.000000</td>\n",
              "      <td>Household</td>\n",
              "      <td>53.8614</td>\n",
              "      <td>OUT013</td>\n",
              "      <td>1987</td>\n",
              "      <td>High</td>\n",
              "      <td>Tier 3</td>\n",
              "      <td>Supermarket Type1</td>\n",
              "      <td>994.7052</td>\n",
              "    </tr>\n",
              "  </tbody>\n",
              "</table>\n",
              "</div>\n",
              "      <button class=\"colab-df-convert\" onclick=\"convertToInteractive('df-5187ced9-7905-41eb-ba9b-57493d6119dd')\"\n",
              "              title=\"Convert this dataframe to an interactive table.\"\n",
              "              style=\"display:none;\">\n",
              "        \n",
              "  <svg xmlns=\"http://www.w3.org/2000/svg\" height=\"24px\"viewBox=\"0 0 24 24\"\n",
              "       width=\"24px\">\n",
              "    <path d=\"M0 0h24v24H0V0z\" fill=\"none\"/>\n",
              "    <path d=\"M18.56 5.44l.94 2.06.94-2.06 2.06-.94-2.06-.94-.94-2.06-.94 2.06-2.06.94zm-11 1L8.5 8.5l.94-2.06 2.06-.94-2.06-.94L8.5 2.5l-.94 2.06-2.06.94zm10 10l.94 2.06.94-2.06 2.06-.94-2.06-.94-.94-2.06-.94 2.06-2.06.94z\"/><path d=\"M17.41 7.96l-1.37-1.37c-.4-.4-.92-.59-1.43-.59-.52 0-1.04.2-1.43.59L10.3 9.45l-7.72 7.72c-.78.78-.78 2.05 0 2.83L4 21.41c.39.39.9.59 1.41.59.51 0 1.02-.2 1.41-.59l7.78-7.78 2.81-2.81c.8-.78.8-2.07 0-2.86zM5.41 20L4 18.59l7.72-7.72 1.47 1.35L5.41 20z\"/>\n",
              "  </svg>\n",
              "      </button>\n",
              "      \n",
              "  <style>\n",
              "    .colab-df-container {\n",
              "      display:flex;\n",
              "      flex-wrap:wrap;\n",
              "      gap: 12px;\n",
              "    }\n",
              "\n",
              "    .colab-df-convert {\n",
              "      background-color: #E8F0FE;\n",
              "      border: none;\n",
              "      border-radius: 50%;\n",
              "      cursor: pointer;\n",
              "      display: none;\n",
              "      fill: #1967D2;\n",
              "      height: 32px;\n",
              "      padding: 0 0 0 0;\n",
              "      width: 32px;\n",
              "    }\n",
              "\n",
              "    .colab-df-convert:hover {\n",
              "      background-color: #E2EBFA;\n",
              "      box-shadow: 0px 1px 2px rgba(60, 64, 67, 0.3), 0px 1px 3px 1px rgba(60, 64, 67, 0.15);\n",
              "      fill: #174EA6;\n",
              "    }\n",
              "\n",
              "    [theme=dark] .colab-df-convert {\n",
              "      background-color: #3B4455;\n",
              "      fill: #D2E3FC;\n",
              "    }\n",
              "\n",
              "    [theme=dark] .colab-df-convert:hover {\n",
              "      background-color: #434B5C;\n",
              "      box-shadow: 0px 1px 3px 1px rgba(0, 0, 0, 0.15);\n",
              "      filter: drop-shadow(0px 1px 2px rgba(0, 0, 0, 0.3));\n",
              "      fill: #FFFFFF;\n",
              "    }\n",
              "  </style>\n",
              "\n",
              "      <script>\n",
              "        const buttonEl =\n",
              "          document.querySelector('#df-5187ced9-7905-41eb-ba9b-57493d6119dd button.colab-df-convert');\n",
              "        buttonEl.style.display =\n",
              "          google.colab.kernel.accessAllowed ? 'block' : 'none';\n",
              "\n",
              "        async function convertToInteractive(key) {\n",
              "          const element = document.querySelector('#df-5187ced9-7905-41eb-ba9b-57493d6119dd');\n",
              "          const dataTable =\n",
              "            await google.colab.kernel.invokeFunction('convertToInteractive',\n",
              "                                                     [key], {});\n",
              "          if (!dataTable) return;\n",
              "\n",
              "          const docLinkHtml = 'Like what you see? Visit the ' +\n",
              "            '<a target=\"_blank\" href=https://colab.research.google.com/notebooks/data_table.ipynb>data table notebook</a>'\n",
              "            + ' to learn more about interactive tables.';\n",
              "          element.innerHTML = '';\n",
              "          dataTable['output_type'] = 'display_data';\n",
              "          await google.colab.output.renderOutput(dataTable, element);\n",
              "          const docLink = document.createElement('div');\n",
              "          docLink.innerHTML = docLinkHtml;\n",
              "          element.appendChild(docLink);\n",
              "        }\n",
              "      </script>\n",
              "    </div>\n",
              "  </div>\n",
              "  "
            ]
          },
          "metadata": {},
          "execution_count": 247
        }
      ]
    },
    {
      "cell_type": "code",
      "source": [
        "dt1[\"Item_Fat_Content\"].unique()"
      ],
      "metadata": {
        "colab": {
          "base_uri": "https://localhost:8080/"
        },
        "id": "hZgDq0kfI4OJ",
        "outputId": "a73bbc83-5c78-4d84-cd69-ad2071c57ca6"
      },
      "execution_count": 248,
      "outputs": [
        {
          "output_type": "execute_result",
          "data": {
            "text/plain": [
              "array(['Low Fat', 'Regular'], dtype=object)"
            ]
          },
          "metadata": {},
          "execution_count": 248
        }
      ]
    },
    {
      "cell_type": "code",
      "source": [
        "dt1[\"Item_Fat_Content\"].value_counts()"
      ],
      "metadata": {
        "colab": {
          "base_uri": "https://localhost:8080/"
        },
        "id": "frdG4Lp6LXOE",
        "outputId": "e8f5f360-bfe7-48dd-99fd-9bf9386eb4f9"
      },
      "execution_count": 249,
      "outputs": [
        {
          "output_type": "execute_result",
          "data": {
            "text/plain": [
              "Low Fat    5517\n",
              "Regular    3006\n",
              "Name: Item_Fat_Content, dtype: int64"
            ]
          },
          "metadata": {},
          "execution_count": 249
        }
      ]
    },
    {
      "cell_type": "markdown",
      "source": [
        "## Se procede a arreglar la variable"
      ],
      "metadata": {
        "id": "GspOg4iTJILK"
      }
    },
    {
      "cell_type": "code",
      "source": [
        "dt1[\"Item_Fat_Content\"] = dt1[\"Item_Fat_Content\"].apply(lambda x: \"Low Fat\" if x in [\"low fat\",\"LF\",\"Low Fat\"] else \"Regular\" if x.lower() == \"reg\" else \"Regular\" )"
      ],
      "metadata": {
        "id": "sYd_V6ZHJOid"
      },
      "execution_count": 250,
      "outputs": []
    },
    {
      "cell_type": "code",
      "source": [
        "dt1[\"Item_Fat_Content\"].unique()"
      ],
      "metadata": {
        "colab": {
          "base_uri": "https://localhost:8080/"
        },
        "id": "SgoHgIx1K9Q2",
        "outputId": "a75e5458-d464-41a5-cf7d-0f19e8b27bc6"
      },
      "execution_count": 251,
      "outputs": [
        {
          "output_type": "execute_result",
          "data": {
            "text/plain": [
              "array(['Low Fat', 'Regular'], dtype=object)"
            ]
          },
          "metadata": {},
          "execution_count": 251
        }
      ]
    },
    {
      "cell_type": "code",
      "source": [
        "dt1[\"Item_Fat_Content\"].value_counts()"
      ],
      "metadata": {
        "colab": {
          "base_uri": "https://localhost:8080/"
        },
        "id": "zn8qjHplLc4i",
        "outputId": "1c46ee90-b012-4a91-88b5-3b9189360754"
      },
      "execution_count": 252,
      "outputs": [
        {
          "output_type": "execute_result",
          "data": {
            "text/plain": [
              "Low Fat    5517\n",
              "Regular    3006\n",
              "Name: Item_Fat_Content, dtype: int64"
            ]
          },
          "metadata": {},
          "execution_count": 252
        }
      ]
    },
    {
      "cell_type": "markdown",
      "source": [
        "# Para cualquier columna numérica, obtengan las estadísticas resumidas para cada uno (mínimo, máximo y media)"
      ],
      "metadata": {
        "id": "fl2fCwc9NjRd"
      }
    },
    {
      "cell_type": "code",
      "source": [
        "a_1 = dt1[\"Item_Weight\"].agg([\"min\",\"max\",\"mean\"])\n",
        "print(a_1)"
      ],
      "metadata": {
        "colab": {
          "base_uri": "https://localhost:8080/"
        },
        "id": "nTQJubcBNnoM",
        "outputId": "4e344f77-dbf1-4b1e-ffc6-f00627f85704"
      },
      "execution_count": 35,
      "outputs": [
        {
          "output_type": "stream",
          "name": "stdout",
          "text": [
            "min      4.55500\n",
            "max     21.35000\n",
            "mean    12.81342\n",
            "Name: Item_Weight, dtype: float64\n"
          ]
        }
      ]
    },
    {
      "cell_type": "code",
      "source": [
        "print(f\"Los valores de la variable Item_Weigt para el máximo, mínimo y la media fueron:\\npara el máximo:{round(a_1[1],2)}\\npara el mínimo: {round(a_1[0],2)}\\npara la media: {round(a_1[2],2)}\")"
      ],
      "metadata": {
        "colab": {
          "base_uri": "https://localhost:8080/"
        },
        "id": "_0_c0-U3OYVq",
        "outputId": "2cd78b9f-7695-46e0-bf24-a3d10fe185aa"
      },
      "execution_count": 36,
      "outputs": [
        {
          "output_type": "stream",
          "name": "stdout",
          "text": [
            "Los valores de la variable Item_Weigt para el máximo, mínimo y la media fueron:\n",
            "para el máximo:21.35\n",
            "para el mínimo: 4.56\n",
            "para la media: 12.81\n"
          ]
        }
      ]
    },
    {
      "cell_type": "markdown",
      "source": [
        "# Análisis gráfico de la base de datos."
      ],
      "metadata": {
        "id": "_pUD7b47uUFm"
      }
    },
    {
      "cell_type": "code",
      "source": [
        "dt1.info()"
      ],
      "metadata": {
        "colab": {
          "base_uri": "https://localhost:8080/"
        },
        "id": "vcwwHbUCuapg",
        "outputId": "2376d5f4-f358-4847-979b-3758525546c7"
      },
      "execution_count": 37,
      "outputs": [
        {
          "output_type": "stream",
          "name": "stdout",
          "text": [
            "<class 'pandas.core.frame.DataFrame'>\n",
            "RangeIndex: 8523 entries, 0 to 8522\n",
            "Data columns (total 12 columns):\n",
            " #   Column                     Non-Null Count  Dtype  \n",
            "---  ------                     --------------  -----  \n",
            " 0   Item_Identifier            8523 non-null   object \n",
            " 1   Item_Weight                8523 non-null   float64\n",
            " 2   Item_Fat_Content           8523 non-null   object \n",
            " 3   Item_Visibility            8523 non-null   float64\n",
            " 4   Item_Type                  8523 non-null   object \n",
            " 5   Item_MRP                   8523 non-null   float64\n",
            " 6   Outlet_Identifier          8523 non-null   object \n",
            " 7   Outlet_Establishment_Year  8523 non-null   int64  \n",
            " 8   Outlet_Size                8523 non-null   object \n",
            " 9   Outlet_Location_Type       8523 non-null   object \n",
            " 10  Outlet_Type                8523 non-null   object \n",
            " 11  Item_Outlet_Sales          8523 non-null   float64\n",
            "dtypes: float64(4), int64(1), object(7)\n",
            "memory usage: 799.2+ KB\n"
          ]
        }
      ]
    },
    {
      "cell_type": "markdown",
      "source": [
        "# Análisis de los productos y su contenido de grasa."
      ],
      "metadata": {
        "id": "-atNIn2H0AbG"
      }
    },
    {
      "cell_type": "code",
      "source": [
        "import numpy as np\n",
        "from matplotlib import pyplot as plt\n",
        "import seaborn as sns\n",
        "from scipy.stats import kurtosis\n",
        "from scipy.stats import skew"
      ],
      "metadata": {
        "id": "0NQ9QHC30HPO"
      },
      "execution_count": 38,
      "outputs": []
    },
    {
      "cell_type": "code",
      "source": [
        "cuenta = dt1[\"Item_Fat_Content\"].value_counts()\n",
        "\n",
        "plt.pie(cuenta, labels=cuenta.index, autopct=\"%1.1f%%\")\n",
        "plt.title(\"Participación por contenido en grasa\")"
      ],
      "metadata": {
        "colab": {
          "base_uri": "https://localhost:8080/",
          "height": 282
        },
        "id": "go9CikwV3nZ9",
        "outputId": "9e8c3152-9bb8-4594-94fb-beafc6e0285f"
      },
      "execution_count": 39,
      "outputs": [
        {
          "output_type": "execute_result",
          "data": {
            "text/plain": [
              "Text(0.5, 1.0, 'Participación por contenido en grasa')"
            ]
          },
          "metadata": {},
          "execution_count": 39
        },
        {
          "output_type": "display_data",
          "data": {
            "text/plain": [
              "<Figure size 432x288 with 1 Axes>"
            ],
            "image/png": "[encoded data removed]"
          },
          "metadata": {}
        }
      ]
    },
    {
      "cell_type": "markdown",
      "source": [
        "* Se puede apreciar que la composisición del portafolio de prodcutos, se distribuye en productos bajos en grasa con una participación del 64.7% y con contenido de grasa regular con el 35.3%."
      ],
      "metadata": {
        "id": "3VOr0dh8BXA-"
      }
    },
    {
      "cell_type": "markdown",
      "source": [
        "# Histograma del precio máxmio de venta al público"
      ],
      "metadata": {
        "id": "G6LHxrNoKUwN"
      }
    },
    {
      "cell_type": "code",
      "source": [
        "plt.style.use(\"seaborn\")\n",
        "sns.set_style(\"white\")\n",
        "sns.set(style = \"ticks\")\n",
        "sns.set_color_codes()\n",
        "dt1[\"Item_MRP\"].hist(bins=20, edgecolor = \"black\", color = \"#a1c9ed\")\n",
        "plt.ticklabel_format(useOffset=False, style=\"plain\")\n",
        "plt.grid(False)\n",
        "plt.title(\"Histograma del precio máximo de los productos\")\n",
        "plt.xlabel(\"Precio máximo del producto\")\n",
        "plt.ylabel(\"Cuenta\")"
      ],
      "metadata": {
        "colab": {
          "base_uri": "https://localhost:8080/",
          "height": 404
        },
        "id": "lCgmnucfKZzJ",
        "outputId": "9513e9a2-1646-4c88-927a-ab778707da6d"
      },
      "execution_count": 40,
      "outputs": [
        {
          "output_type": "execute_result",
          "data": {
            "text/plain": [
              "Text(0, 0.5, 'Cuenta')"
            ]
          },
          "metadata": {},
          "execution_count": 40
        },
        {
          "output_type": "display_data",
          "data": {
            "text/plain": [
              "<Figure size 576x396 with 1 Axes>"
            ],
            "image/png": "[encoded data removed]"
          },
          "metadata": {}
        }
      ]
    },
    {
      "cell_type": "markdown",
      "source": [
        "## Coeficiente de asimetría"
      ],
      "metadata": {
        "id": "xVOZ9IvMKs6D"
      }
    },
    {
      "cell_type": "code",
      "source": [
        "sk_2 = dt1[\"Item_MRP\"].skew()\n",
        "sk_2\n",
        "print(f\"El coeficiente de asimetría nos indica los datos tienen un ligero sesgo hacia la derecha, ya que el valor del coeficiente fue de {round(sk_2,2)}, si el coeficiente de asimetría fuera igual\\na cero (0), los datos seguirian una distribución normal, en este caso los datos tiene un ligero sesgo hacia la derecha.\")\n"
      ],
      "metadata": {
        "colab": {
          "base_uri": "https://localhost:8080/"
        },
        "id": "bNsUaLHUKy9W",
        "outputId": "56d2c3ad-ecf4-4728-e4c6-837423e64269"
      },
      "execution_count": null,
      "outputs": [
        {
          "output_type": "stream",
          "name": "stdout",
          "text": [
            "El coeficiente de asimetría nos indica los datos tienen un ligero sesgo hacia la derecha, ya que el valor del coeficiente fue de 0.13, si el coeficiente de asimetría fuera igual\n",
            "a cero (0), los datos seguirian una distribución normal, en este caso los datos tiene un ligero sesgo hacia la derecha.\n"
          ]
        }
      ]
    },
    {
      "cell_type": "markdown",
      "source": [
        "## Coeficiente de Curtosis"
      ],
      "metadata": {
        "id": "N3En_nFBKvdk"
      }
    },
    {
      "cell_type": "code",
      "source": [
        "# Kurtosis\n",
        "\n",
        "k_1 = dt1[\"Item_MRP\"].kurtosis()\n",
        "k_1\n",
        "\n",
        "print(f\"La Kurtosis nos indica la forma de la distribución, ya que el valor del coeficiente de Kurtosis fue de {round(k_1,2)}, si el coeficiente de Kurtosis fuera igual\\na tres (3), los datos seguirian una distribución normal, en este caso los datos tiene una forma de curva aplanada.\")\n"
      ],
      "metadata": {
        "colab": {
          "base_uri": "https://localhost:8080/"
        },
        "id": "u0gjssfeLCB2",
        "outputId": "244a8ebc-3683-4f8b-9a00-b01a18a1c82a"
      },
      "execution_count": null,
      "outputs": [
        {
          "output_type": "stream",
          "name": "stdout",
          "text": [
            "La Kurtosis nos indica la forma de la distribución, ya que el valor del coeficiente de Kurtosis fue de -0.89, si el coeficiente de Kurtosis fuera igual\n",
            "a tres (3), los datos seguirian una distribución normal, en este caso los datos tiene una forma de curva aplanada.\n"
          ]
        }
      ]
    },
    {
      "cell_type": "markdown",
      "source": [
        "# Histograma del peso de los productos"
      ],
      "metadata": {
        "id": "ngWzA_CKKQj6"
      }
    },
    {
      "cell_type": "code",
      "source": [
        "plt.style.use(\"seaborn\")\n",
        "sns.set_style(\"white\")\n",
        "sns.set(style = \"ticks\")\n",
        "sns.set_color_codes()\n",
        "dt1[\"Item_Weight\"].hist(bins=10, edgecolor = \"black\", color = \"#a1c9ed\")\n",
        "plt.ticklabel_format(useOffset=False, style=\"plain\")\n",
        "plt.grid(False)\n",
        "plt.title(\"Histograma del peso de los productos\")\n",
        "plt.xlabel(\"Peso del producto\")\n",
        "plt.ylabel(\"Cuenta\")"
      ],
      "metadata": {
        "colab": {
          "base_uri": "https://localhost:8080/",
          "height": 404
        },
        "id": "TlHfdyqD0hSx",
        "outputId": "087d4d56-1353-4a77-d61d-7c887780d2ab"
      },
      "execution_count": 41,
      "outputs": [
        {
          "output_type": "execute_result",
          "data": {
            "text/plain": [
              "Text(0, 0.5, 'Cuenta')"
            ]
          },
          "metadata": {},
          "execution_count": 41
        },
        {
          "output_type": "display_data",
          "data": {
            "text/plain": [
              "<Figure size 576x396 with 1 Axes>"
            ],
            "image/png": "[encoded data removed]"
          },
          "metadata": {}
        }
      ]
    },
    {
      "cell_type": "markdown",
      "source": [
        "# Coeficiente de asimetría"
      ],
      "metadata": {
        "id": "kbQAH_HkDptz"
      }
    },
    {
      "cell_type": "code",
      "source": [
        "sk_2 = dt1[\"Item_Weight\"].skew()\n",
        "sk_2\n",
        "print(f\"El coeficiente de asimetría nos indica los datos tienen un ligero sesgo hacia la derecha, ya que el valor del coeficiente fue de {round(sk_2,2)}, si el coeficiente de asimetría fuera igual\\na cero (0), los datos seguirian una distribución normal, en este caso los datos tiene un ligero sesgo hacia la derecha.\")\n"
      ],
      "metadata": {
        "colab": {
          "base_uri": "https://localhost:8080/"
        },
        "id": "4eGN-eDYDug_",
        "outputId": "4905d485-b418-41d4-9552-c07a9e84a458"
      },
      "execution_count": null,
      "outputs": [
        {
          "output_type": "stream",
          "name": "stdout",
          "text": [
            "El coeficiente de asimetría nos indica los datos tienen un ligero sesgo hacia la derecha, ya que el valor del coeficiente fue de 0.12, si el coeficiente de asimetría fuera igual\n",
            "a cero (0), los datos seguirian una distribución normal, en este caso los datos tiene un ligero sesgo hacia la derecha.\n"
          ]
        }
      ]
    },
    {
      "cell_type": "markdown",
      "source": [
        "# Coeficiente de Curtosis"
      ],
      "metadata": {
        "id": "AMjVDdmJDSPQ"
      }
    },
    {
      "cell_type": "code",
      "source": [
        "# Kurtosis\n",
        "\n",
        "k_1 = dt1[\"Item_Weight\"].kurtosis()\n",
        "k_1\n",
        "\n",
        "print(f\"La Kurtosis nos indica la forma de la distribución, ya que el valor del coeficiente de Kurtosis fue de {round(k_1,2)}, si el coeficiente de Kurtosis fuera igual\\na tres (3), los datos seguirian una distribución normal, en este caso los datos tiene una forma de curva aplanada.\")\n"
      ],
      "metadata": {
        "colab": {
          "base_uri": "https://localhost:8080/"
        },
        "id": "l3c7QoJYB78M",
        "outputId": "d7539eb7-790c-4a0b-f6f5-dfcd04ec62db"
      },
      "execution_count": null,
      "outputs": [
        {
          "output_type": "stream",
          "name": "stdout",
          "text": [
            "La Kurtosis nos indica los datos tienen un ligero sesgo hacia la izquierda, ya que el valor del coeficiente de Kurtosis fue de -0.86, si el coeficiente de Kurtosis fuera igual\n",
            "a tres (3), los datos seguirian una distribución normal, en este caso los datos tiene una forma de curva aplanada.\n"
          ]
        }
      ]
    },
    {
      "cell_type": "markdown",
      "source": [
        "# Histograma de las ventas del Item"
      ],
      "metadata": {
        "id": "e67ttX4M3CSt"
      }
    },
    {
      "cell_type": "code",
      "source": [
        "plt.style.use(\"seaborn\")\n",
        "sns.set_style(\"white\")\n",
        "sns.set(style = \"ticks\")\n",
        "sns.set_color_codes()\n",
        "dt1[\"Item_Outlet_Sales\"].hist(bins=15, edgecolor = \"black\", color = \"#a1c9ed\")\n",
        "plt.ticklabel_format(useOffset=False, style=\"plain\")\n",
        "plt.grid(False)\n",
        "plt.title(\"Histograma de las ventas del producto\")\n",
        "plt.xlabel(\"Ventas\")\n",
        "plt.ylabel(\"Cuenta\")\n"
      ],
      "metadata": {
        "colab": {
          "base_uri": "https://localhost:8080/",
          "height": 403
        },
        "id": "48rw_T3J3HE3",
        "outputId": "f155c281-0cea-40d2-de5f-f6eec5408ee6"
      },
      "execution_count": null,
      "outputs": [
        {
          "output_type": "execute_result",
          "data": {
            "text/plain": [
              "Text(0, 0.5, 'Cuenta')"
            ]
          },
          "metadata": {},
          "execution_count": 51
        },
        {
          "output_type": "display_data",
          "data": {
            "text/plain": [
              "<Figure size 576x396 with 1 Axes>"
            ],
            "image/png": "[encoded data removed]"
          },
          "metadata": {}
        }
      ]
    },
    {
      "cell_type": "markdown",
      "source": [
        "# Coeficiente de asimetría"
      ],
      "metadata": {
        "id": "tFvjcJU3Hawr"
      }
    },
    {
      "cell_type": "code",
      "source": [
        "sk_2 = dt1[\"Item_Outlet_Sales\"].skew()\n",
        "sk_2\n",
        "print(f\"El coeficiente de asimetría nos indica los datos tienen un ligero sesgo hacia la derecha, ya que el valor del coeficiente fue de {round(sk_2,2)}, si el coeficiente de asimetría fuera igual\\na cero (0), los datos seguirian una distribución normal, en este caso los datos tiene un ligero sesgo hacia la derecha.\")\n"
      ],
      "metadata": {
        "colab": {
          "base_uri": "https://localhost:8080/"
        },
        "id": "D_kw2IQGHdKd",
        "outputId": "9cc11c72-c81a-448b-c313-c01f2dfe562c"
      },
      "execution_count": null,
      "outputs": [
        {
          "output_type": "stream",
          "name": "stdout",
          "text": [
            "El coeficiente de asimetría nos indica los datos tienen un ligero sesgo hacia la derecha, ya que el valor del coeficiente fue de 1.18, si el coeficiente de asimetría fuera igual\n",
            "a cero (0), los datos seguirian una distribución normal, en este caso los datos tiene un ligero sesgo hacia la derecha.\n"
          ]
        }
      ]
    },
    {
      "cell_type": "markdown",
      "source": [
        "# Coeficiente de Curtosis"
      ],
      "metadata": {
        "id": "5kVWu8lEHpp-"
      }
    },
    {
      "cell_type": "code",
      "source": [
        "# Kurtosis\n",
        "\n",
        "k_1 = dt1[\"Item_Outlet_Sales\"].kurtosis()\n",
        "k_1\n",
        "\n",
        "print(f\"La Kurtosis nos indica la forma de la distribución, ya que el valor del coeficiente de Kurtosis fue de {round(k_1,2)}, si el coeficiente de Kurtosis fuera igual\\na tres (3), los datos seguirian una distribución normal, en este caso los datos tiene una forma de curva aplanada.\")\n"
      ],
      "metadata": {
        "colab": {
          "base_uri": "https://localhost:8080/"
        },
        "id": "VfHl1S8IIfsa",
        "outputId": "dd5103a8-0d29-4a79-b3cf-17f3478437aa"
      },
      "execution_count": null,
      "outputs": [
        {
          "output_type": "stream",
          "name": "stdout",
          "text": [
            "La Kurtosis nos indica la forma de la distribución, ya que el valor del coeficiente de Kurtosis fue de 1.62, si el coeficiente de Kurtosis fuera igual\n",
            "a tres (3), los datos seguirian una distribución normal, en este caso los datos tiene una forma de curva aplanada.\n"
          ]
        }
      ]
    },
    {
      "cell_type": "markdown",
      "source": [
        "# Análisis de cajas"
      ],
      "metadata": {
        "id": "u3xt7Uwu5q4K"
      }
    },
    {
      "cell_type": "markdown",
      "source": [
        "## Análisis de las ventas del producto"
      ],
      "metadata": {
        "id": "Fl_Xm2-U6ipg"
      }
    },
    {
      "cell_type": "code",
      "source": [
        "fig, axes = plt.subplots(nrows = 1, ncols = 1, figsize = (8,5))\n",
        "boxplots = axes.boxplot([dt1[\"Item_Outlet_Sales\"]],\n",
        "           notch = True,\n",
        "           labels=[\"Ventas\"],\n",
        "           widths = .7,\n",
        "           patch_artist=True,\n",
        "           medianprops = dict(linestyle='-', linewidth=2, color='Yellow'),\n",
        "           boxprops = dict(linestyle='--', linewidth=2, color='Black', facecolor = 'blue', alpha = .4)\n",
        "          );\n",
        "\n",
        "plt.ylabel(\"Análisis de las ventas\", fontsize = 16)\n",
        "plt.xticks(fontsize = 10)\n",
        "plt.yticks(fontsize = 10)\n",
        "axes.grid(color='#808080', linewidth=0.5)"
      ],
      "metadata": {
        "colab": {
          "base_uri": "https://localhost:8080/",
          "height": 326
        },
        "id": "Jx5CTAQm5tfD",
        "outputId": "b3aa2a87-12f1-47b0-b758-64e38664c4ec"
      },
      "execution_count": null,
      "outputs": [
        {
          "output_type": "display_data",
          "data": {
            "text/plain": [
              "<Figure size 576x360 with 1 Axes>"
            ],
            "image/png": "[encoded data removed]"
          },
          "metadata": {}
        }
      ]
    },
    {
      "cell_type": "markdown",
      "source": [
        "* De acuerdo con la gráfica se que los datos tienen presencia de outliers  dentro de la base de datos, por lo que la utilización del promedio como media de tendencia central, no sería la más indicada por los outliers presente. Un indicador que sería de más utilidad sería la mediana."
      ],
      "metadata": {
        "id": "bw7ArOZVIsJ-"
      }
    },
    {
      "cell_type": "markdown",
      "source": [
        "## Análisis del peso del prodcuto"
      ],
      "metadata": {
        "id": "F7Ou8hwC6nHi"
      }
    },
    {
      "cell_type": "code",
      "source": [
        "fig, axes = plt.subplots(nrows = 1, ncols = 1, figsize = (8,5))\n",
        "boxplots = axes.boxplot([dt1[\"Item_Weight\"]],\n",
        "           notch = True,\n",
        "           labels=[\"Peso\"],\n",
        "           widths = .7,\n",
        "           patch_artist=True,\n",
        "           medianprops = dict(linestyle='-', linewidth=2, color='Yellow'),\n",
        "           boxprops = dict(linestyle='--', linewidth=2, color='Black', facecolor = 'blue', alpha = .4)\n",
        "          );\n",
        "\n",
        "plt.ylabel(\"Análisis del peso de los productos\", fontsize = 16)\n",
        "plt.xticks(fontsize = 10)\n",
        "plt.yticks(fontsize = 10)\n",
        "axes.grid(color='#808080', linewidth=0.5)"
      ],
      "metadata": {
        "colab": {
          "base_uri": "https://localhost:8080/",
          "height": 326
        },
        "id": "hFy1JmGI6rFq",
        "outputId": "df153030-5f48-4d6f-cf81-a5f4b72f564a"
      },
      "execution_count": null,
      "outputs": [
        {
          "output_type": "display_data",
          "data": {
            "text/plain": [
              "<Figure size 576x360 with 1 Axes>"
            ],
            "image/png": "[encoded data removed]"
          },
          "metadata": {}
        }
      ]
    },
    {
      "cell_type": "markdown",
      "source": [
        "* Se puede apreciar que la gráfica de cajas está bien distrinuída el promedio del peso de los productos, visualmente se observa cerca del 12.5. Los datos no presentan outliers."
      ],
      "metadata": {
        "id": "dRRSO1CnJH82"
      }
    },
    {
      "cell_type": "markdown",
      "source": [
        "# Análisis del precio máximo del producto"
      ],
      "metadata": {
        "id": "QrAKqJEVLNrV"
      }
    },
    {
      "cell_type": "code",
      "source": [
        "fig, axes = plt.subplots(nrows = 1, ncols = 1, figsize = (8,5))\n",
        "boxplots = axes.boxplot([dt1[\"Item_MRP\"]],\n",
        "           notch = True,\n",
        "           labels=[\"Precio máximo de venta al público\"],\n",
        "           widths = .7,\n",
        "           patch_artist=True,\n",
        "           medianprops = dict(linestyle='-', linewidth=2, color='Yellow'),\n",
        "           boxprops = dict(linestyle='--', linewidth=2, color='Black', facecolor = 'blue', alpha = .4)\n",
        "          );\n",
        "\n",
        "plt.ylabel(\"Análisis del precio máximo del venta al público de los productos\", fontsize = 12)\n",
        "plt.xticks(fontsize = 10)\n",
        "plt.yticks(fontsize = 10)\n",
        "axes.grid(color='#808080', linewidth=0.5)"
      ],
      "metadata": {
        "colab": {
          "base_uri": "https://localhost:8080/",
          "height": 419
        },
        "id": "s-_5Ubj0LTaG",
        "outputId": "963e86a8-09ed-4776-ce92-0eb6694288a4"
      },
      "execution_count": null,
      "outputs": [
        {
          "output_type": "display_data",
          "data": {
            "text/plain": [
              "<Figure size 576x360 with 1 Axes>"
            ],
            "image/png": "[encoded data removed]"
          },
          "metadata": {}
        }
      ]
    },
    {
      "cell_type": "markdown",
      "source": [
        "*La gráfica de cajas nos confirma lo que visualmente se pudo apreciar en la gráfica del histograma, que no existen outliers dentro de la base, además no existe una amplia disperción en los precios máximos de venta al público, aunque para confirmar se deben realizar las pruebas estadísticas, como por ejemplo calcular el coeficiente de variación o la desviación estandar.\n"
      ],
      "metadata": {
        "id": "g_oWJllvLjt-"
      }
    },
    {
      "cell_type": "code",
      "source": [
        "desv_est = np.std(dt1[\"Item_MRP\"])\n",
        "desv_est\n",
        "\n",
        "print(f\"Cómo se indicó anteriormente para saber si existe una amplia disperción se debe calcular la desviación estandar y el coeficeinte de variación; para el presente caso\\nla desviación estandar fue de {round(desv_est,2)}, lo que nos indica que existe una amplia variabilidad en los datos con relación a la media.\")"
      ],
      "metadata": {
        "colab": {
          "base_uri": "https://localhost:8080/"
        },
        "id": "pTQCJ5chMYDR",
        "outputId": "81fd28b5-b6a0-413d-def0-bcf89c0bee28"
      },
      "execution_count": null,
      "outputs": [
        {
          "output_type": "stream",
          "name": "stdout",
          "text": [
            "Cómo se indicó anteriormente para saber si existe una amplia disperción se debe calcular la desviación estandar y el coeficeinte de variación; para el presente caso\n",
            "la desviación estandar fue de 62.27, lo que nos indica que existe una amplia variabilidad en los datos con relación a la media.\n"
          ]
        }
      ]
    },
    {
      "cell_type": "code",
      "source": [
        "coef_var = desv_est / np.mean(dt1[\"Item_MRP\"]) * 100\n",
        "\n",
        "coef_var\n",
        "\n",
        "print(f\"Cómo se indicó anteriormente para saber si existe una amplia disperción se debe calcular la desviación estandar y el coeficeinte de variación; para el presente caso\\nel coeficiente de variación fue de {round(coef_var,2)}, lo que nos indica que existe una amplia disperción en los datos con relación a la media.\")"
      ],
      "metadata": {
        "colab": {
          "base_uri": "https://localhost:8080/"
        },
        "id": "0v0IbWKUMotT",
        "outputId": "4d9d2ff7-bf2e-4718-9dbd-e2b90963c4ce"
      },
      "execution_count": null,
      "outputs": [
        {
          "output_type": "stream",
          "name": "stdout",
          "text": [
            "Cómo se indicó anteriormente para saber si existe una amplia disperción se debe calcular la desviación estandar y el coeficeinte de variación; para el presente caso\n",
            "el coeficiente de variación fue de 44.17, lo que nos indica que existe una amplia disperción en los datos con relación a la media.\n"
          ]
        }
      ]
    },
    {
      "cell_type": "markdown",
      "source": [
        "# Mapa de calor de la correlación"
      ],
      "metadata": {
        "id": "Bm5pXpu4JbDL"
      }
    },
    {
      "cell_type": "code",
      "source": [
        "corr = dt1.corr()\n",
        "\n",
        "corr\n",
        "\n",
        "sns.heatmap(corr, cmap = \"Reds\", annot=True)"
      ],
      "metadata": {
        "colab": {
          "base_uri": "https://localhost:8080/",
          "height": 512
        },
        "id": "CwPsVfZLJecV",
        "outputId": "b8184628-19d6-4da4-e561-c9e1a3c1c646"
      },
      "execution_count": null,
      "outputs": [
        {
          "output_type": "execute_result",
          "data": {
            "text/plain": [
              "<AxesSubplot:>"
            ]
          },
          "metadata": {},
          "execution_count": 74
        },
        {
          "output_type": "display_data",
          "data": {
            "text/plain": [
              "<Figure size 576x396 with 2 Axes>"
            ],
            "image/png": "[encoded data removed]"
          },
          "metadata": {}
        }
      ]
    },
    {
      "cell_type": "markdown",
      "source": [
        "* El mapa de calor de la correlación, nos indica que existe una correlación positiva moderada entre el precio máximo de venta el público y las ventas."
      ],
      "metadata": {
        "id": "3Fop4d04Jyne"
      }
    },
    {
      "cell_type": "code",
      "source": [
        "dt1"
      ],
      "metadata": {
        "id": "TF_Lc13VaDlU",
        "outputId": "2dde9116-ccbb-4606-f436-68f5731d210c",
        "colab": {
          "base_uri": "https://localhost:8080/",
          "height": 423
        }
      },
      "execution_count": 64,
      "outputs": [
        {
          "output_type": "execute_result",
          "data": {
            "text/plain": [
              "     Item_Identifier  Item_Weight Item_Fat_Content  Item_Visibility  \\\n",
              "0              FDA15        9.300          Low Fat         0.016047   \n",
              "1              DRC01        5.920          Regular         0.019278   \n",
              "2              FDN15       17.500          Low Fat         0.016760   \n",
              "3              FDX07       19.200          Regular         0.000000   \n",
              "4              NCD19        8.930          Low Fat         0.000000   \n",
              "...              ...          ...              ...              ...   \n",
              "8518           FDF22        6.865          Low Fat         0.056783   \n",
              "8519           FDS36        8.380          Regular         0.046982   \n",
              "8520           NCJ29       10.600          Low Fat         0.035186   \n",
              "8521           FDN46        7.210          Regular         0.145221   \n",
              "8522           DRG01       14.800          Low Fat         0.044878   \n",
              "\n",
              "                  Item_Type  Item_MRP Outlet_Identifier  \\\n",
              "0                     Dairy  249.8092            OUT049   \n",
              "1               Soft Drinks   48.2692            OUT018   \n",
              "2                      Meat  141.6180            OUT049   \n",
              "3     Fruits and Vegetables  182.0950            OUT010   \n",
              "4                 Household   53.8614            OUT013   \n",
              "...                     ...       ...               ...   \n",
              "8518            Snack Foods  214.5218            OUT013   \n",
              "8519           Baking Goods  108.1570            OUT045   \n",
              "8520     Health and Hygiene   85.1224            OUT035   \n",
              "8521            Snack Foods  103.1332            OUT018   \n",
              "8522            Soft Drinks   75.4670            OUT046   \n",
              "\n",
              "      Outlet_Establishment_Year Outlet_Size Outlet_Location_Type  \\\n",
              "0                          1999      Medium               Tier 1   \n",
              "1                          2009      Medium               Tier 3   \n",
              "2                          1999      Medium               Tier 1   \n",
              "3                          1998         nan               Tier 3   \n",
              "4                          1987        High               Tier 3   \n",
              "...                         ...         ...                  ...   \n",
              "8518                       1987        High               Tier 3   \n",
              "8519                       2002         nan               Tier 2   \n",
              "8520                       2004       Small               Tier 2   \n",
              "8521                       2009      Medium               Tier 3   \n",
              "8522                       1997       Small               Tier 1   \n",
              "\n",
              "            Outlet_Type  Item_Outlet_Sales  \n",
              "0     Supermarket Type1          3735.1380  \n",
              "1     Supermarket Type2           443.4228  \n",
              "2     Supermarket Type1          2097.2700  \n",
              "3         Grocery Store           732.3800  \n",
              "4     Supermarket Type1           994.7052  \n",
              "...                 ...                ...  \n",
              "8518  Supermarket Type1          2778.3834  \n",
              "8519  Supermarket Type1           549.2850  \n",
              "8520  Supermarket Type1          1193.1136  \n",
              "8521  Supermarket Type2          1845.5976  \n",
              "8522  Supermarket Type1           765.6700  \n",
              "\n",
              "[8523 rows x 12 columns]"
            ],
            "text/html": [
              "\n",
              "  <div id=\"df-21273c29-f651-46c8-a217-a6fd70530f84\">\n",
              "    <div class=\"colab-df-container\">\n",
              "      <div>\n",
              "<style scoped>\n",
              "    .dataframe tbody tr th:only-of-type {\n",
              "        vertical-align: middle;\n",
              "    }\n",
              "\n",
              "    .dataframe tbody tr th {\n",
              "        vertical-align: top;\n",
              "    }\n",
              "\n",
              "    .dataframe thead th {\n",
              "        text-align: right;\n",
              "    }\n",
              "</style>\n",
              "<table border=\"1\" class=\"dataframe\">\n",
              "  <thead>\n",
              "    <tr style=\"text-align: right;\">\n",
              "      <th></th>\n",
              "      <th>Item_Identifier</th>\n",
              "      <th>Item_Weight</th>\n",
              "      <th>Item_Fat_Content</th>\n",
              "      <th>Item_Visibility</th>\n",
              "      <th>Item_Type</th>\n",
              "      <th>Item_MRP</th>\n",
              "      <th>Outlet_Identifier</th>\n",
              "      <th>Outlet_Establishment_Year</th>\n",
              "      <th>Outlet_Size</th>\n",
              "      <th>Outlet_Location_Type</th>\n",
              "      <th>Outlet_Type</th>\n",
              "      <th>Item_Outlet_Sales</th>\n",
              "    </tr>\n",
              "  </thead>\n",
              "  <tbody>\n",
              "    <tr>\n",
              "      <th>0</th>\n",
              "      <td>FDA15</td>\n",
              "      <td>9.300</td>\n",
              "      <td>Low Fat</td>\n",
              "      <td>0.016047</td>\n",
              "      <td>Dairy</td>\n",
              "      <td>249.8092</td>\n",
              "      <td>OUT049</td>\n",
              "      <td>1999</td>\n",
              "      <td>Medium</td>\n",
              "      <td>Tier 1</td>\n",
              "      <td>Supermarket Type1</td>\n",
              "      <td>3735.1380</td>\n",
              "    </tr>\n",
              "    <tr>\n",
              "      <th>1</th>\n",
              "      <td>DRC01</td>\n",
              "      <td>5.920</td>\n",
              "      <td>Regular</td>\n",
              "      <td>0.019278</td>\n",
              "      <td>Soft Drinks</td>\n",
              "      <td>48.2692</td>\n",
              "      <td>OUT018</td>\n",
              "      <td>2009</td>\n",
              "      <td>Medium</td>\n",
              "      <td>Tier 3</td>\n",
              "      <td>Supermarket Type2</td>\n",
              "      <td>443.4228</td>\n",
              "    </tr>\n",
              "    <tr>\n",
              "      <th>2</th>\n",
              "      <td>FDN15</td>\n",
              "      <td>17.500</td>\n",
              "      <td>Low Fat</td>\n",
              "      <td>0.016760</td>\n",
              "      <td>Meat</td>\n",
              "      <td>141.6180</td>\n",
              "      <td>OUT049</td>\n",
              "      <td>1999</td>\n",
              "      <td>Medium</td>\n",
              "      <td>Tier 1</td>\n",
              "      <td>Supermarket Type1</td>\n",
              "      <td>2097.2700</td>\n",
              "    </tr>\n",
              "    <tr>\n",
              "      <th>3</th>\n",
              "      <td>FDX07</td>\n",
              "      <td>19.200</td>\n",
              "      <td>Regular</td>\n",
              "      <td>0.000000</td>\n",
              "      <td>Fruits and Vegetables</td>\n",
              "      <td>182.0950</td>\n",
              "      <td>OUT010</td>\n",
              "      <td>1998</td>\n",
              "      <td>nan</td>\n",
              "      <td>Tier 3</td>\n",
              "      <td>Grocery Store</td>\n",
              "      <td>732.3800</td>\n",
              "    </tr>\n",
              "    <tr>\n",
              "      <th>4</th>\n",
              "      <td>NCD19</td>\n",
              "      <td>8.930</td>\n",
              "      <td>Low Fat</td>\n",
              "      <td>0.000000</td>\n",
              "      <td>Household</td>\n",
              "      <td>53.8614</td>\n",
              "      <td>OUT013</td>\n",
              "      <td>1987</td>\n",
              "      <td>High</td>\n",
              "      <td>Tier 3</td>\n",
              "      <td>Supermarket Type1</td>\n",
              "      <td>994.7052</td>\n",
              "    </tr>\n",
              "    <tr>\n",
              "      <th>...</th>\n",
              "      <td>...</td>\n",
              "      <td>...</td>\n",
              "      <td>...</td>\n",
              "      <td>...</td>\n",
              "      <td>...</td>\n",
              "      <td>...</td>\n",
              "      <td>...</td>\n",
              "      <td>...</td>\n",
              "      <td>...</td>\n",
              "      <td>...</td>\n",
              "      <td>...</td>\n",
              "      <td>...</td>\n",
              "    </tr>\n",
              "    <tr>\n",
              "      <th>8518</th>\n",
              "      <td>FDF22</td>\n",
              "      <td>6.865</td>\n",
              "      <td>Low Fat</td>\n",
              "      <td>0.056783</td>\n",
              "      <td>Snack Foods</td>\n",
              "      <td>214.5218</td>\n",
              "      <td>OUT013</td>\n",
              "      <td>1987</td>\n",
              "      <td>High</td>\n",
              "      <td>Tier 3</td>\n",
              "      <td>Supermarket Type1</td>\n",
              "      <td>2778.3834</td>\n",
              "    </tr>\n",
              "    <tr>\n",
              "      <th>8519</th>\n",
              "      <td>FDS36</td>\n",
              "      <td>8.380</td>\n",
              "      <td>Regular</td>\n",
              "      <td>0.046982</td>\n",
              "      <td>Baking Goods</td>\n",
              "      <td>108.1570</td>\n",
              "      <td>OUT045</td>\n",
              "      <td>2002</td>\n",
              "      <td>nan</td>\n",
              "      <td>Tier 2</td>\n",
              "      <td>Supermarket Type1</td>\n",
              "      <td>549.2850</td>\n",
              "    </tr>\n",
              "    <tr>\n",
              "      <th>8520</th>\n",
              "      <td>NCJ29</td>\n",
              "      <td>10.600</td>\n",
              "      <td>Low Fat</td>\n",
              "      <td>0.035186</td>\n",
              "      <td>Health and Hygiene</td>\n",
              "      <td>85.1224</td>\n",
              "      <td>OUT035</td>\n",
              "      <td>2004</td>\n",
              "      <td>Small</td>\n",
              "      <td>Tier 2</td>\n",
              "      <td>Supermarket Type1</td>\n",
              "      <td>1193.1136</td>\n",
              "    </tr>\n",
              "    <tr>\n",
              "      <th>8521</th>\n",
              "      <td>FDN46</td>\n",
              "      <td>7.210</td>\n",
              "      <td>Regular</td>\n",
              "      <td>0.145221</td>\n",
              "      <td>Snack Foods</td>\n",
              "      <td>103.1332</td>\n",
              "      <td>OUT018</td>\n",
              "      <td>2009</td>\n",
              "      <td>Medium</td>\n",
              "      <td>Tier 3</td>\n",
              "      <td>Supermarket Type2</td>\n",
              "      <td>1845.5976</td>\n",
              "    </tr>\n",
              "    <tr>\n",
              "      <th>8522</th>\n",
              "      <td>DRG01</td>\n",
              "      <td>14.800</td>\n",
              "      <td>Low Fat</td>\n",
              "      <td>0.044878</td>\n",
              "      <td>Soft Drinks</td>\n",
              "      <td>75.4670</td>\n",
              "      <td>OUT046</td>\n",
              "      <td>1997</td>\n",
              "      <td>Small</td>\n",
              "      <td>Tier 1</td>\n",
              "      <td>Supermarket Type1</td>\n",
              "      <td>765.6700</td>\n",
              "    </tr>\n",
              "  </tbody>\n",
              "</table>\n",
              "<p>8523 rows × 12 columns</p>\n",
              "</div>\n",
              "      <button class=\"colab-df-convert\" onclick=\"convertToInteractive('df-21273c29-f651-46c8-a217-a6fd70530f84')\"\n",
              "              title=\"Convert this dataframe to an interactive table.\"\n",
              "              style=\"display:none;\">\n",
              "        \n",
              "  <svg xmlns=\"http://www.w3.org/2000/svg\" height=\"24px\"viewBox=\"0 0 24 24\"\n",
              "       width=\"24px\">\n",
              "    <path d=\"M0 0h24v24H0V0z\" fill=\"none\"/>\n",
              "    <path d=\"M18.56 5.44l.94 2.06.94-2.06 2.06-.94-2.06-.94-.94-2.06-.94 2.06-2.06.94zm-11 1L8.5 8.5l.94-2.06 2.06-.94-2.06-.94L8.5 2.5l-.94 2.06-2.06.94zm10 10l.94 2.06.94-2.06 2.06-.94-2.06-.94-.94-2.06-.94 2.06-2.06.94z\"/><path d=\"M17.41 7.96l-1.37-1.37c-.4-.4-.92-.59-1.43-.59-.52 0-1.04.2-1.43.59L10.3 9.45l-7.72 7.72c-.78.78-.78 2.05 0 2.83L4 21.41c.39.39.9.59 1.41.59.51 0 1.02-.2 1.41-.59l7.78-7.78 2.81-2.81c.8-.78.8-2.07 0-2.86zM5.41 20L4 18.59l7.72-7.72 1.47 1.35L5.41 20z\"/>\n",
              "  </svg>\n",
              "      </button>\n",
              "      \n",
              "  <style>\n",
              "    .colab-df-container {\n",
              "      display:flex;\n",
              "      flex-wrap:wrap;\n",
              "      gap: 12px;\n",
              "    }\n",
              "\n",
              "    .colab-df-convert {\n",
              "      background-color: #E8F0FE;\n",
              "      border: none;\n",
              "      border-radius: 50%;\n",
              "      cursor: pointer;\n",
              "      display: none;\n",
              "      fill: #1967D2;\n",
              "      height: 32px;\n",
              "      padding: 0 0 0 0;\n",
              "      width: 32px;\n",
              "    }\n",
              "\n",
              "    .colab-df-convert:hover {\n",
              "      background-color: #E2EBFA;\n",
              "      box-shadow: 0px 1px 2px rgba(60, 64, 67, 0.3), 0px 1px 3px 1px rgba(60, 64, 67, 0.15);\n",
              "      fill: #174EA6;\n",
              "    }\n",
              "\n",
              "    [theme=dark] .colab-df-convert {\n",
              "      background-color: #3B4455;\n",
              "      fill: #D2E3FC;\n",
              "    }\n",
              "\n",
              "    [theme=dark] .colab-df-convert:hover {\n",
              "      background-color: #434B5C;\n",
              "      box-shadow: 0px 1px 3px 1px rgba(0, 0, 0, 0.15);\n",
              "      filter: drop-shadow(0px 1px 2px rgba(0, 0, 0, 0.3));\n",
              "      fill: #FFFFFF;\n",
              "    }\n",
              "  </style>\n",
              "\n",
              "      <script>\n",
              "        const buttonEl =\n",
              "          document.querySelector('#df-21273c29-f651-46c8-a217-a6fd70530f84 button.colab-df-convert');\n",
              "        buttonEl.style.display =\n",
              "          google.colab.kernel.accessAllowed ? 'block' : 'none';\n",
              "\n",
              "        async function convertToInteractive(key) {\n",
              "          const element = document.querySelector('#df-21273c29-f651-46c8-a217-a6fd70530f84');\n",
              "          const dataTable =\n",
              "            await google.colab.kernel.invokeFunction('convertToInteractive',\n",
              "                                                     [key], {});\n",
              "          if (!dataTable) return;\n",
              "\n",
              "          const docLinkHtml = 'Like what you see? Visit the ' +\n",
              "            '<a target=\"_blank\" href=https://colab.research.google.com/notebooks/data_table.ipynb>data table notebook</a>'\n",
              "            + ' to learn more about interactive tables.';\n",
              "          element.innerHTML = '';\n",
              "          dataTable['output_type'] = 'display_data';\n",
              "          await google.colab.output.renderOutput(dataTable, element);\n",
              "          const docLink = document.createElement('div');\n",
              "          docLink.innerHTML = docLinkHtml;\n",
              "          element.appendChild(docLink);\n",
              "        }\n",
              "      </script>\n",
              "    </div>\n",
              "  </div>\n",
              "  "
            ]
          },
          "metadata": {},
          "execution_count": 64
        }
      ]
    },
    {
      "cell_type": "code",
      "source": [
        "p_1 = dt1[\"Item_Identifier\"].unique().tolist()\n",
        "len(p_1)"
      ],
      "metadata": {
        "colab": {
          "base_uri": "https://localhost:8080/"
        },
        "id": "PKyENkhUQBMi",
        "outputId": "ddae75db-87d4-4a9d-9a06-6246ed92b06f"
      },
      "execution_count": 80,
      "outputs": [
        {
          "output_type": "execute_result",
          "data": {
            "text/plain": [
              "1559"
            ]
          },
          "metadata": {},
          "execution_count": 80
        }
      ]
    },
    {
      "cell_type": "code",
      "source": [
        "p_1 = dt1.iloc[:,[0,4]]\n",
        "p_1 = p_1.drop_duplicates()\n",
        "len(p_1[\"Item_Identifier\"])"
      ],
      "metadata": {
        "id": "efx_z8bpdUyW",
        "outputId": "38ba4a14-0bd4-47fc-b840-09decd4d9f70",
        "colab": {
          "base_uri": "https://localhost:8080/"
        }
      },
      "execution_count": 81,
      "outputs": [
        {
          "output_type": "execute_result",
          "data": {
            "text/plain": [
              "1559"
            ]
          },
          "metadata": {},
          "execution_count": 81
        }
      ]
    },
    {
      "cell_type": "markdown",
      "source": [
        "# Producto con mayor nivel de ventas entre las tiendas"
      ],
      "metadata": {
        "id": "oXMdzcZNd4fa"
      }
    },
    {
      "cell_type": "markdown",
      "source": [
        " A continuación, se presenta los 5 productos con mayor nivel de ventas:"
      ],
      "metadata": {
        "id": "XBbsgh3UmzDw"
      }
    },
    {
      "cell_type": "code",
      "source": [
        "p_1 = dt1.groupby([\"Item_Identifier\"])[\"Item_Outlet_Sales\"].sum()\n",
        "p_2 = pd.DataFrame(p_1.sort_values(ascending=False))\n",
        "p_2[\"Part(%)\"] = p_2.iloc[:,[0]]/p_2.iloc[:,[0]].sum()*100\n",
        "p_3 = p_2.head()\n",
        "p_3 = p_3.reset_index(drop=False)\n",
        "g_1 = p_3[\"Part(%)\"].sum()\n",
        "p_3[\"Item_Outlet_Sales\"] = p_3[\"Item_Outlet_Sales\"].apply(lambda x: \"{:,.2f}\".format(x))\n",
        "print(f\"{p_3}\\n\\nEntre estos 5 productos se concentra el {round(g_1,2)}% del total de las ventas.\")"
      ],
      "metadata": {
        "id": "K_EqsQl1d2VJ",
        "outputId": "e2cd7596-2924-4901-d3c2-dd65bd6c7a77",
        "colab": {
          "base_uri": "https://localhost:8080/"
        }
      },
      "execution_count": 131,
      "outputs": [
        {
          "output_type": "stream",
          "name": "stdout",
          "text": [
            "  Item_Identifier Item_Outlet_Sales   Part(%)\n",
            "0           FDY55         42,661.80  0.229474\n",
            "1           FDA15         41,584.54  0.223680\n",
            "2           FDZ20         40,185.02  0.216152\n",
            "3           FDF05         36,555.75  0.196630\n",
            "4           FDA04         35,741.48  0.192250\n",
            "\n",
            "Entre estos 5 productos se concentra el 1.06% del total de las ventas.\n"
          ]
        }
      ]
    },
    {
      "cell_type": "markdown",
      "source": [
        "El tipo de Item que más se vende entre las tiendas."
      ],
      "metadata": {
        "id": "esseB-lMpC5z"
      }
    },
    {
      "cell_type": "code",
      "source": [
        "p_1 = dt1.groupby([\"Item_Type\"])[\"Item_Outlet_Sales\"].sum()\n",
        "p_2 = pd.DataFrame(p_1.sort_values(ascending=False))\n",
        "p_2[\"Part(%)\"] = p_2.iloc[:,[0]]/p_2.iloc[:,[0]].sum()*100\n",
        "p_3 = p_2.head()\n",
        "p_3 = p_3.reset_index(drop=False)\n",
        "g_1 = p_3[\"Part(%)\"].sum()\n",
        "p_3[\"Item_Outlet_Sales\"] = p_3[\"Item_Outlet_Sales\"].apply(lambda x: \"{:,.2f}\".format(x))\n",
        "print(f\"{p_3}\\n\\nEntre estos 5 tipos de productos se concentra el {round(g_1,2)}% del total de las ventas.\")"
      ],
      "metadata": {
        "id": "IeJBOVA9pHzW",
        "outputId": "c10af8bd-2198-48fd-bcc2-fb3c7bb93595",
        "colab": {
          "base_uri": "https://localhost:8080/"
        }
      },
      "execution_count": 232,
      "outputs": [
        {
          "output_type": "stream",
          "name": "stdout",
          "text": [
            "               Item_Type Item_Outlet_Sales    Part(%)\n",
            "0  Fruits and Vegetables      2,820,059.82  15.168849\n",
            "1            Snack Foods      2,732,786.09  14.699412\n",
            "2              Household      2,055,493.71  11.056317\n",
            "3           Frozen Foods      1,825,734.79   9.820464\n",
            "4                  Dairy      1,522,594.05   8.189897\n",
            "\n",
            "Entre estos 5 tipos de productos se concentra el 58.93% del total de las ventas.\n"
          ]
        }
      ]
    },
    {
      "cell_type": "markdown",
      "source": [
        "# Nivel de ventas por tipo de productos"
      ],
      "metadata": {
        "id": "SyxsjUUEp2qY"
      }
    },
    {
      "cell_type": "code",
      "source": [
        "p_1 = dt1.groupby([\"Item_Type\"])[\"Item_Outlet_Sales\"].sum()\n",
        "fig, ax = plt.subplots(figsize=(10, 12))  \n",
        "ax.pie(p_1, labels=p_1.index, autopct=\"%1.1f%%\", labeldistance= 1.1)\n",
        "ax.set_title(\"Participación por nivel de ventas\", fontsize = 22)"
      ],
      "metadata": {
        "id": "E-wQEmNluB1i",
        "outputId": "99918861-b8ec-4219-ef99-5b494db5be67",
        "colab": {
          "base_uri": "https://localhost:8080/",
          "height": 630
        }
      },
      "execution_count": 236,
      "outputs": [
        {
          "output_type": "execute_result",
          "data": {
            "text/plain": [
              "Text(0.5, 1.0, 'Participación por nivel de ventas')"
            ]
          },
          "metadata": {},
          "execution_count": 236
        },
        {
          "output_type": "display_data",
          "data": {
            "text/plain": [
              "<Figure size 720x864 with 1 Axes>"
            ],
            "image/png": "[encoded data removed]"
          },
          "metadata": {}
        }
      ]
    },
    {
      "cell_type": "code",
      "source": [
        "print(f\"En relación con el tipo de productos con mayor participación en ventas encontramos a {p_3.iloc[0,0]} con una participación del {round(p_3.iloc[0,2],2)}%, seguido de {p_3.iloc[1,0]} con una participación del {round(p_3.iloc[1,2],2)}%\\ny el tercer iten más vendido es {p_3.iloc[2,0]} con una participación del {round(p_3.iloc[2,2],2)}%.\")"
      ],
      "metadata": {
        "id": "bqKr8by6zAG4",
        "outputId": "4538e80e-5584-4e12-9b4f-ebab13b7d524",
        "colab": {
          "base_uri": "https://localhost:8080/"
        }
      },
      "execution_count": 237,
      "outputs": [
        {
          "output_type": "stream",
          "name": "stdout",
          "text": [
            "En relación con el tipo de productos con mayor participación en ventas encontramos a Fruits and Vegetables con una participación del 15.17%, seguido de Snack Foods con una participación del 14.7%\n",
            "y el tercer iten más vendido es Household con una participación del 11.06%.\n"
          ]
        }
      ]
    },
    {
      "cell_type": "markdown",
      "source": [
        "# Participación en ventas por contenido en grasa del producto."
      ],
      "metadata": {
        "id": "1CrRzTCA3YfR"
      }
    },
    {
      "cell_type": "code",
      "source": [
        "p_1 = dt1.groupby([\"Item_Fat_Content\"])[\"Item_Outlet_Sales\"].sum()\n",
        "fig, ax = plt.subplots(figsize=(10, 12))  \n",
        "ax.pie(p_1, labels=p_1.index, autopct=\"%1.1f%%\", labeldistance= 1.1)\n",
        "ax.set_title(\"Participación por nivel de ventas\", fontsize = 22)"
      ],
      "metadata": {
        "id": "ZSvQDHzS3en2",
        "outputId": "5c4cbaf2-7737-4745-96d2-db49f8caad4f",
        "colab": {
          "base_uri": "https://localhost:8080/",
          "height": 630
        }
      },
      "execution_count": 238,
      "outputs": [
        {
          "output_type": "execute_result",
          "data": {
            "text/plain": [
              "Text(0.5, 1.0, 'Participación por nivel de ventas')"
            ]
          },
          "metadata": {},
          "execution_count": 238
        },
        {
          "output_type": "display_data",
          "data": {
            "text/plain": [
              "<Figure size 720x864 with 1 Axes>"
            ],
            "image/png": "[encoded data removed]"
          },
          "metadata": {}
        }
      ]
    },
    {
      "cell_type": "markdown",
      "source": [
        "El gráfico anterior se desprende que del total de las ventas de los establecimientos el 64% se concentra en los productos bajos en grasa y el 36% restante en los productos regulares."
      ],
      "metadata": {
        "id": "QvxcXbwy3lVQ"
      }
    },
    {
      "cell_type": "code",
      "source": [],
      "metadata": {
        "id": "c15juN_U6BK7"
      },
      "execution_count": null,
      "outputs": []
    },
    {
      "cell_type": "markdown",
      "source": [
        "# Análisis del tipo de tiendas"
      ],
      "metadata": {
        "id": "NWizscRvBydA"
      }
    },
    {
      "cell_type": "markdown",
      "source": [
        "## Número de tiendas por el tamaño"
      ],
      "metadata": {
        "id": "rfe1FhSEB34z"
      }
    },
    {
      "cell_type": "code",
      "source": [
        "cuenta = dt1[[\"Outlet_Identifier\",\"Outlet_Size\"]].drop_duplicates()\n",
        "cuenta = cuenta[\"Outlet_Size\"].value_counts()\n",
        "\n",
        "fig, ax = plt.subplots(figsize=(6, 8))  \n",
        "ax.pie(cuenta, labels=cuenta.index, autopct=\"%1.1f%%\", labeldistance= 1.1)\n",
        "ax.set_title(\"Participación por nivel de ventas\", fontsize = 22)\n"
      ],
      "metadata": {
        "id": "LFh40RQdEYRR",
        "outputId": "c76222d7-d966-421a-ac9c-bedb2c49c309",
        "colab": {
          "base_uri": "https://localhost:8080/",
          "height": 407
        }
      },
      "execution_count": 276,
      "outputs": [
        {
          "output_type": "execute_result",
          "data": {
            "text/plain": [
              "Text(0.5, 1.0, 'Participación por nivel de ventas')"
            ]
          },
          "metadata": {},
          "execution_count": 276
        },
        {
          "output_type": "display_data",
          "data": {
            "text/plain": [
              "<Figure size 432x576 with 1 Axes>"
            ],
            "image/png": "[encoded data removed]"
          },
          "metadata": {}
        }
      ]
    },
    {
      "cell_type": "markdown",
      "source": [
        "De la gráfica de participación del número de tiendas por tamaño, el 60% de las mismas son de tamaño mediano y el 30% son pequeñas."
      ],
      "metadata": {
        "id": "ayvcE_cCEvG7"
      }
    },
    {
      "cell_type": "markdown",
      "source": [
        "# Tienda por nivel de facturación"
      ],
      "metadata": {
        "id": "LhHHQip3FC3p"
      }
    },
    {
      "cell_type": "code",
      "source": [
        "p_1 = dt1.groupby([\"Outlet_Identifier\",\"Outlet_Size\"])[\"Item_Outlet_Sales\"].sum()\n",
        "p_2 = pd.DataFrame(p_1.sort_values(ascending=False))\n",
        "p_2[\"Part(%)\"] = p_2.iloc[:,[0]]/p_2.iloc[:,[0]].sum()*100\n",
        "p_3 = p_2.head()\n",
        "p_3 = p_3.reset_index(drop=False)\n",
        "g_1 = p_3[\"Part(%)\"].sum()\n",
        "p_3[\"Item_Outlet_Sales\"] = p_3[\"Item_Outlet_Sales\"].apply(lambda x: \"{:,.2f}\".format(x))\n",
        "print(f\"{p_3}\\n\\nEntre las 5 primeras tiendas dentro del ranking, estas concentra el {round(g_1,2)}% del total de las ventas. Es importante indicar que dentro del top 5 de ventas se encuentra una tienda de tamaño pequeño en segundo puesto.\")"
      ],
      "metadata": {
        "id": "dhpw223BE6RZ",
        "outputId": "2b872e28-48d1-40da-877d-03a4650a7e1e",
        "colab": {
          "base_uri": "https://localhost:8080/"
        }
      },
      "execution_count": 280,
      "outputs": [
        {
          "output_type": "stream",
          "name": "stdout",
          "text": [
            "  Outlet_Identifier Outlet_Size Item_Outlet_Sales    Part(%)\n",
            "0            OUT027      Medium      3,453,926.05  18.578359\n",
            "1            OUT035       Small      2,268,122.94  12.200030\n",
            "2            OUT049      Medium      2,183,969.81  11.747378\n",
            "3            OUT017      Medium      2,167,465.29  11.658602\n",
            "4            OUT013        High      2,142,663.58  11.525196\n",
            "\n",
            "Entre las 5 primeras tiendas dentro del ranking, estas concentra el 65.71% del total de las ventas. Es importante indicar que dentro del top 5 de ventas se encuentra una tienda de tamaño pequeño en segundo puesto.\n"
          ]
        }
      ]
    },
    {
      "cell_type": "markdown",
      "source": [
        "# Gráfica de para el nivel de ventas por tienda"
      ],
      "metadata": {
        "id": "Eajzx_D2GKh0"
      }
    },
    {
      "cell_type": "code",
      "source": [
        "p_1 = dt1.groupby([\"Outlet_Identifier\"])[\"Item_Outlet_Sales\"].sum()\n",
        "p_2 = pd.DataFrame(p_1.sort_values(ascending=False))\n",
        "p_2 = p_2.reset_index(drop=False)\n",
        "p_2\n",
        "\n",
        "tienda = np.array(p_2[\"Outlet_Identifier\"])\n",
        "ventas = np.array(p_2[\"Item_Outlet_Sales\"])\n",
        "\n",
        "plt.bar(tienda, ventas, edgecolor = \"black\")\n",
        "plt.title(\"Volumen de ventas en millones por tienda\", fontsize=16)\n",
        "plt.xlabel('Tiendas')\n",
        "plt.ylabel('Ventas (en millones de dólares)')\n",
        "plt.xticks(rotation = 45)\n",
        "\n",
        "for i, valor in enumerate(ventas):\n",
        "    plt.text(i, valor+0.5, round(valor/1000000,2), ha='center', fontsize = 13)"
      ],
      "metadata": {
        "id": "BkHzbj6_GKOt",
        "outputId": "20e9c945-bb6e-42e1-ddb1-f0d7c2f3c9d1",
        "colab": {
          "base_uri": "https://localhost:8080/",
          "height": 416
        }
      },
      "execution_count": 313,
      "outputs": [
        {
          "output_type": "display_data",
          "data": {
            "text/plain": [
              "<Figure size 576x396 with 1 Axes>"
            ],
            "image/png": "[encoded data removed]"
          },
          "metadata": {}
        }
      ]
    },
    {
      "cell_type": "markdown",
      "source": [
        "# Tienda por portafolio del tipo de producto"
      ],
      "metadata": {
        "id": "ozZW-RKRK0OY"
      }
    },
    {
      "cell_type": "code",
      "source": [
        "p_1 = dt1.groupby([\"Outlet_Identifier\",\"Item_Type\"])[\"Item_Outlet_Sales\"].sum()\n",
        "p_2 = pd.DataFrame(p_1.sort_values(ascending=False))\n",
        "p_2 = p_2.reset_index(drop=False)\n",
        "p_2\n",
        "\n",
        "a_1 = p_2.groupby([\"Outlet_Identifier\"])[\"Item_Outlet_Sales\"].sum()\n",
        "a_1 = a_1.reset_index(drop=False)\n",
        "a_1.rename(columns={\n",
        "    \n",
        "    \"Item_Outlet_Sales\":\"Ventas_totales\"\n",
        "}, inplace=True)\n",
        "\n",
        "p_3 = pd.merge(left=p_2, right=a_1, left_on=\"Outlet_Identifier\", right_on=\"Outlet_Identifier\") \n",
        "p_3[\"Part_por_produc\"] = p_3[\"Item_Outlet_Sales\"]/p_3[\"Ventas_totales\"]*100\n",
        "p_4 = p_3[p_3[\"Outlet_Identifier\"]==\"OUT027\"]\n",
        "p_4\n"
      ],
      "metadata": {
        "id": "HNsujZY4K5lI",
        "outputId": "ed7bdb0d-73d7-4807-8d19-733cab5dfc67",
        "colab": {
          "base_uri": "https://localhost:8080/",
          "height": 551
        }
      },
      "execution_count": 344,
      "outputs": [
        {
          "output_type": "execute_result",
          "data": {
            "text/plain": [
              "   Outlet_Identifier              Item_Type  Item_Outlet_Sales  \\\n",
              "0             OUT027  Fruits and Vegetables        576028.1886   \n",
              "1             OUT027            Snack Foods        513088.1172   \n",
              "2             OUT027              Household        378299.5704   \n",
              "3             OUT027           Frozen Foods        316272.3108   \n",
              "4             OUT027                 Canned        272150.4106   \n",
              "5             OUT027                  Dairy        262317.2104   \n",
              "6             OUT027           Baking Goods        224172.1968   \n",
              "7             OUT027                   Meat        216288.4590   \n",
              "8             OUT027     Health and Hygiene        199084.1870   \n",
              "9             OUT027            Soft Drinks        147822.2476   \n",
              "10            OUT027                 Breads        110518.8052   \n",
              "11            OUT027            Hard Drinks         78957.8878   \n",
              "12            OUT027              Breakfast         50432.3526   \n",
              "13            OUT027          Starchy Foods         49170.6616   \n",
              "14            OUT027                 Others         40513.9300   \n",
              "15            OUT027                Seafood         18809.5158   \n",
              "\n",
              "    Ventas_totales  Part_por_produc  \n",
              "0     3.453926e+06        16.677490  \n",
              "1     3.453926e+06        14.855214  \n",
              "2     3.453926e+06        10.952741  \n",
              "3     3.453926e+06         9.156893  \n",
              "4     3.453926e+06         7.879451  \n",
              "5     3.453926e+06         7.594755  \n",
              "6     3.453926e+06         6.490359  \n",
              "7     3.453926e+06         6.262105  \n",
              "8     3.453926e+06         5.763997  \n",
              "9     3.453926e+06         4.279832  \n",
              "10    3.453926e+06         3.199802  \n",
              "11    3.453926e+06         2.286033  \n",
              "12    3.453926e+06         1.460146  \n",
              "13    3.453926e+06         1.423617  \n",
              "14    3.453926e+06         1.172982  \n",
              "15    3.453926e+06         0.544584  "
            ],
            "text/html": [
              "\n",
              "  <div id=\"df-7fb203e6-a5a3-4e27-a124-fd76b08a4b60\">\n",
              "    <div class=\"colab-df-container\">\n",
              "      <div>\n",
              "<style scoped>\n",
              "    .dataframe tbody tr th:only-of-type {\n",
              "        vertical-align: middle;\n",
              "    }\n",
              "\n",
              "    .dataframe tbody tr th {\n",
              "        vertical-align: top;\n",
              "    }\n",
              "\n",
              "    .dataframe thead th {\n",
              "        text-align: right;\n",
              "    }\n",
              "</style>\n",
              "<table border=\"1\" class=\"dataframe\">\n",
              "  <thead>\n",
              "    <tr style=\"text-align: right;\">\n",
              "      <th></th>\n",
              "      <th>Outlet_Identifier</th>\n",
              "      <th>Item_Type</th>\n",
              "      <th>Item_Outlet_Sales</th>\n",
              "      <th>Ventas_totales</th>\n",
              "      <th>Part_por_produc</th>\n",
              "    </tr>\n",
              "  </thead>\n",
              "  <tbody>\n",
              "    <tr>\n",
              "      <th>0</th>\n",
              "      <td>OUT027</td>\n",
              "      <td>Fruits and Vegetables</td>\n",
              "      <td>576028.1886</td>\n",
              "      <td>3.453926e+06</td>\n",
              "      <td>16.677490</td>\n",
              "    </tr>\n",
              "    <tr>\n",
              "      <th>1</th>\n",
              "      <td>OUT027</td>\n",
              "      <td>Snack Foods</td>\n",
              "      <td>513088.1172</td>\n",
              "      <td>3.453926e+06</td>\n",
              "      <td>14.855214</td>\n",
              "    </tr>\n",
              "    <tr>\n",
              "      <th>2</th>\n",
              "      <td>OUT027</td>\n",
              "      <td>Household</td>\n",
              "      <td>378299.5704</td>\n",
              "      <td>3.453926e+06</td>\n",
              "      <td>10.952741</td>\n",
              "    </tr>\n",
              "    <tr>\n",
              "      <th>3</th>\n",
              "      <td>OUT027</td>\n",
              "      <td>Frozen Foods</td>\n",
              "      <td>316272.3108</td>\n",
              "      <td>3.453926e+06</td>\n",
              "      <td>9.156893</td>\n",
              "    </tr>\n",
              "    <tr>\n",
              "      <th>4</th>\n",
              "      <td>OUT027</td>\n",
              "      <td>Canned</td>\n",
              "      <td>272150.4106</td>\n",
              "      <td>3.453926e+06</td>\n",
              "      <td>7.879451</td>\n",
              "    </tr>\n",
              "    <tr>\n",
              "      <th>5</th>\n",
              "      <td>OUT027</td>\n",
              "      <td>Dairy</td>\n",
              "      <td>262317.2104</td>\n",
              "      <td>3.453926e+06</td>\n",
              "      <td>7.594755</td>\n",
              "    </tr>\n",
              "    <tr>\n",
              "      <th>6</th>\n",
              "      <td>OUT027</td>\n",
              "      <td>Baking Goods</td>\n",
              "      <td>224172.1968</td>\n",
              "      <td>3.453926e+06</td>\n",
              "      <td>6.490359</td>\n",
              "    </tr>\n",
              "    <tr>\n",
              "      <th>7</th>\n",
              "      <td>OUT027</td>\n",
              "      <td>Meat</td>\n",
              "      <td>216288.4590</td>\n",
              "      <td>3.453926e+06</td>\n",
              "      <td>6.262105</td>\n",
              "    </tr>\n",
              "    <tr>\n",
              "      <th>8</th>\n",
              "      <td>OUT027</td>\n",
              "      <td>Health and Hygiene</td>\n",
              "      <td>199084.1870</td>\n",
              "      <td>3.453926e+06</td>\n",
              "      <td>5.763997</td>\n",
              "    </tr>\n",
              "    <tr>\n",
              "      <th>9</th>\n",
              "      <td>OUT027</td>\n",
              "      <td>Soft Drinks</td>\n",
              "      <td>147822.2476</td>\n",
              "      <td>3.453926e+06</td>\n",
              "      <td>4.279832</td>\n",
              "    </tr>\n",
              "    <tr>\n",
              "      <th>10</th>\n",
              "      <td>OUT027</td>\n",
              "      <td>Breads</td>\n",
              "      <td>110518.8052</td>\n",
              "      <td>3.453926e+06</td>\n",
              "      <td>3.199802</td>\n",
              "    </tr>\n",
              "    <tr>\n",
              "      <th>11</th>\n",
              "      <td>OUT027</td>\n",
              "      <td>Hard Drinks</td>\n",
              "      <td>78957.8878</td>\n",
              "      <td>3.453926e+06</td>\n",
              "      <td>2.286033</td>\n",
              "    </tr>\n",
              "    <tr>\n",
              "      <th>12</th>\n",
              "      <td>OUT027</td>\n",
              "      <td>Breakfast</td>\n",
              "      <td>50432.3526</td>\n",
              "      <td>3.453926e+06</td>\n",
              "      <td>1.460146</td>\n",
              "    </tr>\n",
              "    <tr>\n",
              "      <th>13</th>\n",
              "      <td>OUT027</td>\n",
              "      <td>Starchy Foods</td>\n",
              "      <td>49170.6616</td>\n",
              "      <td>3.453926e+06</td>\n",
              "      <td>1.423617</td>\n",
              "    </tr>\n",
              "    <tr>\n",
              "      <th>14</th>\n",
              "      <td>OUT027</td>\n",
              "      <td>Others</td>\n",
              "      <td>40513.9300</td>\n",
              "      <td>3.453926e+06</td>\n",
              "      <td>1.172982</td>\n",
              "    </tr>\n",
              "    <tr>\n",
              "      <th>15</th>\n",
              "      <td>OUT027</td>\n",
              "      <td>Seafood</td>\n",
              "      <td>18809.5158</td>\n",
              "      <td>3.453926e+06</td>\n",
              "      <td>0.544584</td>\n",
              "    </tr>\n",
              "  </tbody>\n",
              "</table>\n",
              "</div>\n",
              "      <button class=\"colab-df-convert\" onclick=\"convertToInteractive('df-7fb203e6-a5a3-4e27-a124-fd76b08a4b60')\"\n",
              "              title=\"Convert this dataframe to an interactive table.\"\n",
              "              style=\"display:none;\">\n",
              "        \n",
              "  <svg xmlns=\"http://www.w3.org/2000/svg\" height=\"24px\"viewBox=\"0 0 24 24\"\n",
              "       width=\"24px\">\n",
              "    <path d=\"M0 0h24v24H0V0z\" fill=\"none\"/>\n",
              "    <path d=\"M18.56 5.44l.94 2.06.94-2.06 2.06-.94-2.06-.94-.94-2.06-.94 2.06-2.06.94zm-11 1L8.5 8.5l.94-2.06 2.06-.94-2.06-.94L8.5 2.5l-.94 2.06-2.06.94zm10 10l.94 2.06.94-2.06 2.06-.94-2.06-.94-.94-2.06-.94 2.06-2.06.94z\"/><path d=\"M17.41 7.96l-1.37-1.37c-.4-.4-.92-.59-1.43-.59-.52 0-1.04.2-1.43.59L10.3 9.45l-7.72 7.72c-.78.78-.78 2.05 0 2.83L4 21.41c.39.39.9.59 1.41.59.51 0 1.02-.2 1.41-.59l7.78-7.78 2.81-2.81c.8-.78.8-2.07 0-2.86zM5.41 20L4 18.59l7.72-7.72 1.47 1.35L5.41 20z\"/>\n",
              "  </svg>\n",
              "      </button>\n",
              "      \n",
              "  <style>\n",
              "    .colab-df-container {\n",
              "      display:flex;\n",
              "      flex-wrap:wrap;\n",
              "      gap: 12px;\n",
              "    }\n",
              "\n",
              "    .colab-df-convert {\n",
              "      background-color: #E8F0FE;\n",
              "      border: none;\n",
              "      border-radius: 50%;\n",
              "      cursor: pointer;\n",
              "      display: none;\n",
              "      fill: #1967D2;\n",
              "      height: 32px;\n",
              "      padding: 0 0 0 0;\n",
              "      width: 32px;\n",
              "    }\n",
              "\n",
              "    .colab-df-convert:hover {\n",
              "      background-color: #E2EBFA;\n",
              "      box-shadow: 0px 1px 2px rgba(60, 64, 67, 0.3), 0px 1px 3px 1px rgba(60, 64, 67, 0.15);\n",
              "      fill: #174EA6;\n",
              "    }\n",
              "\n",
              "    [theme=dark] .colab-df-convert {\n",
              "      background-color: #3B4455;\n",
              "      fill: #D2E3FC;\n",
              "    }\n",
              "\n",
              "    [theme=dark] .colab-df-convert:hover {\n",
              "      background-color: #434B5C;\n",
              "      box-shadow: 0px 1px 3px 1px rgba(0, 0, 0, 0.15);\n",
              "      filter: drop-shadow(0px 1px 2px rgba(0, 0, 0, 0.3));\n",
              "      fill: #FFFFFF;\n",
              "    }\n",
              "  </style>\n",
              "\n",
              "      <script>\n",
              "        const buttonEl =\n",
              "          document.querySelector('#df-7fb203e6-a5a3-4e27-a124-fd76b08a4b60 button.colab-df-convert');\n",
              "        buttonEl.style.display =\n",
              "          google.colab.kernel.accessAllowed ? 'block' : 'none';\n",
              "\n",
              "        async function convertToInteractive(key) {\n",
              "          const element = document.querySelector('#df-7fb203e6-a5a3-4e27-a124-fd76b08a4b60');\n",
              "          const dataTable =\n",
              "            await google.colab.kernel.invokeFunction('convertToInteractive',\n",
              "                                                     [key], {});\n",
              "          if (!dataTable) return;\n",
              "\n",
              "          const docLinkHtml = 'Like what you see? Visit the ' +\n",
              "            '<a target=\"_blank\" href=https://colab.research.google.com/notebooks/data_table.ipynb>data table notebook</a>'\n",
              "            + ' to learn more about interactive tables.';\n",
              "          element.innerHTML = '';\n",
              "          dataTable['output_type'] = 'display_data';\n",
              "          await google.colab.output.renderOutput(dataTable, element);\n",
              "          const docLink = document.createElement('div');\n",
              "          docLink.innerHTML = docLinkHtml;\n",
              "          element.appendChild(docLink);\n",
              "        }\n",
              "      </script>\n",
              "    </div>\n",
              "  </div>\n",
              "  "
            ]
          },
          "metadata": {},
          "execution_count": 344
        }
      ]
    },
    {
      "cell_type": "code",
      "source": [
        "promedio = p_3.groupby([\"Item_Type\"])[\"Part_por_produc\"].mean()\n",
        "promedio = pd.DataFrame(promedio)\n",
        "promedio = promedio.reset_index(drop=False)\n",
        "promedio\n"
      ],
      "metadata": {
        "id": "ftd5jNWFQukn",
        "outputId": "6acc2ccc-b5ff-40c5-b016-89cd913d3e91",
        "colab": {
          "base_uri": "https://localhost:8080/",
          "height": 551
        }
      },
      "execution_count": 346,
      "outputs": [
        {
          "output_type": "execute_result",
          "data": {
            "text/plain": [
              "                Item_Type  Part_por_produc\n",
              "0            Baking Goods         6.827039\n",
              "1                  Breads         3.041375\n",
              "2               Breakfast         1.394940\n",
              "3                  Canned         7.634327\n",
              "4                   Dairy         8.290544\n",
              "5            Frozen Foods         9.710655\n",
              "6   Fruits and Vegetables        14.719377\n",
              "7             Hard Drinks         2.314677\n",
              "8      Health and Hygiene         5.805652\n",
              "9               Household        11.191497\n",
              "10                   Meat         5.220566\n",
              "11                 Others         1.858799\n",
              "12                Seafood         0.791836\n",
              "13            Snack Foods        14.558988\n",
              "14            Soft Drinks         4.880234\n",
              "15          Starchy Foods         1.759495"
            ],
            "text/html": [
              "\n",
              "  <div id=\"df-eea051c1-a343-400a-bfbb-0508db1c9336\">\n",
              "    <div class=\"colab-df-container\">\n",
              "      <div>\n",
              "<style scoped>\n",
              "    .dataframe tbody tr th:only-of-type {\n",
              "        vertical-align: middle;\n",
              "    }\n",
              "\n",
              "    .dataframe tbody tr th {\n",
              "        vertical-align: top;\n",
              "    }\n",
              "\n",
              "    .dataframe thead th {\n",
              "        text-align: right;\n",
              "    }\n",
              "</style>\n",
              "<table border=\"1\" class=\"dataframe\">\n",
              "  <thead>\n",
              "    <tr style=\"text-align: right;\">\n",
              "      <th></th>\n",
              "      <th>Item_Type</th>\n",
              "      <th>Part_por_produc</th>\n",
              "    </tr>\n",
              "  </thead>\n",
              "  <tbody>\n",
              "    <tr>\n",
              "      <th>0</th>\n",
              "      <td>Baking Goods</td>\n",
              "      <td>6.827039</td>\n",
              "    </tr>\n",
              "    <tr>\n",
              "      <th>1</th>\n",
              "      <td>Breads</td>\n",
              "      <td>3.041375</td>\n",
              "    </tr>\n",
              "    <tr>\n",
              "      <th>2</th>\n",
              "      <td>Breakfast</td>\n",
              "      <td>1.394940</td>\n",
              "    </tr>\n",
              "    <tr>\n",
              "      <th>3</th>\n",
              "      <td>Canned</td>\n",
              "      <td>7.634327</td>\n",
              "    </tr>\n",
              "    <tr>\n",
              "      <th>4</th>\n",
              "      <td>Dairy</td>\n",
              "      <td>8.290544</td>\n",
              "    </tr>\n",
              "    <tr>\n",
              "      <th>5</th>\n",
              "      <td>Frozen Foods</td>\n",
              "      <td>9.710655</td>\n",
              "    </tr>\n",
              "    <tr>\n",
              "      <th>6</th>\n",
              "      <td>Fruits and Vegetables</td>\n",
              "      <td>14.719377</td>\n",
              "    </tr>\n",
              "    <tr>\n",
              "      <th>7</th>\n",
              "      <td>Hard Drinks</td>\n",
              "      <td>2.314677</td>\n",
              "    </tr>\n",
              "    <tr>\n",
              "      <th>8</th>\n",
              "      <td>Health and Hygiene</td>\n",
              "      <td>5.805652</td>\n",
              "    </tr>\n",
              "    <tr>\n",
              "      <th>9</th>\n",
              "      <td>Household</td>\n",
              "      <td>11.191497</td>\n",
              "    </tr>\n",
              "    <tr>\n",
              "      <th>10</th>\n",
              "      <td>Meat</td>\n",
              "      <td>5.220566</td>\n",
              "    </tr>\n",
              "    <tr>\n",
              "      <th>11</th>\n",
              "      <td>Others</td>\n",
              "      <td>1.858799</td>\n",
              "    </tr>\n",
              "    <tr>\n",
              "      <th>12</th>\n",
              "      <td>Seafood</td>\n",
              "      <td>0.791836</td>\n",
              "    </tr>\n",
              "    <tr>\n",
              "      <th>13</th>\n",
              "      <td>Snack Foods</td>\n",
              "      <td>14.558988</td>\n",
              "    </tr>\n",
              "    <tr>\n",
              "      <th>14</th>\n",
              "      <td>Soft Drinks</td>\n",
              "      <td>4.880234</td>\n",
              "    </tr>\n",
              "    <tr>\n",
              "      <th>15</th>\n",
              "      <td>Starchy Foods</td>\n",
              "      <td>1.759495</td>\n",
              "    </tr>\n",
              "  </tbody>\n",
              "</table>\n",
              "</div>\n",
              "      <button class=\"colab-df-convert\" onclick=\"convertToInteractive('df-eea051c1-a343-400a-bfbb-0508db1c9336')\"\n",
              "              title=\"Convert this dataframe to an interactive table.\"\n",
              "              style=\"display:none;\">\n",
              "        \n",
              "  <svg xmlns=\"http://www.w3.org/2000/svg\" height=\"24px\"viewBox=\"0 0 24 24\"\n",
              "       width=\"24px\">\n",
              "    <path d=\"M0 0h24v24H0V0z\" fill=\"none\"/>\n",
              "    <path d=\"M18.56 5.44l.94 2.06.94-2.06 2.06-.94-2.06-.94-.94-2.06-.94 2.06-2.06.94zm-11 1L8.5 8.5l.94-2.06 2.06-.94-2.06-.94L8.5 2.5l-.94 2.06-2.06.94zm10 10l.94 2.06.94-2.06 2.06-.94-2.06-.94-.94-2.06-.94 2.06-2.06.94z\"/><path d=\"M17.41 7.96l-1.37-1.37c-.4-.4-.92-.59-1.43-.59-.52 0-1.04.2-1.43.59L10.3 9.45l-7.72 7.72c-.78.78-.78 2.05 0 2.83L4 21.41c.39.39.9.59 1.41.59.51 0 1.02-.2 1.41-.59l7.78-7.78 2.81-2.81c.8-.78.8-2.07 0-2.86zM5.41 20L4 18.59l7.72-7.72 1.47 1.35L5.41 20z\"/>\n",
              "  </svg>\n",
              "      </button>\n",
              "      \n",
              "  <style>\n",
              "    .colab-df-container {\n",
              "      display:flex;\n",
              "      flex-wrap:wrap;\n",
              "      gap: 12px;\n",
              "    }\n",
              "\n",
              "    .colab-df-convert {\n",
              "      background-color: #E8F0FE;\n",
              "      border: none;\n",
              "      border-radius: 50%;\n",
              "      cursor: pointer;\n",
              "      display: none;\n",
              "      fill: #1967D2;\n",
              "      height: 32px;\n",
              "      padding: 0 0 0 0;\n",
              "      width: 32px;\n",
              "    }\n",
              "\n",
              "    .colab-df-convert:hover {\n",
              "      background-color: #E2EBFA;\n",
              "      box-shadow: 0px 1px 2px rgba(60, 64, 67, 0.3), 0px 1px 3px 1px rgba(60, 64, 67, 0.15);\n",
              "      fill: #174EA6;\n",
              "    }\n",
              "\n",
              "    [theme=dark] .colab-df-convert {\n",
              "      background-color: #3B4455;\n",
              "      fill: #D2E3FC;\n",
              "    }\n",
              "\n",
              "    [theme=dark] .colab-df-convert:hover {\n",
              "      background-color: #434B5C;\n",
              "      box-shadow: 0px 1px 3px 1px rgba(0, 0, 0, 0.15);\n",
              "      filter: drop-shadow(0px 1px 2px rgba(0, 0, 0, 0.3));\n",
              "      fill: #FFFFFF;\n",
              "    }\n",
              "  </style>\n",
              "\n",
              "      <script>\n",
              "        const buttonEl =\n",
              "          document.querySelector('#df-eea051c1-a343-400a-bfbb-0508db1c9336 button.colab-df-convert');\n",
              "        buttonEl.style.display =\n",
              "          google.colab.kernel.accessAllowed ? 'block' : 'none';\n",
              "\n",
              "        async function convertToInteractive(key) {\n",
              "          const element = document.querySelector('#df-eea051c1-a343-400a-bfbb-0508db1c9336');\n",
              "          const dataTable =\n",
              "            await google.colab.kernel.invokeFunction('convertToInteractive',\n",
              "                                                     [key], {});\n",
              "          if (!dataTable) return;\n",
              "\n",
              "          const docLinkHtml = 'Like what you see? Visit the ' +\n",
              "            '<a target=\"_blank\" href=https://colab.research.google.com/notebooks/data_table.ipynb>data table notebook</a>'\n",
              "            + ' to learn more about interactive tables.';\n",
              "          element.innerHTML = '';\n",
              "          dataTable['output_type'] = 'display_data';\n",
              "          await google.colab.output.renderOutput(dataTable, element);\n",
              "          const docLink = document.createElement('div');\n",
              "          docLink.innerHTML = docLinkHtml;\n",
              "          element.appendChild(docLink);\n",
              "        }\n",
              "      </script>\n",
              "    </div>\n",
              "  </div>\n",
              "  "
            ]
          },
          "metadata": {},
          "execution_count": 346
        }
      ]
    },
    {
      "cell_type": "code",
      "source": [
        "f_1 = p_3.groupby(\"Outlet_Identifier\")[\"Outlet_Identifier\",\"Item_Type\",\"Part_por_produc\"].head(5)\n",
        "p_3_top5 = f_1.pivot(index=\"Item_Type\", columns=\"Outlet_Identifier\", values=\"Part_por_produc\")\n",
        "p_3_top5 = p_3_top5.sort_values(by=[\"Item_Type\"], ascending=False)\n",
        "p_3_top5 = p_3_top5.reset_index(drop=False)\n",
        "p_3_top5\n",
        "\n",
        "base = pd.merge(left=p_3_top5, right=promedio, left_on=\"Item_Type\", right_on=\"Item_Type\")\n",
        "base\n",
        "\n"
      ],
      "metadata": {
        "id": "mCMeiOp2ON6n",
        "outputId": "5f871be6-ee15-4346-863d-495eccd439de",
        "colab": {
          "base_uri": "https://localhost:8080/",
          "height": 274
        }
      },
      "execution_count": 348,
      "outputs": [
        {
          "output_type": "stream",
          "name": "stderr",
          "text": [
            "<ipython-input-348-4365f5ffd230>:1: FutureWarning: Indexing with multiple keys (implicitly converted to a tuple of keys) will be deprecated, use a list instead.\n",
            "  f_1 = p_3.groupby(\"Outlet_Identifier\")[\"Outlet_Identifier\",\"Item_Type\",\"Part_por_produc\"].head(5)\n"
          ]
        },
        {
          "output_type": "execute_result",
          "data": {
            "text/plain": [
              "               Item_Type     OUT010     OUT013     OUT017     OUT018  \\\n",
              "0            Snack Foods  13.774489  14.432789  14.351837  15.050821   \n",
              "1              Household  13.565919  11.576547  10.266662  10.598594   \n",
              "2  Fruits and Vegetables  13.033887  15.939356  14.740910  14.227695   \n",
              "3           Frozen Foods   9.526722   9.506712  11.042719   9.914502   \n",
              "4                  Dairy   8.127532   9.159372   8.579389   8.215183   \n",
              "5                 Canned        NaN        NaN        NaN        NaN   \n",
              "\n",
              "      OUT019     OUT027     OUT035     OUT045     OUT046     OUT049  \\\n",
              "0  14.276081  14.855214  15.677008  14.161876  12.972726  16.037039   \n",
              "1  10.104412  10.952741  11.897624  10.922259  10.362573  11.667636   \n",
              "2  13.386095  16.677490  13.431699  16.026433  14.385952  15.344250   \n",
              "3        NaN   9.156893   9.412516   8.691414  11.482122   9.884736   \n",
              "4   8.984334        NaN        NaN        NaN   8.265035   8.227256   \n",
              "5   9.315578   7.879451   8.617005   8.558236        NaN        NaN   \n",
              "\n",
              "   Part_por_produc  \n",
              "0        14.558988  \n",
              "1        11.191497  \n",
              "2        14.719377  \n",
              "3         9.710655  \n",
              "4         8.290544  \n",
              "5         7.634327  "
            ],
            "text/html": [
              "\n",
              "  <div id=\"df-60984419-073b-41be-868c-242e1caa2d22\">\n",
              "    <div class=\"colab-df-container\">\n",
              "      <div>\n",
              "<style scoped>\n",
              "    .dataframe tbody tr th:only-of-type {\n",
              "        vertical-align: middle;\n",
              "    }\n",
              "\n",
              "    .dataframe tbody tr th {\n",
              "        vertical-align: top;\n",
              "    }\n",
              "\n",
              "    .dataframe thead th {\n",
              "        text-align: right;\n",
              "    }\n",
              "</style>\n",
              "<table border=\"1\" class=\"dataframe\">\n",
              "  <thead>\n",
              "    <tr style=\"text-align: right;\">\n",
              "      <th></th>\n",
              "      <th>Item_Type</th>\n",
              "      <th>OUT010</th>\n",
              "      <th>OUT013</th>\n",
              "      <th>OUT017</th>\n",
              "      <th>OUT018</th>\n",
              "      <th>OUT019</th>\n",
              "      <th>OUT027</th>\n",
              "      <th>OUT035</th>\n",
              "      <th>OUT045</th>\n",
              "      <th>OUT046</th>\n",
              "      <th>OUT049</th>\n",
              "      <th>Part_por_produc</th>\n",
              "    </tr>\n",
              "  </thead>\n",
              "  <tbody>\n",
              "    <tr>\n",
              "      <th>0</th>\n",
              "      <td>Snack Foods</td>\n",
              "      <td>13.774489</td>\n",
              "      <td>14.432789</td>\n",
              "      <td>14.351837</td>\n",
              "      <td>15.050821</td>\n",
              "      <td>14.276081</td>\n",
              "      <td>14.855214</td>\n",
              "      <td>15.677008</td>\n",
              "      <td>14.161876</td>\n",
              "      <td>12.972726</td>\n",
              "      <td>16.037039</td>\n",
              "      <td>14.558988</td>\n",
              "    </tr>\n",
              "    <tr>\n",
              "      <th>1</th>\n",
              "      <td>Household</td>\n",
              "      <td>13.565919</td>\n",
              "      <td>11.576547</td>\n",
              "      <td>10.266662</td>\n",
              "      <td>10.598594</td>\n",
              "      <td>10.104412</td>\n",
              "      <td>10.952741</td>\n",
              "      <td>11.897624</td>\n",
              "      <td>10.922259</td>\n",
              "      <td>10.362573</td>\n",
              "      <td>11.667636</td>\n",
              "      <td>11.191497</td>\n",
              "    </tr>\n",
              "    <tr>\n",
              "      <th>2</th>\n",
              "      <td>Fruits and Vegetables</td>\n",
              "      <td>13.033887</td>\n",
              "      <td>15.939356</td>\n",
              "      <td>14.740910</td>\n",
              "      <td>14.227695</td>\n",
              "      <td>13.386095</td>\n",
              "      <td>16.677490</td>\n",
              "      <td>13.431699</td>\n",
              "      <td>16.026433</td>\n",
              "      <td>14.385952</td>\n",
              "      <td>15.344250</td>\n",
              "      <td>14.719377</td>\n",
              "    </tr>\n",
              "    <tr>\n",
              "      <th>3</th>\n",
              "      <td>Frozen Foods</td>\n",
              "      <td>9.526722</td>\n",
              "      <td>9.506712</td>\n",
              "      <td>11.042719</td>\n",
              "      <td>9.914502</td>\n",
              "      <td>NaN</td>\n",
              "      <td>9.156893</td>\n",
              "      <td>9.412516</td>\n",
              "      <td>8.691414</td>\n",
              "      <td>11.482122</td>\n",
              "      <td>9.884736</td>\n",
              "      <td>9.710655</td>\n",
              "    </tr>\n",
              "    <tr>\n",
              "      <th>4</th>\n",
              "      <td>Dairy</td>\n",
              "      <td>8.127532</td>\n",
              "      <td>9.159372</td>\n",
              "      <td>8.579389</td>\n",
              "      <td>8.215183</td>\n",
              "      <td>8.984334</td>\n",
              "      <td>NaN</td>\n",
              "      <td>NaN</td>\n",
              "      <td>NaN</td>\n",
              "      <td>8.265035</td>\n",
              "      <td>8.227256</td>\n",
              "      <td>8.290544</td>\n",
              "    </tr>\n",
              "    <tr>\n",
              "      <th>5</th>\n",
              "      <td>Canned</td>\n",
              "      <td>NaN</td>\n",
              "      <td>NaN</td>\n",
              "      <td>NaN</td>\n",
              "      <td>NaN</td>\n",
              "      <td>9.315578</td>\n",
              "      <td>7.879451</td>\n",
              "      <td>8.617005</td>\n",
              "      <td>8.558236</td>\n",
              "      <td>NaN</td>\n",
              "      <td>NaN</td>\n",
              "      <td>7.634327</td>\n",
              "    </tr>\n",
              "  </tbody>\n",
              "</table>\n",
              "</div>\n",
              "      <button class=\"colab-df-convert\" onclick=\"convertToInteractive('df-60984419-073b-41be-868c-242e1caa2d22')\"\n",
              "              title=\"Convert this dataframe to an interactive table.\"\n",
              "              style=\"display:none;\">\n",
              "        \n",
              "  <svg xmlns=\"http://www.w3.org/2000/svg\" height=\"24px\"viewBox=\"0 0 24 24\"\n",
              "       width=\"24px\">\n",
              "    <path d=\"M0 0h24v24H0V0z\" fill=\"none\"/>\n",
              "    <path d=\"M18.56 5.44l.94 2.06.94-2.06 2.06-.94-2.06-.94-.94-2.06-.94 2.06-2.06.94zm-11 1L8.5 8.5l.94-2.06 2.06-.94-2.06-.94L8.5 2.5l-.94 2.06-2.06.94zm10 10l.94 2.06.94-2.06 2.06-.94-2.06-.94-.94-2.06-.94 2.06-2.06.94z\"/><path d=\"M17.41 7.96l-1.37-1.37c-.4-.4-.92-.59-1.43-.59-.52 0-1.04.2-1.43.59L10.3 9.45l-7.72 7.72c-.78.78-.78 2.05 0 2.83L4 21.41c.39.39.9.59 1.41.59.51 0 1.02-.2 1.41-.59l7.78-7.78 2.81-2.81c.8-.78.8-2.07 0-2.86zM5.41 20L4 18.59l7.72-7.72 1.47 1.35L5.41 20z\"/>\n",
              "  </svg>\n",
              "      </button>\n",
              "      \n",
              "  <style>\n",
              "    .colab-df-container {\n",
              "      display:flex;\n",
              "      flex-wrap:wrap;\n",
              "      gap: 12px;\n",
              "    }\n",
              "\n",
              "    .colab-df-convert {\n",
              "      background-color: #E8F0FE;\n",
              "      border: none;\n",
              "      border-radius: 50%;\n",
              "      cursor: pointer;\n",
              "      display: none;\n",
              "      fill: #1967D2;\n",
              "      height: 32px;\n",
              "      padding: 0 0 0 0;\n",
              "      width: 32px;\n",
              "    }\n",
              "\n",
              "    .colab-df-convert:hover {\n",
              "      background-color: #E2EBFA;\n",
              "      box-shadow: 0px 1px 2px rgba(60, 64, 67, 0.3), 0px 1px 3px 1px rgba(60, 64, 67, 0.15);\n",
              "      fill: #174EA6;\n",
              "    }\n",
              "\n",
              "    [theme=dark] .colab-df-convert {\n",
              "      background-color: #3B4455;\n",
              "      fill: #D2E3FC;\n",
              "    }\n",
              "\n",
              "    [theme=dark] .colab-df-convert:hover {\n",
              "      background-color: #434B5C;\n",
              "      box-shadow: 0px 1px 3px 1px rgba(0, 0, 0, 0.15);\n",
              "      filter: drop-shadow(0px 1px 2px rgba(0, 0, 0, 0.3));\n",
              "      fill: #FFFFFF;\n",
              "    }\n",
              "  </style>\n",
              "\n",
              "      <script>\n",
              "        const buttonEl =\n",
              "          document.querySelector('#df-60984419-073b-41be-868c-242e1caa2d22 button.colab-df-convert');\n",
              "        buttonEl.style.display =\n",
              "          google.colab.kernel.accessAllowed ? 'block' : 'none';\n",
              "\n",
              "        async function convertToInteractive(key) {\n",
              "          const element = document.querySelector('#df-60984419-073b-41be-868c-242e1caa2d22');\n",
              "          const dataTable =\n",
              "            await google.colab.kernel.invokeFunction('convertToInteractive',\n",
              "                                                     [key], {});\n",
              "          if (!dataTable) return;\n",
              "\n",
              "          const docLinkHtml = 'Like what you see? Visit the ' +\n",
              "            '<a target=\"_blank\" href=https://colab.research.google.com/notebooks/data_table.ipynb>data table notebook</a>'\n",
              "            + ' to learn more about interactive tables.';\n",
              "          element.innerHTML = '';\n",
              "          dataTable['output_type'] = 'display_data';\n",
              "          await google.colab.output.renderOutput(dataTable, element);\n",
              "          const docLink = document.createElement('div');\n",
              "          docLink.innerHTML = docLinkHtml;\n",
              "          element.appendChild(docLink);\n",
              "        }\n",
              "      </script>\n",
              "    </div>\n",
              "  </div>\n",
              "  "
            ]
          },
          "metadata": {},
          "execution_count": 348
        }
      ]
    },
    {
      "cell_type": "code",
      "source": [
        "print(f\"{base}\\n\\nSe puede observar que de todas las tiendas los tipos de productos más vendidos son los {base.iloc[0,0]} con una partición promedio en ventas del {round(base.iloc[0,11],2)}% dentro de las tiendas.\")"
      ],
      "metadata": {
        "id": "8-9BXoqCQbWe",
        "outputId": "9c4a155e-ade7-4e25-85d1-f0666d4adbbb",
        "colab": {
          "base_uri": "https://localhost:8080/"
        }
      },
      "execution_count": 352,
      "outputs": [
        {
          "output_type": "stream",
          "name": "stdout",
          "text": [
            "               Item_Type     OUT010     OUT013     OUT017     OUT018  \\\n",
            "0            Snack Foods  13.774489  14.432789  14.351837  15.050821   \n",
            "1              Household  13.565919  11.576547  10.266662  10.598594   \n",
            "2  Fruits and Vegetables  13.033887  15.939356  14.740910  14.227695   \n",
            "3           Frozen Foods   9.526722   9.506712  11.042719   9.914502   \n",
            "4                  Dairy   8.127532   9.159372   8.579389   8.215183   \n",
            "5                 Canned        NaN        NaN        NaN        NaN   \n",
            "\n",
            "      OUT019     OUT027     OUT035     OUT045     OUT046     OUT049  \\\n",
            "0  14.276081  14.855214  15.677008  14.161876  12.972726  16.037039   \n",
            "1  10.104412  10.952741  11.897624  10.922259  10.362573  11.667636   \n",
            "2  13.386095  16.677490  13.431699  16.026433  14.385952  15.344250   \n",
            "3        NaN   9.156893   9.412516   8.691414  11.482122   9.884736   \n",
            "4   8.984334        NaN        NaN        NaN   8.265035   8.227256   \n",
            "5   9.315578   7.879451   8.617005   8.558236        NaN        NaN   \n",
            "\n",
            "   Part_por_produc  \n",
            "0        14.558988  \n",
            "1        11.191497  \n",
            "2        14.719377  \n",
            "3         9.710655  \n",
            "4         8.290544  \n",
            "5         7.634327  \n",
            "\n",
            "Se puede observar que de todas las tiendas los tipos de productos más vendidos son los Snack Foods con una partición promedio en ventas del 14.56% dentro de las tiendas.\n"
          ]
        }
      ]
    },
    {
      "cell_type": "markdown",
      "source": [
        "Se puede observar que de todas las tiendas los tipos de productos más vendidos son los \"Snack Foods\""
      ],
      "metadata": {
        "id": "zLdoIYBzQDdU"
      }
    }
  ]
}