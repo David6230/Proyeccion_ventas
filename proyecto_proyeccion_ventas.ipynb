{
  "nbformat": 4,
  "nbformat_minor": 0,
  "metadata": {
    "colab": {
      "provenance": [],
      "mount_file_id": "1XeNMuD6PAvokawap8um6Fmjyu_q7wZdc",
      "authorship_tag": "ABX9TyMqn6WAqBHbe00X0g4+/rYP",
      "include_colab_link": true
    },
    "kernelspec": {
      "name": "python3",
      "display_name": "Python 3"
    },
    "language_info": {
      "name": "python"
    }
  },
  "cells": [
    {
      "cell_type": "markdown",
      "metadata": {
        "id": "view-in-github",
        "colab_type": "text"
      },
      "source": [
        "<a href=\"https://colab.research.google.com/github/David6230/Proyeccion_ventas/blob/main/proyecto_proyeccion_ventas.ipynb\" target=\"_parent\"><img src=\"https://colab.research.google.com/assets/colab-badge.svg\" alt=\"Open In Colab\"/></a>"
      ]
    },
    {
      "cell_type": "markdown",
      "source": [
        "# Proyecto de proyección de ventas"
      ],
      "metadata": {
        "id": "zOte2i6YEfxt"
      }
    },
    {
      "cell_type": "code",
      "execution_count": 5,
      "metadata": {
        "id": "zMQfWYQ_Ecd9",
        "colab": {
          "base_uri": "https://localhost:8080/",
          "height": 357
        },
        "outputId": "85ad95ea-baac-4310-c305-e1c13b82d106"
      },
      "outputs": [
        {
          "output_type": "execute_result",
          "data": {
            "text/plain": [
              "  Item_Identifier  Item_Weight Item_Fat_Content  Item_Visibility  \\\n",
              "0           FDA15         9.30          Low Fat         0.016047   \n",
              "1           DRC01         5.92          Regular         0.019278   \n",
              "2           FDN15        17.50          Low Fat         0.016760   \n",
              "3           FDX07        19.20          Regular         0.000000   \n",
              "4           NCD19         8.93          Low Fat         0.000000   \n",
              "\n",
              "               Item_Type  Item_MRP Outlet_Identifier  \\\n",
              "0                  Dairy  249.8092            OUT049   \n",
              "1            Soft Drinks   48.2692            OUT018   \n",
              "2                   Meat  141.6180            OUT049   \n",
              "3  Fruits and Vegetables  182.0950            OUT010   \n",
              "4              Household   53.8614            OUT013   \n",
              "\n",
              "   Outlet_Establishment_Year Outlet_Size Outlet_Location_Type  \\\n",
              "0                       1999      Medium               Tier 1   \n",
              "1                       2009      Medium               Tier 3   \n",
              "2                       1999      Medium               Tier 1   \n",
              "3                       1998         NaN               Tier 3   \n",
              "4                       1987        High               Tier 3   \n",
              "\n",
              "         Outlet_Type  Item_Outlet_Sales  \n",
              "0  Supermarket Type1          3735.1380  \n",
              "1  Supermarket Type2           443.4228  \n",
              "2  Supermarket Type1          2097.2700  \n",
              "3      Grocery Store           732.3800  \n",
              "4  Supermarket Type1           994.7052  "
            ],
            "text/html": [
              "\n",
              "  <div id=\"df-75a03836-075c-4931-a001-1dcfdc13664e\">\n",
              "    <div class=\"colab-df-container\">\n",
              "      <div>\n",
              "<style scoped>\n",
              "    .dataframe tbody tr th:only-of-type {\n",
              "        vertical-align: middle;\n",
              "    }\n",
              "\n",
              "    .dataframe tbody tr th {\n",
              "        vertical-align: top;\n",
              "    }\n",
              "\n",
              "    .dataframe thead th {\n",
              "        text-align: right;\n",
              "    }\n",
              "</style>\n",
              "<table border=\"1\" class=\"dataframe\">\n",
              "  <thead>\n",
              "    <tr style=\"text-align: right;\">\n",
              "      <th></th>\n",
              "      <th>Item_Identifier</th>\n",
              "      <th>Item_Weight</th>\n",
              "      <th>Item_Fat_Content</th>\n",
              "      <th>Item_Visibility</th>\n",
              "      <th>Item_Type</th>\n",
              "      <th>Item_MRP</th>\n",
              "      <th>Outlet_Identifier</th>\n",
              "      <th>Outlet_Establishment_Year</th>\n",
              "      <th>Outlet_Size</th>\n",
              "      <th>Outlet_Location_Type</th>\n",
              "      <th>Outlet_Type</th>\n",
              "      <th>Item_Outlet_Sales</th>\n",
              "    </tr>\n",
              "  </thead>\n",
              "  <tbody>\n",
              "    <tr>\n",
              "      <th>0</th>\n",
              "      <td>FDA15</td>\n",
              "      <td>9.30</td>\n",
              "      <td>Low Fat</td>\n",
              "      <td>0.016047</td>\n",
              "      <td>Dairy</td>\n",
              "      <td>249.8092</td>\n",
              "      <td>OUT049</td>\n",
              "      <td>1999</td>\n",
              "      <td>Medium</td>\n",
              "      <td>Tier 1</td>\n",
              "      <td>Supermarket Type1</td>\n",
              "      <td>3735.1380</td>\n",
              "    </tr>\n",
              "    <tr>\n",
              "      <th>1</th>\n",
              "      <td>DRC01</td>\n",
              "      <td>5.92</td>\n",
              "      <td>Regular</td>\n",
              "      <td>0.019278</td>\n",
              "      <td>Soft Drinks</td>\n",
              "      <td>48.2692</td>\n",
              "      <td>OUT018</td>\n",
              "      <td>2009</td>\n",
              "      <td>Medium</td>\n",
              "      <td>Tier 3</td>\n",
              "      <td>Supermarket Type2</td>\n",
              "      <td>443.4228</td>\n",
              "    </tr>\n",
              "    <tr>\n",
              "      <th>2</th>\n",
              "      <td>FDN15</td>\n",
              "      <td>17.50</td>\n",
              "      <td>Low Fat</td>\n",
              "      <td>0.016760</td>\n",
              "      <td>Meat</td>\n",
              "      <td>141.6180</td>\n",
              "      <td>OUT049</td>\n",
              "      <td>1999</td>\n",
              "      <td>Medium</td>\n",
              "      <td>Tier 1</td>\n",
              "      <td>Supermarket Type1</td>\n",
              "      <td>2097.2700</td>\n",
              "    </tr>\n",
              "    <tr>\n",
              "      <th>3</th>\n",
              "      <td>FDX07</td>\n",
              "      <td>19.20</td>\n",
              "      <td>Regular</td>\n",
              "      <td>0.000000</td>\n",
              "      <td>Fruits and Vegetables</td>\n",
              "      <td>182.0950</td>\n",
              "      <td>OUT010</td>\n",
              "      <td>1998</td>\n",
              "      <td>NaN</td>\n",
              "      <td>Tier 3</td>\n",
              "      <td>Grocery Store</td>\n",
              "      <td>732.3800</td>\n",
              "    </tr>\n",
              "    <tr>\n",
              "      <th>4</th>\n",
              "      <td>NCD19</td>\n",
              "      <td>8.93</td>\n",
              "      <td>Low Fat</td>\n",
              "      <td>0.000000</td>\n",
              "      <td>Household</td>\n",
              "      <td>53.8614</td>\n",
              "      <td>OUT013</td>\n",
              "      <td>1987</td>\n",
              "      <td>High</td>\n",
              "      <td>Tier 3</td>\n",
              "      <td>Supermarket Type1</td>\n",
              "      <td>994.7052</td>\n",
              "    </tr>\n",
              "  </tbody>\n",
              "</table>\n",
              "</div>\n",
              "      <button class=\"colab-df-convert\" onclick=\"convertToInteractive('df-75a03836-075c-4931-a001-1dcfdc13664e')\"\n",
              "              title=\"Convert this dataframe to an interactive table.\"\n",
              "              style=\"display:none;\">\n",
              "        \n",
              "  <svg xmlns=\"http://www.w3.org/2000/svg\" height=\"24px\"viewBox=\"0 0 24 24\"\n",
              "       width=\"24px\">\n",
              "    <path d=\"M0 0h24v24H0V0z\" fill=\"none\"/>\n",
              "    <path d=\"M18.56 5.44l.94 2.06.94-2.06 2.06-.94-2.06-.94-.94-2.06-.94 2.06-2.06.94zm-11 1L8.5 8.5l.94-2.06 2.06-.94-2.06-.94L8.5 2.5l-.94 2.06-2.06.94zm10 10l.94 2.06.94-2.06 2.06-.94-2.06-.94-.94-2.06-.94 2.06-2.06.94z\"/><path d=\"M17.41 7.96l-1.37-1.37c-.4-.4-.92-.59-1.43-.59-.52 0-1.04.2-1.43.59L10.3 9.45l-7.72 7.72c-.78.78-.78 2.05 0 2.83L4 21.41c.39.39.9.59 1.41.59.51 0 1.02-.2 1.41-.59l7.78-7.78 2.81-2.81c.8-.78.8-2.07 0-2.86zM5.41 20L4 18.59l7.72-7.72 1.47 1.35L5.41 20z\"/>\n",
              "  </svg>\n",
              "      </button>\n",
              "      \n",
              "  <style>\n",
              "    .colab-df-container {\n",
              "      display:flex;\n",
              "      flex-wrap:wrap;\n",
              "      gap: 12px;\n",
              "    }\n",
              "\n",
              "    .colab-df-convert {\n",
              "      background-color: #E8F0FE;\n",
              "      border: none;\n",
              "      border-radius: 50%;\n",
              "      cursor: pointer;\n",
              "      display: none;\n",
              "      fill: #1967D2;\n",
              "      height: 32px;\n",
              "      padding: 0 0 0 0;\n",
              "      width: 32px;\n",
              "    }\n",
              "\n",
              "    .colab-df-convert:hover {\n",
              "      background-color: #E2EBFA;\n",
              "      box-shadow: 0px 1px 2px rgba(60, 64, 67, 0.3), 0px 1px 3px 1px rgba(60, 64, 67, 0.15);\n",
              "      fill: #174EA6;\n",
              "    }\n",
              "\n",
              "    [theme=dark] .colab-df-convert {\n",
              "      background-color: #3B4455;\n",
              "      fill: #D2E3FC;\n",
              "    }\n",
              "\n",
              "    [theme=dark] .colab-df-convert:hover {\n",
              "      background-color: #434B5C;\n",
              "      box-shadow: 0px 1px 3px 1px rgba(0, 0, 0, 0.15);\n",
              "      filter: drop-shadow(0px 1px 2px rgba(0, 0, 0, 0.3));\n",
              "      fill: #FFFFFF;\n",
              "    }\n",
              "  </style>\n",
              "\n",
              "      <script>\n",
              "        const buttonEl =\n",
              "          document.querySelector('#df-75a03836-075c-4931-a001-1dcfdc13664e button.colab-df-convert');\n",
              "        buttonEl.style.display =\n",
              "          google.colab.kernel.accessAllowed ? 'block' : 'none';\n",
              "\n",
              "        async function convertToInteractive(key) {\n",
              "          const element = document.querySelector('#df-75a03836-075c-4931-a001-1dcfdc13664e');\n",
              "          const dataTable =\n",
              "            await google.colab.kernel.invokeFunction('convertToInteractive',\n",
              "                                                     [key], {});\n",
              "          if (!dataTable) return;\n",
              "\n",
              "          const docLinkHtml = 'Like what you see? Visit the ' +\n",
              "            '<a target=\"_blank\" href=https://colab.research.google.com/notebooks/data_table.ipynb>data table notebook</a>'\n",
              "            + ' to learn more about interactive tables.';\n",
              "          element.innerHTML = '';\n",
              "          dataTable['output_type'] = 'display_data';\n",
              "          await google.colab.output.renderOutput(dataTable, element);\n",
              "          const docLink = document.createElement('div');\n",
              "          docLink.innerHTML = docLinkHtml;\n",
              "          element.appendChild(docLink);\n",
              "        }\n",
              "      </script>\n",
              "    </div>\n",
              "  </div>\n",
              "  "
            ]
          },
          "metadata": {},
          "execution_count": 5
        }
      ],
      "source": [
        "import pandas as pd\n",
        "file_name = \"/content/drive/MyDrive/CODIN DOJO/sales_predictions.csv\"\n",
        "df_ventas = pd.read_csv(file_name)\n",
        "df_ventas.head()"
      ]
    },
    {
      "cell_type": "markdown",
      "source": [
        "# ¿Cuántas filas y columnas?"
      ],
      "metadata": {
        "id": "Cy7f1Av7s-cU"
      }
    },
    {
      "cell_type": "code",
      "source": [
        "a_1 = pd.DataFrame(df_ventas.shape)\n",
        "\n",
        "\n",
        "print(f\"La base cuenta con {a_1[0][0]} filas y {a_1[0][1]} columnas.\")"
      ],
      "metadata": {
        "colab": {
          "base_uri": "https://localhost:8080/"
        },
        "id": "Ix9dP0nKtBk4",
        "outputId": "28f3e572-70c0-4e40-b216-29b37ec69ee8"
      },
      "execution_count": 7,
      "outputs": [
        {
          "output_type": "stream",
          "name": "stdout",
          "text": [
            "La base cuenta con 8523 filas y 12 columnas.\n"
          ]
        }
      ]
    },
    {
      "cell_type": "markdown",
      "source": [
        "# ¿Cuáles son los tipos de datos en cada variable?"
      ],
      "metadata": {
        "id": "VGMYj8F3t5rj"
      }
    },
    {
      "cell_type": "code",
      "source": [
        "df_ventas.dtypes"
      ],
      "metadata": {
        "colab": {
          "base_uri": "https://localhost:8080/"
        },
        "id": "WmT04SVcteg7",
        "outputId": "2cad4c5e-a0c1-4ed3-94fa-4605b4e3d51b"
      },
      "execution_count": 8,
      "outputs": [
        {
          "output_type": "execute_result",
          "data": {
            "text/plain": [
              "Item_Identifier               object\n",
              "Item_Weight                  float64\n",
              "Item_Fat_Content              object\n",
              "Item_Visibility              float64\n",
              "Item_Type                     object\n",
              "Item_MRP                     float64\n",
              "Outlet_Identifier             object\n",
              "Outlet_Establishment_Year      int64\n",
              "Outlet_Size                   object\n",
              "Outlet_Location_Type          object\n",
              "Outlet_Type                   object\n",
              "Item_Outlet_Sales            float64\n",
              "dtype: object"
            ]
          },
          "metadata": {},
          "execution_count": 8
        }
      ]
    },
    {
      "cell_type": "markdown",
      "source": [
        "* Los tipos de datos con los que cuenta la base de datos son **object** y **float64**.\n"
      ],
      "metadata": {
        "id": "69z_iZKWuVUp"
      }
    },
    {
      "cell_type": "code",
      "source": [
        "df_ventas.info()"
      ],
      "metadata": {
        "colab": {
          "base_uri": "https://localhost:8080/"
        },
        "id": "gqzEV_-hslqO",
        "outputId": "a43458ad-6136-450e-dcfa-c0a751df1c42"
      },
      "execution_count": 9,
      "outputs": [
        {
          "output_type": "stream",
          "name": "stdout",
          "text": [
            "<class 'pandas.core.frame.DataFrame'>\n",
            "RangeIndex: 8523 entries, 0 to 8522\n",
            "Data columns (total 12 columns):\n",
            " #   Column                     Non-Null Count  Dtype  \n",
            "---  ------                     --------------  -----  \n",
            " 0   Item_Identifier            8523 non-null   object \n",
            " 1   Item_Weight                7060 non-null   float64\n",
            " 2   Item_Fat_Content           8523 non-null   object \n",
            " 3   Item_Visibility            8523 non-null   float64\n",
            " 4   Item_Type                  8523 non-null   object \n",
            " 5   Item_MRP                   8523 non-null   float64\n",
            " 6   Outlet_Identifier          8523 non-null   object \n",
            " 7   Outlet_Establishment_Year  8523 non-null   int64  \n",
            " 8   Outlet_Size                6113 non-null   object \n",
            " 9   Outlet_Location_Type       8523 non-null   object \n",
            " 10  Outlet_Type                8523 non-null   object \n",
            " 11  Item_Outlet_Sales          8523 non-null   float64\n",
            "dtypes: float64(4), int64(1), object(7)\n",
            "memory usage: 799.2+ KB\n"
          ]
        }
      ]
    },
    {
      "cell_type": "markdown",
      "source": [
        "# Análisis de datos duplicados"
      ],
      "metadata": {
        "id": "VTgF_UOTugiW"
      }
    },
    {
      "cell_type": "markdown",
      "source": [
        "* Para realizar el análisis de registros duplicativos tomaremos la variable \"Item_Identifier\", como identificador único para determinar los registros duplicados."
      ],
      "metadata": {
        "id": "7P31v_tTwfO0"
      }
    },
    {
      "cell_type": "code",
      "source": [
        "# Procedo a realizar un testeo de un registro duplicado\n",
        "#Genero una copia de mi base para no trabajar en la original\n",
        "\n",
        "b_1 = df_ventas.copy()\n"
      ],
      "metadata": {
        "id": "G2T5sbrVwtMi"
      },
      "execution_count": 10,
      "outputs": []
    },
    {
      "cell_type": "code",
      "source": [
        "b_1[\"dup\"] = b_1[\"Item_Identifier\"].duplicated()\n",
        "a_1 = b_1[b_1[\"dup\"] == True]\n",
        "a_2 = b_1[b_1[\"Item_Identifier\"] == \"FDP49\"]\n",
        "a_2.head(5)"
      ],
      "metadata": {
        "colab": {
          "base_uri": "https://localhost:8080/",
          "height": 357
        },
        "id": "cLWypX06xDDj",
        "outputId": "308ebfed-9717-4fc5-ad6f-92cfda4ce851"
      },
      "execution_count": 11,
      "outputs": [
        {
          "output_type": "execute_result",
          "data": {
            "text/plain": [
              "     Item_Identifier  Item_Weight Item_Fat_Content  Item_Visibility  \\\n",
              "15             FDP49          9.0          Regular         0.069089   \n",
              "17             FDP49          9.0          Regular         0.069196   \n",
              "3973           FDP49          9.0          Regular         0.000000   \n",
              "5630           FDP49          9.0          Regular         0.069229   \n",
              "6040           FDP49          NaN          Regular         0.120966   \n",
              "\n",
              "      Item_Type  Item_MRP Outlet_Identifier  Outlet_Establishment_Year  \\\n",
              "15    Breakfast   56.3614            OUT046                       1997   \n",
              "17    Breakfast   54.3614            OUT049                       1999   \n",
              "3973  Breakfast   55.2614            OUT018                       2009   \n",
              "5630  Breakfast   55.9614            OUT045                       2002   \n",
              "6040  Breakfast   55.8614            OUT019                       1985   \n",
              "\n",
              "     Outlet_Size Outlet_Location_Type        Outlet_Type  Item_Outlet_Sales  \\\n",
              "15         Small               Tier 1  Supermarket Type1          1547.3192   \n",
              "17        Medium               Tier 1  Supermarket Type1           718.3982   \n",
              "3973      Medium               Tier 3  Supermarket Type2           552.6140   \n",
              "5630         NaN               Tier 2  Supermarket Type1           386.8298   \n",
              "6040       Small               Tier 1      Grocery Store           110.5228   \n",
              "\n",
              "        dup  \n",
              "15    False  \n",
              "17     True  \n",
              "3973   True  \n",
              "5630   True  \n",
              "6040   True  "
            ],
            "text/html": [
              "\n",
              "  <div id=\"df-c55b1c83-3ac7-4c17-8180-64d396159f4c\">\n",
              "    <div class=\"colab-df-container\">\n",
              "      <div>\n",
              "<style scoped>\n",
              "    .dataframe tbody tr th:only-of-type {\n",
              "        vertical-align: middle;\n",
              "    }\n",
              "\n",
              "    .dataframe tbody tr th {\n",
              "        vertical-align: top;\n",
              "    }\n",
              "\n",
              "    .dataframe thead th {\n",
              "        text-align: right;\n",
              "    }\n",
              "</style>\n",
              "<table border=\"1\" class=\"dataframe\">\n",
              "  <thead>\n",
              "    <tr style=\"text-align: right;\">\n",
              "      <th></th>\n",
              "      <th>Item_Identifier</th>\n",
              "      <th>Item_Weight</th>\n",
              "      <th>Item_Fat_Content</th>\n",
              "      <th>Item_Visibility</th>\n",
              "      <th>Item_Type</th>\n",
              "      <th>Item_MRP</th>\n",
              "      <th>Outlet_Identifier</th>\n",
              "      <th>Outlet_Establishment_Year</th>\n",
              "      <th>Outlet_Size</th>\n",
              "      <th>Outlet_Location_Type</th>\n",
              "      <th>Outlet_Type</th>\n",
              "      <th>Item_Outlet_Sales</th>\n",
              "      <th>dup</th>\n",
              "    </tr>\n",
              "  </thead>\n",
              "  <tbody>\n",
              "    <tr>\n",
              "      <th>15</th>\n",
              "      <td>FDP49</td>\n",
              "      <td>9.0</td>\n",
              "      <td>Regular</td>\n",
              "      <td>0.069089</td>\n",
              "      <td>Breakfast</td>\n",
              "      <td>56.3614</td>\n",
              "      <td>OUT046</td>\n",
              "      <td>1997</td>\n",
              "      <td>Small</td>\n",
              "      <td>Tier 1</td>\n",
              "      <td>Supermarket Type1</td>\n",
              "      <td>1547.3192</td>\n",
              "      <td>False</td>\n",
              "    </tr>\n",
              "    <tr>\n",
              "      <th>17</th>\n",
              "      <td>FDP49</td>\n",
              "      <td>9.0</td>\n",
              "      <td>Regular</td>\n",
              "      <td>0.069196</td>\n",
              "      <td>Breakfast</td>\n",
              "      <td>54.3614</td>\n",
              "      <td>OUT049</td>\n",
              "      <td>1999</td>\n",
              "      <td>Medium</td>\n",
              "      <td>Tier 1</td>\n",
              "      <td>Supermarket Type1</td>\n",
              "      <td>718.3982</td>\n",
              "      <td>True</td>\n",
              "    </tr>\n",
              "    <tr>\n",
              "      <th>3973</th>\n",
              "      <td>FDP49</td>\n",
              "      <td>9.0</td>\n",
              "      <td>Regular</td>\n",
              "      <td>0.000000</td>\n",
              "      <td>Breakfast</td>\n",
              "      <td>55.2614</td>\n",
              "      <td>OUT018</td>\n",
              "      <td>2009</td>\n",
              "      <td>Medium</td>\n",
              "      <td>Tier 3</td>\n",
              "      <td>Supermarket Type2</td>\n",
              "      <td>552.6140</td>\n",
              "      <td>True</td>\n",
              "    </tr>\n",
              "    <tr>\n",
              "      <th>5630</th>\n",
              "      <td>FDP49</td>\n",
              "      <td>9.0</td>\n",
              "      <td>Regular</td>\n",
              "      <td>0.069229</td>\n",
              "      <td>Breakfast</td>\n",
              "      <td>55.9614</td>\n",
              "      <td>OUT045</td>\n",
              "      <td>2002</td>\n",
              "      <td>NaN</td>\n",
              "      <td>Tier 2</td>\n",
              "      <td>Supermarket Type1</td>\n",
              "      <td>386.8298</td>\n",
              "      <td>True</td>\n",
              "    </tr>\n",
              "    <tr>\n",
              "      <th>6040</th>\n",
              "      <td>FDP49</td>\n",
              "      <td>NaN</td>\n",
              "      <td>Regular</td>\n",
              "      <td>0.120966</td>\n",
              "      <td>Breakfast</td>\n",
              "      <td>55.8614</td>\n",
              "      <td>OUT019</td>\n",
              "      <td>1985</td>\n",
              "      <td>Small</td>\n",
              "      <td>Tier 1</td>\n",
              "      <td>Grocery Store</td>\n",
              "      <td>110.5228</td>\n",
              "      <td>True</td>\n",
              "    </tr>\n",
              "  </tbody>\n",
              "</table>\n",
              "</div>\n",
              "      <button class=\"colab-df-convert\" onclick=\"convertToInteractive('df-c55b1c83-3ac7-4c17-8180-64d396159f4c')\"\n",
              "              title=\"Convert this dataframe to an interactive table.\"\n",
              "              style=\"display:none;\">\n",
              "        \n",
              "  <svg xmlns=\"http://www.w3.org/2000/svg\" height=\"24px\"viewBox=\"0 0 24 24\"\n",
              "       width=\"24px\">\n",
              "    <path d=\"M0 0h24v24H0V0z\" fill=\"none\"/>\n",
              "    <path d=\"M18.56 5.44l.94 2.06.94-2.06 2.06-.94-2.06-.94-.94-2.06-.94 2.06-2.06.94zm-11 1L8.5 8.5l.94-2.06 2.06-.94-2.06-.94L8.5 2.5l-.94 2.06-2.06.94zm10 10l.94 2.06.94-2.06 2.06-.94-2.06-.94-.94-2.06-.94 2.06-2.06.94z\"/><path d=\"M17.41 7.96l-1.37-1.37c-.4-.4-.92-.59-1.43-.59-.52 0-1.04.2-1.43.59L10.3 9.45l-7.72 7.72c-.78.78-.78 2.05 0 2.83L4 21.41c.39.39.9.59 1.41.59.51 0 1.02-.2 1.41-.59l7.78-7.78 2.81-2.81c.8-.78.8-2.07 0-2.86zM5.41 20L4 18.59l7.72-7.72 1.47 1.35L5.41 20z\"/>\n",
              "  </svg>\n",
              "      </button>\n",
              "      \n",
              "  <style>\n",
              "    .colab-df-container {\n",
              "      display:flex;\n",
              "      flex-wrap:wrap;\n",
              "      gap: 12px;\n",
              "    }\n",
              "\n",
              "    .colab-df-convert {\n",
              "      background-color: #E8F0FE;\n",
              "      border: none;\n",
              "      border-radius: 50%;\n",
              "      cursor: pointer;\n",
              "      display: none;\n",
              "      fill: #1967D2;\n",
              "      height: 32px;\n",
              "      padding: 0 0 0 0;\n",
              "      width: 32px;\n",
              "    }\n",
              "\n",
              "    .colab-df-convert:hover {\n",
              "      background-color: #E2EBFA;\n",
              "      box-shadow: 0px 1px 2px rgba(60, 64, 67, 0.3), 0px 1px 3px 1px rgba(60, 64, 67, 0.15);\n",
              "      fill: #174EA6;\n",
              "    }\n",
              "\n",
              "    [theme=dark] .colab-df-convert {\n",
              "      background-color: #3B4455;\n",
              "      fill: #D2E3FC;\n",
              "    }\n",
              "\n",
              "    [theme=dark] .colab-df-convert:hover {\n",
              "      background-color: #434B5C;\n",
              "      box-shadow: 0px 1px 3px 1px rgba(0, 0, 0, 0.15);\n",
              "      filter: drop-shadow(0px 1px 2px rgba(0, 0, 0, 0.3));\n",
              "      fill: #FFFFFF;\n",
              "    }\n",
              "  </style>\n",
              "\n",
              "      <script>\n",
              "        const buttonEl =\n",
              "          document.querySelector('#df-c55b1c83-3ac7-4c17-8180-64d396159f4c button.colab-df-convert');\n",
              "        buttonEl.style.display =\n",
              "          google.colab.kernel.accessAllowed ? 'block' : 'none';\n",
              "\n",
              "        async function convertToInteractive(key) {\n",
              "          const element = document.querySelector('#df-c55b1c83-3ac7-4c17-8180-64d396159f4c');\n",
              "          const dataTable =\n",
              "            await google.colab.kernel.invokeFunction('convertToInteractive',\n",
              "                                                     [key], {});\n",
              "          if (!dataTable) return;\n",
              "\n",
              "          const docLinkHtml = 'Like what you see? Visit the ' +\n",
              "            '<a target=\"_blank\" href=https://colab.research.google.com/notebooks/data_table.ipynb>data table notebook</a>'\n",
              "            + ' to learn more about interactive tables.';\n",
              "          element.innerHTML = '';\n",
              "          dataTable['output_type'] = 'display_data';\n",
              "          await google.colab.output.renderOutput(dataTable, element);\n",
              "          const docLink = document.createElement('div');\n",
              "          docLink.innerHTML = docLinkHtml;\n",
              "          element.appendChild(docLink);\n",
              "        }\n",
              "      </script>\n",
              "    </div>\n",
              "  </div>\n",
              "  "
            ]
          },
          "metadata": {},
          "execution_count": 11
        }
      ]
    },
    {
      "cell_type": "markdown",
      "source": [
        "* Del análisis exploratorio realizado a un registro que por el Item_identifier parecia duplicados, pero se pudo observar que en sí el registro no estaba duplicado ya que en las demás variables contenía información diferente."
      ],
      "metadata": {
        "id": "6YzrWOxnyVXY"
      }
    },
    {
      "cell_type": "markdown",
      "source": [
        "* Como siguiente análisis se procede a realizar un \"distinc\" a la base con el objetivo de dar la última revisión a datos duplicados. Al igual que el caso anterior se realizará una copia de la base original."
      ],
      "metadata": {
        "id": "R2xS-SJWyx4C"
      }
    },
    {
      "cell_type": "code",
      "source": [
        "b_1 = df_ventas.copy()"
      ],
      "metadata": {
        "id": "peM30Qw5zE2J"
      },
      "execution_count": 12,
      "outputs": []
    },
    {
      "cell_type": "code",
      "source": [
        "b_1.shape"
      ],
      "metadata": {
        "colab": {
          "base_uri": "https://localhost:8080/"
        },
        "id": "Xf1WuIbbzGWp",
        "outputId": "6ae2d4c1-f813-4616-b4a2-7a12ee654f55"
      },
      "execution_count": 13,
      "outputs": [
        {
          "output_type": "execute_result",
          "data": {
            "text/plain": [
              "(8523, 12)"
            ]
          },
          "metadata": {},
          "execution_count": 13
        }
      ]
    },
    {
      "cell_type": "code",
      "source": [
        "b_2 = b_1.drop_duplicates()\n",
        "b_2.shape"
      ],
      "metadata": {
        "colab": {
          "base_uri": "https://localhost:8080/"
        },
        "id": "j9IOaqKSzMux",
        "outputId": "22181dcb-2224-4e7d-cf86-47556e8d4adb"
      },
      "execution_count": 14,
      "outputs": [
        {
          "output_type": "execute_result",
          "data": {
            "text/plain": [
              "(8523, 12)"
            ]
          },
          "metadata": {},
          "execution_count": 14
        }
      ]
    },
    {
      "cell_type": "markdown",
      "source": [
        "* El segundo análisis me indica que no existen datos duplicados en la base, por lo que se considera mantener todos los registros teniendo como primer criterio la duplicidad de la información."
      ],
      "metadata": {
        "id": "TBhc6-bmzcG-"
      }
    },
    {
      "cell_type": "markdown",
      "source": [
        "# Identificación de valores faltantes en la base"
      ],
      "metadata": {
        "id": "Jxzqs_12zt3u"
      }
    },
    {
      "cell_type": "code",
      "source": [
        "df_ventas.isna().sum()"
      ],
      "metadata": {
        "colab": {
          "base_uri": "https://localhost:8080/"
        },
        "id": "OGHf4H87ulzi",
        "outputId": "0c3d5cec-2547-4134-dfb7-c969ed1e4ea1"
      },
      "execution_count": 15,
      "outputs": [
        {
          "output_type": "execute_result",
          "data": {
            "text/plain": [
              "Item_Identifier                 0\n",
              "Item_Weight                  1463\n",
              "Item_Fat_Content                0\n",
              "Item_Visibility                 0\n",
              "Item_Type                       0\n",
              "Item_MRP                        0\n",
              "Outlet_Identifier               0\n",
              "Outlet_Establishment_Year       0\n",
              "Outlet_Size                  2410\n",
              "Outlet_Location_Type            0\n",
              "Outlet_Type                     0\n",
              "Item_Outlet_Sales               0\n",
              "dtype: int64"
            ]
          },
          "metadata": {},
          "execution_count": 15
        }
      ]
    },
    {
      "cell_type": "code",
      "source": [
        "a_1 = df_ventas[\"Item_Weight\"].isna().sum()\n",
        "a_2 = df_ventas[\"Outlet_Size\"].isna().sum()"
      ],
      "metadata": {
        "id": "7J9ti_F80vEA"
      },
      "execution_count": 16,
      "outputs": []
    },
    {
      "cell_type": "code",
      "source": [
        "print(f\"Del análisi se puede observar que existen valores NaN en las variables Item_Weight con un total de {a_1}\\ny la variable Outlet_Size {a_2} registros vacíos respectivamente.\")"
      ],
      "metadata": {
        "colab": {
          "base_uri": "https://localhost:8080/"
        },
        "id": "NohTIatV0hOw",
        "outputId": "45719b89-d941-4c4b-cebf-21c1722ac1a1"
      },
      "execution_count": null,
      "outputs": [
        {
          "output_type": "stream",
          "name": "stdout",
          "text": [
            "Del análisi se puede observar que existen valores NaN en las variables Item_Weight con un total de 1463\n",
            "y la variable Outlet_Size 2410 registros vacíos respectivamente.\n"
          ]
        }
      ]
    },
    {
      "cell_type": "markdown",
      "source": [
        "## Analisis los valores vacíos"
      ],
      "metadata": {
        "id": "0v-nhQAez-zO"
      }
    },
    {
      "cell_type": "markdown",
      "source": [
        "* Si la variable cuenta con más del 45% de la data con NaN se procede a eliminar la variable."
      ],
      "metadata": {
        "id": "uLYIxdP61n33"
      }
    },
    {
      "cell_type": "code",
      "source": [
        "nulos_Weight = (df_ventas[\"Item_Weight\"].isna().sum()/len(df_ventas[\"Item_Weight\"]))*100\n",
        "nulos_Size = (df_ventas[\"Outlet_Size\"].isna().sum()/len(df_ventas[\"Outlet_Size\"]))*100\n",
        "\n",
        "print(f\"El porcentaje de nulos en la variable Item_Weight fue de {round(nulos_Weight,2)}% y de la variable Outlet_Size\\nfue de {round(nulos_Size,2)}%, por debajo del 45% criterio de eliminación de la variable. Por lo que se decia\\na mantener las variables y se analizará alguna aternativa de impitación de datos.\")\n"
      ],
      "metadata": {
        "colab": {
          "base_uri": "https://localhost:8080/"
        },
        "id": "nlKWauqS0XlD",
        "outputId": "c72eb783-cf98-4370-8608-c733bfcf9b37"
      },
      "execution_count": 17,
      "outputs": [
        {
          "output_type": "stream",
          "name": "stdout",
          "text": [
            "El porcentaje de nulos en la variable Item_Weight fue de 17.17% y de la variable Outlet_Size\n",
            "fue de 28.28%, por debajo del 45% criterio de eliminación de la variable. Por lo que se decia\n",
            "a mantener las variables y se analizará alguna aternativa de impitación de datos.\n"
          ]
        }
      ]
    },
    {
      "cell_type": "markdown",
      "source": [
        "# Confirmen que no hay valores faltantes después de abordarlos"
      ],
      "metadata": {
        "id": "S1OiRnKK33vx"
      }
    },
    {
      "cell_type": "markdown",
      "source": [
        "* Se procede a realizar la imputación por la mediana de cada una de los valores tomando como punto de referencia el ID Item_Identifier.\n",
        "* Se generará una copia de la base donde se va a realizar la imputación de datos."
      ],
      "metadata": {
        "id": "WUPyXyoi35eS"
      }
    },
    {
      "cell_type": "code",
      "source": [
        "dt1 = df_ventas.copy()"
      ],
      "metadata": {
        "id": "bRCxZtFi4fAO"
      },
      "execution_count": 18,
      "outputs": []
    },
    {
      "cell_type": "code",
      "source": [
        "## Lleno los NaN con la mediana del peso y la moda\n",
        "median_peso = dt1[\"Item_Weight\"].median()\n",
        "print(median_peso)"
      ],
      "metadata": {
        "colab": {
          "base_uri": "https://localhost:8080/"
        },
        "id": "qd5KLJHH4kDR",
        "outputId": "cef125c3-feb8-4b43-acf5-8ea17826d495"
      },
      "execution_count": 20,
      "outputs": [
        {
          "output_type": "stream",
          "name": "stdout",
          "text": [
            "12.6\n"
          ]
        }
      ]
    },
    {
      "cell_type": "code",
      "source": [
        "## Reemplazo los NaN con la median del peso\n",
        "dt1[\"Item_Weight\"].fillna(median_peso, inplace= True)"
      ],
      "metadata": {
        "id": "xtnJFToPEut8"
      },
      "execution_count": 21,
      "outputs": []
    },
    {
      "cell_type": "code",
      "source": [
        "dt1[\"Item_Weight\"].isna().sum()"
      ],
      "metadata": {
        "colab": {
          "base_uri": "https://localhost:8080/"
        },
        "id": "OSyq4IjyE76M",
        "outputId": "ac1e714a-e722-4c99-e9ad-b0f681b36365"
      },
      "execution_count": 22,
      "outputs": [
        {
          "output_type": "execute_result",
          "data": {
            "text/plain": [
              "0"
            ]
          },
          "metadata": {},
          "execution_count": 22
        }
      ]
    },
    {
      "cell_type": "code",
      "source": [
        "size_comun = dt1['Outlet_Size'].mode()\n",
        "print(size_comun)"
      ],
      "metadata": {
        "colab": {
          "base_uri": "https://localhost:8080/"
        },
        "id": "Jq3PGghi6iMs",
        "outputId": "bfc39b1a-03c7-4463-ec95-aee0eeafab6c"
      },
      "execution_count": 23,
      "outputs": [
        {
          "output_type": "stream",
          "name": "stdout",
          "text": [
            "0    Medium\n",
            "dtype: object\n"
          ]
        }
      ]
    },
    {
      "cell_type": "code",
      "source": [
        "dt1[\"Outlet_Size\"] = dt1[\"Outlet_Size\"].astype(str)"
      ],
      "metadata": {
        "id": "THqFpsPcHrho"
      },
      "execution_count": 24,
      "outputs": []
    },
    {
      "cell_type": "code",
      "source": [
        "dt1[\"Outlet_Size\"].value_counts()"
      ],
      "metadata": {
        "colab": {
          "base_uri": "https://localhost:8080/"
        },
        "id": "NMssSL_1H2Xd",
        "outputId": "f1d35b55-cefd-450a-9bc9-b93c27bcefd0"
      },
      "execution_count": 25,
      "outputs": [
        {
          "output_type": "execute_result",
          "data": {
            "text/plain": [
              "Medium    2793\n",
              "nan       2410\n",
              "Small     2388\n",
              "High       932\n",
              "Name: Outlet_Size, dtype: int64"
            ]
          },
          "metadata": {},
          "execution_count": 25
        }
      ]
    },
    {
      "cell_type": "code",
      "source": [
        "dt1[\"Outlet_Size\"].fillna(size_comun, inplace= True)"
      ],
      "metadata": {
        "id": "ULsY_IpvFlRq"
      },
      "execution_count": 26,
      "outputs": []
    },
    {
      "cell_type": "code",
      "source": [
        "dt1[\"Outlet_Size\"].isna().sum()"
      ],
      "metadata": {
        "colab": {
          "base_uri": "https://localhost:8080/"
        },
        "id": "mMAFZSq1-ZNn",
        "outputId": "1dc9ec3d-b887-43b5-f723-fee1ef44b7a5"
      },
      "execution_count": 27,
      "outputs": [
        {
          "output_type": "execute_result",
          "data": {
            "text/plain": [
              "0"
            ]
          },
          "metadata": {},
          "execution_count": 27
        }
      ]
    },
    {
      "cell_type": "code",
      "source": [
        "dt1.isna().sum()"
      ],
      "metadata": {
        "colab": {
          "base_uri": "https://localhost:8080/"
        },
        "id": "Shn_tv3O-Jjl",
        "outputId": "626953aa-f896-43ef-8ca1-670df7dc81a5"
      },
      "execution_count": 28,
      "outputs": [
        {
          "output_type": "execute_result",
          "data": {
            "text/plain": [
              "Item_Identifier              0\n",
              "Item_Weight                  0\n",
              "Item_Fat_Content             0\n",
              "Item_Visibility              0\n",
              "Item_Type                    0\n",
              "Item_MRP                     0\n",
              "Outlet_Identifier            0\n",
              "Outlet_Establishment_Year    0\n",
              "Outlet_Size                  0\n",
              "Outlet_Location_Type         0\n",
              "Outlet_Type                  0\n",
              "Item_Outlet_Sales            0\n",
              "dtype: int64"
            ]
          },
          "metadata": {},
          "execution_count": 28
        }
      ]
    },
    {
      "cell_type": "markdown",
      "source": [
        "# Encuentren y arreglen alguna categoría inconsistente de datos (example: fix cat, Cat, and cats so that they are consistent)"
      ],
      "metadata": {
        "id": "BrD_K-quIeGQ"
      }
    },
    {
      "cell_type": "code",
      "source": [
        "dt1.head(5)"
      ],
      "metadata": {
        "colab": {
          "base_uri": "https://localhost:8080/",
          "height": 357
        },
        "id": "bh-W3PhUIhv-",
        "outputId": "de886caf-1bc4-4d8c-ab11-336011b74160"
      },
      "execution_count": 29,
      "outputs": [
        {
          "output_type": "execute_result",
          "data": {
            "text/plain": [
              "  Item_Identifier  Item_Weight Item_Fat_Content  Item_Visibility  \\\n",
              "0           FDA15         9.30          Low Fat         0.016047   \n",
              "1           DRC01         5.92          Regular         0.019278   \n",
              "2           FDN15        17.50          Low Fat         0.016760   \n",
              "3           FDX07        19.20          Regular         0.000000   \n",
              "4           NCD19         8.93          Low Fat         0.000000   \n",
              "\n",
              "               Item_Type  Item_MRP Outlet_Identifier  \\\n",
              "0                  Dairy  249.8092            OUT049   \n",
              "1            Soft Drinks   48.2692            OUT018   \n",
              "2                   Meat  141.6180            OUT049   \n",
              "3  Fruits and Vegetables  182.0950            OUT010   \n",
              "4              Household   53.8614            OUT013   \n",
              "\n",
              "   Outlet_Establishment_Year Outlet_Size Outlet_Location_Type  \\\n",
              "0                       1999      Medium               Tier 1   \n",
              "1                       2009      Medium               Tier 3   \n",
              "2                       1999      Medium               Tier 1   \n",
              "3                       1998         nan               Tier 3   \n",
              "4                       1987        High               Tier 3   \n",
              "\n",
              "         Outlet_Type  Item_Outlet_Sales  \n",
              "0  Supermarket Type1          3735.1380  \n",
              "1  Supermarket Type2           443.4228  \n",
              "2  Supermarket Type1          2097.2700  \n",
              "3      Grocery Store           732.3800  \n",
              "4  Supermarket Type1           994.7052  "
            ],
            "text/html": [
              "\n",
              "  <div id=\"df-a82cef13-373b-4861-8bde-8523052ac2b1\">\n",
              "    <div class=\"colab-df-container\">\n",
              "      <div>\n",
              "<style scoped>\n",
              "    .dataframe tbody tr th:only-of-type {\n",
              "        vertical-align: middle;\n",
              "    }\n",
              "\n",
              "    .dataframe tbody tr th {\n",
              "        vertical-align: top;\n",
              "    }\n",
              "\n",
              "    .dataframe thead th {\n",
              "        text-align: right;\n",
              "    }\n",
              "</style>\n",
              "<table border=\"1\" class=\"dataframe\">\n",
              "  <thead>\n",
              "    <tr style=\"text-align: right;\">\n",
              "      <th></th>\n",
              "      <th>Item_Identifier</th>\n",
              "      <th>Item_Weight</th>\n",
              "      <th>Item_Fat_Content</th>\n",
              "      <th>Item_Visibility</th>\n",
              "      <th>Item_Type</th>\n",
              "      <th>Item_MRP</th>\n",
              "      <th>Outlet_Identifier</th>\n",
              "      <th>Outlet_Establishment_Year</th>\n",
              "      <th>Outlet_Size</th>\n",
              "      <th>Outlet_Location_Type</th>\n",
              "      <th>Outlet_Type</th>\n",
              "      <th>Item_Outlet_Sales</th>\n",
              "    </tr>\n",
              "  </thead>\n",
              "  <tbody>\n",
              "    <tr>\n",
              "      <th>0</th>\n",
              "      <td>FDA15</td>\n",
              "      <td>9.30</td>\n",
              "      <td>Low Fat</td>\n",
              "      <td>0.016047</td>\n",
              "      <td>Dairy</td>\n",
              "      <td>249.8092</td>\n",
              "      <td>OUT049</td>\n",
              "      <td>1999</td>\n",
              "      <td>Medium</td>\n",
              "      <td>Tier 1</td>\n",
              "      <td>Supermarket Type1</td>\n",
              "      <td>3735.1380</td>\n",
              "    </tr>\n",
              "    <tr>\n",
              "      <th>1</th>\n",
              "      <td>DRC01</td>\n",
              "      <td>5.92</td>\n",
              "      <td>Regular</td>\n",
              "      <td>0.019278</td>\n",
              "      <td>Soft Drinks</td>\n",
              "      <td>48.2692</td>\n",
              "      <td>OUT018</td>\n",
              "      <td>2009</td>\n",
              "      <td>Medium</td>\n",
              "      <td>Tier 3</td>\n",
              "      <td>Supermarket Type2</td>\n",
              "      <td>443.4228</td>\n",
              "    </tr>\n",
              "    <tr>\n",
              "      <th>2</th>\n",
              "      <td>FDN15</td>\n",
              "      <td>17.50</td>\n",
              "      <td>Low Fat</td>\n",
              "      <td>0.016760</td>\n",
              "      <td>Meat</td>\n",
              "      <td>141.6180</td>\n",
              "      <td>OUT049</td>\n",
              "      <td>1999</td>\n",
              "      <td>Medium</td>\n",
              "      <td>Tier 1</td>\n",
              "      <td>Supermarket Type1</td>\n",
              "      <td>2097.2700</td>\n",
              "    </tr>\n",
              "    <tr>\n",
              "      <th>3</th>\n",
              "      <td>FDX07</td>\n",
              "      <td>19.20</td>\n",
              "      <td>Regular</td>\n",
              "      <td>0.000000</td>\n",
              "      <td>Fruits and Vegetables</td>\n",
              "      <td>182.0950</td>\n",
              "      <td>OUT010</td>\n",
              "      <td>1998</td>\n",
              "      <td>nan</td>\n",
              "      <td>Tier 3</td>\n",
              "      <td>Grocery Store</td>\n",
              "      <td>732.3800</td>\n",
              "    </tr>\n",
              "    <tr>\n",
              "      <th>4</th>\n",
              "      <td>NCD19</td>\n",
              "      <td>8.93</td>\n",
              "      <td>Low Fat</td>\n",
              "      <td>0.000000</td>\n",
              "      <td>Household</td>\n",
              "      <td>53.8614</td>\n",
              "      <td>OUT013</td>\n",
              "      <td>1987</td>\n",
              "      <td>High</td>\n",
              "      <td>Tier 3</td>\n",
              "      <td>Supermarket Type1</td>\n",
              "      <td>994.7052</td>\n",
              "    </tr>\n",
              "  </tbody>\n",
              "</table>\n",
              "</div>\n",
              "      <button class=\"colab-df-convert\" onclick=\"convertToInteractive('df-a82cef13-373b-4861-8bde-8523052ac2b1')\"\n",
              "              title=\"Convert this dataframe to an interactive table.\"\n",
              "              style=\"display:none;\">\n",
              "        \n",
              "  <svg xmlns=\"http://www.w3.org/2000/svg\" height=\"24px\"viewBox=\"0 0 24 24\"\n",
              "       width=\"24px\">\n",
              "    <path d=\"M0 0h24v24H0V0z\" fill=\"none\"/>\n",
              "    <path d=\"M18.56 5.44l.94 2.06.94-2.06 2.06-.94-2.06-.94-.94-2.06-.94 2.06-2.06.94zm-11 1L8.5 8.5l.94-2.06 2.06-.94-2.06-.94L8.5 2.5l-.94 2.06-2.06.94zm10 10l.94 2.06.94-2.06 2.06-.94-2.06-.94-.94-2.06-.94 2.06-2.06.94z\"/><path d=\"M17.41 7.96l-1.37-1.37c-.4-.4-.92-.59-1.43-.59-.52 0-1.04.2-1.43.59L10.3 9.45l-7.72 7.72c-.78.78-.78 2.05 0 2.83L4 21.41c.39.39.9.59 1.41.59.51 0 1.02-.2 1.41-.59l7.78-7.78 2.81-2.81c.8-.78.8-2.07 0-2.86zM5.41 20L4 18.59l7.72-7.72 1.47 1.35L5.41 20z\"/>\n",
              "  </svg>\n",
              "      </button>\n",
              "      \n",
              "  <style>\n",
              "    .colab-df-container {\n",
              "      display:flex;\n",
              "      flex-wrap:wrap;\n",
              "      gap: 12px;\n",
              "    }\n",
              "\n",
              "    .colab-df-convert {\n",
              "      background-color: #E8F0FE;\n",
              "      border: none;\n",
              "      border-radius: 50%;\n",
              "      cursor: pointer;\n",
              "      display: none;\n",
              "      fill: #1967D2;\n",
              "      height: 32px;\n",
              "      padding: 0 0 0 0;\n",
              "      width: 32px;\n",
              "    }\n",
              "\n",
              "    .colab-df-convert:hover {\n",
              "      background-color: #E2EBFA;\n",
              "      box-shadow: 0px 1px 2px rgba(60, 64, 67, 0.3), 0px 1px 3px 1px rgba(60, 64, 67, 0.15);\n",
              "      fill: #174EA6;\n",
              "    }\n",
              "\n",
              "    [theme=dark] .colab-df-convert {\n",
              "      background-color: #3B4455;\n",
              "      fill: #D2E3FC;\n",
              "    }\n",
              "\n",
              "    [theme=dark] .colab-df-convert:hover {\n",
              "      background-color: #434B5C;\n",
              "      box-shadow: 0px 1px 3px 1px rgba(0, 0, 0, 0.15);\n",
              "      filter: drop-shadow(0px 1px 2px rgba(0, 0, 0, 0.3));\n",
              "      fill: #FFFFFF;\n",
              "    }\n",
              "  </style>\n",
              "\n",
              "      <script>\n",
              "        const buttonEl =\n",
              "          document.querySelector('#df-a82cef13-373b-4861-8bde-8523052ac2b1 button.colab-df-convert');\n",
              "        buttonEl.style.display =\n",
              "          google.colab.kernel.accessAllowed ? 'block' : 'none';\n",
              "\n",
              "        async function convertToInteractive(key) {\n",
              "          const element = document.querySelector('#df-a82cef13-373b-4861-8bde-8523052ac2b1');\n",
              "          const dataTable =\n",
              "            await google.colab.kernel.invokeFunction('convertToInteractive',\n",
              "                                                     [key], {});\n",
              "          if (!dataTable) return;\n",
              "\n",
              "          const docLinkHtml = 'Like what you see? Visit the ' +\n",
              "            '<a target=\"_blank\" href=https://colab.research.google.com/notebooks/data_table.ipynb>data table notebook</a>'\n",
              "            + ' to learn more about interactive tables.';\n",
              "          element.innerHTML = '';\n",
              "          dataTable['output_type'] = 'display_data';\n",
              "          await google.colab.output.renderOutput(dataTable, element);\n",
              "          const docLink = document.createElement('div');\n",
              "          docLink.innerHTML = docLinkHtml;\n",
              "          element.appendChild(docLink);\n",
              "        }\n",
              "      </script>\n",
              "    </div>\n",
              "  </div>\n",
              "  "
            ]
          },
          "metadata": {},
          "execution_count": 29
        }
      ]
    },
    {
      "cell_type": "code",
      "source": [
        "dt1[\"Item_Fat_Content\"].unique()"
      ],
      "metadata": {
        "colab": {
          "base_uri": "https://localhost:8080/"
        },
        "id": "hZgDq0kfI4OJ",
        "outputId": "ed7b3965-5c23-4193-94b3-134a84637dc2"
      },
      "execution_count": 30,
      "outputs": [
        {
          "output_type": "execute_result",
          "data": {
            "text/plain": [
              "array(['Low Fat', 'Regular', 'low fat', 'LF', 'reg'], dtype=object)"
            ]
          },
          "metadata": {},
          "execution_count": 30
        }
      ]
    },
    {
      "cell_type": "code",
      "source": [
        "dt1[\"Item_Fat_Content\"].value_counts()"
      ],
      "metadata": {
        "colab": {
          "base_uri": "https://localhost:8080/"
        },
        "id": "frdG4Lp6LXOE",
        "outputId": "56a3fd99-b5db-4842-beb1-d2ac00c67281"
      },
      "execution_count": 31,
      "outputs": [
        {
          "output_type": "execute_result",
          "data": {
            "text/plain": [
              "Low Fat    5089\n",
              "Regular    2889\n",
              "LF          316\n",
              "reg         117\n",
              "low fat     112\n",
              "Name: Item_Fat_Content, dtype: int64"
            ]
          },
          "metadata": {},
          "execution_count": 31
        }
      ]
    },
    {
      "cell_type": "markdown",
      "source": [
        "## Se procede a arreglar la variable"
      ],
      "metadata": {
        "id": "GspOg4iTJILK"
      }
    },
    {
      "cell_type": "code",
      "source": [
        "dt1[\"Item_Fat_Content\"] = dt1[\"Item_Fat_Content\"].apply(lambda x: \"Low Fat\" if x in [\"low fat\",\"LF\",\"Low Fat\"] else \"Regular\" if x.lower() == \"reg\" else \"Regular\" )"
      ],
      "metadata": {
        "id": "sYd_V6ZHJOid"
      },
      "execution_count": 32,
      "outputs": []
    },
    {
      "cell_type": "code",
      "source": [
        "dt1[\"Item_Fat_Content\"].unique()"
      ],
      "metadata": {
        "colab": {
          "base_uri": "https://localhost:8080/"
        },
        "id": "SgoHgIx1K9Q2",
        "outputId": "e1b48176-e4f3-4dab-f685-376e78fb812e"
      },
      "execution_count": 33,
      "outputs": [
        {
          "output_type": "execute_result",
          "data": {
            "text/plain": [
              "array(['Low Fat', 'Regular'], dtype=object)"
            ]
          },
          "metadata": {},
          "execution_count": 33
        }
      ]
    },
    {
      "cell_type": "code",
      "source": [
        "dt1[\"Item_Fat_Content\"].value_counts()"
      ],
      "metadata": {
        "colab": {
          "base_uri": "https://localhost:8080/"
        },
        "id": "zn8qjHplLc4i",
        "outputId": "76fa9ac0-35ba-4189-fee9-0ba7e175d87f"
      },
      "execution_count": 34,
      "outputs": [
        {
          "output_type": "execute_result",
          "data": {
            "text/plain": [
              "Low Fat    5517\n",
              "Regular    3006\n",
              "Name: Item_Fat_Content, dtype: int64"
            ]
          },
          "metadata": {},
          "execution_count": 34
        }
      ]
    },
    {
      "cell_type": "markdown",
      "source": [
        "# Para cualquier columna numérica, obtengan las estadísticas resumidas para cada uno (mínimo, máximo y media)"
      ],
      "metadata": {
        "id": "fl2fCwc9NjRd"
      }
    },
    {
      "cell_type": "code",
      "source": [
        "a_1 = dt1[\"Item_Weight\"].agg([\"min\",\"max\",\"mean\"])\n",
        "print(a_1)"
      ],
      "metadata": {
        "colab": {
          "base_uri": "https://localhost:8080/"
        },
        "id": "nTQJubcBNnoM",
        "outputId": "fd6ac42c-7b1e-4078-897d-44ccc8cc0304"
      },
      "execution_count": 35,
      "outputs": [
        {
          "output_type": "stream",
          "name": "stdout",
          "text": [
            "min      4.55500\n",
            "max     21.35000\n",
            "mean    12.81342\n",
            "Name: Item_Weight, dtype: float64\n"
          ]
        }
      ]
    },
    {
      "cell_type": "code",
      "source": [
        "print(f\"Los valores de la variable Item_Weigt para el máximo, mínimo y la media fueron:\\npara el máximo:{round(a_1[1],2)}\\npara el mínimo: {round(a_1[0],2)}\\npara la media: {round(a_1[2],2)}\")"
      ],
      "metadata": {
        "colab": {
          "base_uri": "https://localhost:8080/"
        },
        "id": "_0_c0-U3OYVq",
        "outputId": "3f301b0e-ba83-490b-d905-4c4af42c4816"
      },
      "execution_count": null,
      "outputs": [
        {
          "output_type": "stream",
          "name": "stdout",
          "text": [
            "Los valores de la variable Item_Weigt para el máximo, mínimo y la media fueron:\n",
            "para el máximo:21.35\n",
            "para el mínimo: 4.56\n",
            "para la media: 12.81\n"
          ]
        }
      ]
    },
    {
      "cell_type": "markdown",
      "source": [
        "# Análisis gráfico de la base de datos."
      ],
      "metadata": {
        "id": "_pUD7b47uUFm"
      }
    },
    {
      "cell_type": "code",
      "source": [
        "dt1.info()"
      ],
      "metadata": {
        "colab": {
          "base_uri": "https://localhost:8080/"
        },
        "id": "vcwwHbUCuapg",
        "outputId": "02e80ec9-67d9-43f4-d7e5-13aa0eb6c694"
      },
      "execution_count": 42,
      "outputs": [
        {
          "output_type": "stream",
          "name": "stdout",
          "text": [
            "<class 'pandas.core.frame.DataFrame'>\n",
            "RangeIndex: 8523 entries, 0 to 8522\n",
            "Data columns (total 12 columns):\n",
            " #   Column                     Non-Null Count  Dtype  \n",
            "---  ------                     --------------  -----  \n",
            " 0   Item_Identifier            8523 non-null   object \n",
            " 1   Item_Weight                8523 non-null   float64\n",
            " 2   Item_Fat_Content           8523 non-null   object \n",
            " 3   Item_Visibility            8523 non-null   float64\n",
            " 4   Item_Type                  8523 non-null   object \n",
            " 5   Item_MRP                   8523 non-null   float64\n",
            " 6   Outlet_Identifier          8523 non-null   object \n",
            " 7   Outlet_Establishment_Year  8523 non-null   int64  \n",
            " 8   Outlet_Size                8523 non-null   object \n",
            " 9   Outlet_Location_Type       8523 non-null   object \n",
            " 10  Outlet_Type                8523 non-null   object \n",
            " 11  Item_Outlet_Sales          8523 non-null   float64\n",
            "dtypes: float64(4), int64(1), object(7)\n",
            "memory usage: 799.2+ KB\n"
          ]
        }
      ]
    },
    {
      "cell_type": "markdown",
      "source": [
        "# Análisis de los productos y su contenido de grasa."
      ],
      "metadata": {
        "id": "-atNIn2H0AbG"
      }
    },
    {
      "cell_type": "code",
      "source": [
        "import numpy as np\n",
        "from matplotlib import pyplot as plt\n",
        "import seaborn as sns\n",
        "from scipy.stats import kurtosis\n",
        "from scipy.stats import skew"
      ],
      "metadata": {
        "id": "0NQ9QHC30HPO"
      },
      "execution_count": 62,
      "outputs": []
    },
    {
      "cell_type": "code",
      "source": [
        "cuenta = dt1[\"Item_Fat_Content\"].value_counts()\n",
        "\n",
        "plt.pie(cuenta, labels=cuenta.index, autopct=\"%1.1f%%\")\n",
        "plt.title(\"Participación por contenido en grasa\")"
      ],
      "metadata": {
        "colab": {
          "base_uri": "https://localhost:8080/",
          "height": 363
        },
        "id": "go9CikwV3nZ9",
        "outputId": "78f0ee9f-cbfa-4a3d-862e-2b6acb90faf6"
      },
      "execution_count": 89,
      "outputs": [
        {
          "output_type": "execute_result",
          "data": {
            "text/plain": [
              "Text(0.5, 1.0, 'Participación por contenido en grasa')"
            ]
          },
          "metadata": {},
          "execution_count": 89
        },
        {
          "output_type": "display_data",
          "data": {
            "text/plain": [
              "<Figure size 576x396 with 1 Axes>"
            ],
            "image/png": "[encoded data removed]"
          },
          "metadata": {}
        }
      ]
    },
    {
      "cell_type": "markdown",
      "source": [
        "* Se puede apreciar que la composisición del portafolio de prodcutos, se distribuye en productos bajos en grasa con una participación del 64.7% y con contenido de grasa regular con el 35.3%."
      ],
      "metadata": {
        "id": "3VOr0dh8BXA-"
      }
    },
    {
      "cell_type": "markdown",
      "source": [
        "# Histograma del precio máxmio de venta al público"
      ],
      "metadata": {
        "id": "G6LHxrNoKUwN"
      }
    },
    {
      "cell_type": "code",
      "source": [
        "plt.style.use(\"seaborn\")\n",
        "sns.set_style(\"white\")\n",
        "sns.set(style = \"ticks\")\n",
        "sns.set_color_codes()\n",
        "dt1[\"Item_MRP\"].hist(bins=20, edgecolor = \"black\", color = \"#a1c9ed\")\n",
        "plt.ticklabel_format(useOffset=False, style=\"plain\")\n",
        "plt.grid(False)\n",
        "plt.title(\"Histograma del precio máximo de los productos\")\n",
        "plt.xlabel(\"Precio máximo del producto\")\n",
        "plt.ylabel(\"Cuenta\")"
      ],
      "metadata": {
        "colab": {
          "base_uri": "https://localhost:8080/",
          "height": 403
        },
        "id": "lCgmnucfKZzJ",
        "outputId": "8e311422-b1e5-4338-8c4d-c79cd8774d03"
      },
      "execution_count": 76,
      "outputs": [
        {
          "output_type": "execute_result",
          "data": {
            "text/plain": [
              "Text(0, 0.5, 'Cuenta')"
            ]
          },
          "metadata": {},
          "execution_count": 76
        },
        {
          "output_type": "display_data",
          "data": {
            "text/plain": [
              "<Figure size 576x396 with 1 Axes>"
            ],
            "image/png": "[encoded data removed]"
          },
          "metadata": {}
        }
      ]
    },
    {
      "cell_type": "markdown",
      "source": [
        "## Coeficiente de asimetría"
      ],
      "metadata": {
        "id": "xVOZ9IvMKs6D"
      }
    },
    {
      "cell_type": "code",
      "source": [
        "sk_2 = dt1[\"Item_MRP\"].skew()\n",
        "sk_2\n",
        "print(f\"El coeficiente de asimetría nos indica los datos tienen un ligero sesgo hacia la derecha, ya que el valor del coeficiente fue de {round(sk_2,2)}, si el coeficiente de asimetría fuera igual\\na cero (0), los datos seguirian una distribución normal, en este caso los datos tiene un ligero sesgo hacia la derecha.\")\n"
      ],
      "metadata": {
        "colab": {
          "base_uri": "https://localhost:8080/"
        },
        "id": "bNsUaLHUKy9W",
        "outputId": "56d2c3ad-ecf4-4728-e4c6-837423e64269"
      },
      "execution_count": 77,
      "outputs": [
        {
          "output_type": "stream",
          "name": "stdout",
          "text": [
            "El coeficiente de asimetría nos indica los datos tienen un ligero sesgo hacia la derecha, ya que el valor del coeficiente fue de 0.13, si el coeficiente de asimetría fuera igual\n",
            "a cero (0), los datos seguirian una distribución normal, en este caso los datos tiene un ligero sesgo hacia la derecha.\n"
          ]
        }
      ]
    },
    {
      "cell_type": "markdown",
      "source": [
        "## Coeficiente de Curtosis"
      ],
      "metadata": {
        "id": "N3En_nFBKvdk"
      }
    },
    {
      "cell_type": "code",
      "source": [
        "# Kurtosis\n",
        "\n",
        "k_1 = dt1[\"Item_MRP\"].kurtosis()\n",
        "k_1\n",
        "\n",
        "print(f\"La Kurtosis nos indica la forma de la distribución, ya que el valor del coeficiente de Kurtosis fue de {round(k_1,2)}, si el coeficiente de Kurtosis fuera igual\\na tres (3), los datos seguirian una distribución normal, en este caso los datos tiene una forma de curva aplanada.\")\n"
      ],
      "metadata": {
        "colab": {
          "base_uri": "https://localhost:8080/"
        },
        "id": "u0gjssfeLCB2",
        "outputId": "244a8ebc-3683-4f8b-9a00-b01a18a1c82a"
      },
      "execution_count": 78,
      "outputs": [
        {
          "output_type": "stream",
          "name": "stdout",
          "text": [
            "La Kurtosis nos indica la forma de la distribución, ya que el valor del coeficiente de Kurtosis fue de -0.89, si el coeficiente de Kurtosis fuera igual\n",
            "a tres (3), los datos seguirian una distribución normal, en este caso los datos tiene una forma de curva aplanada.\n"
          ]
        }
      ]
    },
    {
      "cell_type": "markdown",
      "source": [
        "# Histograma del peso de los productos"
      ],
      "metadata": {
        "id": "ngWzA_CKKQj6"
      }
    },
    {
      "cell_type": "code",
      "source": [
        "plt.style.use(\"seaborn\")\n",
        "sns.set_style(\"white\")\n",
        "sns.set(style = \"ticks\")\n",
        "sns.set_color_codes()\n",
        "dt1[\"Item_Weight\"].hist(bins=10, edgecolor = \"black\", color = \"#a1c9ed\")\n",
        "plt.ticklabel_format(useOffset=False, style=\"plain\")\n",
        "plt.grid(False)\n",
        "plt.title(\"Histograma del peso de los productos\")\n",
        "plt.xlabel(\"Peso del producto\")\n",
        "plt.ylabel(\"Cuenta\")\n",
        "\n",
        "\n"
      ],
      "metadata": {
        "colab": {
          "base_uri": "https://localhost:8080/",
          "height": 403
        },
        "id": "TlHfdyqD0hSx",
        "outputId": "a9581ebc-e16d-4631-d040-3849b32e1bc0"
      },
      "execution_count": 48,
      "outputs": [
        {
          "output_type": "execute_result",
          "data": {
            "text/plain": [
              "Text(0, 0.5, 'Cuenta')"
            ]
          },
          "metadata": {},
          "execution_count": 48
        },
        {
          "output_type": "display_data",
          "data": {
            "text/plain": [
              "<Figure size 576x396 with 1 Axes>"
            ],
            "image/png": "[encoded data removed]"
          },
          "metadata": {}
        }
      ]
    },
    {
      "cell_type": "markdown",
      "source": [
        "# Coeficiente de asimetría"
      ],
      "metadata": {
        "id": "kbQAH_HkDptz"
      }
    },
    {
      "cell_type": "code",
      "source": [
        "sk_2 = dt1[\"Item_Weight\"].skew()\n",
        "sk_2\n",
        "print(f\"El coeficiente de asimetría nos indica los datos tienen un ligero sesgo hacia la derecha, ya que el valor del coeficiente fue de {round(sk_2,2)}, si el coeficiente de asimetría fuera igual\\na cero (0), los datos seguirian una distribución normal, en este caso los datos tiene un ligero sesgo hacia la derecha.\")\n"
      ],
      "metadata": {
        "colab": {
          "base_uri": "https://localhost:8080/"
        },
        "id": "4eGN-eDYDug_",
        "outputId": "4905d485-b418-41d4-9552-c07a9e84a458"
      },
      "execution_count": 70,
      "outputs": [
        {
          "output_type": "stream",
          "name": "stdout",
          "text": [
            "El coeficiente de asimetría nos indica los datos tienen un ligero sesgo hacia la derecha, ya que el valor del coeficiente fue de 0.12, si el coeficiente de asimetría fuera igual\n",
            "a cero (0), los datos seguirian una distribución normal, en este caso los datos tiene un ligero sesgo hacia la derecha.\n"
          ]
        }
      ]
    },
    {
      "cell_type": "markdown",
      "source": [
        "# Coeficiente de Curtosis"
      ],
      "metadata": {
        "id": "AMjVDdmJDSPQ"
      }
    },
    {
      "cell_type": "code",
      "source": [
        "# Kurtosis\n",
        "\n",
        "k_1 = dt1[\"Item_Weight\"].kurtosis()\n",
        "k_1\n",
        "\n",
        "print(f\"La Kurtosis nos indica la forma de la distribución, ya que el valor del coeficiente de Kurtosis fue de {round(k_1,2)}, si el coeficiente de Kurtosis fuera igual\\na tres (3), los datos seguirian una distribución normal, en este caso los datos tiene una forma de curva aplanada.\")\n"
      ],
      "metadata": {
        "colab": {
          "base_uri": "https://localhost:8080/"
        },
        "id": "l3c7QoJYB78M",
        "outputId": "d7539eb7-790c-4a0b-f6f5-dfcd04ec62db"
      },
      "execution_count": 66,
      "outputs": [
        {
          "output_type": "stream",
          "name": "stdout",
          "text": [
            "La Kurtosis nos indica los datos tienen un ligero sesgo hacia la izquierda, ya que el valor del coeficiente de Kurtosis fue de -0.86, si el coeficiente de Kurtosis fuera igual\n",
            "a tres (3), los datos seguirian una distribución normal, en este caso los datos tiene una forma de curva aplanada.\n"
          ]
        }
      ]
    },
    {
      "cell_type": "markdown",
      "source": [
        "# Histograma de las ventas del Item"
      ],
      "metadata": {
        "id": "e67ttX4M3CSt"
      }
    },
    {
      "cell_type": "code",
      "source": [
        "plt.style.use(\"seaborn\")\n",
        "sns.set_style(\"white\")\n",
        "sns.set(style = \"ticks\")\n",
        "sns.set_color_codes()\n",
        "dt1[\"Item_Outlet_Sales\"].hist(bins=15, edgecolor = \"black\", color = \"#a1c9ed\")\n",
        "plt.ticklabel_format(useOffset=False, style=\"plain\")\n",
        "plt.grid(False)\n",
        "plt.title(\"Histograma de las ventas del producto\")\n",
        "plt.xlabel(\"Ventas\")\n",
        "plt.ylabel(\"Cuenta\")\n"
      ],
      "metadata": {
        "colab": {
          "base_uri": "https://localhost:8080/",
          "height": 403
        },
        "id": "48rw_T3J3HE3",
        "outputId": "f155c281-0cea-40d2-de5f-f6eec5408ee6"
      },
      "execution_count": 51,
      "outputs": [
        {
          "output_type": "execute_result",
          "data": {
            "text/plain": [
              "Text(0, 0.5, 'Cuenta')"
            ]
          },
          "metadata": {},
          "execution_count": 51
        },
        {
          "output_type": "display_data",
          "data": {
            "text/plain": [
              "<Figure size 576x396 with 1 Axes>"
            ],
            "image/png": "[encoded data removed]"
          },
          "metadata": {}
        }
      ]
    },
    {
      "cell_type": "markdown",
      "source": [
        "# Coeficiente de asimetría"
      ],
      "metadata": {
        "id": "tFvjcJU3Hawr"
      }
    },
    {
      "cell_type": "code",
      "source": [
        "sk_2 = dt1[\"Item_Outlet_Sales\"].skew()\n",
        "sk_2\n",
        "print(f\"El coeficiente de asimetría nos indica los datos tienen un ligero sesgo hacia la derecha, ya que el valor del coeficiente fue de {round(sk_2,2)}, si el coeficiente de asimetría fuera igual\\na cero (0), los datos seguirian una distribución normal, en este caso los datos tiene un ligero sesgo hacia la derecha.\")\n"
      ],
      "metadata": {
        "colab": {
          "base_uri": "https://localhost:8080/"
        },
        "id": "D_kw2IQGHdKd",
        "outputId": "9cc11c72-c81a-448b-c313-c01f2dfe562c"
      },
      "execution_count": 71,
      "outputs": [
        {
          "output_type": "stream",
          "name": "stdout",
          "text": [
            "El coeficiente de asimetría nos indica los datos tienen un ligero sesgo hacia la derecha, ya que el valor del coeficiente fue de 1.18, si el coeficiente de asimetría fuera igual\n",
            "a cero (0), los datos seguirian una distribución normal, en este caso los datos tiene un ligero sesgo hacia la derecha.\n"
          ]
        }
      ]
    },
    {
      "cell_type": "markdown",
      "source": [
        "# Coeficiente de Curtosis"
      ],
      "metadata": {
        "id": "5kVWu8lEHpp-"
      }
    },
    {
      "cell_type": "code",
      "source": [
        "# Kurtosis\n",
        "\n",
        "k_1 = dt1[\"Item_Outlet_Sales\"].kurtosis()\n",
        "k_1\n",
        "\n",
        "print(f\"La Kurtosis nos indica la forma de la distribución, ya que el valor del coeficiente de Kurtosis fue de {round(k_1,2)}, si el coeficiente de Kurtosis fuera igual\\na tres (3), los datos seguirian una distribución normal, en este caso los datos tiene una forma de curva aplanada.\")\n"
      ],
      "metadata": {
        "colab": {
          "base_uri": "https://localhost:8080/"
        },
        "id": "VfHl1S8IIfsa",
        "outputId": "dd5103a8-0d29-4a79-b3cf-17f3478437aa"
      },
      "execution_count": 72,
      "outputs": [
        {
          "output_type": "stream",
          "name": "stdout",
          "text": [
            "La Kurtosis nos indica la forma de la distribución, ya que el valor del coeficiente de Kurtosis fue de 1.62, si el coeficiente de Kurtosis fuera igual\n",
            "a tres (3), los datos seguirian una distribución normal, en este caso los datos tiene una forma de curva aplanada.\n"
          ]
        }
      ]
    },
    {
      "cell_type": "markdown",
      "source": [
        "# Análisis de cajas"
      ],
      "metadata": {
        "id": "u3xt7Uwu5q4K"
      }
    },
    {
      "cell_type": "markdown",
      "source": [
        "## Análisis de las ventas del producto"
      ],
      "metadata": {
        "id": "Fl_Xm2-U6ipg"
      }
    },
    {
      "cell_type": "code",
      "source": [
        "fig, axes = plt.subplots(nrows = 1, ncols = 1, figsize = (8,5))\n",
        "boxplots = axes.boxplot([dt1[\"Item_Outlet_Sales\"]],\n",
        "           notch = True,\n",
        "           labels=[\"Ventas\"],\n",
        "           widths = .7,\n",
        "           patch_artist=True,\n",
        "           medianprops = dict(linestyle='-', linewidth=2, color='Yellow'),\n",
        "           boxprops = dict(linestyle='--', linewidth=2, color='Black', facecolor = 'blue', alpha = .4)\n",
        "          );\n",
        "\n",
        "plt.ylabel(\"Análisis de las ventas\", fontsize = 16)\n",
        "plt.xticks(fontsize = 10)\n",
        "plt.yticks(fontsize = 10)\n",
        "axes.grid(color='#808080', linewidth=0.5)"
      ],
      "metadata": {
        "colab": {
          "base_uri": "https://localhost:8080/",
          "height": 326
        },
        "id": "Jx5CTAQm5tfD",
        "outputId": "b3aa2a87-12f1-47b0-b758-64e38664c4ec"
      },
      "execution_count": 60,
      "outputs": [
        {
          "output_type": "display_data",
          "data": {
            "text/plain": [
              "<Figure size 576x360 with 1 Axes>"
            ],
            "image/png": "[encoded data removed]"
          },
          "metadata": {}
        }
      ]
    },
    {
      "cell_type": "markdown",
      "source": [
        "* De acuerdo con la gráfica se que los datos tienen presencia de outliers  dentro de la base de datos, por lo que la utilización del promedio como media de tendencia central, no sería la más indicada por los outliers presente. Un indicador que sería de más utilidad sería la mediana."
      ],
      "metadata": {
        "id": "bw7ArOZVIsJ-"
      }
    },
    {
      "cell_type": "markdown",
      "source": [
        "## Análisis del peso del prodcuto"
      ],
      "metadata": {
        "id": "F7Ou8hwC6nHi"
      }
    },
    {
      "cell_type": "code",
      "source": [
        "fig, axes = plt.subplots(nrows = 1, ncols = 1, figsize = (8,5))\n",
        "boxplots = axes.boxplot([dt1[\"Item_Weight\"]],\n",
        "           notch = True,\n",
        "           labels=[\"Peso\"],\n",
        "           widths = .7,\n",
        "           patch_artist=True,\n",
        "           medianprops = dict(linestyle='-', linewidth=2, color='Yellow'),\n",
        "           boxprops = dict(linestyle='--', linewidth=2, color='Black', facecolor = 'blue', alpha = .4)\n",
        "          );\n",
        "\n",
        "plt.ylabel(\"Análisis del peso de los productos\", fontsize = 16)\n",
        "plt.xticks(fontsize = 10)\n",
        "plt.yticks(fontsize = 10)\n",
        "axes.grid(color='#808080', linewidth=0.5)"
      ],
      "metadata": {
        "colab": {
          "base_uri": "https://localhost:8080/",
          "height": 326
        },
        "id": "hFy1JmGI6rFq",
        "outputId": "df153030-5f48-4d6f-cf81-a5f4b72f564a"
      },
      "execution_count": 61,
      "outputs": [
        {
          "output_type": "display_data",
          "data": {
            "text/plain": [
              "<Figure size 576x360 with 1 Axes>"
            ],
            "image/png": "[encoded data removed]"
          },
          "metadata": {}
        }
      ]
    },
    {
      "cell_type": "markdown",
      "source": [
        "* Se puede apreciar que la gráfica de cajas está bien distrinuída el promedio del peso de los productos, visualmente se observa cerca del 12.5. Los datos no presentan outliers."
      ],
      "metadata": {
        "id": "dRRSO1CnJH82"
      }
    },
    {
      "cell_type": "markdown",
      "source": [
        "# Análisis del precio máximo del producto"
      ],
      "metadata": {
        "id": "QrAKqJEVLNrV"
      }
    },
    {
      "cell_type": "code",
      "source": [
        "fig, axes = plt.subplots(nrows = 1, ncols = 1, figsize = (8,5))\n",
        "boxplots = axes.boxplot([dt1[\"Item_MRP\"]],\n",
        "           notch = True,\n",
        "           labels=[\"Precio máximo de venta al público\"],\n",
        "           widths = .7,\n",
        "           patch_artist=True,\n",
        "           medianprops = dict(linestyle='-', linewidth=2, color='Yellow'),\n",
        "           boxprops = dict(linestyle='--', linewidth=2, color='Black', facecolor = 'blue', alpha = .4)\n",
        "          );\n",
        "\n",
        "plt.ylabel(\"Análisis del precio máximo del venta al público de los productos\", fontsize = 12)\n",
        "plt.xticks(fontsize = 10)\n",
        "plt.yticks(fontsize = 10)\n",
        "axes.grid(color='#808080', linewidth=0.5)"
      ],
      "metadata": {
        "colab": {
          "base_uri": "https://localhost:8080/",
          "height": 419
        },
        "id": "s-_5Ubj0LTaG",
        "outputId": "963e86a8-09ed-4776-ce92-0eb6694288a4"
      },
      "execution_count": 80,
      "outputs": [
        {
          "output_type": "display_data",
          "data": {
            "text/plain": [
              "<Figure size 576x360 with 1 Axes>"
            ],
            "image/png": "[encoded data removed]"
          },
          "metadata": {}
        }
      ]
    },
    {
      "cell_type": "markdown",
      "source": [
        "*La gráfica de cajas nos confirma lo que visualmente se pudo apreciar en la gráfica del histograma, que no existen outliers dentro de la base, además no existe una amplia disperción en los precios máximos de venta al público, aunque para confirmar se deben realizar las pruebas estadísticas, como por ejemplo calcular el coeficiente de variación o la desviación estandar.\n"
      ],
      "metadata": {
        "id": "g_oWJllvLjt-"
      }
    },
    {
      "cell_type": "code",
      "source": [
        "desv_est = np.std(dt1[\"Item_MRP\"])\n",
        "desv_est\n",
        "\n",
        "print(f\"Cómo se indicó anteriormente para saber si existe una amplia disperción se debe calcular la desviación estandar y el coeficeinte de variación; para el presente caso\\nla desviación estandar fue de {round(desv_est,2)}, lo que nos indica que existe una amplia variabilidad en los datos con relación a la media.\")"
      ],
      "metadata": {
        "colab": {
          "base_uri": "https://localhost:8080/"
        },
        "id": "pTQCJ5chMYDR",
        "outputId": "81fd28b5-b6a0-413d-def0-bcf89c0bee28"
      },
      "execution_count": 88,
      "outputs": [
        {
          "output_type": "stream",
          "name": "stdout",
          "text": [
            "Cómo se indicó anteriormente para saber si existe una amplia disperción se debe calcular la desviación estandar y el coeficeinte de variación; para el presente caso\n",
            "la desviación estandar fue de 62.27, lo que nos indica que existe una amplia variabilidad en los datos con relación a la media.\n"
          ]
        }
      ]
    },
    {
      "cell_type": "code",
      "source": [
        "coef_var = desv_est / np.mean(dt1[\"Item_MRP\"]) * 100\n",
        "\n",
        "coef_var\n",
        "\n",
        "print(f\"Cómo se indicó anteriormente para saber si existe una amplia disperción se debe calcular la desviación estandar y el coeficeinte de variación; para el presente caso\\nel coeficiente de variación fue de {round(coef_var,2)}, lo que nos indica que existe una amplia disperción en los datos con relación a la media.\")"
      ],
      "metadata": {
        "colab": {
          "base_uri": "https://localhost:8080/"
        },
        "id": "0v0IbWKUMotT",
        "outputId": "4d9d2ff7-bf2e-4718-9dbd-e2b90963c4ce"
      },
      "execution_count": 87,
      "outputs": [
        {
          "output_type": "stream",
          "name": "stdout",
          "text": [
            "Cómo se indicó anteriormente para saber si existe una amplia disperción se debe calcular la desviación estandar y el coeficeinte de variación; para el presente caso\n",
            "el coeficiente de variación fue de 44.17, lo que nos indica que existe una amplia disperción en los datos con relación a la media.\n"
          ]
        }
      ]
    },
    {
      "cell_type": "markdown",
      "source": [
        "# Mapa de calor de la correlación"
      ],
      "metadata": {
        "id": "Bm5pXpu4JbDL"
      }
    },
    {
      "cell_type": "code",
      "source": [
        "corr = dt1.corr()\n",
        "\n",
        "corr\n",
        "\n",
        "sns.heatmap(corr, cmap = \"Reds\", annot=True)"
      ],
      "metadata": {
        "colab": {
          "base_uri": "https://localhost:8080/",
          "height": 512
        },
        "id": "CwPsVfZLJecV",
        "outputId": "b8184628-19d6-4da4-e561-c9e1a3c1c646"
      },
      "execution_count": 74,
      "outputs": [
        {
          "output_type": "execute_result",
          "data": {
            "text/plain": [
              "<AxesSubplot:>"
            ]
          },
          "metadata": {},
          "execution_count": 74
        },
        {
          "output_type": "display_data",
          "data": {
            "text/plain": [
              "<Figure size 576x396 with 2 Axes>"
            ],
            "image/png": "[encoded data removed]"
          },
          "metadata": {}
        }
      ]
    },
    {
      "cell_type": "markdown",
      "source": [
        "* El mapa de calor de la correlación, nos indica que existe una correlación positiva moderada entre el precio máximo de venta el público y las ventas."
      ],
      "metadata": {
        "id": "3Fop4d04Jyne"
      }
    }
  ]
}